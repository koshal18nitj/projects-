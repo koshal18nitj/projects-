{
 "cells": [
  {
   "cell_type": "markdown",
   "id": "d4e075c8",
   "metadata": {},
   "source": [
    "# Housing project on indore using linear regression estimate the price\n"
   ]
  },
  {
   "cell_type": "markdown",
   "id": "e9138207",
   "metadata": {},
   "source": [
    "## Importing libraries "
   ]
  },
  {
   "cell_type": "code",
   "execution_count": 2,
   "id": "617fd715",
   "metadata": {},
   "outputs": [],
   "source": [
    "import numpy as np \n",
    "import pandas as pd \n",
    "import matplotlib.pyplot as py\n",
    "import seaborn as sns \n",
    "%matplotlib inline \n",
    "import sklearn as sk"
   ]
  },
  {
   "cell_type": "markdown",
   "id": "01eced50",
   "metadata": {},
   "source": [
    "About the Data \n",
    "1.\tCRIM: per capita crime rate \n",
    "2.\tZN: the proportion of residential land zoned for lots larger than 25,000 sq.ft.\n",
    "3.\tINDUS: the proportion of non-retail business acres per town.\n",
    "4.\tRIVER_FLG: River Dummy Var (this is equal to 1 if tract bounds river; 0 otherwise)\n",
    "5.\tnitric oxides concentration: the nitric oxides concentration (parts per 10 million)\n",
    "6.\t#rooms/dwelling: the average number of rooms per dwelling\n",
    "7.\tAGE: the proportion of owner-occupied units built prior to 1940\n",
    "8.\tDIS: the weighted distances to five employment centers of the town\n",
    "9.\tRAD: the index of accessibility to radial highways\n",
    "10.\tTAX: the full-value property-tax rate per INR 10 millions (1 crores)\n",
    "11.\tPTRATIO: the pupil-teacher ratio by area\n",
    "12.\tB: calculated as 1000(Bk — 0.63)², where Bk is the proportion of people living is slums in the area\n",
    "13.\tLSTAT: This is the percentage lower status and income of the population\n",
    "14.\tMEDV: This is the median value of owner-occupied homes in INR millions (10 lakhs)"
   ]
  },
  {
   "cell_type": "markdown",
   "id": "1a3d38e4",
   "metadata": {},
   "source": [
    "# Load Data "
   ]
  },
  {
   "cell_type": "code",
   "execution_count": 3,
   "id": "27fc19be",
   "metadata": {},
   "outputs": [],
   "source": [
    "#loading train data \n",
    "train = pd.read_csv(\"IndoreHP_Train.csv\")"
   ]
  },
  {
   "cell_type": "code",
   "execution_count": 4,
   "id": "4c82d731",
   "metadata": {
    "scrolled": false
   },
   "outputs": [
    {
     "data": {
      "text/html": [
       "<div>\n",
       "<style scoped>\n",
       "    .dataframe tbody tr th:only-of-type {\n",
       "        vertical-align: middle;\n",
       "    }\n",
       "\n",
       "    .dataframe tbody tr th {\n",
       "        vertical-align: top;\n",
       "    }\n",
       "\n",
       "    .dataframe thead th {\n",
       "        text-align: right;\n",
       "    }\n",
       "</style>\n",
       "<table border=\"1\" class=\"dataframe\">\n",
       "  <thead>\n",
       "    <tr style=\"text-align: right;\">\n",
       "      <th></th>\n",
       "      <th>ID</th>\n",
       "      <th>CRIM</th>\n",
       "      <th>ZN</th>\n",
       "      <th>INDUS</th>\n",
       "      <th>RIVER_FLG</th>\n",
       "      <th>nitric oxides concentration</th>\n",
       "      <th>#rooms/dwelling</th>\n",
       "      <th>AGE</th>\n",
       "      <th>DIS</th>\n",
       "      <th>RAD</th>\n",
       "      <th>TAX</th>\n",
       "      <th>PTRATIO</th>\n",
       "      <th>B</th>\n",
       "      <th>LSTAT</th>\n",
       "      <th>MEDV</th>\n",
       "    </tr>\n",
       "  </thead>\n",
       "  <tbody>\n",
       "    <tr>\n",
       "      <th>0</th>\n",
       "      <td>1</td>\n",
       "      <td>0.006130</td>\n",
       "      <td>18.0</td>\n",
       "      <td>2.3562</td>\n",
       "      <td>0</td>\n",
       "      <td>0.51648</td>\n",
       "      <td>6.31200</td>\n",
       "      <td>64.548</td>\n",
       "      <td>4.090000</td>\n",
       "      <td>1</td>\n",
       "      <td>296</td>\n",
       "      <td>15.3</td>\n",
       "      <td>404.838</td>\n",
       "      <td>4.8804</td>\n",
       "      <td>24.72</td>\n",
       "    </tr>\n",
       "    <tr>\n",
       "      <th>1</th>\n",
       "      <td>2</td>\n",
       "      <td>0.027037</td>\n",
       "      <td>0.0</td>\n",
       "      <td>6.8579</td>\n",
       "      <td>0</td>\n",
       "      <td>0.48776</td>\n",
       "      <td>6.74205</td>\n",
       "      <td>81.267</td>\n",
       "      <td>5.165784</td>\n",
       "      <td>2</td>\n",
       "      <td>242</td>\n",
       "      <td>17.8</td>\n",
       "      <td>416.745</td>\n",
       "      <td>9.4142</td>\n",
       "      <td>22.68</td>\n",
       "    </tr>\n",
       "  </tbody>\n",
       "</table>\n",
       "</div>"
      ],
      "text/plain": [
       "   ID      CRIM    ZN   INDUS  RIVER_FLG  nitric oxides concentration  \\\n",
       "0   1  0.006130  18.0  2.3562          0                      0.51648   \n",
       "1   2  0.027037   0.0  6.8579          0                      0.48776   \n",
       "\n",
       "   #rooms/dwelling     AGE       DIS  RAD  TAX  PTRATIO          B   LSTAT  \\\n",
       "0          6.31200  64.548  4.090000    1  296       15.3  404.838  4.8804   \n",
       "1          6.74205  81.267  5.165784    2  242       17.8  416.745  9.4142   \n",
       "\n",
       "    MEDV  \n",
       "0  24.72  \n",
       "1  22.68  "
      ]
     },
     "execution_count": 4,
     "metadata": {},
     "output_type": "execute_result"
    }
   ],
   "source": [
    "train.head(2)"
   ]
  },
  {
   "cell_type": "code",
   "execution_count": 5,
   "id": "278bf520",
   "metadata": {},
   "outputs": [
    {
     "data": {
      "text/html": [
       "<div>\n",
       "<style scoped>\n",
       "    .dataframe tbody tr th:only-of-type {\n",
       "        vertical-align: middle;\n",
       "    }\n",
       "\n",
       "    .dataframe tbody tr th {\n",
       "        vertical-align: top;\n",
       "    }\n",
       "\n",
       "    .dataframe thead th {\n",
       "        text-align: right;\n",
       "    }\n",
       "</style>\n",
       "<table border=\"1\" class=\"dataframe\">\n",
       "  <thead>\n",
       "    <tr style=\"text-align: right;\">\n",
       "      <th></th>\n",
       "      <th>ID</th>\n",
       "      <th>CRIM</th>\n",
       "      <th>ZN</th>\n",
       "      <th>INDUS</th>\n",
       "      <th>RIVER_FLG</th>\n",
       "      <th>nitric oxides concentration</th>\n",
       "      <th>#rooms/dwelling</th>\n",
       "      <th>AGE</th>\n",
       "      <th>DIS</th>\n",
       "      <th>RAD</th>\n",
       "      <th>TAX</th>\n",
       "      <th>PTRATIO</th>\n",
       "      <th>B</th>\n",
       "      <th>LSTAT</th>\n",
       "      <th>MEDV</th>\n",
       "    </tr>\n",
       "  </thead>\n",
       "  <tbody>\n",
       "    <tr>\n",
       "      <th>count</th>\n",
       "      <td>350.000000</td>\n",
       "      <td>350.000000</td>\n",
       "      <td>350.000000</td>\n",
       "      <td>350.000000</td>\n",
       "      <td>350.000000</td>\n",
       "      <td>350.000000</td>\n",
       "      <td>350.000000</td>\n",
       "      <td>350.000000</td>\n",
       "      <td>350.000000</td>\n",
       "      <td>350.000000</td>\n",
       "      <td>350.000000</td>\n",
       "      <td>350.000000</td>\n",
       "      <td>350.000000</td>\n",
       "      <td>350.000000</td>\n",
       "      <td>350.000000</td>\n",
       "    </tr>\n",
       "    <tr>\n",
       "      <th>mean</th>\n",
       "      <td>175.500000</td>\n",
       "      <td>0.404963</td>\n",
       "      <td>15.257143</td>\n",
       "      <td>8.436498</td>\n",
       "      <td>0.077143</td>\n",
       "      <td>0.510684</td>\n",
       "      <td>6.396922</td>\n",
       "      <td>60.867446</td>\n",
       "      <td>4.402082</td>\n",
       "      <td>4.482857</td>\n",
       "      <td>310.274286</td>\n",
       "      <td>17.702000</td>\n",
       "      <td>379.876775</td>\n",
       "      <td>10.421892</td>\n",
       "      <td>25.129723</td>\n",
       "    </tr>\n",
       "    <tr>\n",
       "      <th>std</th>\n",
       "      <td>101.180532</td>\n",
       "      <td>0.651082</td>\n",
       "      <td>25.607566</td>\n",
       "      <td>6.044201</td>\n",
       "      <td>0.267200</td>\n",
       "      <td>0.103476</td>\n",
       "      <td>0.719591</td>\n",
       "      <td>28.566625</td>\n",
       "      <td>1.971886</td>\n",
       "      <td>1.607109</td>\n",
       "      <td>67.661548</td>\n",
       "      <td>2.198807</td>\n",
       "      <td>41.982531</td>\n",
       "      <td>5.915906</td>\n",
       "      <td>8.617897</td>\n",
       "    </tr>\n",
       "    <tr>\n",
       "      <th>min</th>\n",
       "      <td>1.000000</td>\n",
       "      <td>0.006130</td>\n",
       "      <td>0.000000</td>\n",
       "      <td>0.450800</td>\n",
       "      <td>0.000000</td>\n",
       "      <td>0.374300</td>\n",
       "      <td>4.728960</td>\n",
       "      <td>2.871000</td>\n",
       "      <td>1.255520</td>\n",
       "      <td>1.000000</td>\n",
       "      <td>188.000000</td>\n",
       "      <td>12.600000</td>\n",
       "      <td>69.384000</td>\n",
       "      <td>1.799200</td>\n",
       "      <td>12.319000</td>\n",
       "    </tr>\n",
       "    <tr>\n",
       "      <th>25%</th>\n",
       "      <td>88.250000</td>\n",
       "      <td>0.058786</td>\n",
       "      <td>0.000000</td>\n",
       "      <td>4.019625</td>\n",
       "      <td>0.000000</td>\n",
       "      <td>0.441527</td>\n",
       "      <td>5.931550</td>\n",
       "      <td>35.149500</td>\n",
       "      <td>2.723105</td>\n",
       "      <td>4.000000</td>\n",
       "      <td>264.000000</td>\n",
       "      <td>16.100000</td>\n",
       "      <td>375.525275</td>\n",
       "      <td>6.109200</td>\n",
       "      <td>19.692750</td>\n",
       "    </tr>\n",
       "    <tr>\n",
       "      <th>50%</th>\n",
       "      <td>175.500000</td>\n",
       "      <td>0.132758</td>\n",
       "      <td>0.000000</td>\n",
       "      <td>6.448000</td>\n",
       "      <td>0.000000</td>\n",
       "      <td>0.489425</td>\n",
       "      <td>6.276270</td>\n",
       "      <td>62.019500</td>\n",
       "      <td>4.108295</td>\n",
       "      <td>4.000000</td>\n",
       "      <td>304.000000</td>\n",
       "      <td>17.900000</td>\n",
       "      <td>387.009300</td>\n",
       "      <td>9.393150</td>\n",
       "      <td>22.728500</td>\n",
       "    </tr>\n",
       "    <tr>\n",
       "      <th>75%</th>\n",
       "      <td>262.750000</td>\n",
       "      <td>0.411469</td>\n",
       "      <td>22.000000</td>\n",
       "      <td>10.263600</td>\n",
       "      <td>0.000000</td>\n",
       "      <td>0.542917</td>\n",
       "      <td>6.746752</td>\n",
       "      <td>88.151000</td>\n",
       "      <td>5.750662</td>\n",
       "      <td>5.000000</td>\n",
       "      <td>358.000000</td>\n",
       "      <td>19.100000</td>\n",
       "      <td>400.156950</td>\n",
       "      <td>13.245100</td>\n",
       "      <td>28.523250</td>\n",
       "    </tr>\n",
       "    <tr>\n",
       "      <th>max</th>\n",
       "      <td>350.000000</td>\n",
       "      <td>4.261296</td>\n",
       "      <td>100.000000</td>\n",
       "      <td>26.676000</td>\n",
       "      <td>1.000000</td>\n",
       "      <td>0.914550</td>\n",
       "      <td>8.986750</td>\n",
       "      <td>105.000000</td>\n",
       "      <td>9.555104</td>\n",
       "      <td>8.000000</td>\n",
       "      <td>469.000000</td>\n",
       "      <td>21.200000</td>\n",
       "      <td>416.745000</td>\n",
       "      <td>33.033600</td>\n",
       "      <td>52.500000</td>\n",
       "    </tr>\n",
       "  </tbody>\n",
       "</table>\n",
       "</div>"
      ],
      "text/plain": [
       "               ID        CRIM          ZN       INDUS   RIVER_FLG  \\\n",
       "count  350.000000  350.000000  350.000000  350.000000  350.000000   \n",
       "mean   175.500000    0.404963   15.257143    8.436498    0.077143   \n",
       "std    101.180532    0.651082   25.607566    6.044201    0.267200   \n",
       "min      1.000000    0.006130    0.000000    0.450800    0.000000   \n",
       "25%     88.250000    0.058786    0.000000    4.019625    0.000000   \n",
       "50%    175.500000    0.132758    0.000000    6.448000    0.000000   \n",
       "75%    262.750000    0.411469   22.000000   10.263600    0.000000   \n",
       "max    350.000000    4.261296  100.000000   26.676000    1.000000   \n",
       "\n",
       "       nitric oxides concentration  #rooms/dwelling         AGE         DIS  \\\n",
       "count                   350.000000       350.000000  350.000000  350.000000   \n",
       "mean                      0.510684         6.396922   60.867446    4.402082   \n",
       "std                       0.103476         0.719591   28.566625    1.971886   \n",
       "min                       0.374300         4.728960    2.871000    1.255520   \n",
       "25%                       0.441527         5.931550   35.149500    2.723105   \n",
       "50%                       0.489425         6.276270   62.019500    4.108295   \n",
       "75%                       0.542917         6.746752   88.151000    5.750662   \n",
       "max                       0.914550         8.986750  105.000000    9.555104   \n",
       "\n",
       "              RAD         TAX   PTRATIO             B       LSTAT        MEDV  \n",
       "count  350.000000  350.000000  350.000000  350.000000  350.000000  350.000000  \n",
       "mean     4.482857  310.274286   17.702000  379.876775   10.421892   25.129723  \n",
       "std      1.607109   67.661548    2.198807   41.982531    5.915906    8.617897  \n",
       "min      1.000000  188.000000   12.600000   69.384000    1.799200   12.319000  \n",
       "25%      4.000000  264.000000   16.100000  375.525275    6.109200   19.692750  \n",
       "50%      4.000000  304.000000   17.900000  387.009300    9.393150   22.728500  \n",
       "75%      5.000000  358.000000   19.100000  400.156950   13.245100   28.523250  \n",
       "max      8.000000  469.000000   21.200000  416.745000   33.033600   52.500000  "
      ]
     },
     "execution_count": 5,
     "metadata": {},
     "output_type": "execute_result"
    }
   ],
   "source": [
    "train.describe()"
   ]
  },
  {
   "cell_type": "code",
   "execution_count": 6,
   "id": "cf427360",
   "metadata": {},
   "outputs": [],
   "source": [
    "train.rename({\"nitric oxides concentration\":\"No2\",\"#rooms/dwelling\":\"Rooms\" , \"B\":\"prop_slums\"}, axis=1,inplace=True)"
   ]
  },
  {
   "cell_type": "code",
   "execution_count": 7,
   "id": "be2c225a",
   "metadata": {},
   "outputs": [],
   "source": [
    "#loading test data \n",
    "test = pd.read_csv(\"IndoreHP_Test.csv\")"
   ]
  },
  {
   "cell_type": "code",
   "execution_count": 8,
   "id": "6735152f",
   "metadata": {},
   "outputs": [
    {
     "data": {
      "text/html": [
       "<div>\n",
       "<style scoped>\n",
       "    .dataframe tbody tr th:only-of-type {\n",
       "        vertical-align: middle;\n",
       "    }\n",
       "\n",
       "    .dataframe tbody tr th {\n",
       "        vertical-align: top;\n",
       "    }\n",
       "\n",
       "    .dataframe thead th {\n",
       "        text-align: right;\n",
       "    }\n",
       "</style>\n",
       "<table border=\"1\" class=\"dataframe\">\n",
       "  <thead>\n",
       "    <tr style=\"text-align: right;\">\n",
       "      <th></th>\n",
       "      <th>ID</th>\n",
       "      <th>CRIM</th>\n",
       "      <th>ZN</th>\n",
       "      <th>INDUS</th>\n",
       "      <th>RIVER_FLG</th>\n",
       "      <th>nitric oxides concentration</th>\n",
       "      <th>#rooms/dwelling</th>\n",
       "      <th>AGE</th>\n",
       "      <th>DIS</th>\n",
       "      <th>RAD</th>\n",
       "      <th>TAX</th>\n",
       "      <th>PTRATIO</th>\n",
       "      <th>B</th>\n",
       "      <th>LSTAT</th>\n",
       "    </tr>\n",
       "  </thead>\n",
       "  <tbody>\n",
       "    <tr>\n",
       "      <th>0</th>\n",
       "      <td>400</td>\n",
       "      <td>9.693915</td>\n",
       "      <td>0</td>\n",
       "      <td>18.824</td>\n",
       "      <td>0</td>\n",
       "      <td>0.63731</td>\n",
       "      <td>6.02952</td>\n",
       "      <td>100.0</td>\n",
       "      <td>1.204173</td>\n",
       "      <td>24</td>\n",
       "      <td>666</td>\n",
       "      <td>20.2</td>\n",
       "      <td>347.8425</td>\n",
       "      <td>10.0065</td>\n",
       "    </tr>\n",
       "    <tr>\n",
       "      <th>1</th>\n",
       "      <td>401</td>\n",
       "      <td>5.143131</td>\n",
       "      <td>0</td>\n",
       "      <td>18.462</td>\n",
       "      <td>0</td>\n",
       "      <td>0.63731</td>\n",
       "      <td>4.97000</td>\n",
       "      <td>100.0</td>\n",
       "      <td>1.305850</td>\n",
       "      <td>24</td>\n",
       "      <td>666</td>\n",
       "      <td>20.2</td>\n",
       "      <td>356.7440</td>\n",
       "      <td>3.0970</td>\n",
       "    </tr>\n",
       "  </tbody>\n",
       "</table>\n",
       "</div>"
      ],
      "text/plain": [
       "    ID      CRIM  ZN   INDUS  RIVER_FLG  nitric oxides concentration  \\\n",
       "0  400  9.693915   0  18.824          0                      0.63731   \n",
       "1  401  5.143131   0  18.462          0                      0.63731   \n",
       "\n",
       "   #rooms/dwelling    AGE       DIS  RAD  TAX  PTRATIO           B    LSTAT  \n",
       "0          6.02952  100.0  1.204173   24  666       20.2  347.8425  10.0065  \n",
       "1          4.97000  100.0  1.305850   24  666       20.2  356.7440   3.0970  "
      ]
     },
     "execution_count": 8,
     "metadata": {},
     "output_type": "execute_result"
    }
   ],
   "source": [
    "test.head(2)"
   ]
  },
  {
   "cell_type": "code",
   "execution_count": 10,
   "id": "1cb76e8a",
   "metadata": {},
   "outputs": [
    {
     "data": {
      "text/html": [
       "<div>\n",
       "<style scoped>\n",
       "    .dataframe tbody tr th:only-of-type {\n",
       "        vertical-align: middle;\n",
       "    }\n",
       "\n",
       "    .dataframe tbody tr th {\n",
       "        vertical-align: top;\n",
       "    }\n",
       "\n",
       "    .dataframe thead th {\n",
       "        text-align: right;\n",
       "    }\n",
       "</style>\n",
       "<table border=\"1\" class=\"dataframe\">\n",
       "  <thead>\n",
       "    <tr style=\"text-align: right;\">\n",
       "      <th></th>\n",
       "      <th>ID</th>\n",
       "      <th>CRIM</th>\n",
       "      <th>ZN</th>\n",
       "      <th>INDUS</th>\n",
       "      <th>RIVER_FLG</th>\n",
       "      <th>No2</th>\n",
       "      <th>Rooms</th>\n",
       "      <th>AGE</th>\n",
       "      <th>DIS</th>\n",
       "      <th>RAD</th>\n",
       "      <th>TAX</th>\n",
       "      <th>PTRATIO</th>\n",
       "      <th>prop_slums</th>\n",
       "      <th>LSTAT</th>\n",
       "      <th>MEDV</th>\n",
       "    </tr>\n",
       "  </thead>\n",
       "  <tbody>\n",
       "    <tr>\n",
       "      <th>count</th>\n",
       "      <td>350.000000</td>\n",
       "      <td>350.000000</td>\n",
       "      <td>350.000000</td>\n",
       "      <td>350.000000</td>\n",
       "      <td>350.000000</td>\n",
       "      <td>350.000000</td>\n",
       "      <td>350.000000</td>\n",
       "      <td>350.000000</td>\n",
       "      <td>350.000000</td>\n",
       "      <td>350.000000</td>\n",
       "      <td>350.000000</td>\n",
       "      <td>350.000000</td>\n",
       "      <td>350.000000</td>\n",
       "      <td>350.000000</td>\n",
       "      <td>350.000000</td>\n",
       "    </tr>\n",
       "    <tr>\n",
       "      <th>mean</th>\n",
       "      <td>175.500000</td>\n",
       "      <td>0.404963</td>\n",
       "      <td>15.257143</td>\n",
       "      <td>8.436498</td>\n",
       "      <td>0.077143</td>\n",
       "      <td>0.510684</td>\n",
       "      <td>6.396922</td>\n",
       "      <td>60.867446</td>\n",
       "      <td>4.402082</td>\n",
       "      <td>4.482857</td>\n",
       "      <td>310.274286</td>\n",
       "      <td>17.702000</td>\n",
       "      <td>379.876775</td>\n",
       "      <td>10.421892</td>\n",
       "      <td>25.129723</td>\n",
       "    </tr>\n",
       "    <tr>\n",
       "      <th>std</th>\n",
       "      <td>101.180532</td>\n",
       "      <td>0.651082</td>\n",
       "      <td>25.607566</td>\n",
       "      <td>6.044201</td>\n",
       "      <td>0.267200</td>\n",
       "      <td>0.103476</td>\n",
       "      <td>0.719591</td>\n",
       "      <td>28.566625</td>\n",
       "      <td>1.971886</td>\n",
       "      <td>1.607109</td>\n",
       "      <td>67.661548</td>\n",
       "      <td>2.198807</td>\n",
       "      <td>41.982531</td>\n",
       "      <td>5.915906</td>\n",
       "      <td>8.617897</td>\n",
       "    </tr>\n",
       "    <tr>\n",
       "      <th>min</th>\n",
       "      <td>1.000000</td>\n",
       "      <td>0.006130</td>\n",
       "      <td>0.000000</td>\n",
       "      <td>0.450800</td>\n",
       "      <td>0.000000</td>\n",
       "      <td>0.374300</td>\n",
       "      <td>4.728960</td>\n",
       "      <td>2.871000</td>\n",
       "      <td>1.255520</td>\n",
       "      <td>1.000000</td>\n",
       "      <td>188.000000</td>\n",
       "      <td>12.600000</td>\n",
       "      <td>69.384000</td>\n",
       "      <td>1.799200</td>\n",
       "      <td>12.319000</td>\n",
       "    </tr>\n",
       "    <tr>\n",
       "      <th>25%</th>\n",
       "      <td>88.250000</td>\n",
       "      <td>0.058786</td>\n",
       "      <td>0.000000</td>\n",
       "      <td>4.019625</td>\n",
       "      <td>0.000000</td>\n",
       "      <td>0.441527</td>\n",
       "      <td>5.931550</td>\n",
       "      <td>35.149500</td>\n",
       "      <td>2.723105</td>\n",
       "      <td>4.000000</td>\n",
       "      <td>264.000000</td>\n",
       "      <td>16.100000</td>\n",
       "      <td>375.525275</td>\n",
       "      <td>6.109200</td>\n",
       "      <td>19.692750</td>\n",
       "    </tr>\n",
       "    <tr>\n",
       "      <th>50%</th>\n",
       "      <td>175.500000</td>\n",
       "      <td>0.132758</td>\n",
       "      <td>0.000000</td>\n",
       "      <td>6.448000</td>\n",
       "      <td>0.000000</td>\n",
       "      <td>0.489425</td>\n",
       "      <td>6.276270</td>\n",
       "      <td>62.019500</td>\n",
       "      <td>4.108295</td>\n",
       "      <td>4.000000</td>\n",
       "      <td>304.000000</td>\n",
       "      <td>17.900000</td>\n",
       "      <td>387.009300</td>\n",
       "      <td>9.393150</td>\n",
       "      <td>22.728500</td>\n",
       "    </tr>\n",
       "    <tr>\n",
       "      <th>75%</th>\n",
       "      <td>262.750000</td>\n",
       "      <td>0.411469</td>\n",
       "      <td>22.000000</td>\n",
       "      <td>10.263600</td>\n",
       "      <td>0.000000</td>\n",
       "      <td>0.542917</td>\n",
       "      <td>6.746752</td>\n",
       "      <td>88.151000</td>\n",
       "      <td>5.750662</td>\n",
       "      <td>5.000000</td>\n",
       "      <td>358.000000</td>\n",
       "      <td>19.100000</td>\n",
       "      <td>400.156950</td>\n",
       "      <td>13.245100</td>\n",
       "      <td>28.523250</td>\n",
       "    </tr>\n",
       "    <tr>\n",
       "      <th>max</th>\n",
       "      <td>350.000000</td>\n",
       "      <td>4.261296</td>\n",
       "      <td>100.000000</td>\n",
       "      <td>26.676000</td>\n",
       "      <td>1.000000</td>\n",
       "      <td>0.914550</td>\n",
       "      <td>8.986750</td>\n",
       "      <td>105.000000</td>\n",
       "      <td>9.555104</td>\n",
       "      <td>8.000000</td>\n",
       "      <td>469.000000</td>\n",
       "      <td>21.200000</td>\n",
       "      <td>416.745000</td>\n",
       "      <td>33.033600</td>\n",
       "      <td>52.500000</td>\n",
       "    </tr>\n",
       "  </tbody>\n",
       "</table>\n",
       "</div>"
      ],
      "text/plain": [
       "               ID        CRIM          ZN       INDUS   RIVER_FLG         No2  \\\n",
       "count  350.000000  350.000000  350.000000  350.000000  350.000000  350.000000   \n",
       "mean   175.500000    0.404963   15.257143    8.436498    0.077143    0.510684   \n",
       "std    101.180532    0.651082   25.607566    6.044201    0.267200    0.103476   \n",
       "min      1.000000    0.006130    0.000000    0.450800    0.000000    0.374300   \n",
       "25%     88.250000    0.058786    0.000000    4.019625    0.000000    0.441527   \n",
       "50%    175.500000    0.132758    0.000000    6.448000    0.000000    0.489425   \n",
       "75%    262.750000    0.411469   22.000000   10.263600    0.000000    0.542917   \n",
       "max    350.000000    4.261296  100.000000   26.676000    1.000000    0.914550   \n",
       "\n",
       "            Rooms         AGE         DIS         RAD         TAX   PTRATIO    \\\n",
       "count  350.000000  350.000000  350.000000  350.000000  350.000000  350.000000   \n",
       "mean     6.396922   60.867446    4.402082    4.482857  310.274286   17.702000   \n",
       "std      0.719591   28.566625    1.971886    1.607109   67.661548    2.198807   \n",
       "min      4.728960    2.871000    1.255520    1.000000  188.000000   12.600000   \n",
       "25%      5.931550   35.149500    2.723105    4.000000  264.000000   16.100000   \n",
       "50%      6.276270   62.019500    4.108295    4.000000  304.000000   17.900000   \n",
       "75%      6.746752   88.151000    5.750662    5.000000  358.000000   19.100000   \n",
       "max      8.986750  105.000000    9.555104    8.000000  469.000000   21.200000   \n",
       "\n",
       "       prop_slums       LSTAT        MEDV  \n",
       "count  350.000000  350.000000  350.000000  \n",
       "mean   379.876775   10.421892   25.129723  \n",
       "std     41.982531    5.915906    8.617897  \n",
       "min     69.384000    1.799200   12.319000  \n",
       "25%    375.525275    6.109200   19.692750  \n",
       "50%    387.009300    9.393150   22.728500  \n",
       "75%    400.156950   13.245100   28.523250  \n",
       "max    416.745000   33.033600   52.500000  "
      ]
     },
     "execution_count": 10,
     "metadata": {},
     "output_type": "execute_result"
    }
   ],
   "source": [
    "train.describe()"
   ]
  },
  {
   "cell_type": "code",
   "execution_count": 12,
   "id": "dd94b07b",
   "metadata": {
    "scrolled": false
   },
   "outputs": [
    {
     "data": {
      "text/plain": [
       "ID            0\n",
       "CRIM          0\n",
       "ZN            0\n",
       "INDUS         0\n",
       "RIVER_FLG     0\n",
       "No2           0\n",
       "Rooms         0\n",
       "AGE           0\n",
       "DIS           0\n",
       "RAD           0\n",
       "TAX           0\n",
       "PTRATIO       0\n",
       "prop_slums    0\n",
       "LSTAT         0\n",
       "MEDV          0\n",
       "dtype: int64"
      ]
     },
     "execution_count": 12,
     "metadata": {},
     "output_type": "execute_result"
    }
   ],
   "source": [
    "train.isnull().sum()"
   ]
  },
  {
   "cell_type": "code",
   "execution_count": 19,
   "id": "08b621d6",
   "metadata": {},
   "outputs": [
    {
     "data": {
      "text/plain": [
       "ID              int64\n",
       "CRIM          float64\n",
       "ZN            float64\n",
       "INDUS         float64\n",
       "RIVER_FLG       int64\n",
       "No2           float64\n",
       "Rooms         float64\n",
       "AGE           float64\n",
       "DIS           float64\n",
       "RAD             int64\n",
       "TAX             int64\n",
       "PTRATIO       float64\n",
       "prop_slums    float64\n",
       "LSTAT         float64\n",
       "MEDV          float64\n",
       "dtype: object"
      ]
     },
     "execution_count": 19,
     "metadata": {},
     "output_type": "execute_result"
    }
   ],
   "source": [
    "train.dtypes"
   ]
  },
  {
   "cell_type": "markdown",
   "id": "e37e2e01",
   "metadata": {},
   "source": [
    "###  Result : NO NULL values "
   ]
  },
  {
   "cell_type": "markdown",
   "id": "fd90f210",
   "metadata": {},
   "source": [
    "###  Start EDA"
   ]
  },
  {
   "cell_type": "code",
   "execution_count": 16,
   "id": "adf83615",
   "metadata": {},
   "outputs": [
    {
     "data": {
      "text/plain": [
       "<AxesSubplot:>"
      ]
     },
     "execution_count": 16,
     "metadata": {},
     "output_type": "execute_result"
    },
    {
     "data": {
      "image/png": "[encoded data removed]",
      "text/plain": [
       "<Figure size 432x288 with 2 Axes>"
      ]
     },
     "metadata": {
      "needs_background": "light"
     },
     "output_type": "display_data"
    }
   ],
   "source": [
    "sns.heatmap(train_corr,cmap='coolwarm')"
   ]
  },
  {
   "cell_type": "code",
   "execution_count": 23,
   "id": "711696c1",
   "metadata": {
    "scrolled": true
   },
   "outputs": [
    {
     "data": {
      "text/html": [
       "<div>\n",
       "<style scoped>\n",
       "    .dataframe tbody tr th:only-of-type {\n",
       "        vertical-align: middle;\n",
       "    }\n",
       "\n",
       "    .dataframe tbody tr th {\n",
       "        vertical-align: top;\n",
       "    }\n",
       "\n",
       "    .dataframe thead th {\n",
       "        text-align: right;\n",
       "    }\n",
       "</style>\n",
       "<table border=\"1\" class=\"dataframe\">\n",
       "  <thead>\n",
       "    <tr style=\"text-align: right;\">\n",
       "      <th></th>\n",
       "      <th>ID</th>\n",
       "      <th>CRIM</th>\n",
       "      <th>ZN</th>\n",
       "      <th>INDUS</th>\n",
       "      <th>RIVER_FLG</th>\n",
       "      <th>No2</th>\n",
       "      <th>Rooms</th>\n",
       "      <th>AGE</th>\n",
       "      <th>DIS</th>\n",
       "      <th>RAD</th>\n",
       "      <th>TAX</th>\n",
       "      <th>PTRATIO</th>\n",
       "      <th>prop_slums</th>\n",
       "      <th>LSTAT</th>\n",
       "      <th>MEDV</th>\n",
       "    </tr>\n",
       "  </thead>\n",
       "  <tbody>\n",
       "    <tr>\n",
       "      <th>161</th>\n",
       "      <td>162</td>\n",
       "      <td>1.463360</td>\n",
       "      <td>0.0</td>\n",
       "      <td>19.7758</td>\n",
       "      <td>0</td>\n",
       "      <td>0.58685</td>\n",
       "      <td>7.33922</td>\n",
       "      <td>93.524</td>\n",
       "      <td>1.872355</td>\n",
       "      <td>5</td>\n",
       "      <td>403</td>\n",
       "      <td>14.7</td>\n",
       "      <td>385.6629</td>\n",
       "      <td>1.7992</td>\n",
       "      <td>51.0</td>\n",
       "    </tr>\n",
       "    <tr>\n",
       "      <th>162</th>\n",
       "      <td>163</td>\n",
       "      <td>1.888783</td>\n",
       "      <td>0.0</td>\n",
       "      <td>18.9926</td>\n",
       "      <td>1</td>\n",
       "      <td>0.58685</td>\n",
       "      <td>7.48992</td>\n",
       "      <td>94.272</td>\n",
       "      <td>2.101921</td>\n",
       "      <td>5</td>\n",
       "      <td>403</td>\n",
       "      <td>14.7</td>\n",
       "      <td>385.7139</td>\n",
       "      <td>2.0160</td>\n",
       "      <td>52.0</td>\n",
       "    </tr>\n",
       "    <tr>\n",
       "      <th>163</th>\n",
       "      <td>164</td>\n",
       "      <td>1.503830</td>\n",
       "      <td>0.0</td>\n",
       "      <td>19.3842</td>\n",
       "      <td>1</td>\n",
       "      <td>0.62315</td>\n",
       "      <td>8.71000</td>\n",
       "      <td>92.961</td>\n",
       "      <td>2.118760</td>\n",
       "      <td>5</td>\n",
       "      <td>403</td>\n",
       "      <td>14.7</td>\n",
       "      <td>388.4500</td>\n",
       "      <td>3.1872</td>\n",
       "      <td>52.5</td>\n",
       "    </tr>\n",
       "    <tr>\n",
       "      <th>166</th>\n",
       "      <td>167</td>\n",
       "      <td>1.949884</td>\n",
       "      <td>0.0</td>\n",
       "      <td>19.9716</td>\n",
       "      <td>0</td>\n",
       "      <td>0.62920</td>\n",
       "      <td>7.77042</td>\n",
       "      <td>92.352</td>\n",
       "      <td>2.025441</td>\n",
       "      <td>5</td>\n",
       "      <td>403</td>\n",
       "      <td>14.7</td>\n",
       "      <td>376.6860</td>\n",
       "      <td>3.6630</td>\n",
       "      <td>50.5</td>\n",
       "    </tr>\n",
       "  </tbody>\n",
       "</table>\n",
       "</div>"
      ],
      "text/plain": [
       "      ID      CRIM   ZN    INDUS  RIVER_FLG      No2    Rooms     AGE  \\\n",
       "161  162  1.463360  0.0  19.7758          0  0.58685  7.33922  93.524   \n",
       "162  163  1.888783  0.0  18.9926          1  0.58685  7.48992  94.272   \n",
       "163  164  1.503830  0.0  19.3842          1  0.62315  8.71000  92.961   \n",
       "166  167  1.949884  0.0  19.9716          0  0.62920  7.77042  92.352   \n",
       "\n",
       "          DIS  RAD  TAX  PTRATIO    prop_slums   LSTAT  MEDV  \n",
       "161  1.872355    5  403       14.7    385.6629  1.7992  51.0  \n",
       "162  2.101921    5  403       14.7    385.7139  2.0160  52.0  \n",
       "163  2.118760    5  403       14.7    388.4500  3.1872  52.5  \n",
       "166  2.025441    5  403       14.7    376.6860  3.6630  50.5  "
      ]
     },
     "execution_count": 23,
     "metadata": {},
     "output_type": "execute_result"
    },
    {
     "data": {
      "image/png": "[encoded data removed]",
      "text/plain": [
       "<Figure size 432x288 with 1 Axes>"
      ]
     },
     "metadata": {
      "needs_background": "light"
     },
     "output_type": "display_data"
    }
   ],
   "source": [
    "\n",
    "py.xlim(-1,7)\n",
    "py.scatter(x='CRIM',y='MEDV',data=train,marker='o',cmap='spring',color='r')\n",
    "train[(train['MEDV']>50) & (train['CRIM'] > 1)]\n"
   ]
  },
  {
   "cell_type": "markdown",
   "id": "a7271c45",
   "metadata": {},
   "source": [
    "### "
   ]
  },
  {
   "cell_type": "code",
   "execution_count": 19,
   "id": "f5e97a5b",
   "metadata": {},
   "outputs": [
    {
     "data": {
      "text/plain": [
       "0      0.006130\n",
       "1      0.027037\n",
       "2      0.028109\n",
       "3      0.033341\n",
       "4      0.072502\n",
       "         ...   \n",
       "65     0.152369\n",
       "79     0.111027\n",
       "92     0.045040\n",
       "99     0.199162\n",
       "100    0.179703\n",
       "Name: CRIM, Length: 332, dtype: float64"
      ]
     },
     "execution_count": 19,
     "metadata": {},
     "output_type": "execute_result"
    }
   ],
   "source": [
    "df[df['CRIM']<=1]['CRIM']"
   ]
  },
  {
   "cell_type": "markdown",
   "id": "0c9dee7e",
   "metadata": {},
   "source": [
    "### First Observation :  As the criminal rate increases,the price of the house decreases .if the vaue of crime rate stays < 1  the price of the house increases. "
   ]
  },
  {
   "cell_type": "code",
   "execution_count": 20,
   "id": "5737620a",
   "metadata": {
    "scrolled": false
   },
   "outputs": [
    {
     "data": {
      "text/html": [
       "<div>\n",
       "<style scoped>\n",
       "    .dataframe tbody tr th:only-of-type {\n",
       "        vertical-align: middle;\n",
       "    }\n",
       "\n",
       "    .dataframe tbody tr th {\n",
       "        vertical-align: top;\n",
       "    }\n",
       "\n",
       "    .dataframe thead th {\n",
       "        text-align: right;\n",
       "    }\n",
       "</style>\n",
       "<table border=\"1\" class=\"dataframe\">\n",
       "  <thead>\n",
       "    <tr style=\"text-align: right;\">\n",
       "      <th></th>\n",
       "      <th>ID</th>\n",
       "      <th>CRIM</th>\n",
       "      <th>ZN</th>\n",
       "      <th>INDUS</th>\n",
       "      <th>RIVER_FLG</th>\n",
       "      <th>No2</th>\n",
       "      <th>Rooms</th>\n",
       "      <th>AGE</th>\n",
       "      <th>DIS</th>\n",
       "      <th>RAD</th>\n",
       "      <th>TAX</th>\n",
       "      <th>PTRATIO</th>\n",
       "      <th>prop_slums</th>\n",
       "      <th>LSTAT</th>\n",
       "      <th>MEDV</th>\n",
       "    </tr>\n",
       "  </thead>\n",
       "  <tbody>\n",
       "    <tr>\n",
       "      <th>count</th>\n",
       "      <td>222.000000</td>\n",
       "      <td>222.000000</td>\n",
       "      <td>222.0</td>\n",
       "      <td>222.000000</td>\n",
       "      <td>222.000000</td>\n",
       "      <td>222.000000</td>\n",
       "      <td>222.000000</td>\n",
       "      <td>222.000000</td>\n",
       "      <td>222.000000</td>\n",
       "      <td>222.000000</td>\n",
       "      <td>222.000000</td>\n",
       "      <td>222.000000</td>\n",
       "      <td>222.000000</td>\n",
       "      <td>222.000000</td>\n",
       "      <td>222.000000</td>\n",
       "    </tr>\n",
       "    <tr>\n",
       "      <th>mean</th>\n",
       "      <td>159.936937</td>\n",
       "      <td>0.561177</td>\n",
       "      <td>0.0</td>\n",
       "      <td>10.660786</td>\n",
       "      <td>0.090090</td>\n",
       "      <td>0.542403</td>\n",
       "      <td>6.247297</td>\n",
       "      <td>70.673234</td>\n",
       "      <td>3.532758</td>\n",
       "      <td>4.463964</td>\n",
       "      <td>320.432432</td>\n",
       "      <td>18.306306</td>\n",
       "      <td>374.781779</td>\n",
       "      <td>11.971251</td>\n",
       "      <td>23.151405</td>\n",
       "    </tr>\n",
       "    <tr>\n",
       "      <th>std</th>\n",
       "      <td>97.005880</td>\n",
       "      <td>0.764091</td>\n",
       "      <td>0.0</td>\n",
       "      <td>6.383142</td>\n",
       "      <td>0.286958</td>\n",
       "      <td>0.107093</td>\n",
       "      <td>0.685032</td>\n",
       "      <td>26.048264</td>\n",
       "      <td>1.392117</td>\n",
       "      <td>1.444621</td>\n",
       "      <td>73.474978</td>\n",
       "      <td>2.019398</td>\n",
       "      <td>50.646924</td>\n",
       "      <td>6.187883</td>\n",
       "      <td>8.082225</td>\n",
       "    </tr>\n",
       "    <tr>\n",
       "      <th>min</th>\n",
       "      <td>2.000000</td>\n",
       "      <td>0.024231</td>\n",
       "      <td>0.0</td>\n",
       "      <td>1.795500</td>\n",
       "      <td>0.000000</td>\n",
       "      <td>0.396480</td>\n",
       "      <td>4.728960</td>\n",
       "      <td>2.871000</td>\n",
       "      <td>1.255520</td>\n",
       "      <td>1.000000</td>\n",
       "      <td>188.000000</td>\n",
       "      <td>14.700000</td>\n",
       "      <td>69.384000</td>\n",
       "      <td>1.799200</td>\n",
       "      <td>12.319000</td>\n",
       "    </tr>\n",
       "    <tr>\n",
       "      <th>25%</th>\n",
       "      <td>90.250000</td>\n",
       "      <td>0.090429</td>\n",
       "      <td>0.0</td>\n",
       "      <td>6.200000</td>\n",
       "      <td>0.000000</td>\n",
       "      <td>0.479220</td>\n",
       "      <td>5.865373</td>\n",
       "      <td>54.186500</td>\n",
       "      <td>2.424476</td>\n",
       "      <td>4.000000</td>\n",
       "      <td>277.000000</td>\n",
       "      <td>17.400000</td>\n",
       "      <td>372.867875</td>\n",
       "      <td>7.459400</td>\n",
       "      <td>18.629000</td>\n",
       "    </tr>\n",
       "    <tr>\n",
       "      <th>50%</th>\n",
       "      <td>148.500000</td>\n",
       "      <td>0.222132</td>\n",
       "      <td>0.0</td>\n",
       "      <td>8.431600</td>\n",
       "      <td>0.000000</td>\n",
       "      <td>0.519825</td>\n",
       "      <td>6.134470</td>\n",
       "      <td>78.389500</td>\n",
       "      <td>3.436584</td>\n",
       "      <td>4.000000</td>\n",
       "      <td>307.000000</td>\n",
       "      <td>18.400000</td>\n",
       "      <td>387.056650</td>\n",
       "      <td>10.989000</td>\n",
       "      <td>21.298000</td>\n",
       "    </tr>\n",
       "    <tr>\n",
       "      <th>75%</th>\n",
       "      <td>221.750000</td>\n",
       "      <td>0.633143</td>\n",
       "      <td>0.0</td>\n",
       "      <td>14.279625</td>\n",
       "      <td>0.000000</td>\n",
       "      <td>0.560830</td>\n",
       "      <td>6.499380</td>\n",
       "      <td>92.994000</td>\n",
       "      <td>4.520571</td>\n",
       "      <td>5.000000</td>\n",
       "      <td>403.000000</td>\n",
       "      <td>20.050000</td>\n",
       "      <td>400.156950</td>\n",
       "      <td>15.181350</td>\n",
       "      <td>24.862500</td>\n",
       "    </tr>\n",
       "    <tr>\n",
       "      <th>max</th>\n",
       "      <td>347.000000</td>\n",
       "      <td>4.261296</td>\n",
       "      <td>0.0</td>\n",
       "      <td>26.676000</td>\n",
       "      <td>1.000000</td>\n",
       "      <td>0.914550</td>\n",
       "      <td>8.986750</td>\n",
       "      <td>105.000000</td>\n",
       "      <td>8.254008</td>\n",
       "      <td>8.000000</td>\n",
       "      <td>437.000000</td>\n",
       "      <td>21.200000</td>\n",
       "      <td>416.745000</td>\n",
       "      <td>33.033600</td>\n",
       "      <td>52.500000</td>\n",
       "    </tr>\n",
       "  </tbody>\n",
       "</table>\n",
       "</div>"
      ],
      "text/plain": [
       "               ID        CRIM     ZN       INDUS   RIVER_FLG         No2  \\\n",
       "count  222.000000  222.000000  222.0  222.000000  222.000000  222.000000   \n",
       "mean   159.936937    0.561177    0.0   10.660786    0.090090    0.542403   \n",
       "std     97.005880    0.764091    0.0    6.383142    0.286958    0.107093   \n",
       "min      2.000000    0.024231    0.0    1.795500    0.000000    0.396480   \n",
       "25%     90.250000    0.090429    0.0    6.200000    0.000000    0.479220   \n",
       "50%    148.500000    0.222132    0.0    8.431600    0.000000    0.519825   \n",
       "75%    221.750000    0.633143    0.0   14.279625    0.000000    0.560830   \n",
       "max    347.000000    4.261296    0.0   26.676000    1.000000    0.914550   \n",
       "\n",
       "            Rooms         AGE         DIS         RAD         TAX   PTRATIO    \\\n",
       "count  222.000000  222.000000  222.000000  222.000000  222.000000  222.000000   \n",
       "mean     6.247297   70.673234    3.532758    4.463964  320.432432   18.306306   \n",
       "std      0.685032   26.048264    1.392117    1.444621   73.474978    2.019398   \n",
       "min      4.728960    2.871000    1.255520    1.000000  188.000000   14.700000   \n",
       "25%      5.865373   54.186500    2.424476    4.000000  277.000000   17.400000   \n",
       "50%      6.134470   78.389500    3.436584    4.000000  307.000000   18.400000   \n",
       "75%      6.499380   92.994000    4.520571    5.000000  403.000000   20.050000   \n",
       "max      8.986750  105.000000    8.254008    8.000000  437.000000   21.200000   \n",
       "\n",
       "       prop_slums       LSTAT        MEDV  \n",
       "count  222.000000  222.000000  222.000000  \n",
       "mean   374.781779   11.971251   23.151405  \n",
       "std     50.646924    6.187883    8.082225  \n",
       "min     69.384000    1.799200   12.319000  \n",
       "25%    372.867875    7.459400   18.629000  \n",
       "50%    387.056650   10.989000   21.298000  \n",
       "75%    400.156950   15.181350   24.862500  \n",
       "max    416.745000   33.033600   52.500000  "
      ]
     },
     "execution_count": 20,
     "metadata": {},
     "output_type": "execute_result"
    }
   ],
   "source": [
    "a = train[train['ZN']== 0]\n",
    "a.describe()"
   ]
  },
  {
   "cell_type": "markdown",
   "id": "6384c7d5",
   "metadata": {},
   "source": [
    "### Third observation :  ZN = 0 , for most of the cases and moreover the MEDV max is 50 "
   ]
  },
  {
   "cell_type": "code",
   "execution_count": 21,
   "id": "8de30fb1",
   "metadata": {},
   "outputs": [
    {
     "name": "stderr",
     "output_type": "stream",
     "text": [
      "C:\\Users\\shubh\\anaconda3\\lib\\site-packages\\seaborn\\_decorators.py:36: FutureWarning: Pass the following variable as a keyword arg: x. From version 0.12, the only valid positional argument will be `data`, and passing other arguments without an explicit keyword will result in an error or misinterpretation.\n",
      "  warnings.warn(\n"
     ]
    },
    {
     "data": {
      "text/plain": [
       "<AxesSubplot:xlabel='RIVER_FLG', ylabel='count'>"
      ]
     },
     "execution_count": 21,
     "metadata": {},
     "output_type": "execute_result"
    },
    {
     "data": {
      "image/png": "[encoded data removed]",
      "text/plain": [
       "<Figure size 432x288 with 1 Axes>"
      ]
     },
     "metadata": {
      "needs_background": "light"
     },
     "output_type": "display_data"
    }
   ],
   "source": [
    "sns.countplot('RIVER_FLG',data= df)"
   ]
  },
  {
   "cell_type": "markdown",
   "id": "f2670dbd",
   "metadata": {},
   "source": [
    "### fourth obs : max number of houses bought didnt have river pass , as price increase if latter is the case "
   ]
  },
  {
   "cell_type": "code",
   "execution_count": 22,
   "id": "21d00cf9",
   "metadata": {
    "scrolled": true
   },
   "outputs": [
    {
     "data": {
      "text/plain": [
       "Index(['ID', 'CRIM', 'ZN', 'INDUS', 'RIVER_FLG', 'No2', 'Rooms', 'AGE', 'DIS',\n",
       "       'RAD', 'TAX', 'PTRATIO  ', 'prop_slums', 'LSTAT', 'MEDV'],\n",
       "      dtype='object')"
      ]
     },
     "execution_count": 22,
     "metadata": {},
     "output_type": "execute_result"
    }
   ],
   "source": [
    "train.columns"
   ]
  },
  {
   "cell_type": "code",
   "execution_count": 23,
   "id": "a935859e",
   "metadata": {
    "scrolled": true
   },
   "outputs": [
    {
     "name": "stderr",
     "output_type": "stream",
     "text": [
      "C:\\Users\\shubh\\anaconda3\\lib\\site-packages\\seaborn\\distributions.py:2619: FutureWarning: `distplot` is a deprecated function and will be removed in a future version. Please adapt your code to use either `displot` (a figure-level function with similar flexibility) or `histplot` (an axes-level function for histograms).\n",
      "  warnings.warn(msg, FutureWarning)\n"
     ]
    },
    {
     "data": {
      "text/plain": [
       "<AxesSubplot:xlabel='No2', ylabel='Density'>"
      ]
     },
     "execution_count": 23,
     "metadata": {},
     "output_type": "execute_result"
    },
    {
     "data": {
      "image/png": "[encoded data removed]",
      "text/plain": [
       "<Figure size 432x288 with 1 Axes>"
      ]
     },
     "metadata": {
      "needs_background": "light"
     },
     "output_type": "display_data"
    }
   ],
   "source": [
    "sns.distplot(train['No2'],bins=40,)"
   ]
  },
  {
   "cell_type": "code",
   "execution_count": 24,
   "id": "ee128711",
   "metadata": {
    "scrolled": true
   },
   "outputs": [
    {
     "name": "stderr",
     "output_type": "stream",
     "text": [
      "C:\\Users\\shubh\\anaconda3\\lib\\site-packages\\seaborn\\_decorators.py:36: FutureWarning: Pass the following variables as keyword args: x, y. From version 0.12, the only valid positional argument will be `data`, and passing other arguments without an explicit keyword will result in an error or misinterpretation.\n",
      "  warnings.warn(\n"
     ]
    },
    {
     "data": {
      "text/plain": [
       "<seaborn.axisgrid.JointGrid at 0x198de25cbb0>"
      ]
     },
     "execution_count": 24,
     "metadata": {},
     "output_type": "execute_result"
    },
    {
     "data": {
      "image/png": "[encoded data removed]",
      "text/plain": [
       "<Figure size 432x432 with 3 Axes>"
      ]
     },
     "metadata": {
      "needs_background": "light"
     },
     "output_type": "display_data"
    }
   ],
   "source": [
    "sns.jointplot('No2','MEDV',data=train)"
   ]
  },
  {
   "cell_type": "markdown",
   "id": "d71935b9",
   "metadata": {},
   "source": [
    "### Fifth Observation:  the value of No2 should be below 0.65 to get better price of the house "
   ]
  },
  {
   "cell_type": "code",
   "execution_count": 25,
   "id": "4dd599e7",
   "metadata": {},
   "outputs": [
    {
     "name": "stderr",
     "output_type": "stream",
     "text": [
      "C:\\Users\\shubh\\anaconda3\\lib\\site-packages\\seaborn\\distributions.py:2619: FutureWarning: `distplot` is a deprecated function and will be removed in a future version. Please adapt your code to use either `displot` (a figure-level function with similar flexibility) or `histplot` (an axes-level function for histograms).\n",
      "  warnings.warn(msg, FutureWarning)\n"
     ]
    },
    {
     "data": {
      "text/plain": [
       "count    350.000000\n",
       "mean      60.867446\n",
       "std       28.566625\n",
       "min        2.871000\n",
       "25%       35.149500\n",
       "50%       62.019500\n",
       "75%       88.151000\n",
       "max      105.000000\n",
       "Name: AGE, dtype: float64"
      ]
     },
     "execution_count": 25,
     "metadata": {},
     "output_type": "execute_result"
    },
    {
     "data": {
      "image/png": "[encoded data removed]",
      "text/plain": [
       "<Figure size 432x288 with 1 Axes>"
      ]
     },
     "metadata": {
      "needs_background": "light"
     },
     "output_type": "display_data"
    }
   ],
   "source": [
    "py.grid(visible=True , axis = 'x')\n",
    "sns.distplot(train['AGE'])\n",
    "train['AGE'].describe()\n"
   ]
  },
  {
   "cell_type": "code",
   "execution_count": 26,
   "id": "d457b787",
   "metadata": {},
   "outputs": [
    {
     "name": "stderr",
     "output_type": "stream",
     "text": [
      "C:\\Users\\shubh\\anaconda3\\lib\\site-packages\\seaborn\\_decorators.py:36: FutureWarning: Pass the following variable as a keyword arg: x. From version 0.12, the only valid positional argument will be `data`, and passing other arguments without an explicit keyword will result in an error or misinterpretation.\n",
      "  warnings.warn(\n"
     ]
    },
    {
     "data": {
      "text/plain": [
       "<AxesSubplot:xlabel='AGE'>"
      ]
     },
     "execution_count": 26,
     "metadata": {},
     "output_type": "execute_result"
    },
    {
     "data": {
      "image/png": "[encoded data removed]",
      "text/plain": [
       "<Figure size 432x288 with 1 Axes>"
      ]
     },
     "metadata": {
      "needs_background": "light"
     },
     "output_type": "display_data"
    }
   ],
   "source": [
    "sns.boxplot('AGE',data=train)"
   ]
  },
  {
   "cell_type": "code",
   "execution_count": 28,
   "id": "5444801a",
   "metadata": {},
   "outputs": [
    {
     "name": "stderr",
     "output_type": "stream",
     "text": [
      "C:\\Users\\shubh\\anaconda3\\lib\\site-packages\\seaborn\\_decorators.py:36: FutureWarning: Pass the following variables as keyword args: x, y. From version 0.12, the only valid positional argument will be `data`, and passing other arguments without an explicit keyword will result in an error or misinterpretation.\n",
      "  warnings.warn(\n",
      "C:\\Users\\shubh\\anaconda3\\lib\\site-packages\\seaborn\\_decorators.py:36: FutureWarning: Pass the following variables as keyword args: x, y. From version 0.12, the only valid positional argument will be `data`, and passing other arguments without an explicit keyword will result in an error or misinterpretation.\n",
      "  warnings.warn(\n"
     ]
    },
    {
     "data": {
      "text/plain": [
       "<seaborn.axisgrid.JointGrid at 0x198df93a220>"
      ]
     },
     "execution_count": 28,
     "metadata": {},
     "output_type": "execute_result"
    },
    {
     "data": {
      "image/png": "[encoded data removed]",
      "text/plain": [
       "<Figure size 432x432 with 3 Axes>"
      ]
     },
     "metadata": {
      "needs_background": "light"
     },
     "output_type": "display_data"
    },
    {
     "data": {
      "image/png": "[encoded data removed]",
      "text/plain": [
       "<Figure size 432x432 with 3 Axes>"
      ]
     },
     "metadata": {
      "needs_background": "light"
     },
     "output_type": "display_data"
    }
   ],
   "source": [
    "sns.set_context(\"notebook\")\n",
    "sns.jointplot('AGE','MEDV',data=train,xlim=(0,10),ax=[0,1])\n",
    "sns.jointplot('AGE','MEDV',data=train,xlim=(10,20),ax=[2,1])\n",
    "\n"
   ]
  },
  {
   "cell_type": "markdown",
   "id": "ddd8c5a0",
   "metadata": {},
   "source": [
    "###  sixth observation : as the age proportion increases the value of MEDV is less. hence lesser the value of Age more the value of medv"
   ]
  },
  {
   "cell_type": "code",
   "execution_count": 30,
   "id": "1782d6bd",
   "metadata": {
    "scrolled": true
   },
   "outputs": [
    {
     "name": "stderr",
     "output_type": "stream",
     "text": [
      "C:\\Users\\shubh\\anaconda3\\lib\\site-packages\\seaborn\\_decorators.py:36: FutureWarning: Pass the following variable as a keyword arg: x. From version 0.12, the only valid positional argument will be `data`, and passing other arguments without an explicit keyword will result in an error or misinterpretation.\n",
      "  warnings.warn(\n"
     ]
    },
    {
     "data": {
      "text/plain": [
       "<AxesSubplot:xlabel='DIS'>"
      ]
     },
     "execution_count": 30,
     "metadata": {},
     "output_type": "execute_result"
    },
    {
     "data": {
      "image/png": "[encoded data removed]",
      "text/plain": [
       "<Figure size 432x288 with 1 Axes>"
      ]
     },
     "metadata": {
      "needs_background": "light"
     },
     "output_type": "display_data"
    }
   ],
   "source": [
    "train['DIS'].describe()\n",
    "sns.boxplot('DIS',data=train)"
   ]
  },
  {
   "cell_type": "code",
   "execution_count": 31,
   "id": "72c50297",
   "metadata": {},
   "outputs": [
    {
     "name": "stderr",
     "output_type": "stream",
     "text": [
      "C:\\Users\\shubh\\anaconda3\\lib\\site-packages\\seaborn\\_decorators.py:36: FutureWarning: Pass the following variables as keyword args: x, y. From version 0.12, the only valid positional argument will be `data`, and passing other arguments without an explicit keyword will result in an error or misinterpretation.\n",
      "  warnings.warn(\n"
     ]
    },
    {
     "data": {
      "text/plain": [
       "<seaborn.axisgrid.JointGrid at 0x198dfc25460>"
      ]
     },
     "execution_count": 31,
     "metadata": {},
     "output_type": "execute_result"
    },
    {
     "data": {
      "image/png": "[encoded data removed]",
      "text/plain": [
       "<Figure size 432x432 with 3 Axes>"
      ]
     },
     "metadata": {
      "needs_background": "light"
     },
     "output_type": "display_data"
    }
   ],
   "source": [
    "sns.jointplot('DIS','MEDV',data=train,kind='reg')"
   ]
  },
  {
   "cell_type": "markdown",
   "id": "126f08b0",
   "metadata": {},
   "source": [
    "### Observation : The value of DIS has most of the time has no effect on MEDV "
   ]
  },
  {
   "cell_type": "code",
   "execution_count": 34,
   "id": "d81c1b39",
   "metadata": {
    "scrolled": true
   },
   "outputs": [
    {
     "data": {
      "text/plain": [
       "5    114\n",
       "4    101\n",
       "3     38\n",
       "2     24\n",
       "8     24\n",
       "6     18\n",
       "7     17\n",
       "1     14\n",
       "Name: RAD, dtype: int64"
      ]
     },
     "execution_count": 34,
     "metadata": {},
     "output_type": "execute_result"
    }
   ],
   "source": [
    "train['RAD'].nunique()\n",
    "train['RAD'].value_counts()\n"
   ]
  },
  {
   "cell_type": "code",
   "execution_count": 35,
   "id": "dc18913a",
   "metadata": {},
   "outputs": [
    {
     "data": {
      "text/html": [
       "<div>\n",
       "<style scoped>\n",
       "    .dataframe tbody tr th:only-of-type {\n",
       "        vertical-align: middle;\n",
       "    }\n",
       "\n",
       "    .dataframe tbody tr th {\n",
       "        vertical-align: top;\n",
       "    }\n",
       "\n",
       "    .dataframe thead th {\n",
       "        text-align: right;\n",
       "    }\n",
       "</style>\n",
       "<table border=\"1\" class=\"dataframe\">\n",
       "  <thead>\n",
       "    <tr style=\"text-align: right;\">\n",
       "      <th></th>\n",
       "      <th>ID</th>\n",
       "      <th>CRIM</th>\n",
       "      <th>ZN</th>\n",
       "      <th>INDUS</th>\n",
       "      <th>RIVER_FLG</th>\n",
       "      <th>No2</th>\n",
       "      <th>Rooms</th>\n",
       "      <th>AGE</th>\n",
       "      <th>DIS</th>\n",
       "      <th>RAD</th>\n",
       "      <th>TAX</th>\n",
       "      <th>PTRATIO</th>\n",
       "      <th>prop_slums</th>\n",
       "      <th>LSTAT</th>\n",
       "      <th>MEDV</th>\n",
       "    </tr>\n",
       "  </thead>\n",
       "  <tbody>\n",
       "    <tr>\n",
       "      <th>count</th>\n",
       "      <td>14.000000</td>\n",
       "      <td>14.000000</td>\n",
       "      <td>14.000000</td>\n",
       "      <td>14.000000</td>\n",
       "      <td>14.000000</td>\n",
       "      <td>14.000000</td>\n",
       "      <td>14.000000</td>\n",
       "      <td>14.000000</td>\n",
       "      <td>14.000000</td>\n",
       "      <td>14.0</td>\n",
       "      <td>14.000000</td>\n",
       "      <td>14.000000</td>\n",
       "      <td>14.000000</td>\n",
       "      <td>14.000000</td>\n",
       "      <td>14.000000</td>\n",
       "    </tr>\n",
       "    <tr>\n",
       "      <th>mean</th>\n",
       "      <td>267.357143</td>\n",
       "      <td>0.023716</td>\n",
       "      <td>54.142857</td>\n",
       "      <td>2.918900</td>\n",
       "      <td>0.071429</td>\n",
       "      <td>0.429268</td>\n",
       "      <td>6.577640</td>\n",
       "      <td>32.072714</td>\n",
       "      <td>7.069486</td>\n",
       "      <td>1.0</td>\n",
       "      <td>294.928571</td>\n",
       "      <td>16.185714</td>\n",
       "      <td>382.875207</td>\n",
       "      <td>7.326050</td>\n",
       "      <td>26.089357</td>\n",
       "    </tr>\n",
       "    <tr>\n",
       "      <th>std</th>\n",
       "      <td>91.893423</td>\n",
       "      <td>0.013977</td>\n",
       "      <td>27.988616</td>\n",
       "      <td>1.650738</td>\n",
       "      <td>0.267261</td>\n",
       "      <td>0.041141</td>\n",
       "      <td>0.762261</td>\n",
       "      <td>16.059155</td>\n",
       "      <td>1.509601</td>\n",
       "      <td>0.0</td>\n",
       "      <td>50.431163</td>\n",
       "      <td>1.462273</td>\n",
       "      <td>19.167398</td>\n",
       "      <td>2.931045</td>\n",
       "      <td>8.847427</td>\n",
       "    </tr>\n",
       "    <tr>\n",
       "      <th>min</th>\n",
       "      <td>1.000000</td>\n",
       "      <td>0.006130</td>\n",
       "      <td>0.000000</td>\n",
       "      <td>1.234200</td>\n",
       "      <td>0.000000</td>\n",
       "      <td>0.376320</td>\n",
       "      <td>5.420700</td>\n",
       "      <td>9.603000</td>\n",
       "      <td>4.090000</td>\n",
       "      <td>1.0</td>\n",
       "      <td>198.000000</td>\n",
       "      <td>13.600000</td>\n",
       "      <td>347.760000</td>\n",
       "      <td>3.033600</td>\n",
       "      <td>16.500000</td>\n",
       "    </tr>\n",
       "    <tr>\n",
       "      <th>25%</th>\n",
       "      <td>255.250000</td>\n",
       "      <td>0.013283</td>\n",
       "      <td>35.000000</td>\n",
       "      <td>1.729275</td>\n",
       "      <td>0.000000</td>\n",
       "      <td>0.399840</td>\n",
       "      <td>6.067380</td>\n",
       "      <td>20.761500</td>\n",
       "      <td>6.152938</td>\n",
       "      <td>1.0</td>\n",
       "      <td>269.750000</td>\n",
       "      <td>15.350000</td>\n",
       "      <td>374.988750</td>\n",
       "      <td>5.261550</td>\n",
       "      <td>19.866000</td>\n",
       "    </tr>\n",
       "    <tr>\n",
       "      <th>50%</th>\n",
       "      <td>285.500000</td>\n",
       "      <td>0.020552</td>\n",
       "      <td>57.500000</td>\n",
       "      <td>2.584500</td>\n",
       "      <td>0.000000</td>\n",
       "      <td>0.414515</td>\n",
       "      <td>6.575000</td>\n",
       "      <td>29.778500</td>\n",
       "      <td>6.696556</td>\n",
       "      <td>1.0</td>\n",
       "      <td>298.000000</td>\n",
       "      <td>15.750000</td>\n",
       "      <td>380.479900</td>\n",
       "      <td>6.912000</td>\n",
       "      <td>23.800000</td>\n",
       "    </tr>\n",
       "    <tr>\n",
       "      <th>75%</th>\n",
       "      <td>332.750000</td>\n",
       "      <td>0.033688</td>\n",
       "      <td>80.000000</td>\n",
       "      <td>3.363300</td>\n",
       "      <td>0.000000</td>\n",
       "      <td>0.445493</td>\n",
       "      <td>6.937800</td>\n",
       "      <td>33.210000</td>\n",
       "      <td>8.512291</td>\n",
       "      <td>1.0</td>\n",
       "      <td>312.250000</td>\n",
       "      <td>16.775000</td>\n",
       "      <td>397.203150</td>\n",
       "      <td>8.541850</td>\n",
       "      <td>30.424500</td>\n",
       "    </tr>\n",
       "    <tr>\n",
       "      <th>max</th>\n",
       "      <td>350.000000</td>\n",
       "      <td>0.049225</td>\n",
       "      <td>90.000000</td>\n",
       "      <td>6.363000</td>\n",
       "      <td>1.000000</td>\n",
       "      <td>0.516480</td>\n",
       "      <td>8.239920</td>\n",
       "      <td>64.548000</td>\n",
       "      <td>9.220300</td>\n",
       "      <td>1.0</td>\n",
       "      <td>422.000000</td>\n",
       "      <td>19.700000</td>\n",
       "      <td>410.508800</td>\n",
       "      <td>12.802900</td>\n",
       "      <td>50.500000</td>\n",
       "    </tr>\n",
       "  </tbody>\n",
       "</table>\n",
       "</div>"
      ],
      "text/plain": [
       "               ID       CRIM         ZN      INDUS  RIVER_FLG        No2  \\\n",
       "count   14.000000  14.000000  14.000000  14.000000  14.000000  14.000000   \n",
       "mean   267.357143   0.023716  54.142857   2.918900   0.071429   0.429268   \n",
       "std     91.893423   0.013977  27.988616   1.650738   0.267261   0.041141   \n",
       "min      1.000000   0.006130   0.000000   1.234200   0.000000   0.376320   \n",
       "25%    255.250000   0.013283  35.000000   1.729275   0.000000   0.399840   \n",
       "50%    285.500000   0.020552  57.500000   2.584500   0.000000   0.414515   \n",
       "75%    332.750000   0.033688  80.000000   3.363300   0.000000   0.445493   \n",
       "max    350.000000   0.049225  90.000000   6.363000   1.000000   0.516480   \n",
       "\n",
       "           Rooms        AGE        DIS   RAD         TAX  PTRATIO    \\\n",
       "count  14.000000  14.000000  14.000000  14.0   14.000000  14.000000   \n",
       "mean    6.577640  32.072714   7.069486   1.0  294.928571  16.185714   \n",
       "std     0.762261  16.059155   1.509601   0.0   50.431163   1.462273   \n",
       "min     5.420700   9.603000   4.090000   1.0  198.000000  13.600000   \n",
       "25%     6.067380  20.761500   6.152938   1.0  269.750000  15.350000   \n",
       "50%     6.575000  29.778500   6.696556   1.0  298.000000  15.750000   \n",
       "75%     6.937800  33.210000   8.512291   1.0  312.250000  16.775000   \n",
       "max     8.239920  64.548000   9.220300   1.0  422.000000  19.700000   \n",
       "\n",
       "       prop_slums      LSTAT       MEDV  \n",
       "count   14.000000  14.000000  14.000000  \n",
       "mean   382.875207   7.326050  26.089357  \n",
       "std     19.167398   2.931045   8.847427  \n",
       "min    347.760000   3.033600  16.500000  \n",
       "25%    374.988750   5.261550  19.866000  \n",
       "50%    380.479900   6.912000  23.800000  \n",
       "75%    397.203150   8.541850  30.424500  \n",
       "max    410.508800  12.802900  50.500000  "
      ]
     },
     "execution_count": 35,
     "metadata": {},
     "output_type": "execute_result"
    }
   ],
   "source": [
    "train[train['RAD'] == 1].describe()"
   ]
  },
  {
   "cell_type": "code",
   "execution_count": 36,
   "id": "3be82802",
   "metadata": {
    "scrolled": true
   },
   "outputs": [
    {
     "data": {
      "text/plain": [
       "8"
      ]
     },
     "execution_count": 36,
     "metadata": {},
     "output_type": "execute_result"
    }
   ],
   "source": [
    "train['RAD'].nunique()"
   ]
  },
  {
   "cell_type": "code",
   "execution_count": 39,
   "id": "47f1e6c9",
   "metadata": {
    "scrolled": true
   },
   "outputs": [
    {
     "data": {
      "text/plain": [
       "<AxesSubplot:xlabel='RAD', ylabel='count'>"
      ]
     },
     "execution_count": 39,
     "metadata": {},
     "output_type": "execute_result"
    },
    {
     "data": {
      "image/png": "[encoded data removed]",
      "text/plain": [
       "<Figure size 432x288 with 1 Axes>"
      ]
     },
     "metadata": {},
     "output_type": "display_data"
    }
   ],
   "source": [
    "sns.set_theme()\n",
    "sns.countplot(x='RAD',data=train)"
   ]
  },
  {
   "cell_type": "code",
   "execution_count": 40,
   "id": "578c72be",
   "metadata": {
    "scrolled": true
   },
   "outputs": [
    {
     "data": {
      "text/html": [
       "<div>\n",
       "<style scoped>\n",
       "    .dataframe tbody tr th:only-of-type {\n",
       "        vertical-align: middle;\n",
       "    }\n",
       "\n",
       "    .dataframe tbody tr th {\n",
       "        vertical-align: top;\n",
       "    }\n",
       "\n",
       "    .dataframe thead th {\n",
       "        text-align: right;\n",
       "    }\n",
       "</style>\n",
       "<table border=\"1\" class=\"dataframe\">\n",
       "  <thead>\n",
       "    <tr style=\"text-align: right;\">\n",
       "      <th></th>\n",
       "      <th>ID</th>\n",
       "      <th>CRIM</th>\n",
       "      <th>ZN</th>\n",
       "      <th>INDUS</th>\n",
       "      <th>RIVER_FLG</th>\n",
       "      <th>No2</th>\n",
       "      <th>Rooms</th>\n",
       "      <th>AGE</th>\n",
       "      <th>DIS</th>\n",
       "      <th>RAD</th>\n",
       "      <th>TAX</th>\n",
       "      <th>PTRATIO</th>\n",
       "      <th>prop_slums</th>\n",
       "      <th>LSTAT</th>\n",
       "      <th>MEDV</th>\n",
       "    </tr>\n",
       "  </thead>\n",
       "  <tbody>\n",
       "    <tr>\n",
       "      <th>count</th>\n",
       "      <td>101.000000</td>\n",
       "      <td>101.000000</td>\n",
       "      <td>101.000000</td>\n",
       "      <td>101.000000</td>\n",
       "      <td>101.000000</td>\n",
       "      <td>101.000000</td>\n",
       "      <td>101.000000</td>\n",
       "      <td>101.000000</td>\n",
       "      <td>101.000000</td>\n",
       "      <td>101.0</td>\n",
       "      <td>101.000000</td>\n",
       "      <td>101.000000</td>\n",
       "      <td>101.000000</td>\n",
       "      <td>101.000000</td>\n",
       "      <td>101.000000</td>\n",
       "    </tr>\n",
       "    <tr>\n",
       "      <th>mean</th>\n",
       "      <td>159.841584</td>\n",
       "      <td>0.419527</td>\n",
       "      <td>13.272277</td>\n",
       "      <td>10.252268</td>\n",
       "      <td>0.079208</td>\n",
       "      <td>0.501795</td>\n",
       "      <td>6.149862</td>\n",
       "      <td>60.914020</td>\n",
       "      <td>4.304161</td>\n",
       "      <td>4.0</td>\n",
       "      <td>315.970297</td>\n",
       "      <td>19.048515</td>\n",
       "      <td>384.776113</td>\n",
       "      <td>12.008470</td>\n",
       "      <td>21.881079</td>\n",
       "    </tr>\n",
       "    <tr>\n",
       "      <th>std</th>\n",
       "      <td>112.352279</td>\n",
       "      <td>0.473345</td>\n",
       "      <td>25.955397</td>\n",
       "      <td>5.638585</td>\n",
       "      <td>0.271410</td>\n",
       "      <td>0.071190</td>\n",
       "      <td>0.541670</td>\n",
       "      <td>30.726059</td>\n",
       "      <td>1.480477</td>\n",
       "      <td>0.0</td>\n",
       "      <td>61.355922</td>\n",
       "      <td>1.833664</td>\n",
       "      <td>30.328289</td>\n",
       "      <td>6.253727</td>\n",
       "      <td>6.855344</td>\n",
       "    </tr>\n",
       "    <tr>\n",
       "      <th>min</th>\n",
       "      <td>14.000000</td>\n",
       "      <td>0.013810</td>\n",
       "      <td>0.000000</td>\n",
       "      <td>0.450800</td>\n",
       "      <td>0.000000</td>\n",
       "      <td>0.378100</td>\n",
       "      <td>4.774080</td>\n",
       "      <td>6.386000</td>\n",
       "      <td>1.482582</td>\n",
       "      <td>4.0</td>\n",
       "      <td>224.000000</td>\n",
       "      <td>14.400000</td>\n",
       "      <td>244.230000</td>\n",
       "      <td>2.764800</td>\n",
       "      <td>12.319000</td>\n",
       "    </tr>\n",
       "    <tr>\n",
       "      <th>25%</th>\n",
       "      <td>54.000000</td>\n",
       "      <td>0.067912</td>\n",
       "      <td>0.000000</td>\n",
       "      <td>6.312800</td>\n",
       "      <td>0.000000</td>\n",
       "      <td>0.441370</td>\n",
       "      <td>5.858650</td>\n",
       "      <td>31.654000</td>\n",
       "      <td>3.644640</td>\n",
       "      <td>4.0</td>\n",
       "      <td>277.000000</td>\n",
       "      <td>18.200000</td>\n",
       "      <td>377.055000</td>\n",
       "      <td>7.333800</td>\n",
       "      <td>17.480000</td>\n",
       "    </tr>\n",
       "    <tr>\n",
       "      <th>50%</th>\n",
       "      <td>136.000000</td>\n",
       "      <td>0.251990</td>\n",
       "      <td>0.000000</td>\n",
       "      <td>8.547000</td>\n",
       "      <td>0.000000</td>\n",
       "      <td>0.498780</td>\n",
       "      <td>6.136220</td>\n",
       "      <td>62.055000</td>\n",
       "      <td>4.224627</td>\n",
       "      <td>4.0</td>\n",
       "      <td>304.000000</td>\n",
       "      <td>18.900000</td>\n",
       "      <td>388.604700</td>\n",
       "      <td>11.087400</td>\n",
       "      <td>20.790000</td>\n",
       "    </tr>\n",
       "    <tr>\n",
       "      <th>75%</th>\n",
       "      <td>279.000000</td>\n",
       "      <td>0.633664</td>\n",
       "      <td>21.000000</td>\n",
       "      <td>11.119500</td>\n",
       "      <td>0.000000</td>\n",
       "      <td>0.548760</td>\n",
       "      <td>6.430050</td>\n",
       "      <td>91.200000</td>\n",
       "      <td>5.130665</td>\n",
       "      <td>4.0</td>\n",
       "      <td>307.000000</td>\n",
       "      <td>21.000000</td>\n",
       "      <td>404.348400</td>\n",
       "      <td>16.406500</td>\n",
       "      <td>23.800000</td>\n",
       "    </tr>\n",
       "    <tr>\n",
       "      <th>max</th>\n",
       "      <td>349.000000</td>\n",
       "      <td>2.767254</td>\n",
       "      <td>95.000000</td>\n",
       "      <td>22.984500</td>\n",
       "      <td>1.000000</td>\n",
       "      <td>0.648960</td>\n",
       "      <td>8.111250</td>\n",
       "      <td>103.000000</td>\n",
       "      <td>8.761200</td>\n",
       "      <td>4.0</td>\n",
       "      <td>437.000000</td>\n",
       "      <td>21.200000</td>\n",
       "      <td>416.745000</td>\n",
       "      <td>33.033600</td>\n",
       "      <td>49.955000</td>\n",
       "    </tr>\n",
       "  </tbody>\n",
       "</table>\n",
       "</div>"
      ],
      "text/plain": [
       "               ID        CRIM          ZN       INDUS   RIVER_FLG         No2  \\\n",
       "count  101.000000  101.000000  101.000000  101.000000  101.000000  101.000000   \n",
       "mean   159.841584    0.419527   13.272277   10.252268    0.079208    0.501795   \n",
       "std    112.352279    0.473345   25.955397    5.638585    0.271410    0.071190   \n",
       "min     14.000000    0.013810    0.000000    0.450800    0.000000    0.378100   \n",
       "25%     54.000000    0.067912    0.000000    6.312800    0.000000    0.441370   \n",
       "50%    136.000000    0.251990    0.000000    8.547000    0.000000    0.498780   \n",
       "75%    279.000000    0.633664   21.000000   11.119500    0.000000    0.548760   \n",
       "max    349.000000    2.767254   95.000000   22.984500    1.000000    0.648960   \n",
       "\n",
       "            Rooms         AGE         DIS    RAD         TAX   PTRATIO    \\\n",
       "count  101.000000  101.000000  101.000000  101.0  101.000000  101.000000   \n",
       "mean     6.149862   60.914020    4.304161    4.0  315.970297   19.048515   \n",
       "std      0.541670   30.726059    1.480477    0.0   61.355922    1.833664   \n",
       "min      4.774080    6.386000    1.482582    4.0  224.000000   14.400000   \n",
       "25%      5.858650   31.654000    3.644640    4.0  277.000000   18.200000   \n",
       "50%      6.136220   62.055000    4.224627    4.0  304.000000   18.900000   \n",
       "75%      6.430050   91.200000    5.130665    4.0  307.000000   21.000000   \n",
       "max      8.111250  103.000000    8.761200    4.0  437.000000   21.200000   \n",
       "\n",
       "       prop_slums       LSTAT        MEDV  \n",
       "count  101.000000  101.000000  101.000000  \n",
       "mean   384.776113   12.008470   21.881079  \n",
       "std     30.328289    6.253727    6.855344  \n",
       "min    244.230000    2.764800   12.319000  \n",
       "25%    377.055000    7.333800   17.480000  \n",
       "50%    388.604700   11.087400   20.790000  \n",
       "75%    404.348400   16.406500   23.800000  \n",
       "max    416.745000   33.033600   49.955000  "
      ]
     },
     "execution_count": 40,
     "metadata": {},
     "output_type": "execute_result"
    }
   ],
   "source": [
    "train[train['RAD']==4].describe()"
   ]
  },
  {
   "cell_type": "markdown",
   "id": "7273cb5b",
   "metadata": {},
   "source": [
    "### RAD equals to 4 and 5 are preferred"
   ]
  },
  {
   "cell_type": "code",
   "execution_count": 41,
   "id": "1ec3dec7",
   "metadata": {
    "scrolled": true
   },
   "outputs": [
    {
     "name": "stderr",
     "output_type": "stream",
     "text": [
      "C:\\Users\\shubh\\anaconda3\\lib\\site-packages\\seaborn\\distributions.py:2619: FutureWarning: `distplot` is a deprecated function and will be removed in a future version. Please adapt your code to use either `displot` (a figure-level function with similar flexibility) or `histplot` (an axes-level function for histograms).\n",
      "  warnings.warn(msg, FutureWarning)\n"
     ]
    },
    {
     "data": {
      "text/plain": [
       "<AxesSubplot:xlabel='TAX', ylabel='Density'>"
      ]
     },
     "execution_count": 41,
     "metadata": {},
     "output_type": "execute_result"
    },
    {
     "data": {
      "image/png": "[encoded data removed]",
      "text/plain": [
       "<Figure size 432x288 with 1 Axes>"
      ]
     },
     "metadata": {},
     "output_type": "display_data"
    }
   ],
   "source": [
    "sns.distplot(train['TAX'])"
   ]
  },
  {
   "cell_type": "code",
   "execution_count": 42,
   "id": "3283410e",
   "metadata": {},
   "outputs": [],
   "source": [
    "train.rename({\"PTRATIO  \":\"PTRATIO\"}, axis=1,inplace=True)"
   ]
  },
  {
   "cell_type": "code",
   "execution_count": 44,
   "id": "99e23188",
   "metadata": {
    "scrolled": false
   },
   "outputs": [
    {
     "name": "stderr",
     "output_type": "stream",
     "text": [
      "C:\\Users\\shubh\\anaconda3\\lib\\site-packages\\seaborn\\_decorators.py:36: FutureWarning: Pass the following variables as keyword args: x, y, data. From version 0.12, the only valid positional argument will be `data`, and passing other arguments without an explicit keyword will result in an error or misinterpretation.\n",
      "  warnings.warn(\n"
     ]
    },
    {
     "data": {
      "text/plain": [
       "<seaborn.axisgrid.JointGrid at 0x198de1968e0>"
      ]
     },
     "execution_count": 44,
     "metadata": {},
     "output_type": "execute_result"
    },
    {
     "data": {
      "image/png": "[encoded data removed]",
      "text/plain": [
       "<Figure size 432x432 with 3 Axes>"
      ]
     },
     "metadata": {},
     "output_type": "display_data"
    }
   ],
   "source": [
    "sns.jointplot('LSTAT','MEDV',train,kind='reg')"
   ]
  },
  {
   "cell_type": "markdown",
   "id": "409207c8",
   "metadata": {},
   "source": [
    "### the value of house decreased as the LSTAT increases."
   ]
  },
  {
   "cell_type": "code",
   "execution_count": 45,
   "id": "4b7229ea",
   "metadata": {},
   "outputs": [
    {
     "name": "stderr",
     "output_type": "stream",
     "text": [
      "C:\\Users\\shubh\\anaconda3\\lib\\site-packages\\seaborn\\_decorators.py:36: FutureWarning: Pass the following variable as a keyword arg: x. From version 0.12, the only valid positional argument will be `data`, and passing other arguments without an explicit keyword will result in an error or misinterpretation.\n",
      "  warnings.warn(\n"
     ]
    },
    {
     "data": {
      "text/plain": [
       "<AxesSubplot:xlabel='TAX', ylabel='count'>"
      ]
     },
     "execution_count": 45,
     "metadata": {},
     "output_type": "execute_result"
    },
    {
     "data": {
      "image/png": "[encoded data removed]",
      "text/plain": [
       "<Figure size 432x288 with 1 Axes>"
      ]
     },
     "metadata": {},
     "output_type": "display_data"
    }
   ],
   "source": [
    "sns.countplot(train['TAX'])"
   ]
  },
  {
   "cell_type": "markdown",
   "id": "e97fdfc0",
   "metadata": {},
   "source": [
    "### Feature Engineering "
   ]
  },
  {
   "cell_type": "code",
   "execution_count": 46,
   "id": "f9c764c9",
   "metadata": {},
   "outputs": [
    {
     "data": {
      "image/png": "[encoded data removed]",
      "text/plain": [
       "<Figure size 720x504 with 1 Axes>"
      ]
     },
     "metadata": {},
     "output_type": "display_data"
    }
   ],
   "source": [
    "sns.set_context('notebook')\n",
    "fig = py.figure(figsize =(10, 7))\n",
    " \n",
    "# Creating axes instance\n",
    "ax = fig.add_axes([0, 0, 1, 1])\n",
    " \n",
    "# Creating plot\n",
    "bp = ax.boxplot(train)"
   ]
  },
  {
   "cell_type": "markdown",
   "id": "304aa449",
   "metadata": {},
   "source": [
    "### Pre- processing "
   ]
  },
  {
   "cell_type": "code",
   "execution_count": 47,
   "id": "5e1091c6",
   "metadata": {},
   "outputs": [
    {
     "data": {
      "text/plain": [
       "Index(['ID', 'CRIM', 'ZN', 'INDUS', 'RIVER_FLG', 'No2', 'Rooms', 'AGE', 'DIS',\n",
       "       'RAD', 'TAX', 'PTRATIO  ', 'prop_slums', 'LSTAT', 'MEDV',\n",
       "       'nitric oxides concentration', '#rooms/dwelling', 'B'],\n",
       "      dtype='object')"
      ]
     },
     "execution_count": 47,
     "metadata": {},
     "output_type": "execute_result"
    }
   ],
   "source": [
    "df.columns"
   ]
  },
  {
   "cell_type": "code",
   "execution_count": 48,
   "id": "122af0af",
   "metadata": {},
   "outputs": [],
   "source": [
    "df.drop('ID',axis=1,inplace=True)"
   ]
  },
  {
   "cell_type": "code",
   "execution_count": 49,
   "id": "12768c5f",
   "metadata": {},
   "outputs": [
    {
     "data": {
      "text/html": [
       "<div>\n",
       "<style scoped>\n",
       "    .dataframe tbody tr th:only-of-type {\n",
       "        vertical-align: middle;\n",
       "    }\n",
       "\n",
       "    .dataframe tbody tr th {\n",
       "        vertical-align: top;\n",
       "    }\n",
       "\n",
       "    .dataframe thead th {\n",
       "        text-align: right;\n",
       "    }\n",
       "</style>\n",
       "<table border=\"1\" class=\"dataframe\">\n",
       "  <thead>\n",
       "    <tr style=\"text-align: right;\">\n",
       "      <th></th>\n",
       "      <th>CRIM</th>\n",
       "      <th>ZN</th>\n",
       "      <th>INDUS</th>\n",
       "      <th>RIVER_FLG</th>\n",
       "      <th>No2</th>\n",
       "      <th>Rooms</th>\n",
       "      <th>AGE</th>\n",
       "      <th>DIS</th>\n",
       "      <th>RAD</th>\n",
       "      <th>TAX</th>\n",
       "      <th>PTRATIO</th>\n",
       "      <th>prop_slums</th>\n",
       "      <th>LSTAT</th>\n",
       "      <th>MEDV</th>\n",
       "      <th>nitric oxides concentration</th>\n",
       "      <th>#rooms/dwelling</th>\n",
       "      <th>B</th>\n",
       "    </tr>\n",
       "  </thead>\n",
       "  <tbody>\n",
       "    <tr>\n",
       "      <th>0</th>\n",
       "      <td>0.006130</td>\n",
       "      <td>18.0</td>\n",
       "      <td>2.3562</td>\n",
       "      <td>0</td>\n",
       "      <td>0.51648</td>\n",
       "      <td>6.31200</td>\n",
       "      <td>64.548</td>\n",
       "      <td>4.090000</td>\n",
       "      <td>1</td>\n",
       "      <td>296</td>\n",
       "      <td>15.3</td>\n",
       "      <td>404.838</td>\n",
       "      <td>4.8804</td>\n",
       "      <td>24.72</td>\n",
       "      <td>NaN</td>\n",
       "      <td>NaN</td>\n",
       "      <td>NaN</td>\n",
       "    </tr>\n",
       "    <tr>\n",
       "      <th>1</th>\n",
       "      <td>0.027037</td>\n",
       "      <td>0.0</td>\n",
       "      <td>6.8579</td>\n",
       "      <td>0</td>\n",
       "      <td>0.48776</td>\n",
       "      <td>6.74205</td>\n",
       "      <td>81.267</td>\n",
       "      <td>5.165784</td>\n",
       "      <td>2</td>\n",
       "      <td>242</td>\n",
       "      <td>17.8</td>\n",
       "      <td>416.745</td>\n",
       "      <td>9.4142</td>\n",
       "      <td>22.68</td>\n",
       "      <td>NaN</td>\n",
       "      <td>NaN</td>\n",
       "      <td>NaN</td>\n",
       "    </tr>\n",
       "  </tbody>\n",
       "</table>\n",
       "</div>"
      ],
      "text/plain": [
       "       CRIM    ZN   INDUS  RIVER_FLG      No2    Rooms     AGE       DIS  RAD  \\\n",
       "0  0.006130  18.0  2.3562          0  0.51648  6.31200  64.548  4.090000    1   \n",
       "1  0.027037   0.0  6.8579          0  0.48776  6.74205  81.267  5.165784    2   \n",
       "\n",
       "   TAX  PTRATIO    prop_slums   LSTAT   MEDV  nitric oxides concentration  \\\n",
       "0  296       15.3     404.838  4.8804  24.72                          NaN   \n",
       "1  242       17.8     416.745  9.4142  22.68                          NaN   \n",
       "\n",
       "   #rooms/dwelling   B  \n",
       "0              NaN NaN  \n",
       "1              NaN NaN  "
      ]
     },
     "execution_count": 49,
     "metadata": {},
     "output_type": "execute_result"
    }
   ],
   "source": [
    "df.head(2)"
   ]
  },
  {
   "cell_type": "code",
   "execution_count": 50,
   "id": "5ed7dcf5",
   "metadata": {},
   "outputs": [
    {
     "data": {
      "text/plain": [
       "<AxesSubplot:xlabel='CRIM'>"
      ]
     },
     "execution_count": 50,
     "metadata": {},
     "output_type": "execute_result"
    },
    {
     "data": {
      "image/png": "[encoded data removed]",
      "text/plain": [
       "<Figure size 432x288 with 1 Axes>"
      ]
     },
     "metadata": {},
     "output_type": "display_data"
    }
   ],
   "source": [
    "sns.boxplot(x='CRIM',data= df)"
   ]
  },
  {
   "cell_type": "code",
   "execution_count": 51,
   "id": "29c14571",
   "metadata": {},
   "outputs": [
    {
     "data": {
      "text/plain": [
       "count    452.000000\n",
       "mean       1.426488\n",
       "std        2.511543\n",
       "min        0.006130\n",
       "25%        0.071068\n",
       "50%        0.190949\n",
       "75%        1.209426\n",
       "max       10.464867\n",
       "Name: CRIM, dtype: float64"
      ]
     },
     "execution_count": 51,
     "metadata": {},
     "output_type": "execute_result"
    }
   ],
   "source": [
    "df['CRIM'].describe()"
   ]
  },
  {
   "cell_type": "code",
   "execution_count": 52,
   "id": "48964383",
   "metadata": {},
   "outputs": [
    {
     "name": "stderr",
     "output_type": "stream",
     "text": [
      "C:\\Users\\shubh\\anaconda3\\lib\\site-packages\\seaborn\\distributions.py:2619: FutureWarning: `distplot` is a deprecated function and will be removed in a future version. Please adapt your code to use either `displot` (a figure-level function with similar flexibility) or `histplot` (an axes-level function for histograms).\n",
      "  warnings.warn(msg, FutureWarning)\n"
     ]
    },
    {
     "data": {
      "text/plain": [
       "<AxesSubplot:xlabel='CRIM', ylabel='Density'>"
      ]
     },
     "execution_count": 52,
     "metadata": {},
     "output_type": "execute_result"
    },
    {
     "data": {
      "image/png": "[encoded data removed]",
      "text/plain": [
       "<Figure size 432x288 with 1 Axes>"
      ]
     },
     "metadata": {},
     "output_type": "display_data"
    }
   ],
   "source": [
    "sns.distplot(df['CRIM'],kde=True)"
   ]
  },
  {
   "cell_type": "code",
   "execution_count": 53,
   "id": "6cee33bd",
   "metadata": {},
   "outputs": [
    {
     "data": {
      "text/plain": [
       "0.02642823"
      ]
     },
     "execution_count": 53,
     "metadata": {},
     "output_type": "execute_result"
    }
   ],
   "source": [
    "lowerlimit_crim = df['CRIM'].quantile(0.05)\n",
    "lowerlimit_crim\n"
   ]
  },
  {
   "cell_type": "code",
   "execution_count": 54,
   "id": "52fe7f84",
   "metadata": {},
   "outputs": [
    {
     "data": {
      "text/plain": [
       "7.867665724999999"
      ]
     },
     "execution_count": 54,
     "metadata": {},
     "output_type": "execute_result"
    }
   ],
   "source": [
    "upperlimit_crim = df['CRIM'].quantile(0.95)\n",
    "upperlimit_crim"
   ]
  },
  {
   "cell_type": "code",
   "execution_count": 55,
   "id": "e479b97d",
   "metadata": {
    "scrolled": true
   },
   "outputs": [
    {
     "data": {
      "text/plain": [
       "23"
      ]
     },
     "execution_count": 55,
     "metadata": {},
     "output_type": "execute_result"
    }
   ],
   "source": [
    "df[df['CRIM']<lowerlimit_crim]['CRIM'].count()"
   ]
  },
  {
   "cell_type": "code",
   "execution_count": 56,
   "id": "26bd9b20",
   "metadata": {},
   "outputs": [
    {
     "data": {
      "text/plain": [
       "23"
      ]
     },
     "execution_count": 56,
     "metadata": {},
     "output_type": "execute_result"
    }
   ],
   "source": [
    "df[df['CRIM']>upperlimit_crim]['CRIM'].count()"
   ]
  },
  {
   "cell_type": "code",
   "execution_count": 57,
   "id": "a5d72c47",
   "metadata": {},
   "outputs": [
    {
     "data": {
      "text/html": [
       "<div>\n",
       "<style scoped>\n",
       "    .dataframe tbody tr th:only-of-type {\n",
       "        vertical-align: middle;\n",
       "    }\n",
       "\n",
       "    .dataframe tbody tr th {\n",
       "        vertical-align: top;\n",
       "    }\n",
       "\n",
       "    .dataframe thead th {\n",
       "        text-align: right;\n",
       "    }\n",
       "</style>\n",
       "<table border=\"1\" class=\"dataframe\">\n",
       "  <thead>\n",
       "    <tr style=\"text-align: right;\">\n",
       "      <th></th>\n",
       "      <th>CRIM</th>\n",
       "      <th>ZN</th>\n",
       "      <th>INDUS</th>\n",
       "      <th>RIVER_FLG</th>\n",
       "      <th>No2</th>\n",
       "      <th>Rooms</th>\n",
       "      <th>AGE</th>\n",
       "      <th>DIS</th>\n",
       "      <th>RAD</th>\n",
       "      <th>TAX</th>\n",
       "      <th>PTRATIO</th>\n",
       "      <th>prop_slums</th>\n",
       "      <th>LSTAT</th>\n",
       "      <th>MEDV</th>\n",
       "      <th>nitric oxides concentration</th>\n",
       "      <th>#rooms/dwelling</th>\n",
       "      <th>B</th>\n",
       "    </tr>\n",
       "  </thead>\n",
       "  <tbody>\n",
       "    <tr>\n",
       "      <th>0</th>\n",
       "      <td>0.006130</td>\n",
       "      <td>18.0</td>\n",
       "      <td>2.3562</td>\n",
       "      <td>0</td>\n",
       "      <td>0.51648</td>\n",
       "      <td>6.31200</td>\n",
       "      <td>64.548</td>\n",
       "      <td>4.090000</td>\n",
       "      <td>1</td>\n",
       "      <td>296</td>\n",
       "      <td>15.3</td>\n",
       "      <td>404.838</td>\n",
       "      <td>4.8804</td>\n",
       "      <td>24.72</td>\n",
       "      <td>NaN</td>\n",
       "      <td>NaN</td>\n",
       "      <td>NaN</td>\n",
       "    </tr>\n",
       "    <tr>\n",
       "      <th>1</th>\n",
       "      <td>0.027037</td>\n",
       "      <td>0.0</td>\n",
       "      <td>6.8579</td>\n",
       "      <td>0</td>\n",
       "      <td>0.48776</td>\n",
       "      <td>6.74205</td>\n",
       "      <td>81.267</td>\n",
       "      <td>5.165784</td>\n",
       "      <td>2</td>\n",
       "      <td>242</td>\n",
       "      <td>17.8</td>\n",
       "      <td>416.745</td>\n",
       "      <td>9.4142</td>\n",
       "      <td>22.68</td>\n",
       "      <td>NaN</td>\n",
       "      <td>NaN</td>\n",
       "      <td>NaN</td>\n",
       "    </tr>\n",
       "  </tbody>\n",
       "</table>\n",
       "</div>"
      ],
      "text/plain": [
       "       CRIM    ZN   INDUS  RIVER_FLG      No2    Rooms     AGE       DIS  RAD  \\\n",
       "0  0.006130  18.0  2.3562          0  0.51648  6.31200  64.548  4.090000    1   \n",
       "1  0.027037   0.0  6.8579          0  0.48776  6.74205  81.267  5.165784    2   \n",
       "\n",
       "   TAX  PTRATIO    prop_slums   LSTAT   MEDV  nitric oxides concentration  \\\n",
       "0  296       15.3     404.838  4.8804  24.72                          NaN   \n",
       "1  242       17.8     416.745  9.4142  22.68                          NaN   \n",
       "\n",
       "   #rooms/dwelling   B  \n",
       "0              NaN NaN  \n",
       "1              NaN NaN  "
      ]
     },
     "execution_count": 57,
     "metadata": {},
     "output_type": "execute_result"
    }
   ],
   "source": [
    "df.head(2)"
   ]
  },
  {
   "cell_type": "code",
   "execution_count": 58,
   "id": "9030f605",
   "metadata": {},
   "outputs": [
    {
     "data": {
      "text/plain": [
       "count    452.000000\n",
       "mean       1.426488\n",
       "std        2.511543\n",
       "min        0.006130\n",
       "25%        0.071068\n",
       "50%        0.190949\n",
       "75%        1.209426\n",
       "max       10.464867\n",
       "Name: CRIM, dtype: float64"
      ]
     },
     "execution_count": 58,
     "metadata": {},
     "output_type": "execute_result"
    }
   ],
   "source": [
    "df['CRIM'].describe()"
   ]
  },
  {
   "cell_type": "code",
   "execution_count": 59,
   "id": "37e2e374",
   "metadata": {},
   "outputs": [
    {
     "name": "stderr",
     "output_type": "stream",
     "text": [
      "C:\\Users\\shubh\\anaconda3\\lib\\site-packages\\seaborn\\distributions.py:2619: FutureWarning: `distplot` is a deprecated function and will be removed in a future version. Please adapt your code to use either `displot` (a figure-level function with similar flexibility) or `histplot` (an axes-level function for histograms).\n",
      "  warnings.warn(msg, FutureWarning)\n"
     ]
    },
    {
     "data": {
      "text/plain": [
       "<AxesSubplot:xlabel='CRIM', ylabel='Density'>"
      ]
     },
     "execution_count": 59,
     "metadata": {},
     "output_type": "execute_result"
    },
    {
     "data": {
      "image/png": "[encoded data removed]",
      "text/plain": [
       "<Figure size 432x288 with 1 Axes>"
      ]
     },
     "metadata": {},
     "output_type": "display_data"
    }
   ],
   "source": [
    "sns.distplot(df['CRIM'])"
   ]
  },
  {
   "cell_type": "code",
   "execution_count": 60,
   "id": "f180031e",
   "metadata": {},
   "outputs": [
    {
     "name": "stderr",
     "output_type": "stream",
     "text": [
      "C:\\Users\\shubh\\anaconda3\\lib\\site-packages\\seaborn\\_decorators.py:36: FutureWarning: Pass the following variable as a keyword arg: x. From version 0.12, the only valid positional argument will be `data`, and passing other arguments without an explicit keyword will result in an error or misinterpretation.\n",
      "  warnings.warn(\n"
     ]
    },
    {
     "data": {
      "text/plain": [
       "<AxesSubplot:xlabel='CRIM'>"
      ]
     },
     "execution_count": 60,
     "metadata": {},
     "output_type": "execute_result"
    },
    {
     "data": {
      "image/png": "[encoded data removed]",
      "text/plain": [
       "<Figure size 432x288 with 1 Axes>"
      ]
     },
     "metadata": {},
     "output_type": "display_data"
    }
   ],
   "source": [
    "sns.boxplot(np.log(df['CRIM']))"
   ]
  },
  {
   "cell_type": "code",
   "execution_count": 61,
   "id": "2c3be55f",
   "metadata": {},
   "outputs": [],
   "source": [
    "df['CRIM']=np.log(df['CRIM'])"
   ]
  },
  {
   "cell_type": "code",
   "execution_count": 62,
   "id": "946d5ee2",
   "metadata": {},
   "outputs": [
    {
     "data": {
      "text/html": [
       "<div>\n",
       "<style scoped>\n",
       "    .dataframe tbody tr th:only-of-type {\n",
       "        vertical-align: middle;\n",
       "    }\n",
       "\n",
       "    .dataframe tbody tr th {\n",
       "        vertical-align: top;\n",
       "    }\n",
       "\n",
       "    .dataframe thead th {\n",
       "        text-align: right;\n",
       "    }\n",
       "</style>\n",
       "<table border=\"1\" class=\"dataframe\">\n",
       "  <thead>\n",
       "    <tr style=\"text-align: right;\">\n",
       "      <th></th>\n",
       "      <th>CRIM</th>\n",
       "      <th>ZN</th>\n",
       "      <th>INDUS</th>\n",
       "      <th>RIVER_FLG</th>\n",
       "      <th>No2</th>\n",
       "      <th>Rooms</th>\n",
       "      <th>AGE</th>\n",
       "      <th>DIS</th>\n",
       "      <th>RAD</th>\n",
       "      <th>TAX</th>\n",
       "      <th>PTRATIO</th>\n",
       "      <th>prop_slums</th>\n",
       "      <th>LSTAT</th>\n",
       "      <th>MEDV</th>\n",
       "      <th>nitric oxides concentration</th>\n",
       "      <th>#rooms/dwelling</th>\n",
       "      <th>B</th>\n",
       "    </tr>\n",
       "  </thead>\n",
       "  <tbody>\n",
       "    <tr>\n",
       "      <th>0</th>\n",
       "      <td>-5.094495</td>\n",
       "      <td>18.0</td>\n",
       "      <td>2.3562</td>\n",
       "      <td>0</td>\n",
       "      <td>0.51648</td>\n",
       "      <td>6.31200</td>\n",
       "      <td>64.548</td>\n",
       "      <td>4.090000</td>\n",
       "      <td>1</td>\n",
       "      <td>296</td>\n",
       "      <td>15.3</td>\n",
       "      <td>404.838</td>\n",
       "      <td>4.8804</td>\n",
       "      <td>24.72</td>\n",
       "      <td>NaN</td>\n",
       "      <td>NaN</td>\n",
       "      <td>NaN</td>\n",
       "    </tr>\n",
       "    <tr>\n",
       "      <th>1</th>\n",
       "      <td>-3.610553</td>\n",
       "      <td>0.0</td>\n",
       "      <td>6.8579</td>\n",
       "      <td>0</td>\n",
       "      <td>0.48776</td>\n",
       "      <td>6.74205</td>\n",
       "      <td>81.267</td>\n",
       "      <td>5.165784</td>\n",
       "      <td>2</td>\n",
       "      <td>242</td>\n",
       "      <td>17.8</td>\n",
       "      <td>416.745</td>\n",
       "      <td>9.4142</td>\n",
       "      <td>22.68</td>\n",
       "      <td>NaN</td>\n",
       "      <td>NaN</td>\n",
       "      <td>NaN</td>\n",
       "    </tr>\n",
       "  </tbody>\n",
       "</table>\n",
       "</div>"
      ],
      "text/plain": [
       "       CRIM    ZN   INDUS  RIVER_FLG      No2    Rooms     AGE       DIS  RAD  \\\n",
       "0 -5.094495  18.0  2.3562          0  0.51648  6.31200  64.548  4.090000    1   \n",
       "1 -3.610553   0.0  6.8579          0  0.48776  6.74205  81.267  5.165784    2   \n",
       "\n",
       "   TAX  PTRATIO    prop_slums   LSTAT   MEDV  nitric oxides concentration  \\\n",
       "0  296       15.3     404.838  4.8804  24.72                          NaN   \n",
       "1  242       17.8     416.745  9.4142  22.68                          NaN   \n",
       "\n",
       "   #rooms/dwelling   B  \n",
       "0              NaN NaN  \n",
       "1              NaN NaN  "
      ]
     },
     "execution_count": 62,
     "metadata": {},
     "output_type": "execute_result"
    }
   ],
   "source": [
    "df.head(2)"
   ]
  },
  {
   "cell_type": "code",
   "execution_count": 63,
   "id": "d4ef6294",
   "metadata": {},
   "outputs": [
    {
     "name": "stderr",
     "output_type": "stream",
     "text": [
      "C:\\Users\\shubh\\anaconda3\\lib\\site-packages\\seaborn\\_decorators.py:36: FutureWarning: Pass the following variable as a keyword arg: x. From version 0.12, the only valid positional argument will be `data`, and passing other arguments without an explicit keyword will result in an error or misinterpretation.\n",
      "  warnings.warn(\n"
     ]
    },
    {
     "data": {
      "text/plain": [
       "<AxesSubplot:xlabel='ZN'>"
      ]
     },
     "execution_count": 63,
     "metadata": {},
     "output_type": "execute_result"
    },
    {
     "data": {
      "image/png": "[encoded data removed]",
      "text/plain": [
       "<Figure size 432x288 with 1 Axes>"
      ]
     },
     "metadata": {},
     "output_type": "display_data"
    }
   ],
   "source": [
    "sns.boxplot(df['ZN'])"
   ]
  },
  {
   "cell_type": "markdown",
   "id": "7fd6f377",
   "metadata": {},
   "source": [
    "All observation from EDA:\n",
    "1.\tAs the criminal rate increases, the price of the house decreases. if the value of crime rate stays < 1 the price of the house increases with each addition feature.\n",
    "2.\tZN = 0, for most of the cases and moreover the MEDV max is 50\n",
    "3.\tmax number of houses bought didn’t have river pass, as price increase if latter is the case\n",
    "4.\tthe value of NO2 should be below 0.65 to get better price of the house\n",
    "5.\tas the age proportion increases the value of MEDV is less. hence lesser the value of Age more the value of MEDV\n",
    "6.\tthe value of DIS has most of the time has no effect on MEDV\n",
    "7.\tRAD equals to 4 and 5 are preferred\n",
    "8.\tThe value of house decreased as the LSTAT increases\n"
   ]
  },
  {
   "cell_type": "markdown",
   "id": "aa3fb8e6",
   "metadata": {},
   "source": [
    "DATA PRE-PROCESSING AND RANSFORMATION "
   ]
  },
  {
   "cell_type": "markdown",
   "id": "cb3ecdf4",
   "metadata": {},
   "source": []
  },
  {
   "cell_type": "code",
   "execution_count": 64,
   "id": "8443b9eb",
   "metadata": {
    "scrolled": true
   },
   "outputs": [
    {
     "data": {
      "text/plain": [
       "Index(['ID', 'CRIM', 'ZN', 'INDUS', 'RIVER_FLG', 'No2', 'Rooms', 'AGE', 'DIS',\n",
       "       'RAD', 'TAX', 'PTRATIO', 'prop_slums', 'LSTAT', 'MEDV'],\n",
       "      dtype='object')"
      ]
     },
     "execution_count": 64,
     "metadata": {},
     "output_type": "execute_result"
    }
   ],
   "source": [
    "train.columns"
   ]
  },
  {
   "cell_type": "code",
   "execution_count": 65,
   "id": "d12f045d",
   "metadata": {},
   "outputs": [
    {
     "data": {
      "text/plain": [
       "(350, 15)"
      ]
     },
     "execution_count": 65,
     "metadata": {},
     "output_type": "execute_result"
    }
   ],
   "source": [
    "train.shape"
   ]
  },
  {
   "cell_type": "code",
   "execution_count": 66,
   "id": "8820e5ef",
   "metadata": {
    "scrolled": true
   },
   "outputs": [
    {
     "data": {
      "text/plain": [
       "Index(['ID', 'CRIM', 'ZN', 'INDUS', 'RIVER_FLG', 'nitric oxides concentration',\n",
       "       '#rooms/dwelling', 'AGE', 'DIS', 'RAD', 'TAX', 'PTRATIO  ', 'B',\n",
       "       'LSTAT'],\n",
       "      dtype='object')"
      ]
     },
     "execution_count": 66,
     "metadata": {},
     "output_type": "execute_result"
    }
   ],
   "source": [
    "test.columns"
   ]
  },
  {
   "cell_type": "code",
   "execution_count": 67,
   "id": "d0954571",
   "metadata": {},
   "outputs": [
    {
     "data": {
      "text/plain": [
       "(102, 14)"
      ]
     },
     "execution_count": 67,
     "metadata": {},
     "output_type": "execute_result"
    }
   ],
   "source": [
    "test.shape"
   ]
  },
  {
   "cell_type": "code",
   "execution_count": 68,
   "id": "49c9f44d",
   "metadata": {},
   "outputs": [],
   "source": [
    "test.rename({\"nitric oxides concentration\" :\"No2\",\"PTRAION\":\"PTRATIO\",\"#rooms/dwelling\":\"Rooms\",\"B\":\"prop_slums\" },axis=1,inplace=True)"
   ]
  },
  {
   "cell_type": "code",
   "execution_count": 69,
   "id": "bccb025b",
   "metadata": {},
   "outputs": [
    {
     "data": {
      "text/html": [
       "<div>\n",
       "<style scoped>\n",
       "    .dataframe tbody tr th:only-of-type {\n",
       "        vertical-align: middle;\n",
       "    }\n",
       "\n",
       "    .dataframe tbody tr th {\n",
       "        vertical-align: top;\n",
       "    }\n",
       "\n",
       "    .dataframe thead th {\n",
       "        text-align: right;\n",
       "    }\n",
       "</style>\n",
       "<table border=\"1\" class=\"dataframe\">\n",
       "  <thead>\n",
       "    <tr style=\"text-align: right;\">\n",
       "      <th></th>\n",
       "      <th>ID</th>\n",
       "      <th>CRIM</th>\n",
       "      <th>ZN</th>\n",
       "      <th>INDUS</th>\n",
       "      <th>RIVER_FLG</th>\n",
       "      <th>No2</th>\n",
       "      <th>Rooms</th>\n",
       "      <th>AGE</th>\n",
       "      <th>DIS</th>\n",
       "      <th>RAD</th>\n",
       "      <th>TAX</th>\n",
       "      <th>PTRATIO</th>\n",
       "      <th>prop_slums</th>\n",
       "      <th>LSTAT</th>\n",
       "    </tr>\n",
       "  </thead>\n",
       "  <tbody>\n",
       "    <tr>\n",
       "      <th>0</th>\n",
       "      <td>400</td>\n",
       "      <td>9.693915</td>\n",
       "      <td>0</td>\n",
       "      <td>18.8240</td>\n",
       "      <td>0</td>\n",
       "      <td>0.63731</td>\n",
       "      <td>6.02952</td>\n",
       "      <td>100.000</td>\n",
       "      <td>1.204173</td>\n",
       "      <td>24</td>\n",
       "      <td>666</td>\n",
       "      <td>20.2</td>\n",
       "      <td>347.8425</td>\n",
       "      <td>10.0065</td>\n",
       "    </tr>\n",
       "    <tr>\n",
       "      <th>1</th>\n",
       "      <td>401</td>\n",
       "      <td>5.143131</td>\n",
       "      <td>0</td>\n",
       "      <td>18.4620</td>\n",
       "      <td>0</td>\n",
       "      <td>0.63731</td>\n",
       "      <td>4.97000</td>\n",
       "      <td>100.000</td>\n",
       "      <td>1.305850</td>\n",
       "      <td>24</td>\n",
       "      <td>666</td>\n",
       "      <td>20.2</td>\n",
       "      <td>356.7440</td>\n",
       "      <td>3.0970</td>\n",
       "    </tr>\n",
       "    <tr>\n",
       "      <th>2</th>\n",
       "      <td>402</td>\n",
       "      <td>6.407985</td>\n",
       "      <td>0</td>\n",
       "      <td>17.5570</td>\n",
       "      <td>1</td>\n",
       "      <td>0.63100</td>\n",
       "      <td>7.01600</td>\n",
       "      <td>93.600</td>\n",
       "      <td>1.178352</td>\n",
       "      <td>24</td>\n",
       "      <td>666</td>\n",
       "      <td>20.2</td>\n",
       "      <td>380.2885</td>\n",
       "      <td>3.0192</td>\n",
       "    </tr>\n",
       "    <tr>\n",
       "      <th>3</th>\n",
       "      <td>403</td>\n",
       "      <td>8.267250</td>\n",
       "      <td>0</td>\n",
       "      <td>18.4620</td>\n",
       "      <td>1</td>\n",
       "      <td>0.67468</td>\n",
       "      <td>6.16875</td>\n",
       "      <td>93.184</td>\n",
       "      <td>1.107008</td>\n",
       "      <td>24</td>\n",
       "      <td>666</td>\n",
       "      <td>20.2</td>\n",
       "      <td>354.8376</td>\n",
       "      <td>9.3240</td>\n",
       "    </tr>\n",
       "    <tr>\n",
       "      <th>4</th>\n",
       "      <td>404</td>\n",
       "      <td>5.726680</td>\n",
       "      <td>0</td>\n",
       "      <td>17.9190</td>\n",
       "      <td>1</td>\n",
       "      <td>0.66255</td>\n",
       "      <td>6.95032</td>\n",
       "      <td>96.800</td>\n",
       "      <td>1.329566</td>\n",
       "      <td>24</td>\n",
       "      <td>666</td>\n",
       "      <td>20.2</td>\n",
       "      <td>364.0701</td>\n",
       "      <td>3.5808</td>\n",
       "    </tr>\n",
       "    <tr>\n",
       "      <th>...</th>\n",
       "      <td>...</td>\n",
       "      <td>...</td>\n",
       "      <td>...</td>\n",
       "      <td>...</td>\n",
       "      <td>...</td>\n",
       "      <td>...</td>\n",
       "      <td>...</td>\n",
       "      <td>...</td>\n",
       "      <td>...</td>\n",
       "      <td>...</td>\n",
       "      <td>...</td>\n",
       "      <td>...</td>\n",
       "      <td>...</td>\n",
       "      <td>...</td>\n",
       "    </tr>\n",
       "    <tr>\n",
       "      <th>97</th>\n",
       "      <td>497</td>\n",
       "      <td>9.805834</td>\n",
       "      <td>0</td>\n",
       "      <td>18.4620</td>\n",
       "      <td>0</td>\n",
       "      <td>0.69937</td>\n",
       "      <td>6.69900</td>\n",
       "      <td>97.512</td>\n",
       "      <td>2.046928</td>\n",
       "      <td>24</td>\n",
       "      <td>666</td>\n",
       "      <td>20.2</td>\n",
       "      <td>57.6840</td>\n",
       "      <td>24.5616</td>\n",
       "    </tr>\n",
       "    <tr>\n",
       "      <th>98</th>\n",
       "      <td>498</td>\n",
       "      <td>7.288419</td>\n",
       "      <td>0</td>\n",
       "      <td>17.1950</td>\n",
       "      <td>0</td>\n",
       "      <td>0.72765</td>\n",
       "      <td>5.91941</td>\n",
       "      <td>100.878</td>\n",
       "      <td>1.584398</td>\n",
       "      <td>24</td>\n",
       "      <td>666</td>\n",
       "      <td>20.2</td>\n",
       "      <td>404.8930</td>\n",
       "      <td>19.9200</td>\n",
       "    </tr>\n",
       "    <tr>\n",
       "      <th>99</th>\n",
       "      <td>499</td>\n",
       "      <td>0.199162</td>\n",
       "      <td>0</td>\n",
       "      <td>28.8496</td>\n",
       "      <td>0</td>\n",
       "      <td>0.57855</td>\n",
       "      <td>4.99114</td>\n",
       "      <td>93.100</td>\n",
       "      <td>1.786148</td>\n",
       "      <td>4</td>\n",
       "      <td>711</td>\n",
       "      <td>20.1</td>\n",
       "      <td>327.9829</td>\n",
       "      <td>29.9768</td>\n",
       "    </tr>\n",
       "    <tr>\n",
       "      <th>100</th>\n",
       "      <td>500</td>\n",
       "      <td>0.179703</td>\n",
       "      <td>0</td>\n",
       "      <td>28.0174</td>\n",
       "      <td>0</td>\n",
       "      <td>0.63945</td>\n",
       "      <td>5.52228</td>\n",
       "      <td>94.368</td>\n",
       "      <td>1.720292</td>\n",
       "      <td>4</td>\n",
       "      <td>711</td>\n",
       "      <td>20.1</td>\n",
       "      <td>347.4905</td>\n",
       "      <td>25.1685</td>\n",
       "    </tr>\n",
       "    <tr>\n",
       "      <th>101</th>\n",
       "      <td>501</td>\n",
       "      <td>9.718219</td>\n",
       "      <td>0</td>\n",
       "      <td>18.1000</td>\n",
       "      <td>0</td>\n",
       "      <td>0.65835</td>\n",
       "      <td>5.96904</td>\n",
       "      <td>75.466</td>\n",
       "      <td>1.545412</td>\n",
       "      <td>24</td>\n",
       "      <td>666</td>\n",
       "      <td>20.2</td>\n",
       "      <td>351.6864</td>\n",
       "      <td>30.2697</td>\n",
       "    </tr>\n",
       "  </tbody>\n",
       "</table>\n",
       "<p>102 rows × 14 columns</p>\n",
       "</div>"
      ],
      "text/plain": [
       "      ID      CRIM  ZN    INDUS  RIVER_FLG      No2    Rooms      AGE  \\\n",
       "0    400  9.693915   0  18.8240          0  0.63731  6.02952  100.000   \n",
       "1    401  5.143131   0  18.4620          0  0.63731  4.97000  100.000   \n",
       "2    402  6.407985   0  17.5570          1  0.63100  7.01600   93.600   \n",
       "3    403  8.267250   0  18.4620          1  0.67468  6.16875   93.184   \n",
       "4    404  5.726680   0  17.9190          1  0.66255  6.95032   96.800   \n",
       "..   ...       ...  ..      ...        ...      ...      ...      ...   \n",
       "97   497  9.805834   0  18.4620          0  0.69937  6.69900   97.512   \n",
       "98   498  7.288419   0  17.1950          0  0.72765  5.91941  100.878   \n",
       "99   499  0.199162   0  28.8496          0  0.57855  4.99114   93.100   \n",
       "100  500  0.179703   0  28.0174          0  0.63945  5.52228   94.368   \n",
       "101  501  9.718219   0  18.1000          0  0.65835  5.96904   75.466   \n",
       "\n",
       "          DIS  RAD  TAX  PTRATIO    prop_slums    LSTAT  \n",
       "0    1.204173   24  666       20.2    347.8425  10.0065  \n",
       "1    1.305850   24  666       20.2    356.7440   3.0970  \n",
       "2    1.178352   24  666       20.2    380.2885   3.0192  \n",
       "3    1.107008   24  666       20.2    354.8376   9.3240  \n",
       "4    1.329566   24  666       20.2    364.0701   3.5808  \n",
       "..        ...  ...  ...        ...         ...      ...  \n",
       "97   2.046928   24  666       20.2     57.6840  24.5616  \n",
       "98   1.584398   24  666       20.2    404.8930  19.9200  \n",
       "99   1.786148    4  711       20.1    327.9829  29.9768  \n",
       "100  1.720292    4  711       20.1    347.4905  25.1685  \n",
       "101  1.545412   24  666       20.2    351.6864  30.2697  \n",
       "\n",
       "[102 rows x 14 columns]"
      ]
     },
     "execution_count": 69,
     "metadata": {},
     "output_type": "execute_result"
    }
   ],
   "source": [
    "test"
   ]
  },
  {
   "cell_type": "code",
   "execution_count": 70,
   "id": "70fb553f",
   "metadata": {},
   "outputs": [
    {
     "name": "stderr",
     "output_type": "stream",
     "text": [
      "C:\\Users\\shubh\\AppData\\Local\\Temp\\ipykernel_24152\\1345815606.py:1: FutureWarning: The frame.append method is deprecated and will be removed from pandas in a future version. Use pandas.concat instead.\n",
      "  df= train.append(test)\n"
     ]
    }
   ],
   "source": [
    "df= train.append(test)"
   ]
  },
  {
   "cell_type": "code",
   "execution_count": 71,
   "id": "1aabf9fa",
   "metadata": {},
   "outputs": [
    {
     "data": {
      "text/html": [
       "<div>\n",
       "<style scoped>\n",
       "    .dataframe tbody tr th:only-of-type {\n",
       "        vertical-align: middle;\n",
       "    }\n",
       "\n",
       "    .dataframe tbody tr th {\n",
       "        vertical-align: top;\n",
       "    }\n",
       "\n",
       "    .dataframe thead th {\n",
       "        text-align: right;\n",
       "    }\n",
       "</style>\n",
       "<table border=\"1\" class=\"dataframe\">\n",
       "  <thead>\n",
       "    <tr style=\"text-align: right;\">\n",
       "      <th></th>\n",
       "      <th>ID</th>\n",
       "      <th>CRIM</th>\n",
       "      <th>ZN</th>\n",
       "      <th>INDUS</th>\n",
       "      <th>RIVER_FLG</th>\n",
       "      <th>No2</th>\n",
       "      <th>Rooms</th>\n",
       "      <th>AGE</th>\n",
       "      <th>DIS</th>\n",
       "      <th>RAD</th>\n",
       "      <th>TAX</th>\n",
       "      <th>PTRATIO</th>\n",
       "      <th>prop_slums</th>\n",
       "      <th>LSTAT</th>\n",
       "      <th>MEDV</th>\n",
       "      <th>PTRATIO</th>\n",
       "    </tr>\n",
       "  </thead>\n",
       "  <tbody>\n",
       "    <tr>\n",
       "      <th>0</th>\n",
       "      <td>1</td>\n",
       "      <td>0.006130</td>\n",
       "      <td>18.0</td>\n",
       "      <td>2.3562</td>\n",
       "      <td>0</td>\n",
       "      <td>0.51648</td>\n",
       "      <td>6.31200</td>\n",
       "      <td>64.548</td>\n",
       "      <td>4.090000</td>\n",
       "      <td>1</td>\n",
       "      <td>296</td>\n",
       "      <td>15.3</td>\n",
       "      <td>404.8380</td>\n",
       "      <td>4.8804</td>\n",
       "      <td>24.720</td>\n",
       "      <td>NaN</td>\n",
       "    </tr>\n",
       "    <tr>\n",
       "      <th>1</th>\n",
       "      <td>2</td>\n",
       "      <td>0.027037</td>\n",
       "      <td>0.0</td>\n",
       "      <td>6.8579</td>\n",
       "      <td>0</td>\n",
       "      <td>0.48776</td>\n",
       "      <td>6.74205</td>\n",
       "      <td>81.267</td>\n",
       "      <td>5.165784</td>\n",
       "      <td>2</td>\n",
       "      <td>242</td>\n",
       "      <td>17.8</td>\n",
       "      <td>416.7450</td>\n",
       "      <td>9.4142</td>\n",
       "      <td>22.680</td>\n",
       "      <td>NaN</td>\n",
       "    </tr>\n",
       "    <tr>\n",
       "      <th>2</th>\n",
       "      <td>3</td>\n",
       "      <td>0.028109</td>\n",
       "      <td>0.0</td>\n",
       "      <td>6.9286</td>\n",
       "      <td>0</td>\n",
       "      <td>0.45962</td>\n",
       "      <td>7.40055</td>\n",
       "      <td>61.711</td>\n",
       "      <td>4.967100</td>\n",
       "      <td>2</td>\n",
       "      <td>242</td>\n",
       "      <td>17.8</td>\n",
       "      <td>396.7583</td>\n",
       "      <td>4.0703</td>\n",
       "      <td>36.435</td>\n",
       "      <td>NaN</td>\n",
       "    </tr>\n",
       "    <tr>\n",
       "      <th>3</th>\n",
       "      <td>4</td>\n",
       "      <td>0.033341</td>\n",
       "      <td>0.0</td>\n",
       "      <td>2.2454</td>\n",
       "      <td>0</td>\n",
       "      <td>0.44426</td>\n",
       "      <td>7.34790</td>\n",
       "      <td>45.342</td>\n",
       "      <td>6.001578</td>\n",
       "      <td>3</td>\n",
       "      <td>222</td>\n",
       "      <td>18.7</td>\n",
       "      <td>406.4689</td>\n",
       "      <td>2.9400</td>\n",
       "      <td>34.736</td>\n",
       "      <td>NaN</td>\n",
       "    </tr>\n",
       "    <tr>\n",
       "      <th>4</th>\n",
       "      <td>5</td>\n",
       "      <td>0.072502</td>\n",
       "      <td>0.0</td>\n",
       "      <td>2.1800</td>\n",
       "      <td>0</td>\n",
       "      <td>0.47632</td>\n",
       "      <td>7.14700</td>\n",
       "      <td>53.658</td>\n",
       "      <td>5.819712</td>\n",
       "      <td>3</td>\n",
       "      <td>222</td>\n",
       "      <td>18.7</td>\n",
       "      <td>388.9620</td>\n",
       "      <td>5.3833</td>\n",
       "      <td>38.010</td>\n",
       "      <td>NaN</td>\n",
       "    </tr>\n",
       "    <tr>\n",
       "      <th>...</th>\n",
       "      <td>...</td>\n",
       "      <td>...</td>\n",
       "      <td>...</td>\n",
       "      <td>...</td>\n",
       "      <td>...</td>\n",
       "      <td>...</td>\n",
       "      <td>...</td>\n",
       "      <td>...</td>\n",
       "      <td>...</td>\n",
       "      <td>...</td>\n",
       "      <td>...</td>\n",
       "      <td>...</td>\n",
       "      <td>...</td>\n",
       "      <td>...</td>\n",
       "      <td>...</td>\n",
       "      <td>...</td>\n",
       "    </tr>\n",
       "    <tr>\n",
       "      <th>97</th>\n",
       "      <td>497</td>\n",
       "      <td>9.805834</td>\n",
       "      <td>0.0</td>\n",
       "      <td>18.4620</td>\n",
       "      <td>0</td>\n",
       "      <td>0.69937</td>\n",
       "      <td>6.69900</td>\n",
       "      <td>97.512</td>\n",
       "      <td>2.046928</td>\n",
       "      <td>24</td>\n",
       "      <td>666</td>\n",
       "      <td>NaN</td>\n",
       "      <td>57.6840</td>\n",
       "      <td>24.5616</td>\n",
       "      <td>NaN</td>\n",
       "      <td>20.2</td>\n",
       "    </tr>\n",
       "    <tr>\n",
       "      <th>98</th>\n",
       "      <td>498</td>\n",
       "      <td>7.288419</td>\n",
       "      <td>0.0</td>\n",
       "      <td>17.1950</td>\n",
       "      <td>0</td>\n",
       "      <td>0.72765</td>\n",
       "      <td>5.91941</td>\n",
       "      <td>100.878</td>\n",
       "      <td>1.584398</td>\n",
       "      <td>24</td>\n",
       "      <td>666</td>\n",
       "      <td>NaN</td>\n",
       "      <td>404.8930</td>\n",
       "      <td>19.9200</td>\n",
       "      <td>NaN</td>\n",
       "      <td>20.2</td>\n",
       "    </tr>\n",
       "    <tr>\n",
       "      <th>99</th>\n",
       "      <td>499</td>\n",
       "      <td>0.199162</td>\n",
       "      <td>0.0</td>\n",
       "      <td>28.8496</td>\n",
       "      <td>0</td>\n",
       "      <td>0.57855</td>\n",
       "      <td>4.99114</td>\n",
       "      <td>93.100</td>\n",
       "      <td>1.786148</td>\n",
       "      <td>4</td>\n",
       "      <td>711</td>\n",
       "      <td>NaN</td>\n",
       "      <td>327.9829</td>\n",
       "      <td>29.9768</td>\n",
       "      <td>NaN</td>\n",
       "      <td>20.1</td>\n",
       "    </tr>\n",
       "    <tr>\n",
       "      <th>100</th>\n",
       "      <td>500</td>\n",
       "      <td>0.179703</td>\n",
       "      <td>0.0</td>\n",
       "      <td>28.0174</td>\n",
       "      <td>0</td>\n",
       "      <td>0.63945</td>\n",
       "      <td>5.52228</td>\n",
       "      <td>94.368</td>\n",
       "      <td>1.720292</td>\n",
       "      <td>4</td>\n",
       "      <td>711</td>\n",
       "      <td>NaN</td>\n",
       "      <td>347.4905</td>\n",
       "      <td>25.1685</td>\n",
       "      <td>NaN</td>\n",
       "      <td>20.1</td>\n",
       "    </tr>\n",
       "    <tr>\n",
       "      <th>101</th>\n",
       "      <td>501</td>\n",
       "      <td>9.718219</td>\n",
       "      <td>0.0</td>\n",
       "      <td>18.1000</td>\n",
       "      <td>0</td>\n",
       "      <td>0.65835</td>\n",
       "      <td>5.96904</td>\n",
       "      <td>75.466</td>\n",
       "      <td>1.545412</td>\n",
       "      <td>24</td>\n",
       "      <td>666</td>\n",
       "      <td>NaN</td>\n",
       "      <td>351.6864</td>\n",
       "      <td>30.2697</td>\n",
       "      <td>NaN</td>\n",
       "      <td>20.2</td>\n",
       "    </tr>\n",
       "  </tbody>\n",
       "</table>\n",
       "<p>452 rows × 16 columns</p>\n",
       "</div>"
      ],
      "text/plain": [
       "      ID      CRIM    ZN    INDUS  RIVER_FLG      No2    Rooms      AGE  \\\n",
       "0      1  0.006130  18.0   2.3562          0  0.51648  6.31200   64.548   \n",
       "1      2  0.027037   0.0   6.8579          0  0.48776  6.74205   81.267   \n",
       "2      3  0.028109   0.0   6.9286          0  0.45962  7.40055   61.711   \n",
       "3      4  0.033341   0.0   2.2454          0  0.44426  7.34790   45.342   \n",
       "4      5  0.072502   0.0   2.1800          0  0.47632  7.14700   53.658   \n",
       "..   ...       ...   ...      ...        ...      ...      ...      ...   \n",
       "97   497  9.805834   0.0  18.4620          0  0.69937  6.69900   97.512   \n",
       "98   498  7.288419   0.0  17.1950          0  0.72765  5.91941  100.878   \n",
       "99   499  0.199162   0.0  28.8496          0  0.57855  4.99114   93.100   \n",
       "100  500  0.179703   0.0  28.0174          0  0.63945  5.52228   94.368   \n",
       "101  501  9.718219   0.0  18.1000          0  0.65835  5.96904   75.466   \n",
       "\n",
       "          DIS  RAD  TAX  PTRATIO  prop_slums    LSTAT    MEDV  PTRATIO    \n",
       "0    4.090000    1  296     15.3    404.8380   4.8804  24.720        NaN  \n",
       "1    5.165784    2  242     17.8    416.7450   9.4142  22.680        NaN  \n",
       "2    4.967100    2  242     17.8    396.7583   4.0703  36.435        NaN  \n",
       "3    6.001578    3  222     18.7    406.4689   2.9400  34.736        NaN  \n",
       "4    5.819712    3  222     18.7    388.9620   5.3833  38.010        NaN  \n",
       "..        ...  ...  ...      ...         ...      ...     ...        ...  \n",
       "97   2.046928   24  666      NaN     57.6840  24.5616     NaN       20.2  \n",
       "98   1.584398   24  666      NaN    404.8930  19.9200     NaN       20.2  \n",
       "99   1.786148    4  711      NaN    327.9829  29.9768     NaN       20.1  \n",
       "100  1.720292    4  711      NaN    347.4905  25.1685     NaN       20.1  \n",
       "101  1.545412   24  666      NaN    351.6864  30.2697     NaN       20.2  \n",
       "\n",
       "[452 rows x 16 columns]"
      ]
     },
     "execution_count": 71,
     "metadata": {},
     "output_type": "execute_result"
    }
   ],
   "source": [
    "df"
   ]
  },
  {
   "cell_type": "code",
   "execution_count": 72,
   "id": "d9a54d4f",
   "metadata": {},
   "outputs": [],
   "source": [
    "df.drop('ID',axis=1,inplace=True)"
   ]
  },
  {
   "cell_type": "code",
   "execution_count": 73,
   "id": "8c2c3fd1",
   "metadata": {},
   "outputs": [
    {
     "data": {
      "text/html": [
       "<div>\n",
       "<style scoped>\n",
       "    .dataframe tbody tr th:only-of-type {\n",
       "        vertical-align: middle;\n",
       "    }\n",
       "\n",
       "    .dataframe tbody tr th {\n",
       "        vertical-align: top;\n",
       "    }\n",
       "\n",
       "    .dataframe thead th {\n",
       "        text-align: right;\n",
       "    }\n",
       "</style>\n",
       "<table border=\"1\" class=\"dataframe\">\n",
       "  <thead>\n",
       "    <tr style=\"text-align: right;\">\n",
       "      <th></th>\n",
       "      <th>CRIM</th>\n",
       "      <th>ZN</th>\n",
       "      <th>INDUS</th>\n",
       "      <th>RIVER_FLG</th>\n",
       "      <th>No2</th>\n",
       "      <th>Rooms</th>\n",
       "      <th>AGE</th>\n",
       "      <th>DIS</th>\n",
       "      <th>RAD</th>\n",
       "      <th>TAX</th>\n",
       "      <th>PTRATIO</th>\n",
       "      <th>prop_slums</th>\n",
       "      <th>LSTAT</th>\n",
       "      <th>MEDV</th>\n",
       "      <th>PTRATIO</th>\n",
       "    </tr>\n",
       "  </thead>\n",
       "  <tbody>\n",
       "    <tr>\n",
       "      <th>0</th>\n",
       "      <td>0.006130</td>\n",
       "      <td>18.0</td>\n",
       "      <td>2.3562</td>\n",
       "      <td>0</td>\n",
       "      <td>0.51648</td>\n",
       "      <td>6.31200</td>\n",
       "      <td>64.548</td>\n",
       "      <td>4.090000</td>\n",
       "      <td>1</td>\n",
       "      <td>296</td>\n",
       "      <td>15.3</td>\n",
       "      <td>404.838</td>\n",
       "      <td>4.8804</td>\n",
       "      <td>24.72</td>\n",
       "      <td>NaN</td>\n",
       "    </tr>\n",
       "    <tr>\n",
       "      <th>1</th>\n",
       "      <td>0.027037</td>\n",
       "      <td>0.0</td>\n",
       "      <td>6.8579</td>\n",
       "      <td>0</td>\n",
       "      <td>0.48776</td>\n",
       "      <td>6.74205</td>\n",
       "      <td>81.267</td>\n",
       "      <td>5.165784</td>\n",
       "      <td>2</td>\n",
       "      <td>242</td>\n",
       "      <td>17.8</td>\n",
       "      <td>416.745</td>\n",
       "      <td>9.4142</td>\n",
       "      <td>22.68</td>\n",
       "      <td>NaN</td>\n",
       "    </tr>\n",
       "  </tbody>\n",
       "</table>\n",
       "</div>"
      ],
      "text/plain": [
       "       CRIM    ZN   INDUS  RIVER_FLG      No2    Rooms     AGE       DIS  RAD  \\\n",
       "0  0.006130  18.0  2.3562          0  0.51648  6.31200  64.548  4.090000    1   \n",
       "1  0.027037   0.0  6.8579          0  0.48776  6.74205  81.267  5.165784    2   \n",
       "\n",
       "   TAX  PTRATIO  prop_slums   LSTAT   MEDV  PTRATIO    \n",
       "0  296     15.3     404.838  4.8804  24.72        NaN  \n",
       "1  242     17.8     416.745  9.4142  22.68        NaN  "
      ]
     },
     "execution_count": 73,
     "metadata": {},
     "output_type": "execute_result"
    }
   ],
   "source": [
    "df.head(2)"
   ]
  },
  {
   "cell_type": "code",
   "execution_count": 74,
   "id": "ca69ed54",
   "metadata": {},
   "outputs": [],
   "source": [
    "import plotly.express as px\n",
    "px.box(np.log(df['CRIM']))\n",
    "df['CRIM']=np.log(df['CRIM'])"
   ]
  },
  {
   "cell_type": "code",
   "execution_count": 75,
   "id": "4a4b8d0c",
   "metadata": {},
   "outputs": [
    {
     "data": {
      "text/html": [
       "<div>\n",
       "<style scoped>\n",
       "    .dataframe tbody tr th:only-of-type {\n",
       "        vertical-align: middle;\n",
       "    }\n",
       "\n",
       "    .dataframe tbody tr th {\n",
       "        vertical-align: top;\n",
       "    }\n",
       "\n",
       "    .dataframe thead th {\n",
       "        text-align: right;\n",
       "    }\n",
       "</style>\n",
       "<table border=\"1\" class=\"dataframe\">\n",
       "  <thead>\n",
       "    <tr style=\"text-align: right;\">\n",
       "      <th></th>\n",
       "      <th>CRIM</th>\n",
       "      <th>ZN</th>\n",
       "      <th>INDUS</th>\n",
       "      <th>RIVER_FLG</th>\n",
       "      <th>No2</th>\n",
       "      <th>Rooms</th>\n",
       "      <th>AGE</th>\n",
       "      <th>DIS</th>\n",
       "      <th>RAD</th>\n",
       "      <th>TAX</th>\n",
       "      <th>PTRATIO</th>\n",
       "      <th>prop_slums</th>\n",
       "      <th>LSTAT</th>\n",
       "      <th>MEDV</th>\n",
       "      <th>PTRATIO</th>\n",
       "    </tr>\n",
       "  </thead>\n",
       "  <tbody>\n",
       "    <tr>\n",
       "      <th>0</th>\n",
       "      <td>-5.094495</td>\n",
       "      <td>18.0</td>\n",
       "      <td>2.3562</td>\n",
       "      <td>0</td>\n",
       "      <td>0.51648</td>\n",
       "      <td>6.31200</td>\n",
       "      <td>64.548</td>\n",
       "      <td>4.090000</td>\n",
       "      <td>1</td>\n",
       "      <td>296</td>\n",
       "      <td>15.3</td>\n",
       "      <td>404.838</td>\n",
       "      <td>4.8804</td>\n",
       "      <td>24.72</td>\n",
       "      <td>NaN</td>\n",
       "    </tr>\n",
       "    <tr>\n",
       "      <th>1</th>\n",
       "      <td>-3.610553</td>\n",
       "      <td>0.0</td>\n",
       "      <td>6.8579</td>\n",
       "      <td>0</td>\n",
       "      <td>0.48776</td>\n",
       "      <td>6.74205</td>\n",
       "      <td>81.267</td>\n",
       "      <td>5.165784</td>\n",
       "      <td>2</td>\n",
       "      <td>242</td>\n",
       "      <td>17.8</td>\n",
       "      <td>416.745</td>\n",
       "      <td>9.4142</td>\n",
       "      <td>22.68</td>\n",
       "      <td>NaN</td>\n",
       "    </tr>\n",
       "  </tbody>\n",
       "</table>\n",
       "</div>"
      ],
      "text/plain": [
       "       CRIM    ZN   INDUS  RIVER_FLG      No2    Rooms     AGE       DIS  RAD  \\\n",
       "0 -5.094495  18.0  2.3562          0  0.51648  6.31200  64.548  4.090000    1   \n",
       "1 -3.610553   0.0  6.8579          0  0.48776  6.74205  81.267  5.165784    2   \n",
       "\n",
       "   TAX  PTRATIO  prop_slums   LSTAT   MEDV  PTRATIO    \n",
       "0  296     15.3     404.838  4.8804  24.72        NaN  \n",
       "1  242     17.8     416.745  9.4142  22.68        NaN  "
      ]
     },
     "execution_count": 75,
     "metadata": {},
     "output_type": "execute_result"
    }
   ],
   "source": [
    "df.head(2)\n"
   ]
  },
  {
   "cell_type": "code",
   "execution_count": 76,
   "id": "deb99a64",
   "metadata": {},
   "outputs": [],
   "source": [
    "#Let’s treat the median_income column as the output (Y).\n",
    "y= train.MEDV"
   ]
  },
  {
   "cell_type": "code",
   "execution_count": 77,
   "id": "e2b9594c",
   "metadata": {},
   "outputs": [
    {
     "data": {
      "text/plain": [
       "(350,)"
      ]
     },
     "execution_count": 77,
     "metadata": {},
     "output_type": "execute_result"
    }
   ],
   "source": [
    "y.shape"
   ]
  },
  {
   "cell_type": "code",
   "execution_count": 78,
   "id": "389c60f4",
   "metadata": {},
   "outputs": [],
   "source": [
    "#Simultaneously we will have to drop the column from dataset to form the input vector.\n",
    "\n",
    "x=train.drop(['ID','MEDV'],axis=1)"
   ]
  },
  {
   "cell_type": "code",
   "execution_count": 79,
   "id": "ef867e2c",
   "metadata": {
    "scrolled": true
   },
   "outputs": [
    {
     "data": {
      "text/html": [
       "<div>\n",
       "<style scoped>\n",
       "    .dataframe tbody tr th:only-of-type {\n",
       "        vertical-align: middle;\n",
       "    }\n",
       "\n",
       "    .dataframe tbody tr th {\n",
       "        vertical-align: top;\n",
       "    }\n",
       "\n",
       "    .dataframe thead th {\n",
       "        text-align: right;\n",
       "    }\n",
       "</style>\n",
       "<table border=\"1\" class=\"dataframe\">\n",
       "  <thead>\n",
       "    <tr style=\"text-align: right;\">\n",
       "      <th></th>\n",
       "      <th>CRIM</th>\n",
       "      <th>ZN</th>\n",
       "      <th>INDUS</th>\n",
       "      <th>RIVER_FLG</th>\n",
       "      <th>No2</th>\n",
       "      <th>Rooms</th>\n",
       "      <th>AGE</th>\n",
       "      <th>DIS</th>\n",
       "      <th>RAD</th>\n",
       "      <th>TAX</th>\n",
       "      <th>PTRATIO</th>\n",
       "      <th>prop_slums</th>\n",
       "      <th>LSTAT</th>\n",
       "    </tr>\n",
       "  </thead>\n",
       "  <tbody>\n",
       "    <tr>\n",
       "      <th>0</th>\n",
       "      <td>0.006130</td>\n",
       "      <td>18.0</td>\n",
       "      <td>2.3562</td>\n",
       "      <td>0</td>\n",
       "      <td>0.51648</td>\n",
       "      <td>6.31200</td>\n",
       "      <td>64.548</td>\n",
       "      <td>4.090000</td>\n",
       "      <td>1</td>\n",
       "      <td>296</td>\n",
       "      <td>15.3</td>\n",
       "      <td>404.8380</td>\n",
       "      <td>4.8804</td>\n",
       "    </tr>\n",
       "    <tr>\n",
       "      <th>1</th>\n",
       "      <td>0.027037</td>\n",
       "      <td>0.0</td>\n",
       "      <td>6.8579</td>\n",
       "      <td>0</td>\n",
       "      <td>0.48776</td>\n",
       "      <td>6.74205</td>\n",
       "      <td>81.267</td>\n",
       "      <td>5.165784</td>\n",
       "      <td>2</td>\n",
       "      <td>242</td>\n",
       "      <td>17.8</td>\n",
       "      <td>416.7450</td>\n",
       "      <td>9.4142</td>\n",
       "    </tr>\n",
       "    <tr>\n",
       "      <th>2</th>\n",
       "      <td>0.028109</td>\n",
       "      <td>0.0</td>\n",
       "      <td>6.9286</td>\n",
       "      <td>0</td>\n",
       "      <td>0.45962</td>\n",
       "      <td>7.40055</td>\n",
       "      <td>61.711</td>\n",
       "      <td>4.967100</td>\n",
       "      <td>2</td>\n",
       "      <td>242</td>\n",
       "      <td>17.8</td>\n",
       "      <td>396.7583</td>\n",
       "      <td>4.0703</td>\n",
       "    </tr>\n",
       "    <tr>\n",
       "      <th>3</th>\n",
       "      <td>0.033341</td>\n",
       "      <td>0.0</td>\n",
       "      <td>2.2454</td>\n",
       "      <td>0</td>\n",
       "      <td>0.44426</td>\n",
       "      <td>7.34790</td>\n",
       "      <td>45.342</td>\n",
       "      <td>6.001578</td>\n",
       "      <td>3</td>\n",
       "      <td>222</td>\n",
       "      <td>18.7</td>\n",
       "      <td>406.4689</td>\n",
       "      <td>2.9400</td>\n",
       "    </tr>\n",
       "    <tr>\n",
       "      <th>4</th>\n",
       "      <td>0.072502</td>\n",
       "      <td>0.0</td>\n",
       "      <td>2.1800</td>\n",
       "      <td>0</td>\n",
       "      <td>0.47632</td>\n",
       "      <td>7.14700</td>\n",
       "      <td>53.658</td>\n",
       "      <td>5.819712</td>\n",
       "      <td>3</td>\n",
       "      <td>222</td>\n",
       "      <td>18.7</td>\n",
       "      <td>388.9620</td>\n",
       "      <td>5.3833</td>\n",
       "    </tr>\n",
       "  </tbody>\n",
       "</table>\n",
       "</div>"
      ],
      "text/plain": [
       "       CRIM    ZN   INDUS  RIVER_FLG      No2    Rooms     AGE       DIS  RAD  \\\n",
       "0  0.006130  18.0  2.3562          0  0.51648  6.31200  64.548  4.090000    1   \n",
       "1  0.027037   0.0  6.8579          0  0.48776  6.74205  81.267  5.165784    2   \n",
       "2  0.028109   0.0  6.9286          0  0.45962  7.40055  61.711  4.967100    2   \n",
       "3  0.033341   0.0  2.2454          0  0.44426  7.34790  45.342  6.001578    3   \n",
       "4  0.072502   0.0  2.1800          0  0.47632  7.14700  53.658  5.819712    3   \n",
       "\n",
       "   TAX  PTRATIO  prop_slums   LSTAT  \n",
       "0  296     15.3    404.8380  4.8804  \n",
       "1  242     17.8    416.7450  9.4142  \n",
       "2  242     17.8    396.7583  4.0703  \n",
       "3  222     18.7    406.4689  2.9400  \n",
       "4  222     18.7    388.9620  5.3833  "
      ]
     },
     "execution_count": 79,
     "metadata": {},
     "output_type": "execute_result"
    }
   ],
   "source": [
    "x.head()"
   ]
  },
  {
   "cell_type": "markdown",
   "id": "291a2b86",
   "metadata": {},
   "source": [
    "## Modelling using SKlearn"
   ]
  },
  {
   "cell_type": "code",
   "execution_count": 80,
   "id": "da15cc14",
   "metadata": {},
   "outputs": [],
   "source": [
    "#splitting the data into two parts\n",
    "from sklearn.model_selection import train_test_split\n",
    "\n",
    "x_train, x_test, y_train, y_test = train_test_split(x, y, \n",
    "                                                    train_size=0.67,random_state=42)\n"
   ]
  },
  {
   "cell_type": "code",
   "execution_count": 81,
   "id": "b5258d5e",
   "metadata": {},
   "outputs": [
    {
     "name": "stdout",
     "output_type": "stream",
     "text": [
      "shape of original dataset : (350, 15)\n",
      "shape of input - training set (234, 13)\n",
      "shape of input - testing set (116, 13)\n",
      "shape of output - training set (234,)\n",
      "shape of output - testing set (116,)\n"
     ]
    }
   ],
   "source": [
    "print(\"shape of original dataset :\", train.shape)\n",
    "print(\"shape of input - training set\", x_train.shape)\n",
    "print(\"shape of input - testing set\", x_test.shape)\n",
    "print(\"shape of output - training set\", y_train.shape)\n",
    "print(\"shape of output - testing set\", y_test.shape)"
   ]
  },
  {
   "cell_type": "code",
   "execution_count": 82,
   "id": "358c6711",
   "metadata": {},
   "outputs": [],
   "source": [
    "# Fitting Multi Linear regression model to training model\n",
    "from sklearn.linear_model import LinearRegression\n",
    "regressor = LinearRegression()\n",
    "regressor.fit(x_train, y_train)\n",
    "  \n",
    "# predicting the test set results\n",
    "y_pred = regressor.predict(x_test)\n"
   ]
  },
  {
   "cell_type": "code",
   "execution_count": 158,
   "id": "50a9c0cd",
   "metadata": {},
   "outputs": [
    {
     "data": {
      "text/plain": [
       "array([ 1.61823535e+00,  1.44389382e-02,  1.06575811e-01,  2.19202788e-01,\n",
       "       -1.97680677e+01,  7.98662202e+00, -4.25033682e-02, -1.16696534e+00,\n",
       "        2.38896379e-01, -1.03466991e-02, -6.70937592e-01,  1.59668695e-02,\n",
       "       -1.59887097e-01])"
      ]
     },
     "execution_count": 158,
     "metadata": {},
     "output_type": "execute_result"
    }
   ],
   "source": [
    "regressor.coef_"
   ]
  },
  {
   "cell_type": "code",
   "execution_count": 83,
   "id": "9fad384e",
   "metadata": {
    "scrolled": true
   },
   "outputs": [
    {
     "data": {
      "image/png": "[encoded data removed]",
      "text/plain": [
       "<Figure size 432x288 with 1 Axes>"
      ]
     },
     "metadata": {},
     "output_type": "display_data"
    }
   ],
   "source": [
    "# Plotting Scatter graph to show the prediction\n",
    "# results - 'ytrue' value vs 'y_pred' value\n",
    "py.scatter(y_test, y_pred, c = 'blue')\n",
    "py.xlabel(\"MEDV: in $1M's\")\n",
    "py.ylabel(\"Predicted value\")\n",
    "py.title(\"True value vs predicted value : Linear Regression\")\n",
    "py.show()"
   ]
  },
  {
   "cell_type": "code",
   "execution_count": 84,
   "id": "86bbb03f",
   "metadata": {
    "scrolled": true
   },
   "outputs": [
    {
     "name": "stdout",
     "output_type": "stream",
     "text": [
      "Mean Square Error :  14.4356527232376\n"
     ]
    }
   ],
   "source": [
    "# Results of Linear Regression.\n",
    "from sklearn.metrics import mean_squared_error\n",
    "mse = mean_squared_error(y_test, y_pred)\n",
    "print(\"Mean Square Error : \", mse)"
   ]
  },
  {
   "cell_type": "code",
   "execution_count": 91,
   "id": "fc5df221",
   "metadata": {
    "scrolled": true
   },
   "outputs": [
    {
     "data": {
      "text/plain": [
       "Index(['ID', 'CRIM', 'ZN', 'INDUS', 'RIVER_FLG', 'No2', 'Rooms', 'AGE', 'DIS',\n",
       "       'RAD', 'TAX', 'PTRATIO', 'prop_slums', 'LSTAT', 'MEDV'],\n",
       "      dtype='object')"
      ]
     },
     "execution_count": 91,
     "metadata": {},
     "output_type": "execute_result"
    }
   ],
   "source": [
    "train.columns"
   ]
  },
  {
   "cell_type": "code",
   "execution_count": 98,
   "id": "02d7e29f",
   "metadata": {},
   "outputs": [
    {
     "data": {
      "text/plain": [
       "Index(['ID', 'CRIM', 'ZN', 'INDUS', 'RIVER_FLG', 'nitric oxides concentration',\n",
       "       '#rooms/dwelling', 'AGE', 'DIS', 'RAD', 'TAX', 'PTRATIO  ', 'B',\n",
       "       'LSTAT'],\n",
       "      dtype='object')"
      ]
     },
     "execution_count": 98,
     "metadata": {},
     "output_type": "execute_result"
    }
   ],
   "source": [
    "test.columns"
   ]
  },
  {
   "cell_type": "code",
   "execution_count": 102,
   "id": "7e13db4b",
   "metadata": {},
   "outputs": [],
   "source": [
    "final_test=test.drop('ID',axis=1).rename({\"nitric oxides concentration\":\"No2\",\"#rooms/dwelling\":\"Rooms\",\"PTRATIO  \":\"PTRATIO\",\"B\":\"prop_slums\"},axis=1)"
   ]
  },
  {
   "cell_type": "code",
   "execution_count": 104,
   "id": "b6e26760",
   "metadata": {},
   "outputs": [
    {
     "data": {
      "text/html": [
       "<div>\n",
       "<style scoped>\n",
       "    .dataframe tbody tr th:only-of-type {\n",
       "        vertical-align: middle;\n",
       "    }\n",
       "\n",
       "    .dataframe tbody tr th {\n",
       "        vertical-align: top;\n",
       "    }\n",
       "\n",
       "    .dataframe thead th {\n",
       "        text-align: right;\n",
       "    }\n",
       "</style>\n",
       "<table border=\"1\" class=\"dataframe\">\n",
       "  <thead>\n",
       "    <tr style=\"text-align: right;\">\n",
       "      <th></th>\n",
       "      <th>CRIM</th>\n",
       "      <th>ZN</th>\n",
       "      <th>INDUS</th>\n",
       "      <th>RIVER_FLG</th>\n",
       "      <th>No2</th>\n",
       "      <th>Rooms</th>\n",
       "      <th>AGE</th>\n",
       "      <th>DIS</th>\n",
       "      <th>RAD</th>\n",
       "      <th>TAX</th>\n",
       "      <th>PTRATIO</th>\n",
       "      <th>prop_slums</th>\n",
       "      <th>LSTAT</th>\n",
       "    </tr>\n",
       "  </thead>\n",
       "  <tbody>\n",
       "    <tr>\n",
       "      <th>0</th>\n",
       "      <td>9.693915</td>\n",
       "      <td>0</td>\n",
       "      <td>18.824</td>\n",
       "      <td>0</td>\n",
       "      <td>0.63731</td>\n",
       "      <td>6.02952</td>\n",
       "      <td>100.0</td>\n",
       "      <td>1.204173</td>\n",
       "      <td>24</td>\n",
       "      <td>666</td>\n",
       "      <td>20.2</td>\n",
       "      <td>347.8425</td>\n",
       "      <td>10.0065</td>\n",
       "    </tr>\n",
       "    <tr>\n",
       "      <th>1</th>\n",
       "      <td>5.143131</td>\n",
       "      <td>0</td>\n",
       "      <td>18.462</td>\n",
       "      <td>0</td>\n",
       "      <td>0.63731</td>\n",
       "      <td>4.97000</td>\n",
       "      <td>100.0</td>\n",
       "      <td>1.305850</td>\n",
       "      <td>24</td>\n",
       "      <td>666</td>\n",
       "      <td>20.2</td>\n",
       "      <td>356.7440</td>\n",
       "      <td>3.0970</td>\n",
       "    </tr>\n",
       "  </tbody>\n",
       "</table>\n",
       "</div>"
      ],
      "text/plain": [
       "       CRIM  ZN   INDUS  RIVER_FLG      No2    Rooms    AGE       DIS  RAD  \\\n",
       "0  9.693915   0  18.824          0  0.63731  6.02952  100.0  1.204173   24   \n",
       "1  5.143131   0  18.462          0  0.63731  4.97000  100.0  1.305850   24   \n",
       "\n",
       "   TAX  PTRATIO  prop_slums    LSTAT  \n",
       "0  666     20.2    347.8425  10.0065  \n",
       "1  666     20.2    356.7440   3.0970  "
      ]
     },
     "execution_count": 104,
     "metadata": {},
     "output_type": "execute_result"
    }
   ],
   "source": [
    "final_test.head(2)"
   ]
  },
  {
   "cell_type": "code",
   "execution_count": 105,
   "id": "0a42d887",
   "metadata": {},
   "outputs": [],
   "source": [
    "# predicting on actual  testing set  set results\n",
    "y_pred2 = regressor.predict(final_test)"
   ]
  },
  {
   "cell_type": "code",
   "execution_count": 88,
   "id": "9211eb0c",
   "metadata": {},
   "outputs": [
    {
     "data": {
      "text/plain": [
       "array([36.49050497, 21.75391468, 41.19804113, 35.35959621, 38.32464392,\n",
       "       32.62412611, 23.71290136,  6.11974702, 21.00496999, 22.80203069,\n",
       "       39.66624135, 20.21662249, 31.03219329, 30.11793821, 28.6050529 ,\n",
       "       26.21875443, 29.83977595, 24.72767051, 26.53893044, 23.14878107,\n",
       "       37.13023837, 26.88992448, 16.86898202, 24.33853426, 23.61678799,\n",
       "       16.42977487, 21.4068018 , 51.67706622, 37.02318087, 28.1077411 ,\n",
       "       15.08049451, 31.48391792, 32.44456854, 31.75972537, 30.90283847,\n",
       "       28.94251355, 26.83948252, 14.68481115, 23.77436493, 21.53374503,\n",
       "       12.83476175, 12.30217171, 31.28392824, 29.66240529, 27.83141407,\n",
       "       23.39410048, 17.42675739, 43.56336615, 31.44277152, 15.58676427,\n",
       "       12.05348039, 25.03064312, 27.6229939 , 28.17390892, 31.12204129,\n",
       "       16.72540482, 38.2921395 , 28.89480423, 17.55864462, 24.96731087,\n",
       "       18.94377549, 32.97159923, 30.47615152, 28.20591982, 35.27236724,\n",
       "        9.91199128, 31.31322798, 30.89003942, 33.33944474, 26.91513774,\n",
       "       31.70679171, 31.02426564, 30.88093617, 28.60106574, 30.20275627,\n",
       "       24.90914195, 27.56795308, 24.98585815, 26.90303142, 16.35937282,\n",
       "       42.00328829, 34.73603023, 27.56302916, 31.48733865, 22.77755204,\n",
       "       25.36971317, 38.0149181 , 15.92290388, 30.9616346 , 37.52940067,\n",
       "       28.09590229, 24.49158218, 21.5478707 , 37.38720006, 27.70431024,\n",
       "       30.26777576, 24.7951022 , 32.91530096, 28.60382993,  5.99027332,\n",
       "       10.01144861, 33.01983701])"
      ]
     },
     "execution_count": 88,
     "metadata": {},
     "output_type": "execute_result"
    }
   ],
   "source": [
    "y_pred2"
   ]
  },
  {
   "cell_type": "code",
   "execution_count": 129,
   "id": "4862232b",
   "metadata": {},
   "outputs": [],
   "source": [
    "#combining two data set \n",
    "ID=np.array(test['ID']).astype(int)"
   ]
  },
  {
   "cell_type": "code",
   "execution_count": 137,
   "id": "44529277",
   "metadata": {},
   "outputs": [
    {
     "data": {
      "text/html": [
       "<div>\n",
       "<style scoped>\n",
       "    .dataframe tbody tr th:only-of-type {\n",
       "        vertical-align: middle;\n",
       "    }\n",
       "\n",
       "    .dataframe tbody tr th {\n",
       "        vertical-align: top;\n",
       "    }\n",
       "\n",
       "    .dataframe thead th {\n",
       "        text-align: right;\n",
       "    }\n",
       "</style>\n",
       "<table border=\"1\" class=\"dataframe\">\n",
       "  <thead>\n",
       "    <tr style=\"text-align: right;\">\n",
       "      <th></th>\n",
       "      <th>ID</th>\n",
       "    </tr>\n",
       "  </thead>\n",
       "  <tbody>\n",
       "    <tr>\n",
       "      <th>0</th>\n",
       "      <td>400</td>\n",
       "    </tr>\n",
       "    <tr>\n",
       "      <th>1</th>\n",
       "      <td>401</td>\n",
       "    </tr>\n",
       "    <tr>\n",
       "      <th>2</th>\n",
       "      <td>402</td>\n",
       "    </tr>\n",
       "    <tr>\n",
       "      <th>3</th>\n",
       "      <td>403</td>\n",
       "    </tr>\n",
       "    <tr>\n",
       "      <th>4</th>\n",
       "      <td>404</td>\n",
       "    </tr>\n",
       "    <tr>\n",
       "      <th>...</th>\n",
       "      <td>...</td>\n",
       "    </tr>\n",
       "    <tr>\n",
       "      <th>97</th>\n",
       "      <td>497</td>\n",
       "    </tr>\n",
       "    <tr>\n",
       "      <th>98</th>\n",
       "      <td>498</td>\n",
       "    </tr>\n",
       "    <tr>\n",
       "      <th>99</th>\n",
       "      <td>499</td>\n",
       "    </tr>\n",
       "    <tr>\n",
       "      <th>100</th>\n",
       "      <td>500</td>\n",
       "    </tr>\n",
       "    <tr>\n",
       "      <th>101</th>\n",
       "      <td>501</td>\n",
       "    </tr>\n",
       "  </tbody>\n",
       "</table>\n",
       "<p>102 rows × 1 columns</p>\n",
       "</div>"
      ],
      "text/plain": [
       "      ID\n",
       "0    400\n",
       "1    401\n",
       "2    402\n",
       "3    403\n",
       "4    404\n",
       "..   ...\n",
       "97   497\n",
       "98   498\n",
       "99   499\n",
       "100  500\n",
       "101  501\n",
       "\n",
       "[102 rows x 1 columns]"
      ]
     },
     "execution_count": 137,
     "metadata": {},
     "output_type": "execute_result"
    }
   ],
   "source": [
    "id= pd.DataFrame(ID,columns=['ID'])\n",
    "id"
   ]
  },
  {
   "cell_type": "code",
   "execution_count": 115,
   "id": "7374beba",
   "metadata": {
    "scrolled": true
   },
   "outputs": [],
   "source": [
    "MEDV_= np.array(y_pred2)"
   ]
  },
  {
   "cell_type": "code",
   "execution_count": 139,
   "id": "cace64d1",
   "metadata": {},
   "outputs": [
    {
     "data": {
      "text/html": [
       "<div>\n",
       "<style scoped>\n",
       "    .dataframe tbody tr th:only-of-type {\n",
       "        vertical-align: middle;\n",
       "    }\n",
       "\n",
       "    .dataframe tbody tr th {\n",
       "        vertical-align: top;\n",
       "    }\n",
       "\n",
       "    .dataframe thead th {\n",
       "        text-align: right;\n",
       "    }\n",
       "</style>\n",
       "<table border=\"1\" class=\"dataframe\">\n",
       "  <thead>\n",
       "    <tr style=\"text-align: right;\">\n",
       "      <th></th>\n",
       "      <th>0</th>\n",
       "    </tr>\n",
       "  </thead>\n",
       "  <tbody>\n",
       "    <tr>\n",
       "      <th>0</th>\n",
       "      <td>36.490505</td>\n",
       "    </tr>\n",
       "    <tr>\n",
       "      <th>1</th>\n",
       "      <td>21.753915</td>\n",
       "    </tr>\n",
       "    <tr>\n",
       "      <th>2</th>\n",
       "      <td>41.198041</td>\n",
       "    </tr>\n",
       "    <tr>\n",
       "      <th>3</th>\n",
       "      <td>35.359596</td>\n",
       "    </tr>\n",
       "    <tr>\n",
       "      <th>4</th>\n",
       "      <td>38.324644</td>\n",
       "    </tr>\n",
       "    <tr>\n",
       "      <th>...</th>\n",
       "      <td>...</td>\n",
       "    </tr>\n",
       "    <tr>\n",
       "      <th>97</th>\n",
       "      <td>32.915301</td>\n",
       "    </tr>\n",
       "    <tr>\n",
       "      <th>98</th>\n",
       "      <td>28.603830</td>\n",
       "    </tr>\n",
       "    <tr>\n",
       "      <th>99</th>\n",
       "      <td>5.990273</td>\n",
       "    </tr>\n",
       "    <tr>\n",
       "      <th>100</th>\n",
       "      <td>10.011449</td>\n",
       "    </tr>\n",
       "    <tr>\n",
       "      <th>101</th>\n",
       "      <td>33.019837</td>\n",
       "    </tr>\n",
       "  </tbody>\n",
       "</table>\n",
       "<p>102 rows × 1 columns</p>\n",
       "</div>"
      ],
      "text/plain": [
       "             0\n",
       "0    36.490505\n",
       "1    21.753915\n",
       "2    41.198041\n",
       "3    35.359596\n",
       "4    38.324644\n",
       "..         ...\n",
       "97   32.915301\n",
       "98   28.603830\n",
       "99    5.990273\n",
       "100  10.011449\n",
       "101  33.019837\n",
       "\n",
       "[102 rows x 1 columns]"
      ]
     },
     "execution_count": 139,
     "metadata": {},
     "output_type": "execute_result"
    }
   ],
   "source": [
    "medv = pd.DataFrame(MEDV)\n",
    "medv"
   ]
  },
  {
   "cell_type": "code",
   "execution_count": 132,
   "id": "187f4398",
   "metadata": {},
   "outputs": [
    {
     "data": {
      "text/plain": [
       "(102,)"
      ]
     },
     "execution_count": 132,
     "metadata": {},
     "output_type": "execute_result"
    }
   ],
   "source": [
    "MEDV.shape"
   ]
  },
  {
   "cell_type": "code",
   "execution_count": 149,
   "id": "2a6448cc",
   "metadata": {},
   "outputs": [
    {
     "data": {
      "text/plain": [
       "Index(['ID', 0], dtype='object')"
      ]
     },
     "execution_count": 149,
     "metadata": {},
     "output_type": "execute_result"
    }
   ],
   "source": [
    "final_data = pd.concat([id, medv], axis = 1)\n",
    "final_data.columns"
   ]
  },
  {
   "cell_type": "code",
   "execution_count": 153,
   "id": "a3dd6b3d",
   "metadata": {
    "scrolled": true
   },
   "outputs": [],
   "source": [
    "final_data.rename({'0':\"MEDV\"},axis=1,inplace=True)"
   ]
  },
  {
   "cell_type": "code",
   "execution_count": 154,
   "id": "f2d25f22",
   "metadata": {},
   "outputs": [
    {
     "data": {
      "text/html": [
       "<div>\n",
       "<style scoped>\n",
       "    .dataframe tbody tr th:only-of-type {\n",
       "        vertical-align: middle;\n",
       "    }\n",
       "\n",
       "    .dataframe tbody tr th {\n",
       "        vertical-align: top;\n",
       "    }\n",
       "\n",
       "    .dataframe thead th {\n",
       "        text-align: right;\n",
       "    }\n",
       "</style>\n",
       "<table border=\"1\" class=\"dataframe\">\n",
       "  <thead>\n",
       "    <tr style=\"text-align: right;\">\n",
       "      <th></th>\n",
       "      <th>ID</th>\n",
       "      <th>0</th>\n",
       "    </tr>\n",
       "  </thead>\n",
       "  <tbody>\n",
       "    <tr>\n",
       "      <th>0</th>\n",
       "      <td>400</td>\n",
       "      <td>36.490505</td>\n",
       "    </tr>\n",
       "    <tr>\n",
       "      <th>1</th>\n",
       "      <td>401</td>\n",
       "      <td>21.753915</td>\n",
       "    </tr>\n",
       "    <tr>\n",
       "      <th>2</th>\n",
       "      <td>402</td>\n",
       "      <td>41.198041</td>\n",
       "    </tr>\n",
       "    <tr>\n",
       "      <th>3</th>\n",
       "      <td>403</td>\n",
       "      <td>35.359596</td>\n",
       "    </tr>\n",
       "    <tr>\n",
       "      <th>4</th>\n",
       "      <td>404</td>\n",
       "      <td>38.324644</td>\n",
       "    </tr>\n",
       "    <tr>\n",
       "      <th>...</th>\n",
       "      <td>...</td>\n",
       "      <td>...</td>\n",
       "    </tr>\n",
       "    <tr>\n",
       "      <th>97</th>\n",
       "      <td>497</td>\n",
       "      <td>32.915301</td>\n",
       "    </tr>\n",
       "    <tr>\n",
       "      <th>98</th>\n",
       "      <td>498</td>\n",
       "      <td>28.603830</td>\n",
       "    </tr>\n",
       "    <tr>\n",
       "      <th>99</th>\n",
       "      <td>499</td>\n",
       "      <td>5.990273</td>\n",
       "    </tr>\n",
       "    <tr>\n",
       "      <th>100</th>\n",
       "      <td>500</td>\n",
       "      <td>10.011449</td>\n",
       "    </tr>\n",
       "    <tr>\n",
       "      <th>101</th>\n",
       "      <td>501</td>\n",
       "      <td>33.019837</td>\n",
       "    </tr>\n",
       "  </tbody>\n",
       "</table>\n",
       "<p>102 rows × 2 columns</p>\n",
       "</div>"
      ],
      "text/plain": [
       "      ID          0\n",
       "0    400  36.490505\n",
       "1    401  21.753915\n",
       "2    402  41.198041\n",
       "3    403  35.359596\n",
       "4    404  38.324644\n",
       "..   ...        ...\n",
       "97   497  32.915301\n",
       "98   498  28.603830\n",
       "99   499   5.990273\n",
       "100  500  10.011449\n",
       "101  501  33.019837\n",
       "\n",
       "[102 rows x 2 columns]"
      ]
     },
     "execution_count": 154,
     "metadata": {},
     "output_type": "execute_result"
    }
   ],
   "source": [
    "final_data"
   ]
  },
  {
   "cell_type": "code",
   "execution_count": 148,
   "id": "8c0dd69c",
   "metadata": {},
   "outputs": [],
   "source": [
    "housing_csv_data = final_data.to_csv('koshal-housing.csv', index = False)"
   ]
  }
 ],
 "metadata": {
  "kernelspec": {
   "display_name": "Python 3 (ipykernel)",
   "language": "python",
   "name": "python3"
  },
  "language_info": {
   "codemirror_mode": {
    "name": "ipython",
    "version": 3
   },
   "file_extension": ".py",
   "mimetype": "text/x-python",
   "name": "python",
   "nbconvert_exporter": "python",
   "pygments_lexer": "ipython3",
   "version": "3.9.12"
  }
 },
 "nbformat": 4,
 "nbformat_minor": 5
}
