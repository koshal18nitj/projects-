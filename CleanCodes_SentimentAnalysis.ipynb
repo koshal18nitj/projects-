{
 "cells": [
  {
   "cell_type": "code",
   "execution_count": 1,
   "id": "c1e2c2dd",
   "metadata": {},
   "outputs": [],
   "source": [
    "import spacy\n",
    "nlp = spacy.load(\"en_core_web_lg\")"
   ]
  },
  {
   "cell_type": "code",
   "execution_count": 2,
   "id": "7efd4cb9",
   "metadata": {},
   "outputs": [],
   "source": [
    "import pandas as pd\n",
    "import numpy as np\n",
    "import matplotlib.pyplot as plt\n",
    "%matplotlib inline\n",
    "import seaborn as sns"
   ]
  },
  {
   "cell_type": "code",
   "execution_count": 3,
   "id": "9100c706",
   "metadata": {},
   "outputs": [],
   "source": [
    "df = pd.read_csv(filepath_or_buffer='Zomato Bangalore Data.csv',encoding='latin1')"
   ]
  },
  {
   "cell_type": "code",
   "execution_count": 4,
   "id": "d43b49e8",
   "metadata": {},
   "outputs": [
    {
     "data": {
      "text/plain": [
       "(19147, 14)"
      ]
     },
     "execution_count": 4,
     "metadata": {},
     "output_type": "execute_result"
    }
   ],
   "source": [
    "df.shape"
   ]
  },
  {
   "cell_type": "code",
   "execution_count": 22,
   "id": "3320b8e1",
   "metadata": {
    "scrolled": true
   },
   "outputs": [],
   "source": [
    "reviews=df[['reviews_list','rate']]"
   ]
  },
  {
   "cell_type": "code",
   "execution_count": 23,
   "id": "cf8dcee2",
   "metadata": {},
   "outputs": [],
   "source": [
    "reviews=reviews[reviews.reviews_list != '[]']# removed all rows with blank comment"
   ]
  },
  {
   "cell_type": "code",
   "execution_count": 24,
   "id": "5b3ea001",
   "metadata": {},
   "outputs": [],
   "source": [
    "reviews= reviews.drop_duplicates()"
   ]
  },
  {
   "cell_type": "code",
   "execution_count": 25,
   "id": "7c1b8ad8",
   "metadata": {},
   "outputs": [
    {
     "data": {
      "text/plain": [
       "(10995, 2)"
      ]
     },
     "execution_count": 25,
     "metadata": {},
     "output_type": "execute_result"
    }
   ],
   "source": [
    "reviews.shape"
   ]
  },
  {
   "cell_type": "code",
   "execution_count": 26,
   "id": "a488c385",
   "metadata": {},
   "outputs": [],
   "source": [
    "# separating 4.2/5/0 to 4.2 and 5.0 an accepting only first split \n",
    "reviews['rate']=reviews['rate'].str.split(\"/\",n=1,expand=True)[0]"
   ]
  },
  {
   "cell_type": "code",
   "execution_count": 27,
   "id": "e07967ef",
   "metadata": {},
   "outputs": [
    {
     "data": {
      "text/plain": [
       "(10995, 2)"
      ]
     },
     "execution_count": 27,
     "metadata": {},
     "output_type": "execute_result"
    }
   ],
   "source": [
    "reviews.shape"
   ]
  },
  {
   "cell_type": "code",
   "execution_count": 28,
   "id": "36df5c3c",
   "metadata": {},
   "outputs": [],
   "source": [
    "import string\n",
    "import re\n",
    "import emoji"
   ]
  },
  {
   "cell_type": "code",
   "execution_count": 29,
   "id": "cdca894a",
   "metadata": {},
   "outputs": [],
   "source": [
    "pattern1=r\"(Rated\\s+\\d.\\d.\\W)|(RATED)|(\\\\n)|(\\d/\\d)\"\n",
    "punc = string.punctuation\n",
    "punctuation = string.punctuation\n",
    "# punc (result : '!\"#$%&\\'()*+,-./:;<=>?@[\\\\]^_`{|}~')\n",
    "#all the puncation which i dont require as of now ( if required )\n",
    "punc = punc.replace(\",\", \"\")\n",
    "punc = punc.replace(\"'\", \"\")\n",
    "punc = punc.replace(\".\", \"\")\n",
    "remove_punc=r'[{}]'.format(re.escape(punc))\n",
    "ph = r\"['\\x83ã\\x83ã\\x82ã\\x83ã\\x83ã\\x82ã\\x82ã\\x83ã\\x83ã\\x83ã\\x82ã\\x82ã\\x83ã\\x82ã\\x82ã¢ã\\x83ã\\x83ã\\x82ã\\x83ã\\x83ã\\x82ã\\x82ã\\x82ã\\x83ã\\x83ã\\x82ã\\x82ã\\x83ã\\x82ã\\x82ã\\x80ã\\x83ã\\x83ã\\x82ã\\x83ã\\x83ã\\x82ã\\x82ã\\x82ã\\x83ã\\x83ã\\x82ã\\x82ã\\x83ã\\x82ã\\x82ã']|[â]\"\n",
    "remove_digit = r'[{}]'.format(string.digits)\n",
    "pattern2 =r\"(f\\s\\W\\s\\W)+\"\n",
    "pattern3 =r\"(\\s°\\sf\\s\\w)|(\\s¥\\s\\¯\\s)\" \n",
    "pattern4 =r\"(\\s\\sf\\sf\\s¼)|(°\\sf\\s§)|(\\s\\s°)\""
   ]
  },
  {
   "cell_type": "code",
   "execution_count": 18,
   "id": "4fb5b2dc",
   "metadata": {},
   "outputs": [],
   "source": [
    " text_reviews = []\n",
    "def clean_reviews(sentences):\n",
    "    text= (re.sub(pattern1,\"\",sentences))  #removing rated 3.0 or rated n\n",
    "    text = text.lower()\n",
    "    text= re.sub(remove_punc,\" \",text)\n",
    "    text= emoji.replace_emoji(text,\"\")\n",
    "    text=re.sub(r\"\\s{2}\",\"\",text)\n",
    "    text= re.sub(ph,\"  \",text)\n",
    "    text=re.sub(remove_digit,\" \",text)\n",
    "    text= re.sub(r'x\\s{1,3}',\"\",text)\n",
    "    text=re.sub(pattern2,\" \",text)\n",
    "    text=re.sub(pattern3,\" \",text)\n",
    "    text=re.sub(pattern4,\" \",text)\n",
    "    #punctuation=string.punctuation\n",
    "    text = re.sub(r\"[',.]\",\" \",text)\n",
    "    text=re.sub(r'\\s{2,}',\" \",text)\n",
    "    return (text)\n",
    "    ### Task -3  : Change all words into lower case\n",
    "    #text_reviews.append(text)"
   ]
  },
  {
   "cell_type": "code",
   "execution_count": 19,
   "id": "ec7bce6c",
   "metadata": {},
   "outputs": [
    {
     "name": "stderr",
     "output_type": "stream",
     "text": [
      "C:\\Users\\shubh\\AppData\\Local\\Temp\\ipykernel_38036\\1751800058.py:1: FutureWarning: The default dtype for empty Series will be 'object' instead of 'float64' in a future version. Specify a dtype explicitly to silence this warning.\n",
      "  reviews['clean_text'] = pd.Series()\n"
     ]
    }
   ],
   "source": [
    "reviews['clean_text'] = pd.Series()"
   ]
  },
  {
   "cell_type": "code",
   "execution_count": 30,
   "id": "1b19070b",
   "metadata": {},
   "outputs": [],
   "source": [
    "reviews['clean_text']= reviews['reviews_list'].apply(lambda x:clean_reviews(x))#clean_reviews(reviews.reviews_list)"
   ]
  },
  {
   "cell_type": "code",
   "execution_count": 34,
   "id": "41b0c3f6",
   "metadata": {},
   "outputs": [],
   "source": [
    "reviews.drop_duplicates(subset=('clean_text'),inplace=True)"
   ]
  },
  {
   "cell_type": "code",
   "execution_count": 41,
   "id": "b82e4bee",
   "metadata": {},
   "outputs": [],
   "source": [
    "def rate_extractor2(rate):\n",
    "    patterns= r\"Rated\\s\\d\"\n",
    "    text = re.findall(patterns,rate)\n",
    "    if len(text)==0:\n",
    "        text['0.0']\n",
    "    else:\n",
    "        text= [phrase.split(' ')[1] for phrase in text]\n",
    "        return round(np.mean(list(map(int, text))),2)"
   ]
  },
  {
   "cell_type": "code",
   "execution_count": 42,
   "id": "5bf75200",
   "metadata": {},
   "outputs": [],
   "source": [
    "reviews['ExtractedRate']=reviews['reviews_list'].apply(lambda x:rate_extractor2(x))"
   ]
  },
  {
   "cell_type": "code",
   "execution_count": 46,
   "id": "00443e73",
   "metadata": {},
   "outputs": [],
   "source": [
    "reviews['rate_cat'] = pd.cut(reviews['ExtractedRate'], bins=[0,3,4.0,5],\n",
    "                    labels=['Below Average', 'Average','Highly Recommended'\n",
    "                            ]).astype(str)"
   ]
  },
  {
   "cell_type": "code",
   "execution_count": 48,
   "id": "a1602101",
   "metadata": {
    "scrolled": false
   },
   "outputs": [
    {
     "data": {
      "text/plain": [
       "Average               4891\n",
       "Highly Recommended    2770\n",
       "Below Average         1467\n",
       "Name: rate_cat, dtype: int64"
      ]
     },
     "execution_count": 48,
     "metadata": {},
     "output_type": "execute_result"
    }
   ],
   "source": [
    "reviews.rate_cat.value_counts()"
   ]
  },
  {
   "cell_type": "code",
   "execution_count": 49,
   "id": "5f6a8c4d",
   "metadata": {},
   "outputs": [],
   "source": [
    "spacy_stopwords= nlp.Defaults.stop_words"
   ]
  },
  {
   "cell_type": "code",
   "execution_count": 56,
   "id": "0c29097c",
   "metadata": {},
   "outputs": [],
   "source": [
    "reviews['text_no_stopwords'] = reviews['clean_text'].apply(lambda words: ' '.join(word.lower() for word in words.split() if word not in spacy_stopwords))"
   ]
  },
  {
   "cell_type": "code",
   "execution_count": 53,
   "id": "cdc8d48d",
   "metadata": {},
   "outputs": [
    {
     "name": "stderr",
     "output_type": "stream",
     "text": [
      "[nltk_data] Downloading package omw-1.4 to\n",
      "[nltk_data]     C:\\Users\\shubh\\AppData\\Roaming\\nltk_data...\n",
      "[nltk_data]   Package omw-1.4 is already up-to-date!\n"
     ]
    },
    {
     "data": {
      "text/plain": [
       "True"
      ]
     },
     "execution_count": 53,
     "metadata": {},
     "output_type": "execute_result"
    }
   ],
   "source": [
    "import nltk\n",
    "nltk.download('omw-1.4')"
   ]
  },
  {
   "cell_type": "code",
   "execution_count": 54,
   "id": "f4fe7e05",
   "metadata": {},
   "outputs": [
    {
     "name": "stderr",
     "output_type": "stream",
     "text": [
      "[nltk_data] Downloading package wordnet to\n",
      "[nltk_data]     C:\\Users\\shubh\\AppData\\Roaming\\nltk_data...\n",
      "[nltk_data]   Package wordnet is already up-to-date!\n"
     ]
    }
   ],
   "source": [
    "nltk.download('wordnet')\n",
    "from nltk.stem import WordNetLemmatizer\n",
    "from nltk import word_tokenize"
   ]
  },
  {
   "cell_type": "code",
   "execution_count": 59,
   "id": "b77d9269",
   "metadata": {},
   "outputs": [],
   "source": [
    "lemmatizer =WordNetLemmatizer()"
   ]
  },
  {
   "cell_type": "code",
   "execution_count": 60,
   "id": "b5077473",
   "metadata": {},
   "outputs": [],
   "source": [
    "#lemmitization_output=[]\n",
    "def lemmitizer(text):\n",
    "    tokens_words = nltk.word_tokenize(text)\n",
    "    lemmatized_output = ' '.join([lemmatizer.lemmatize(w) for w in tokens_words])\n",
    "    return (lemmatized_output)"
   ]
  },
  {
   "cell_type": "code",
   "execution_count": 62,
   "id": "8f8a0342",
   "metadata": {},
   "outputs": [],
   "source": [
    "reviews['lemmatizer']=reviews['text_no_stopwords'].apply(lambda x : lemmitizer(x))"
   ]
  },
  {
   "cell_type": "code",
   "execution_count": 64,
   "id": "fc40205d",
   "metadata": {},
   "outputs": [],
   "source": [
    "#creating features"
   ]
  },
  {
   "cell_type": "code",
   "execution_count": 65,
   "id": "ac7e6de1",
   "metadata": {},
   "outputs": [],
   "source": [
    "# import required module\n",
    "from sklearn.feature_extraction.text import TfidfVectorizer"
   ]
  },
  {
   "cell_type": "code",
   "execution_count": 75,
   "id": "0aa7792c",
   "metadata": {},
   "outputs": [],
   "source": [
    "# create object\n",
    "tfidf = TfidfVectorizer(ngram_range=(2,2),min_df=0.1,max_df=0.95)\n",
    "# get tf-df values\n",
    "result = tfidf.fit_transform(reviews['lemmatizer'])"
   ]
  },
  {
   "cell_type": "code",
   "execution_count": 76,
   "id": "d06ca6a6",
   "metadata": {
    "scrolled": true
   },
   "outputs": [
    {
     "name": "stderr",
     "output_type": "stream",
     "text": [
      "C:\\Users\\shubh\\anaconda3\\lib\\site-packages\\sklearn\\utils\\deprecation.py:87: FutureWarning: Function get_feature_names is deprecated; get_feature_names is deprecated in 1.0 and will be removed in 1.2. Please use get_feature_names_out instead.\n",
      "  warnings.warn(msg, category=FutureWarning)\n"
     ]
    }
   ],
   "source": [
    "matrix = pd.DataFrame(result.toarray(),columns=tfidf.get_feature_names())"
   ]
  },
  {
   "cell_type": "code",
   "execution_count": 77,
   "id": "2cb572ea",
   "metadata": {
    "scrolled": true
   },
   "outputs": [
    {
     "data": {
      "text/html": [
       "<div>\n",
       "<style scoped>\n",
       "    .dataframe tbody tr th:only-of-type {\n",
       "        vertical-align: middle;\n",
       "    }\n",
       "\n",
       "    .dataframe tbody tr th {\n",
       "        vertical-align: top;\n",
       "    }\n",
       "\n",
       "    .dataframe thead th {\n",
       "        text-align: right;\n",
       "    }\n",
       "</style>\n",
       "<table border=\"1\" class=\"dataframe\">\n",
       "  <thead>\n",
       "    <tr style=\"text-align: right;\">\n",
       "      <th></th>\n",
       "      <th>amazing food</th>\n",
       "      <th>ambience food</th>\n",
       "      <th>ambience good</th>\n",
       "      <th>ambience place</th>\n",
       "      <th>ambience service</th>\n",
       "      <th>best place</th>\n",
       "      <th>chicken biryani</th>\n",
       "      <th>coming food</th>\n",
       "      <th>decent place</th>\n",
       "      <th>didn like</th>\n",
       "      <th>...</th>\n",
       "      <th>taste bud</th>\n",
       "      <th>taste food</th>\n",
       "      <th>taste good</th>\n",
       "      <th>tasted good</th>\n",
       "      <th>try place</th>\n",
       "      <th>value money</th>\n",
       "      <th>visit place</th>\n",
       "      <th>visited place</th>\n",
       "      <th>worth money</th>\n",
       "      <th>zomato gold</th>\n",
       "    </tr>\n",
       "  </thead>\n",
       "  <tbody>\n",
       "    <tr>\n",
       "      <th>0</th>\n",
       "      <td>0.000000</td>\n",
       "      <td>0.000000</td>\n",
       "      <td>0.447159</td>\n",
       "      <td>0.0</td>\n",
       "      <td>0.0</td>\n",
       "      <td>0.226634</td>\n",
       "      <td>0.0</td>\n",
       "      <td>0.000000</td>\n",
       "      <td>0.000000</td>\n",
       "      <td>0.0</td>\n",
       "      <td>...</td>\n",
       "      <td>0.000000</td>\n",
       "      <td>0.000000</td>\n",
       "      <td>0.206071</td>\n",
       "      <td>0.0</td>\n",
       "      <td>0.000000</td>\n",
       "      <td>0.000000</td>\n",
       "      <td>0.0</td>\n",
       "      <td>0.000000</td>\n",
       "      <td>0.000000</td>\n",
       "      <td>0.000000</td>\n",
       "    </tr>\n",
       "    <tr>\n",
       "      <th>1</th>\n",
       "      <td>0.094161</td>\n",
       "      <td>0.027652</td>\n",
       "      <td>0.046458</td>\n",
       "      <td>0.0</td>\n",
       "      <td>0.0</td>\n",
       "      <td>0.000000</td>\n",
       "      <td>0.0</td>\n",
       "      <td>0.029082</td>\n",
       "      <td>0.000000</td>\n",
       "      <td>0.0</td>\n",
       "      <td>...</td>\n",
       "      <td>0.031346</td>\n",
       "      <td>0.030238</td>\n",
       "      <td>0.256920</td>\n",
       "      <td>0.0</td>\n",
       "      <td>0.082997</td>\n",
       "      <td>0.021542</td>\n",
       "      <td>0.0</td>\n",
       "      <td>0.000000</td>\n",
       "      <td>0.031408</td>\n",
       "      <td>0.030340</td>\n",
       "    </tr>\n",
       "    <tr>\n",
       "      <th>2</th>\n",
       "      <td>0.201414</td>\n",
       "      <td>0.044361</td>\n",
       "      <td>0.074532</td>\n",
       "      <td>0.0</td>\n",
       "      <td>0.0</td>\n",
       "      <td>0.000000</td>\n",
       "      <td>0.0</td>\n",
       "      <td>0.046656</td>\n",
       "      <td>0.000000</td>\n",
       "      <td>0.0</td>\n",
       "      <td>...</td>\n",
       "      <td>0.050287</td>\n",
       "      <td>0.048511</td>\n",
       "      <td>0.171738</td>\n",
       "      <td>0.0</td>\n",
       "      <td>0.177534</td>\n",
       "      <td>0.034559</td>\n",
       "      <td>0.0</td>\n",
       "      <td>0.000000</td>\n",
       "      <td>0.050387</td>\n",
       "      <td>0.048673</td>\n",
       "    </tr>\n",
       "    <tr>\n",
       "      <th>3</th>\n",
       "      <td>0.000000</td>\n",
       "      <td>0.205101</td>\n",
       "      <td>0.258444</td>\n",
       "      <td>0.0</td>\n",
       "      <td>0.0</td>\n",
       "      <td>0.130987</td>\n",
       "      <td>0.0</td>\n",
       "      <td>0.161784</td>\n",
       "      <td>0.055404</td>\n",
       "      <td>0.0</td>\n",
       "      <td>...</td>\n",
       "      <td>0.174375</td>\n",
       "      <td>0.336429</td>\n",
       "      <td>0.000000</td>\n",
       "      <td>0.0</td>\n",
       "      <td>0.000000</td>\n",
       "      <td>0.000000</td>\n",
       "      <td>0.0</td>\n",
       "      <td>0.042568</td>\n",
       "      <td>0.058240</td>\n",
       "      <td>0.056259</td>\n",
       "    </tr>\n",
       "    <tr>\n",
       "      <th>4</th>\n",
       "      <td>0.110371</td>\n",
       "      <td>0.097236</td>\n",
       "      <td>0.163367</td>\n",
       "      <td>0.0</td>\n",
       "      <td>0.0</td>\n",
       "      <td>0.000000</td>\n",
       "      <td>0.0</td>\n",
       "      <td>0.102266</td>\n",
       "      <td>0.000000</td>\n",
       "      <td>0.0</td>\n",
       "      <td>...</td>\n",
       "      <td>0.110226</td>\n",
       "      <td>0.212662</td>\n",
       "      <td>0.075287</td>\n",
       "      <td>0.0</td>\n",
       "      <td>0.097285</td>\n",
       "      <td>0.000000</td>\n",
       "      <td>0.0</td>\n",
       "      <td>0.000000</td>\n",
       "      <td>0.110444</td>\n",
       "      <td>0.106688</td>\n",
       "    </tr>\n",
       "  </tbody>\n",
       "</table>\n",
       "<p>5 rows × 80 columns</p>\n",
       "</div>"
      ],
      "text/plain": [
       "   amazing food  ambience food  ambience good  ambience place  \\\n",
       "0      0.000000       0.000000       0.447159             0.0   \n",
       "1      0.094161       0.027652       0.046458             0.0   \n",
       "2      0.201414       0.044361       0.074532             0.0   \n",
       "3      0.000000       0.205101       0.258444             0.0   \n",
       "4      0.110371       0.097236       0.163367             0.0   \n",
       "\n",
       "   ambience service  best place  chicken biryani  coming food  decent place  \\\n",
       "0               0.0    0.226634              0.0     0.000000      0.000000   \n",
       "1               0.0    0.000000              0.0     0.029082      0.000000   \n",
       "2               0.0    0.000000              0.0     0.046656      0.000000   \n",
       "3               0.0    0.130987              0.0     0.161784      0.055404   \n",
       "4               0.0    0.000000              0.0     0.102266      0.000000   \n",
       "\n",
       "   didn like  ...  taste bud  taste food  taste good  tasted good  try place  \\\n",
       "0        0.0  ...   0.000000    0.000000    0.206071          0.0   0.000000   \n",
       "1        0.0  ...   0.031346    0.030238    0.256920          0.0   0.082997   \n",
       "2        0.0  ...   0.050287    0.048511    0.171738          0.0   0.177534   \n",
       "3        0.0  ...   0.174375    0.336429    0.000000          0.0   0.000000   \n",
       "4        0.0  ...   0.110226    0.212662    0.075287          0.0   0.097285   \n",
       "\n",
       "   value money  visit place  visited place  worth money  zomato gold  \n",
       "0     0.000000          0.0       0.000000     0.000000     0.000000  \n",
       "1     0.021542          0.0       0.000000     0.031408     0.030340  \n",
       "2     0.034559          0.0       0.000000     0.050387     0.048673  \n",
       "3     0.000000          0.0       0.042568     0.058240     0.056259  \n",
       "4     0.000000          0.0       0.000000     0.110444     0.106688  \n",
       "\n",
       "[5 rows x 80 columns]"
      ]
     },
     "execution_count": 77,
     "metadata": {},
     "output_type": "execute_result"
    }
   ],
   "source": [
    "matrix.head(5)"
   ]
  },
  {
   "cell_type": "code",
   "execution_count": 78,
   "id": "660c63f0",
   "metadata": {},
   "outputs": [],
   "source": [
    "from sklearn.model_selection import train_test_split"
   ]
  },
  {
   "cell_type": "code",
   "execution_count": 79,
   "id": "498786e2",
   "metadata": {},
   "outputs": [],
   "source": [
    "y=reviews['rate_cat']"
   ]
  },
  {
   "cell_type": "code",
   "execution_count": 130,
   "id": "9541ede6",
   "metadata": {},
   "outputs": [
    {
     "data": {
      "text/plain": [
       "(9128,)"
      ]
     },
     "execution_count": 130,
     "metadata": {},
     "output_type": "execute_result"
    }
   ],
   "source": [
    "y.shape"
   ]
  },
  {
   "cell_type": "code",
   "execution_count": 131,
   "id": "0843c9bd",
   "metadata": {},
   "outputs": [
    {
     "ename": "ModuleNotFoundError",
     "evalue": "No module named 'imblearn'",
     "output_type": "error",
     "traceback": [
      "\u001b[1;31m---------------------------------------------------------------------------\u001b[0m",
      "\u001b[1;31mModuleNotFoundError\u001b[0m                       Traceback (most recent call last)",
      "Input \u001b[1;32mIn [131]\u001b[0m, in \u001b[0;36m<cell line: 1>\u001b[1;34m()\u001b[0m\n\u001b[1;32m----> 1\u001b[0m \u001b[38;5;28;01mfrom\u001b[39;00m \u001b[38;5;21;01mimblearn\u001b[39;00m\u001b[38;5;21;01m.\u001b[39;00m\u001b[38;5;21;01mover_sampling\u001b[39;00m \u001b[38;5;28;01mimport\u001b[39;00m SMOTE\n\u001b[0;32m      2\u001b[0m sm \u001b[38;5;241m=\u001b[39m SMOTE(random_state \u001b[38;5;241m=\u001b[39m \u001b[38;5;241m42\u001b[39m)\n\u001b[0;32m      3\u001b[0m X_train_new, y_train_new \u001b[38;5;241m=\u001b[39m sm\u001b[38;5;241m.\u001b[39mfit_sample(matrix, y)\n",
      "\u001b[1;31mModuleNotFoundError\u001b[0m: No module named 'imblearn'"
     ]
    }
   ],
   "source": [
    "from imblearn.over_sampling import SMOTE\n",
    "sm = SMOTE(random_state = 42)\n",
    "X_train_new, y_train_new = sm.fit_sample(matrix, y)"
   ]
  },
  {
   "cell_type": "code",
   "execution_count": 81,
   "id": "af053fca",
   "metadata": {},
   "outputs": [
    {
     "name": "stdout",
     "output_type": "stream",
     "text": [
      "msg_train\t5476\n",
      "msg_test\t3652\n",
      "label_train\t5476\n",
      "label_test\t3652\n"
     ]
    }
   ],
   "source": [
    "print(f\"msg_train\\t{len(X_train)}\\nmsg_test\\t{len(X_test)}\\nlabel_train\\t{len(y_train)}\\nlabel_test\\t{len(y_test)}\")"
   ]
  },
  {
   "cell_type": "code",
   "execution_count": 83,
   "id": "dbfa2629",
   "metadata": {},
   "outputs": [],
   "source": [
    "#Modeling"
   ]
  },
  {
   "cell_type": "code",
   "execution_count": 84,
   "id": "a53d8bf2",
   "metadata": {},
   "outputs": [],
   "source": [
    "from sklearn.naive_bayes import MultinomialNB\n",
    "from sklearn.ensemble import RandomForestClassifier\n",
    "from sklearn.svm import SVC\n",
    "from sklearn.ensemble import StackingClassifier"
   ]
  },
  {
   "cell_type": "code",
   "execution_count": 125,
   "id": "94477f9c",
   "metadata": {},
   "outputs": [],
   "source": [
    "from sklearn.model_selection import GridSearchCV\n",
    "from sklearn.pipeline import make_pipeline\n",
    "from sklearn.preprocessing import StandardScaler"
   ]
  },
  {
   "cell_type": "code",
   "execution_count": 127,
   "id": "40c3b052",
   "metadata": {},
   "outputs": [],
   "source": [
    "classifier1 = RandomForestClassifier(criterion='gini',random_state=42)"
   ]
  },
  {
   "cell_type": "code",
   "execution_count": 107,
   "id": "ab6d713e",
   "metadata": {},
   "outputs": [],
   "source": [
    "classifier2 = SVC(kernel=\"poly\").fit(X_train,y_train)"
   ]
  },
  {
   "cell_type": "code",
   "execution_count": 103,
   "id": "1081346b",
   "metadata": {},
   "outputs": [],
   "source": [
    "classifier3 = MultinomialNB().fit(X_train,y_train)"
   ]
  },
  {
   "cell_type": "code",
   "execution_count": 120,
   "id": "efc0968c",
   "metadata": {},
   "outputs": [],
   "source": [
    "predictions1 = classifier1.predict(X_test)"
   ]
  },
  {
   "cell_type": "code",
   "execution_count": 108,
   "id": "d13b488d",
   "metadata": {},
   "outputs": [],
   "source": [
    "predictions2 = classifier2.predict(X_test)"
   ]
  },
  {
   "cell_type": "code",
   "execution_count": 104,
   "id": "7f46f902",
   "metadata": {},
   "outputs": [],
   "source": [
    "predictions3 = classifier3.predict(X_test)"
   ]
  },
  {
   "cell_type": "code",
   "execution_count": 109,
   "id": "b415d7d7",
   "metadata": {},
   "outputs": [],
   "source": [
    "#metrics\n",
    "from sklearn import metrics\n",
    "from sklearn.metrics import classification_report,confusion_matrix"
   ]
  },
  {
   "cell_type": "code",
   "execution_count": 121,
   "id": "0c9b89c8",
   "metadata": {},
   "outputs": [
    {
     "name": "stdout",
     "output_type": "stream",
     "text": [
      "The project accuracy is 68.0 %\n"
     ]
    }
   ],
   "source": [
    "# Print the overall accuracy\n",
    "print(f\"The project accuracy is {round(metrics.accuracy_score(y_test,predictions1),2)*100} %\")"
   ]
  },
  {
   "cell_type": "code",
   "execution_count": 122,
   "id": "662fdf7d",
   "metadata": {},
   "outputs": [
    {
     "name": "stdout",
     "output_type": "stream",
     "text": [
      "                    precision    recall  f1-score   support\n",
      "\n",
      "           Average       0.65      0.87      0.75      1951\n",
      "     Below Average       0.63      0.29      0.40       603\n",
      "Highly Recommended       0.76      0.53      0.62      1098\n",
      "\n",
      "          accuracy                           0.67      3652\n",
      "         macro avg       0.68      0.57      0.59      3652\n",
      "      weighted avg       0.68      0.67      0.65      3652\n",
      "\n"
     ]
    }
   ],
   "source": [
    "print(classification_report(y_test,predictions))"
   ]
  },
  {
   "cell_type": "code",
   "execution_count": 63,
   "id": "8da67d17",
   "metadata": {},
   "outputs": [
    {
     "data": {
      "text/html": [
       "<div>\n",
       "<style scoped>\n",
       "    .dataframe tbody tr th:only-of-type {\n",
       "        vertical-align: middle;\n",
       "    }\n",
       "\n",
       "    .dataframe tbody tr th {\n",
       "        vertical-align: top;\n",
       "    }\n",
       "\n",
       "    .dataframe thead th {\n",
       "        text-align: right;\n",
       "    }\n",
       "</style>\n",
       "<table border=\"1\" class=\"dataframe\">\n",
       "  <thead>\n",
       "    <tr style=\"text-align: right;\">\n",
       "      <th></th>\n",
       "      <th>reviews_list</th>\n",
       "      <th>rate</th>\n",
       "      <th>clean_text</th>\n",
       "      <th>ExtractedRate</th>\n",
       "      <th>rate_cat</th>\n",
       "      <th>text_no_stopwords</th>\n",
       "      <th>lemmatizer</th>\n",
       "    </tr>\n",
       "  </thead>\n",
       "  <tbody>\n",
       "    <tr>\n",
       "      <th>0</th>\n",
       "      <td>[('Rated 4.0', 'RATED\\n  Excellent food I had ...</td>\n",
       "      <td>4.0</td>\n",
       "      <td>excellent food i had a spicy corn soup and sh...</td>\n",
       "      <td>4.17</td>\n",
       "      <td>Highly Recommended</td>\n",
       "      <td>excellent food spicy corn soup sholey ke panee...</td>\n",
       "      <td>excellent food spicy corn soup sholey ke panee...</td>\n",
       "    </tr>\n",
       "    <tr>\n",
       "      <th>2</th>\n",
       "      <td>[('Rated 5.0', \"RATED\\n  After roaming around ...</td>\n",
       "      <td>4.1</td>\n",
       "      <td>after roaming around neighborhood we landed h...</td>\n",
       "      <td>3.39</td>\n",
       "      <td>Average</td>\n",
       "      <td>roaming neighborhood landed lunch spacious res...</td>\n",
       "      <td>roaming neighborhood landed lunch spacious res...</td>\n",
       "    </tr>\n",
       "    <tr>\n",
       "      <th>3</th>\n",
       "      <td>[('Rated 5.0', \"RATED\\n  After roaming around ...</td>\n",
       "      <td>4.1</td>\n",
       "      <td>after roaming around neighborhood we landed h...</td>\n",
       "      <td>3.54</td>\n",
       "      <td>Average</td>\n",
       "      <td>roaming neighborhood landed lunch spacious res...</td>\n",
       "      <td>roaming neighborhood landed lunch spacious res...</td>\n",
       "    </tr>\n",
       "    <tr>\n",
       "      <th>4</th>\n",
       "      <td>[('Rated 4.0', \"RATED\\n  Been here twice now a...</td>\n",
       "      <td>4.1</td>\n",
       "      <td>been here twice now and i love this place the...</td>\n",
       "      <td>3.88</td>\n",
       "      <td>Average</td>\n",
       "      <td>twice love place ambiance good food tastes gre...</td>\n",
       "      <td>twice love place ambiance good food taste grea...</td>\n",
       "    </tr>\n",
       "    <tr>\n",
       "      <th>5</th>\n",
       "      <td>[('Rated 4.0', 'RATED\\n  This is a pure vegeta...</td>\n",
       "      <td>4.1</td>\n",
       "      <td>this is a pure vegetarian restaurant located ...</td>\n",
       "      <td>3.55</td>\n",
       "      <td>Average</td>\n",
       "      <td>pure vegetarian restaurant located th floor pr...</td>\n",
       "      <td>pure vegetarian restaurant located th floor pr...</td>\n",
       "    </tr>\n",
       "  </tbody>\n",
       "</table>\n",
       "</div>"
      ],
      "text/plain": [
       "                                        reviews_list  rate  \\\n",
       "0  [('Rated 4.0', 'RATED\\n  Excellent food I had ...   4.0   \n",
       "2  [('Rated 5.0', \"RATED\\n  After roaming around ...   4.1   \n",
       "3  [('Rated 5.0', \"RATED\\n  After roaming around ...   4.1   \n",
       "4  [('Rated 4.0', \"RATED\\n  Been here twice now a...  4.1    \n",
       "5  [('Rated 4.0', 'RATED\\n  This is a pure vegeta...   4.1   \n",
       "\n",
       "                                          clean_text  ExtractedRate  \\\n",
       "0   excellent food i had a spicy corn soup and sh...           4.17   \n",
       "2   after roaming around neighborhood we landed h...           3.39   \n",
       "3   after roaming around neighborhood we landed h...           3.54   \n",
       "4   been here twice now and i love this place the...           3.88   \n",
       "5   this is a pure vegetarian restaurant located ...           3.55   \n",
       "\n",
       "             rate_cat                                  text_no_stopwords  \\\n",
       "0  Highly Recommended  excellent food spicy corn soup sholey ke panee...   \n",
       "2             Average  roaming neighborhood landed lunch spacious res...   \n",
       "3             Average  roaming neighborhood landed lunch spacious res...   \n",
       "4             Average  twice love place ambiance good food tastes gre...   \n",
       "5             Average  pure vegetarian restaurant located th floor pr...   \n",
       "\n",
       "                                          lemmatizer  \n",
       "0  excellent food spicy corn soup sholey ke panee...  \n",
       "2  roaming neighborhood landed lunch spacious res...  \n",
       "3  roaming neighborhood landed lunch spacious res...  \n",
       "4  twice love place ambiance good food taste grea...  \n",
       "5  pure vegetarian restaurant located th floor pr...  "
      ]
     },
     "execution_count": 63,
     "metadata": {},
     "output_type": "execute_result"
    }
   ],
   "source": [
    "reviews.head(5)"
   ]
  },
  {
   "cell_type": "code",
   "execution_count": null,
   "id": "02b2abd7",
   "metadata": {},
   "outputs": [],
   "source": [
    "final_ratings = df['reviews_list'].apply(lambda x:rate_extractor(x))"
   ]
  },
  {
   "cell_type": "code",
   "execution_count": null,
   "id": "c15bd258",
   "metadata": {},
   "outputs": [],
   "source": [
    "df2=pd.DataFrame(final_ratings)\n",
    "df2.shape"
   ]
  },
  {
   "cell_type": "code",
   "execution_count": null,
   "id": "9f1c6c37",
   "metadata": {},
   "outputs": [],
   "source": [
    "data_merge1 = pd.merge(df1,reviews['rate'],how=\"left\",left_index = True,right_index = True) # left join based on index                     "
   ]
  },
  {
   "cell_type": "code",
   "execution_count": null,
   "id": "da86d9fc",
   "metadata": {},
   "outputs": [],
   "source": [
    "data_merge1 = pd.merge(data_merge1,df2,how=\"left\",left_index = True,right_index = True)"
   ]
  },
  {
   "cell_type": "code",
   "execution_count": null,
   "id": "6d41572e",
   "metadata": {},
   "outputs": [],
   "source": [
    "data_merge1 = pd.merge(data_merge1,df3,how=\"left\",left_index = True,right_index = True)"
   ]
  },
  {
   "cell_type": "code",
   "execution_count": null,
   "id": "1c42a36e",
   "metadata": {},
   "outputs": [],
   "source": [
    "data_merge1.rename(columns={0:'CleanReviews',\"reviews_list\":\"ExtractedRate\"},inplace=True)"
   ]
  },
  {
   "cell_type": "code",
   "execution_count": null,
   "id": "1d62df74",
   "metadata": {
    "scrolled": false
   },
   "outputs": [],
   "source": [
    "data_merge1"
   ]
  },
  {
   "cell_type": "code",
   "execution_count": null,
   "id": "78f063bd",
   "metadata": {
    "scrolled": true
   },
   "outputs": [],
   "source": [
    "#plt.figure(figsize=(12,6))\n",
    "#sns.distplot(data_merge1['ExtractedRate'],color='blue')"
   ]
  },
  {
   "cell_type": "code",
   "execution_count": null,
   "id": "b4d33ccd",
   "metadata": {
    "scrolled": true
   },
   "outputs": [],
   "source": [
    " #udne consideration\n",
    "#sns.heatmap(data_merge1.isnull())"
   ]
  },
  {
   "cell_type": "code",
   "execution_count": null,
   "id": "956bc441",
   "metadata": {},
   "outputs": [],
   "source": [
    "data_merge1['rate_cat'] = pd.cut(x=data_merge1['ExtractedRate'], bins=[0,3,4.0,5],\n",
    "                    labels=['Below Average', 'Average','Highly Recommended'\n",
    "                            ]).astype(str)"
   ]
  },
  {
   "cell_type": "code",
   "execution_count": null,
   "id": "99106ad1",
   "metadata": {
    "scrolled": true
   },
   "outputs": [],
   "source": [
    "rate_cat.value_counts()"
   ]
  },
  {
   "cell_type": "code",
   "execution_count": null,
   "id": "42298871",
   "metadata": {},
   "outputs": [],
   "source": [
    "data_merge1[data_merge1['rate_cat']=='nan']"
   ]
  },
  {
   "cell_type": "code",
   "execution_count": null,
   "id": "d4317273",
   "metadata": {},
   "outputs": [],
   "source": [
    "data_merge1.describe()"
   ]
  },
  {
   "cell_type": "code",
   "execution_count": null,
   "id": "990135e6",
   "metadata": {},
   "outputs": [],
   "source": [
    "#leave te last code its just for my reference "
   ]
  },
  {
   "cell_type": "code",
   "execution_count": null,
   "id": "7d98145e",
   "metadata": {},
   "outputs": [],
   "source": [
    "#function for extracting rate from reviews \n",
    "def rate_extractor(review):\n",
    "    patterns=r\"Rated (\\d)\"\n",
    "    text=re.findall(patterns,review)\n",
    "    if len(text)==0:\n",
    "        text=['0.0']\n",
    "    return round(np.mean(list(map(float,text))),2)"
   ]
  },
  {
   "cell_type": "code",
   "execution_count": null,
   "id": "8af65acd",
   "metadata": {},
   "outputs": [],
   "source": [
    "rating_from_reviews =[]\n",
    "def rate_extractor2(rate):\n",
    "    for i, in :\n",
    "        patterns= r\"Rated\\s\\d\"\n",
    "        text = re.findall(patterns,sentences)\n",
    "        if len(text)==0:\n",
    "            rating_from_reviews.append(round((sum(text)/(len(text)+1)),1))\n",
    "        else:\n",
    "            text= [phrase.split(' ')[1] for phrase in text]\n",
    "            text = list(map(int, text))\n",
    "            rating_from_reviews.append(round((sum(text)/len(text)),1))"
   ]
  },
  {
   "cell_type": "code",
   "execution_count": null,
   "id": "90e98823",
   "metadata": {},
   "outputs": [],
   "source": []
  }
 ],
 "metadata": {
  "kernelspec": {
   "display_name": "Python 3 (ipykernel)",
   "language": "python",
   "name": "python3"
  },
  "language_info": {
   "codemirror_mode": {
    "name": "ipython",
    "version": 3
   },
   "file_extension": ".py",
   "mimetype": "text/x-python",
   "name": "python",
   "nbconvert_exporter": "python",
   "pygments_lexer": "ipython3",
   "version": "3.9.12"
  }
 },
 "nbformat": 4,
 "nbformat_minor": 5
}
