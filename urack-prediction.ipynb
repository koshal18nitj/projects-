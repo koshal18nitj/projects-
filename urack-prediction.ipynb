{
 "cells": [
  {
   "cell_type": "code",
   "execution_count": 1,
   "id": "f6d385f5",
   "metadata": {
    "execution": {
     "iopub.execute_input": "2022-07-20T05:32:47.436769Z",
     "iopub.status.busy": "2022-07-20T05:32:47.436172Z",
     "iopub.status.idle": "2022-07-20T05:32:48.664335Z",
     "shell.execute_reply": "2022-07-20T05:32:48.663139Z"
    },
    "papermill": {
     "duration": 1.261816,
     "end_time": "2022-07-20T05:32:48.667312",
     "exception": false,
     "start_time": "2022-07-20T05:32:47.405496",
     "status": "completed"
    },
    "tags": []
   },
   "outputs": [],
   "source": [
    "import pandas as pd\n",
    "import numpy as np\n",
    "import seaborn as sns\n",
    "import matplotlib.pyplot as plt\n",
    "%matplotlib inline"
   ]
  },
  {
   "cell_type": "code",
   "execution_count": 2,
   "id": "12e51bd6",
   "metadata": {
    "execution": {
     "iopub.execute_input": "2022-07-20T05:32:48.718577Z",
     "iopub.status.busy": "2022-07-20T05:32:48.718154Z",
     "iopub.status.idle": "2022-07-20T05:32:48.724434Z",
     "shell.execute_reply": "2022-07-20T05:32:48.723268Z"
    },
    "papermill": {
     "duration": 0.034132,
     "end_time": "2022-07-20T05:32:48.726796",
     "exception": false,
     "start_time": "2022-07-20T05:32:48.692664",
     "status": "completed"
    },
    "tags": []
   },
   "outputs": [],
   "source": [
    "sns.set_context('poster')\n",
    "sns.set_style('dark')\n",
    "sns.set(rc={\"figure.figsize\":(12, 5)})"
   ]
  },
  {
   "cell_type": "code",
   "execution_count": 3,
   "id": "60d65189",
   "metadata": {
    "execution": {
     "iopub.execute_input": "2022-07-20T05:32:48.777101Z",
     "iopub.status.busy": "2022-07-20T05:32:48.776383Z",
     "iopub.status.idle": "2022-07-20T05:32:48.793010Z",
     "shell.execute_reply": "2022-07-20T05:32:48.792095Z"
    },
    "papermill": {
     "duration": 0.044616,
     "end_time": "2022-07-20T05:32:48.795593",
     "exception": false,
     "start_time": "2022-07-20T05:32:48.750977",
     "status": "completed"
    },
    "tags": []
   },
   "outputs": [],
   "source": [
    "store = pd.read_csv(\"../input/urack-dataset/store.csv\")"
   ]
  },
  {
   "cell_type": "code",
   "execution_count": 4,
   "id": "0d084a71",
   "metadata": {
    "execution": {
     "iopub.execute_input": "2022-07-20T05:32:48.847928Z",
     "iopub.status.busy": "2022-07-20T05:32:48.847483Z",
     "iopub.status.idle": "2022-07-20T05:32:48.873154Z",
     "shell.execute_reply": "2022-07-20T05:32:48.872222Z"
    },
    "papermill": {
     "duration": 0.055412,
     "end_time": "2022-07-20T05:32:48.875627",
     "exception": false,
     "start_time": "2022-07-20T05:32:48.820215",
     "status": "completed"
    },
    "tags": []
   },
   "outputs": [
    {
     "data": {
      "text/html": [
       "<div>\n",
       "<style scoped>\n",
       "    .dataframe tbody tr th:only-of-type {\n",
       "        vertical-align: middle;\n",
       "    }\n",
       "\n",
       "    .dataframe tbody tr th {\n",
       "        vertical-align: top;\n",
       "    }\n",
       "\n",
       "    .dataframe thead th {\n",
       "        text-align: right;\n",
       "    }\n",
       "</style>\n",
       "<table border=\"1\" class=\"dataframe\">\n",
       "  <thead>\n",
       "    <tr style=\"text-align: right;\">\n",
       "      <th></th>\n",
       "      <th>StoreID</th>\n",
       "      <th>LocalityType</th>\n",
       "      <th>ProductMix</th>\n",
       "      <th>PromoCont</th>\n",
       "      <th>PromoContStartWeek</th>\n",
       "      <th>PromoContStartYear</th>\n",
       "      <th>CompetitionDistance</th>\n",
       "      <th>CompetitionMonth</th>\n",
       "      <th>CompetitionYear</th>\n",
       "    </tr>\n",
       "  </thead>\n",
       "  <tbody>\n",
       "    <tr>\n",
       "      <th>0</th>\n",
       "      <td>1</td>\n",
       "      <td>type3</td>\n",
       "      <td>Essentials</td>\n",
       "      <td>0</td>\n",
       "      <td>NaN</td>\n",
       "      <td>NaN</td>\n",
       "      <td>1270.0</td>\n",
       "      <td>9.0</td>\n",
       "      <td>2008.0</td>\n",
       "    </tr>\n",
       "    <tr>\n",
       "      <th>1</th>\n",
       "      <td>2</td>\n",
       "      <td>type1</td>\n",
       "      <td>Essentials</td>\n",
       "      <td>1</td>\n",
       "      <td>13.0</td>\n",
       "      <td>2010.0</td>\n",
       "      <td>570.0</td>\n",
       "      <td>11.0</td>\n",
       "      <td>2007.0</td>\n",
       "    </tr>\n",
       "    <tr>\n",
       "      <th>2</th>\n",
       "      <td>3</td>\n",
       "      <td>type1</td>\n",
       "      <td>Essentials</td>\n",
       "      <td>1</td>\n",
       "      <td>14.0</td>\n",
       "      <td>2011.0</td>\n",
       "      <td>14130.0</td>\n",
       "      <td>12.0</td>\n",
       "      <td>2006.0</td>\n",
       "    </tr>\n",
       "  </tbody>\n",
       "</table>\n",
       "</div>"
      ],
      "text/plain": [
       "   StoreID LocalityType  ProductMix  PromoCont  PromoContStartWeek  \\\n",
       "0        1        type3  Essentials          0                 NaN   \n",
       "1        2        type1  Essentials          1                13.0   \n",
       "2        3        type1  Essentials          1                14.0   \n",
       "\n",
       "   PromoContStartYear  CompetitionDistance  CompetitionMonth  CompetitionYear  \n",
       "0                 NaN               1270.0               9.0           2008.0  \n",
       "1              2010.0                570.0              11.0           2007.0  \n",
       "2              2011.0              14130.0              12.0           2006.0  "
      ]
     },
     "execution_count": 4,
     "metadata": {},
     "output_type": "execute_result"
    }
   ],
   "source": [
    "store.head(3)"
   ]
  },
  {
   "cell_type": "code",
   "execution_count": 5,
   "id": "702e07d5",
   "metadata": {
    "execution": {
     "iopub.execute_input": "2022-07-20T05:32:48.928032Z",
     "iopub.status.busy": "2022-07-20T05:32:48.927563Z",
     "iopub.status.idle": "2022-07-20T05:32:48.956136Z",
     "shell.execute_reply": "2022-07-20T05:32:48.954924Z"
    },
    "papermill": {
     "duration": 0.057733,
     "end_time": "2022-07-20T05:32:48.959055",
     "exception": false,
     "start_time": "2022-07-20T05:32:48.901322",
     "status": "completed"
    },
    "tags": []
   },
   "outputs": [
    {
     "name": "stdout",
     "output_type": "stream",
     "text": [
      "<class 'pandas.core.frame.DataFrame'>\n",
      "RangeIndex: 1115 entries, 0 to 1114\n",
      "Data columns (total 9 columns):\n",
      " #   Column               Non-Null Count  Dtype  \n",
      "---  ------               --------------  -----  \n",
      " 0   StoreID              1115 non-null   int64  \n",
      " 1   LocalityType         1115 non-null   object \n",
      " 2   ProductMix           1115 non-null   object \n",
      " 3   PromoCont            1115 non-null   int64  \n",
      " 4   PromoContStartWeek   571 non-null    float64\n",
      " 5   PromoContStartYear   571 non-null    float64\n",
      " 6   CompetitionDistance  1112 non-null   float64\n",
      " 7   CompetitionMonth     761 non-null    float64\n",
      " 8   CompetitionYear      761 non-null    float64\n",
      "dtypes: float64(5), int64(2), object(2)\n",
      "memory usage: 78.5+ KB\n"
     ]
    }
   ],
   "source": [
    "store.info()"
   ]
  },
  {
   "cell_type": "code",
   "execution_count": 6,
   "id": "7d7e9abc",
   "metadata": {
    "execution": {
     "iopub.execute_input": "2022-07-20T05:32:49.011068Z",
     "iopub.status.busy": "2022-07-20T05:32:49.010629Z",
     "iopub.status.idle": "2022-07-20T05:32:49.284432Z",
     "shell.execute_reply": "2022-07-20T05:32:49.283560Z"
    },
    "papermill": {
     "duration": 0.302283,
     "end_time": "2022-07-20T05:32:49.286852",
     "exception": false,
     "start_time": "2022-07-20T05:32:48.984569",
     "status": "completed"
    },
    "tags": []
   },
   "outputs": [
    {
     "data": {
      "text/plain": [
       "<AxesSubplot:>"
      ]
     },
     "execution_count": 6,
     "metadata": {},
     "output_type": "execute_result"
    },
    {
     "data": {
      "image/png": "[encoded data removed]",
      "text/plain": [
       "<Figure size 864x360 with 1 Axes>"
      ]
     },
     "metadata": {},
     "output_type": "display_data"
    }
   ],
   "source": [
    "sns.heatmap(store.isnull(),cmap='viridis',yticklabels=False,cbar=False)"
   ]
  },
  {
   "cell_type": "code",
   "execution_count": 7,
   "id": "4da2e9a1",
   "metadata": {
    "execution": {
     "iopub.execute_input": "2022-07-20T05:32:49.341241Z",
     "iopub.status.busy": "2022-07-20T05:32:49.340687Z",
     "iopub.status.idle": "2022-07-20T05:32:49.346994Z",
     "shell.execute_reply": "2022-07-20T05:32:49.346184Z"
    },
    "papermill": {
     "duration": 0.036328,
     "end_time": "2022-07-20T05:32:49.349081",
     "exception": false,
     "start_time": "2022-07-20T05:32:49.312753",
     "status": "completed"
    },
    "tags": []
   },
   "outputs": [
    {
     "data": {
      "text/plain": [
       "1115"
      ]
     },
     "execution_count": 7,
     "metadata": {},
     "output_type": "execute_result"
    }
   ],
   "source": [
    "store.shape[0]"
   ]
  },
  {
   "cell_type": "code",
   "execution_count": 8,
   "id": "367494e6",
   "metadata": {
    "execution": {
     "iopub.execute_input": "2022-07-20T05:32:49.403917Z",
     "iopub.status.busy": "2022-07-20T05:32:49.402829Z",
     "iopub.status.idle": "2022-07-20T05:32:49.412975Z",
     "shell.execute_reply": "2022-07-20T05:32:49.412059Z"
    },
    "papermill": {
     "duration": 0.039379,
     "end_time": "2022-07-20T05:32:49.415358",
     "exception": false,
     "start_time": "2022-07-20T05:32:49.375979",
     "status": "completed"
    },
    "tags": []
   },
   "outputs": [
    {
     "data": {
      "text/plain": [
       "544"
      ]
     },
     "execution_count": 8,
     "metadata": {},
     "output_type": "execute_result"
    }
   ],
   "source": [
    "store[(store['PromoCont']== 0) & (store['PromoContStartWeek'].isnull())].shape[0]"
   ]
  },
  {
   "cell_type": "code",
   "execution_count": 9,
   "id": "b5b5f6d0",
   "metadata": {
    "execution": {
     "iopub.execute_input": "2022-07-20T05:32:49.470963Z",
     "iopub.status.busy": "2022-07-20T05:32:49.470150Z",
     "iopub.status.idle": "2022-07-20T05:32:49.478676Z",
     "shell.execute_reply": "2022-07-20T05:32:49.477418Z"
    },
    "papermill": {
     "duration": 0.038954,
     "end_time": "2022-07-20T05:32:49.481389",
     "exception": false,
     "start_time": "2022-07-20T05:32:49.442435",
     "status": "completed"
    },
    "tags": []
   },
   "outputs": [
    {
     "data": {
      "text/plain": [
       "544"
      ]
     },
     "execution_count": 9,
     "metadata": {},
     "output_type": "execute_result"
    }
   ],
   "source": [
    "store[(store['PromoCont']== 0) & (store['PromoContStartYear'].isnull())].shape[0]"
   ]
  },
  {
   "cell_type": "markdown",
   "id": "8ea8716b",
   "metadata": {
    "papermill": {
     "duration": 0.025899,
     "end_time": "2022-07-20T05:32:49.533200",
     "exception": false,
     "start_time": "2022-07-20T05:32:49.507301",
     "status": "completed"
    },
    "tags": []
   },
   "source": [
    "#### The number of missing values in PromoContStartWeek and PromoContStartWeek is equals to the number of values equals to 0 in PromoCont , i.e. 544 . Hence, replace all NAN with 0. "
   ]
  },
  {
   "cell_type": "code",
   "execution_count": 10,
   "id": "b5ec3e78",
   "metadata": {
    "execution": {
     "iopub.execute_input": "2022-07-20T05:32:49.587985Z",
     "iopub.status.busy": "2022-07-20T05:32:49.587220Z",
     "iopub.status.idle": "2022-07-20T05:32:49.592278Z",
     "shell.execute_reply": "2022-07-20T05:32:49.591492Z"
    },
    "papermill": {
     "duration": 0.035287,
     "end_time": "2022-07-20T05:32:49.594542",
     "exception": false,
     "start_time": "2022-07-20T05:32:49.559255",
     "status": "completed"
    },
    "tags": []
   },
   "outputs": [],
   "source": [
    "store['PromoContStartWeek'].fillna(value=0,inplace=True)"
   ]
  },
  {
   "cell_type": "code",
   "execution_count": 11,
   "id": "c7e3a4f3",
   "metadata": {
    "execution": {
     "iopub.execute_input": "2022-07-20T05:32:49.649876Z",
     "iopub.status.busy": "2022-07-20T05:32:49.649073Z",
     "iopub.status.idle": "2022-07-20T05:32:49.654370Z",
     "shell.execute_reply": "2022-07-20T05:32:49.653279Z"
    },
    "papermill": {
     "duration": 0.035218,
     "end_time": "2022-07-20T05:32:49.656823",
     "exception": false,
     "start_time": "2022-07-20T05:32:49.621605",
     "status": "completed"
    },
    "tags": []
   },
   "outputs": [],
   "source": [
    "store['PromoContStartYear'].fillna(value=0,inplace=True)"
   ]
  },
  {
   "cell_type": "code",
   "execution_count": 12,
   "id": "61cadf24",
   "metadata": {
    "execution": {
     "iopub.execute_input": "2022-07-20T05:32:49.711741Z",
     "iopub.status.busy": "2022-07-20T05:32:49.710964Z",
     "iopub.status.idle": "2022-07-20T05:32:49.927270Z",
     "shell.execute_reply": "2022-07-20T05:32:49.926088Z"
    },
    "papermill": {
     "duration": 0.246381,
     "end_time": "2022-07-20T05:32:49.929837",
     "exception": false,
     "start_time": "2022-07-20T05:32:49.683456",
     "status": "completed"
    },
    "tags": []
   },
   "outputs": [
    {
     "data": {
      "text/plain": [
       "<AxesSubplot:>"
      ]
     },
     "execution_count": 12,
     "metadata": {},
     "output_type": "execute_result"
    },
    {
     "data": {
      "image/png": "[encoded data removed]",
      "text/plain": [
       "<Figure size 864x360 with 1 Axes>"
      ]
     },
     "metadata": {},
     "output_type": "display_data"
    }
   ],
   "source": [
    "sns.heatmap(store.isnull(),cmap='viridis',yticklabels=False,cbar=False)"
   ]
  },
  {
   "cell_type": "code",
   "execution_count": 13,
   "id": "e8953675",
   "metadata": {
    "execution": {
     "iopub.execute_input": "2022-07-20T05:32:49.985343Z",
     "iopub.status.busy": "2022-07-20T05:32:49.984949Z",
     "iopub.status.idle": "2022-07-20T05:32:49.993453Z",
     "shell.execute_reply": "2022-07-20T05:32:49.992628Z"
    },
    "papermill": {
     "duration": 0.038533,
     "end_time": "2022-07-20T05:32:49.995421",
     "exception": false,
     "start_time": "2022-07-20T05:32:49.956888",
     "status": "completed"
    },
    "tags": []
   },
   "outputs": [
    {
     "data": {
      "text/plain": [
       "354"
      ]
     },
     "execution_count": 13,
     "metadata": {},
     "output_type": "execute_result"
    }
   ],
   "source": [
    "store[(store['CompetitionMonth'].isna()) & (store['CompetitionYear'].isna())].shape[0]"
   ]
  },
  {
   "cell_type": "code",
   "execution_count": 14,
   "id": "850110c5",
   "metadata": {
    "execution": {
     "iopub.execute_input": "2022-07-20T05:32:50.052048Z",
     "iopub.status.busy": "2022-07-20T05:32:50.051332Z",
     "iopub.status.idle": "2022-07-20T05:32:50.066163Z",
     "shell.execute_reply": "2022-07-20T05:32:50.065084Z"
    },
    "papermill": {
     "duration": 0.046211,
     "end_time": "2022-07-20T05:32:50.068406",
     "exception": false,
     "start_time": "2022-07-20T05:32:50.022195",
     "status": "completed"
    },
    "tags": []
   },
   "outputs": [
    {
     "data": {
      "text/html": [
       "<div>\n",
       "<style scoped>\n",
       "    .dataframe tbody tr th:only-of-type {\n",
       "        vertical-align: middle;\n",
       "    }\n",
       "\n",
       "    .dataframe tbody tr th {\n",
       "        vertical-align: top;\n",
       "    }\n",
       "\n",
       "    .dataframe thead th {\n",
       "        text-align: right;\n",
       "    }\n",
       "</style>\n",
       "<table border=\"1\" class=\"dataframe\">\n",
       "  <thead>\n",
       "    <tr style=\"text-align: right;\">\n",
       "      <th></th>\n",
       "      <th>StoreID</th>\n",
       "      <th>LocalityType</th>\n",
       "      <th>ProductMix</th>\n",
       "      <th>PromoCont</th>\n",
       "      <th>PromoContStartWeek</th>\n",
       "      <th>PromoContStartYear</th>\n",
       "      <th>CompetitionDistance</th>\n",
       "      <th>CompetitionMonth</th>\n",
       "      <th>CompetitionYear</th>\n",
       "    </tr>\n",
       "  </thead>\n",
       "  <tbody>\n",
       "    <tr>\n",
       "      <th>0</th>\n",
       "      <td>1</td>\n",
       "      <td>type3</td>\n",
       "      <td>Essentials</td>\n",
       "      <td>0</td>\n",
       "      <td>0.0</td>\n",
       "      <td>0.0</td>\n",
       "      <td>1270.0</td>\n",
       "      <td>9.0</td>\n",
       "      <td>2008.0</td>\n",
       "    </tr>\n",
       "    <tr>\n",
       "      <th>1</th>\n",
       "      <td>2</td>\n",
       "      <td>type1</td>\n",
       "      <td>Essentials</td>\n",
       "      <td>1</td>\n",
       "      <td>13.0</td>\n",
       "      <td>2010.0</td>\n",
       "      <td>570.0</td>\n",
       "      <td>11.0</td>\n",
       "      <td>2007.0</td>\n",
       "    </tr>\n",
       "  </tbody>\n",
       "</table>\n",
       "</div>"
      ],
      "text/plain": [
       "   StoreID LocalityType  ProductMix  PromoCont  PromoContStartWeek  \\\n",
       "0        1        type3  Essentials          0                 0.0   \n",
       "1        2        type1  Essentials          1                13.0   \n",
       "\n",
       "   PromoContStartYear  CompetitionDistance  CompetitionMonth  CompetitionYear  \n",
       "0                 0.0               1270.0               9.0           2008.0  \n",
       "1              2010.0                570.0              11.0           2007.0  "
      ]
     },
     "execution_count": 14,
     "metadata": {},
     "output_type": "execute_result"
    }
   ],
   "source": [
    "store.head(2)"
   ]
  },
  {
   "cell_type": "code",
   "execution_count": 15,
   "id": "b86e5434",
   "metadata": {
    "execution": {
     "iopub.execute_input": "2022-07-20T05:32:50.124210Z",
     "iopub.status.busy": "2022-07-20T05:32:50.123456Z",
     "iopub.status.idle": "2022-07-20T05:32:50.157516Z",
     "shell.execute_reply": "2022-07-20T05:32:50.156333Z"
    },
    "papermill": {
     "duration": 0.065103,
     "end_time": "2022-07-20T05:32:50.160245",
     "exception": false,
     "start_time": "2022-07-20T05:32:50.095142",
     "status": "completed"
    },
    "tags": []
   },
   "outputs": [
    {
     "data": {
      "text/html": [
       "<div>\n",
       "<style scoped>\n",
       "    .dataframe tbody tr th:only-of-type {\n",
       "        vertical-align: middle;\n",
       "    }\n",
       "\n",
       "    .dataframe tbody tr th {\n",
       "        vertical-align: top;\n",
       "    }\n",
       "\n",
       "    .dataframe thead th {\n",
       "        text-align: right;\n",
       "    }\n",
       "</style>\n",
       "<table border=\"1\" class=\"dataframe\">\n",
       "  <thead>\n",
       "    <tr style=\"text-align: right;\">\n",
       "      <th></th>\n",
       "      <th>StoreID</th>\n",
       "      <th>PromoCont</th>\n",
       "      <th>PromoContStartWeek</th>\n",
       "      <th>PromoContStartYear</th>\n",
       "      <th>CompetitionDistance</th>\n",
       "      <th>CompetitionMonth</th>\n",
       "      <th>CompetitionYear</th>\n",
       "    </tr>\n",
       "  </thead>\n",
       "  <tbody>\n",
       "    <tr>\n",
       "      <th>count</th>\n",
       "      <td>1115.00000</td>\n",
       "      <td>1115.000000</td>\n",
       "      <td>1115.000000</td>\n",
       "      <td>1115.000000</td>\n",
       "      <td>1112.000000</td>\n",
       "      <td>761.000000</td>\n",
       "      <td>761.000000</td>\n",
       "    </tr>\n",
       "    <tr>\n",
       "      <th>mean</th>\n",
       "      <td>558.00000</td>\n",
       "      <td>0.512108</td>\n",
       "      <td>12.083408</td>\n",
       "      <td>1030.239462</td>\n",
       "      <td>5404.901079</td>\n",
       "      <td>7.224704</td>\n",
       "      <td>2008.668857</td>\n",
       "    </tr>\n",
       "    <tr>\n",
       "      <th>std</th>\n",
       "      <td>322.01708</td>\n",
       "      <td>0.500078</td>\n",
       "      <td>15.542241</td>\n",
       "      <td>1006.038782</td>\n",
       "      <td>7663.174720</td>\n",
       "      <td>3.212348</td>\n",
       "      <td>6.195983</td>\n",
       "    </tr>\n",
       "    <tr>\n",
       "      <th>min</th>\n",
       "      <td>1.00000</td>\n",
       "      <td>0.000000</td>\n",
       "      <td>0.000000</td>\n",
       "      <td>0.000000</td>\n",
       "      <td>20.000000</td>\n",
       "      <td>1.000000</td>\n",
       "      <td>1900.000000</td>\n",
       "    </tr>\n",
       "    <tr>\n",
       "      <th>25%</th>\n",
       "      <td>279.50000</td>\n",
       "      <td>0.000000</td>\n",
       "      <td>0.000000</td>\n",
       "      <td>0.000000</td>\n",
       "      <td>717.500000</td>\n",
       "      <td>4.000000</td>\n",
       "      <td>2006.000000</td>\n",
       "    </tr>\n",
       "    <tr>\n",
       "      <th>50%</th>\n",
       "      <td>558.00000</td>\n",
       "      <td>1.000000</td>\n",
       "      <td>1.000000</td>\n",
       "      <td>2009.000000</td>\n",
       "      <td>2325.000000</td>\n",
       "      <td>8.000000</td>\n",
       "      <td>2010.000000</td>\n",
       "    </tr>\n",
       "    <tr>\n",
       "      <th>75%</th>\n",
       "      <td>836.50000</td>\n",
       "      <td>1.000000</td>\n",
       "      <td>22.000000</td>\n",
       "      <td>2012.000000</td>\n",
       "      <td>6882.500000</td>\n",
       "      <td>10.000000</td>\n",
       "      <td>2013.000000</td>\n",
       "    </tr>\n",
       "    <tr>\n",
       "      <th>max</th>\n",
       "      <td>1115.00000</td>\n",
       "      <td>1.000000</td>\n",
       "      <td>50.000000</td>\n",
       "      <td>2015.000000</td>\n",
       "      <td>75860.000000</td>\n",
       "      <td>12.000000</td>\n",
       "      <td>2015.000000</td>\n",
       "    </tr>\n",
       "  </tbody>\n",
       "</table>\n",
       "</div>"
      ],
      "text/plain": [
       "          StoreID    PromoCont  PromoContStartWeek  PromoContStartYear  \\\n",
       "count  1115.00000  1115.000000         1115.000000         1115.000000   \n",
       "mean    558.00000     0.512108           12.083408         1030.239462   \n",
       "std     322.01708     0.500078           15.542241         1006.038782   \n",
       "min       1.00000     0.000000            0.000000            0.000000   \n",
       "25%     279.50000     0.000000            0.000000            0.000000   \n",
       "50%     558.00000     1.000000            1.000000         2009.000000   \n",
       "75%     836.50000     1.000000           22.000000         2012.000000   \n",
       "max    1115.00000     1.000000           50.000000         2015.000000   \n",
       "\n",
       "       CompetitionDistance  CompetitionMonth  CompetitionYear  \n",
       "count          1112.000000        761.000000       761.000000  \n",
       "mean           5404.901079          7.224704      2008.668857  \n",
       "std            7663.174720          3.212348         6.195983  \n",
       "min              20.000000          1.000000      1900.000000  \n",
       "25%             717.500000          4.000000      2006.000000  \n",
       "50%            2325.000000          8.000000      2010.000000  \n",
       "75%            6882.500000         10.000000      2013.000000  \n",
       "max           75860.000000         12.000000      2015.000000  "
      ]
     },
     "execution_count": 15,
     "metadata": {},
     "output_type": "execute_result"
    }
   ],
   "source": [
    "store.describe()"
   ]
  },
  {
   "cell_type": "code",
   "execution_count": 16,
   "id": "ee617e1c",
   "metadata": {
    "execution": {
     "iopub.execute_input": "2022-07-20T05:32:50.218365Z",
     "iopub.status.busy": "2022-07-20T05:32:50.217958Z",
     "iopub.status.idle": "2022-07-20T05:32:50.497575Z",
     "shell.execute_reply": "2022-07-20T05:32:50.496427Z"
    },
    "papermill": {
     "duration": 0.312222,
     "end_time": "2022-07-20T05:32:50.500426",
     "exception": false,
     "start_time": "2022-07-20T05:32:50.188204",
     "status": "completed"
    },
    "scrolled": true,
    "tags": []
   },
   "outputs": [
    {
     "name": "stderr",
     "output_type": "stream",
     "text": [
      "/opt/conda/lib/python3.7/site-packages/seaborn/_decorators.py:43: FutureWarning: Pass the following variables as keyword args: x, y. From version 0.12, the only valid positional argument will be `data`, and passing other arguments without an explicit keyword will result in an error or misinterpretation.\n",
      "  FutureWarning\n"
     ]
    },
    {
     "data": {
      "text/plain": [
       "<AxesSubplot:xlabel='CompetitionDistance', ylabel='CompetitionMonth'>"
      ]
     },
     "execution_count": 16,
     "metadata": {},
     "output_type": "execute_result"
    },
    {
     "data": {
      "image/png": "[encoded data removed]",
      "text/plain": [
       "<Figure size 864x360 with 1 Axes>"
      ]
     },
     "metadata": {},
     "output_type": "display_data"
    }
   ],
   "source": [
    "sns.scatterplot('CompetitionDistance','CompetitionMonth',data=store)"
   ]
  },
  {
   "cell_type": "code",
   "execution_count": 17,
   "id": "c6badaf8",
   "metadata": {
    "execution": {
     "iopub.execute_input": "2022-07-20T05:32:50.559029Z",
     "iopub.status.busy": "2022-07-20T05:32:50.558378Z",
     "iopub.status.idle": "2022-07-20T05:32:50.565971Z",
     "shell.execute_reply": "2022-07-20T05:32:50.564780Z"
    },
    "papermill": {
     "duration": 0.039703,
     "end_time": "2022-07-20T05:32:50.568186",
     "exception": false,
     "start_time": "2022-07-20T05:32:50.528483",
     "status": "completed"
    },
    "tags": []
   },
   "outputs": [
    {
     "data": {
      "text/plain": [
       "array(['type3', 'type1', 'type4', 'type2'], dtype=object)"
      ]
     },
     "execution_count": 17,
     "metadata": {},
     "output_type": "execute_result"
    }
   ],
   "source": [
    "store['LocalityType'].unique()"
   ]
  },
  {
   "cell_type": "code",
   "execution_count": 18,
   "id": "a99f3fd0",
   "metadata": {
    "execution": {
     "iopub.execute_input": "2022-07-20T05:32:50.626635Z",
     "iopub.status.busy": "2022-07-20T05:32:50.625979Z",
     "iopub.status.idle": "2022-07-20T05:32:50.649082Z",
     "shell.execute_reply": "2022-07-20T05:32:50.648137Z"
    },
    "papermill": {
     "duration": 0.055211,
     "end_time": "2022-07-20T05:32:50.651271",
     "exception": false,
     "start_time": "2022-07-20T05:32:50.596060",
     "status": "completed"
    },
    "tags": []
   },
   "outputs": [
    {
     "data": {
      "text/html": [
       "<div>\n",
       "<style scoped>\n",
       "    .dataframe tbody tr th:only-of-type {\n",
       "        vertical-align: middle;\n",
       "    }\n",
       "\n",
       "    .dataframe tbody tr th {\n",
       "        vertical-align: top;\n",
       "    }\n",
       "\n",
       "    .dataframe thead th {\n",
       "        text-align: right;\n",
       "    }\n",
       "</style>\n",
       "<table border=\"1\" class=\"dataframe\">\n",
       "  <thead>\n",
       "    <tr style=\"text-align: right;\">\n",
       "      <th></th>\n",
       "      <th>StoreID</th>\n",
       "      <th>LocalityType</th>\n",
       "      <th>ProductMix</th>\n",
       "      <th>PromoCont</th>\n",
       "      <th>PromoContStartWeek</th>\n",
       "      <th>PromoContStartYear</th>\n",
       "      <th>CompetitionDistance</th>\n",
       "      <th>CompetitionMonth</th>\n",
       "      <th>CompetitionYear</th>\n",
       "    </tr>\n",
       "  </thead>\n",
       "  <tbody>\n",
       "    <tr>\n",
       "      <th>11</th>\n",
       "      <td>12</td>\n",
       "      <td>type1</td>\n",
       "      <td>LargeVariety</td>\n",
       "      <td>1</td>\n",
       "      <td>13.0</td>\n",
       "      <td>2010.0</td>\n",
       "      <td>1070.0</td>\n",
       "      <td>NaN</td>\n",
       "      <td>NaN</td>\n",
       "    </tr>\n",
       "    <tr>\n",
       "      <th>12</th>\n",
       "      <td>13</td>\n",
       "      <td>type4</td>\n",
       "      <td>Essentials</td>\n",
       "      <td>1</td>\n",
       "      <td>45.0</td>\n",
       "      <td>2009.0</td>\n",
       "      <td>310.0</td>\n",
       "      <td>NaN</td>\n",
       "      <td>NaN</td>\n",
       "    </tr>\n",
       "    <tr>\n",
       "      <th>15</th>\n",
       "      <td>16</td>\n",
       "      <td>type1</td>\n",
       "      <td>LargeVariety</td>\n",
       "      <td>0</td>\n",
       "      <td>0.0</td>\n",
       "      <td>0.0</td>\n",
       "      <td>3270.0</td>\n",
       "      <td>NaN</td>\n",
       "      <td>NaN</td>\n",
       "    </tr>\n",
       "    <tr>\n",
       "      <th>18</th>\n",
       "      <td>19</td>\n",
       "      <td>type1</td>\n",
       "      <td>LargeVariety</td>\n",
       "      <td>1</td>\n",
       "      <td>22.0</td>\n",
       "      <td>2011.0</td>\n",
       "      <td>3240.0</td>\n",
       "      <td>NaN</td>\n",
       "      <td>NaN</td>\n",
       "    </tr>\n",
       "    <tr>\n",
       "      <th>21</th>\n",
       "      <td>22</td>\n",
       "      <td>type1</td>\n",
       "      <td>Essentials</td>\n",
       "      <td>1</td>\n",
       "      <td>22.0</td>\n",
       "      <td>2012.0</td>\n",
       "      <td>1040.0</td>\n",
       "      <td>NaN</td>\n",
       "      <td>NaN</td>\n",
       "    </tr>\n",
       "    <tr>\n",
       "      <th>...</th>\n",
       "      <td>...</td>\n",
       "      <td>...</td>\n",
       "      <td>...</td>\n",
       "      <td>...</td>\n",
       "      <td>...</td>\n",
       "      <td>...</td>\n",
       "      <td>...</td>\n",
       "      <td>...</td>\n",
       "      <td>...</td>\n",
       "    </tr>\n",
       "    <tr>\n",
       "      <th>1095</th>\n",
       "      <td>1096</td>\n",
       "      <td>type1</td>\n",
       "      <td>LargeVariety</td>\n",
       "      <td>1</td>\n",
       "      <td>10.0</td>\n",
       "      <td>2014.0</td>\n",
       "      <td>1130.0</td>\n",
       "      <td>NaN</td>\n",
       "      <td>NaN</td>\n",
       "    </tr>\n",
       "    <tr>\n",
       "      <th>1099</th>\n",
       "      <td>1100</td>\n",
       "      <td>type1</td>\n",
       "      <td>Essentials</td>\n",
       "      <td>1</td>\n",
       "      <td>14.0</td>\n",
       "      <td>2011.0</td>\n",
       "      <td>540.0</td>\n",
       "      <td>NaN</td>\n",
       "      <td>NaN</td>\n",
       "    </tr>\n",
       "    <tr>\n",
       "      <th>1112</th>\n",
       "      <td>1113</td>\n",
       "      <td>type1</td>\n",
       "      <td>LargeVariety</td>\n",
       "      <td>0</td>\n",
       "      <td>0.0</td>\n",
       "      <td>0.0</td>\n",
       "      <td>9260.0</td>\n",
       "      <td>NaN</td>\n",
       "      <td>NaN</td>\n",
       "    </tr>\n",
       "    <tr>\n",
       "      <th>1113</th>\n",
       "      <td>1114</td>\n",
       "      <td>type1</td>\n",
       "      <td>LargeVariety</td>\n",
       "      <td>0</td>\n",
       "      <td>0.0</td>\n",
       "      <td>0.0</td>\n",
       "      <td>870.0</td>\n",
       "      <td>NaN</td>\n",
       "      <td>NaN</td>\n",
       "    </tr>\n",
       "    <tr>\n",
       "      <th>1114</th>\n",
       "      <td>1115</td>\n",
       "      <td>type4</td>\n",
       "      <td>LargeVariety</td>\n",
       "      <td>1</td>\n",
       "      <td>22.0</td>\n",
       "      <td>2012.0</td>\n",
       "      <td>5350.0</td>\n",
       "      <td>NaN</td>\n",
       "      <td>NaN</td>\n",
       "    </tr>\n",
       "  </tbody>\n",
       "</table>\n",
       "<p>354 rows × 9 columns</p>\n",
       "</div>"
      ],
      "text/plain": [
       "      StoreID LocalityType    ProductMix  PromoCont  PromoContStartWeek  \\\n",
       "11         12        type1  LargeVariety          1                13.0   \n",
       "12         13        type4    Essentials          1                45.0   \n",
       "15         16        type1  LargeVariety          0                 0.0   \n",
       "18         19        type1  LargeVariety          1                22.0   \n",
       "21         22        type1    Essentials          1                22.0   \n",
       "...       ...          ...           ...        ...                 ...   \n",
       "1095     1096        type1  LargeVariety          1                10.0   \n",
       "1099     1100        type1    Essentials          1                14.0   \n",
       "1112     1113        type1  LargeVariety          0                 0.0   \n",
       "1113     1114        type1  LargeVariety          0                 0.0   \n",
       "1114     1115        type4  LargeVariety          1                22.0   \n",
       "\n",
       "      PromoContStartYear  CompetitionDistance  CompetitionMonth  \\\n",
       "11                2010.0               1070.0               NaN   \n",
       "12                2009.0                310.0               NaN   \n",
       "15                   0.0               3270.0               NaN   \n",
       "18                2011.0               3240.0               NaN   \n",
       "21                2012.0               1040.0               NaN   \n",
       "...                  ...                  ...               ...   \n",
       "1095              2014.0               1130.0               NaN   \n",
       "1099              2011.0                540.0               NaN   \n",
       "1112                 0.0               9260.0               NaN   \n",
       "1113                 0.0                870.0               NaN   \n",
       "1114              2012.0               5350.0               NaN   \n",
       "\n",
       "      CompetitionYear  \n",
       "11                NaN  \n",
       "12                NaN  \n",
       "15                NaN  \n",
       "18                NaN  \n",
       "21                NaN  \n",
       "...               ...  \n",
       "1095              NaN  \n",
       "1099              NaN  \n",
       "1112              NaN  \n",
       "1113              NaN  \n",
       "1114              NaN  \n",
       "\n",
       "[354 rows x 9 columns]"
      ]
     },
     "execution_count": 18,
     "metadata": {},
     "output_type": "execute_result"
    }
   ],
   "source": [
    "store[store['CompetitionMonth'].isnull()]"
   ]
  },
  {
   "cell_type": "code",
   "execution_count": 19,
   "id": "a6b63e17",
   "metadata": {
    "execution": {
     "iopub.execute_input": "2022-07-20T05:32:50.711059Z",
     "iopub.status.busy": "2022-07-20T05:32:50.710608Z",
     "iopub.status.idle": "2022-07-20T05:32:51.231249Z",
     "shell.execute_reply": "2022-07-20T05:32:51.229959Z"
    },
    "papermill": {
     "duration": 0.553291,
     "end_time": "2022-07-20T05:32:51.233874",
     "exception": false,
     "start_time": "2022-07-20T05:32:50.680583",
     "status": "completed"
    },
    "scrolled": true,
    "tags": []
   },
   "outputs": [
    {
     "name": "stderr",
     "output_type": "stream",
     "text": [
      "/opt/conda/lib/python3.7/site-packages/seaborn/distributions.py:2619: FutureWarning: `distplot` is a deprecated function and will be removed in a future version. Please adapt your code to use either `displot` (a figure-level function with similar flexibility) or `histplot` (an axes-level function for histograms).\n",
      "  warnings.warn(msg, FutureWarning)\n",
      "/opt/conda/lib/python3.7/site-packages/seaborn/distributions.py:2619: FutureWarning: `distplot` is a deprecated function and will be removed in a future version. Please adapt your code to use either `displot` (a figure-level function with similar flexibility) or `histplot` (an axes-level function for histograms).\n",
      "  warnings.warn(msg, FutureWarning)\n"
     ]
    },
    {
     "data": {
      "text/plain": [
       "<AxesSubplot:xlabel='CompetitionMonth', ylabel='Density'>"
      ]
     },
     "execution_count": 19,
     "metadata": {},
     "output_type": "execute_result"
    },
    {
     "data": {
      "image/png": "[encoded data removed]",
      "text/plain": [
       "<Figure size 864x360 with 2 Axes>"
      ]
     },
     "metadata": {},
     "output_type": "display_data"
    }
   ],
   "source": [
    "plt.subplot(1,2,1)\n",
    "sns.distplot(store[(store['CompetitionMonth'].isnull()==False) & (store['LocalityType']=='type1')].groupby(['LocalityType','CompetitionDistance'])['CompetitionMonth'].mean())\n",
    "\n",
    "plt.subplot(1,2,2)\n",
    "sns.distplot(store[(store['CompetitionMonth'].isnull()==False) & (store['LocalityType']=='type2')].groupby(['LocalityType','CompetitionDistance'])['CompetitionMonth'].mean())\n"
   ]
  },
  {
   "cell_type": "code",
   "execution_count": 20,
   "id": "7524f921",
   "metadata": {
    "execution": {
     "iopub.execute_input": "2022-07-20T05:32:51.297431Z",
     "iopub.status.busy": "2022-07-20T05:32:51.296693Z",
     "iopub.status.idle": "2022-07-20T05:32:51.773316Z",
     "shell.execute_reply": "2022-07-20T05:32:51.772132Z"
    },
    "papermill": {
     "duration": 0.511536,
     "end_time": "2022-07-20T05:32:51.776108",
     "exception": false,
     "start_time": "2022-07-20T05:32:51.264572",
     "status": "completed"
    },
    "tags": []
   },
   "outputs": [
    {
     "name": "stderr",
     "output_type": "stream",
     "text": [
      "/opt/conda/lib/python3.7/site-packages/seaborn/distributions.py:2619: FutureWarning: `distplot` is a deprecated function and will be removed in a future version. Please adapt your code to use either `displot` (a figure-level function with similar flexibility) or `histplot` (an axes-level function for histograms).\n",
      "  warnings.warn(msg, FutureWarning)\n",
      "/opt/conda/lib/python3.7/site-packages/seaborn/distributions.py:2619: FutureWarning: `distplot` is a deprecated function and will be removed in a future version. Please adapt your code to use either `displot` (a figure-level function with similar flexibility) or `histplot` (an axes-level function for histograms).\n",
      "  warnings.warn(msg, FutureWarning)\n"
     ]
    },
    {
     "data": {
      "text/plain": [
       "<AxesSubplot:xlabel='CompetitionMonth', ylabel='Density'>"
      ]
     },
     "execution_count": 20,
     "metadata": {},
     "output_type": "execute_result"
    },
    {
     "data": {
      "image/png": "[encoded data removed]",
      "text/plain": [
       "<Figure size 864x360 with 2 Axes>"
      ]
     },
     "metadata": {},
     "output_type": "display_data"
    }
   ],
   "source": [
    "plt.subplot(1,2,1)\n",
    "sns.distplot(store[(store['CompetitionMonth'].isnull()==False) & (store['LocalityType']=='type3')].groupby(['LocalityType','CompetitionDistance'])['CompetitionMonth'].mean())\n",
    "plt.subplot(1,2,2)\n",
    "sns.distplot(store[(store['CompetitionMonth'].isnull()==False) & (store['LocalityType']=='type4')].groupby(['LocalityType','CompetitionDistance'])['CompetitionMonth'].mean())\n"
   ]
  },
  {
   "cell_type": "code",
   "execution_count": 21,
   "id": "cfcf799e",
   "metadata": {
    "execution": {
     "iopub.execute_input": "2022-07-20T05:32:51.840055Z",
     "iopub.status.busy": "2022-07-20T05:32:51.838781Z",
     "iopub.status.idle": "2022-07-20T05:32:51.845554Z",
     "shell.execute_reply": "2022-07-20T05:32:51.844674Z"
    },
    "papermill": {
     "duration": 0.040689,
     "end_time": "2022-07-20T05:32:51.847719",
     "exception": false,
     "start_time": "2022-07-20T05:32:51.807030",
     "status": "completed"
    },
    "tags": []
   },
   "outputs": [],
   "source": [
    "a = store[store['CompetitionMonth'].isnull()]['ProductMix']"
   ]
  },
  {
   "cell_type": "code",
   "execution_count": 22,
   "id": "af11f99a",
   "metadata": {
    "execution": {
     "iopub.execute_input": "2022-07-20T05:32:51.911062Z",
     "iopub.status.busy": "2022-07-20T05:32:51.910624Z",
     "iopub.status.idle": "2022-07-20T05:32:51.919094Z",
     "shell.execute_reply": "2022-07-20T05:32:51.917951Z"
    },
    "papermill": {
     "duration": 0.042676,
     "end_time": "2022-07-20T05:32:51.921498",
     "exception": false,
     "start_time": "2022-07-20T05:32:51.878822",
     "status": "completed"
    },
    "tags": []
   },
   "outputs": [
    {
     "data": {
      "text/plain": [
       "LargeVariety      193\n",
       "Essentials        155\n",
       "EssentialsPlus      6\n",
       "Name: ProductMix, dtype: int64"
      ]
     },
     "execution_count": 22,
     "metadata": {},
     "output_type": "execute_result"
    }
   ],
   "source": [
    "a.value_counts()"
   ]
  },
  {
   "cell_type": "code",
   "execution_count": 23,
   "id": "da4f33d8",
   "metadata": {
    "execution": {
     "iopub.execute_input": "2022-07-20T05:32:51.985975Z",
     "iopub.status.busy": "2022-07-20T05:32:51.985299Z",
     "iopub.status.idle": "2022-07-20T05:32:52.263733Z",
     "shell.execute_reply": "2022-07-20T05:32:52.262906Z"
    },
    "papermill": {
     "duration": 0.313231,
     "end_time": "2022-07-20T05:32:52.265959",
     "exception": false,
     "start_time": "2022-07-20T05:32:51.952728",
     "status": "completed"
    },
    "scrolled": true,
    "tags": []
   },
   "outputs": [
    {
     "data": {
      "text/plain": [
       "<AxesSubplot:ylabel='Frequency'>"
      ]
     },
     "execution_count": 23,
     "metadata": {},
     "output_type": "execute_result"
    },
    {
     "data": {
      "image/png": "[encoded data removed]",
      "text/plain": [
       "<Figure size 864x360 with 1 Axes>"
      ]
     },
     "metadata": {},
     "output_type": "display_data"
    }
   ],
   "source": [
    "store['CompetitionMonth'].plot.hist()"
   ]
  },
  {
   "cell_type": "code",
   "execution_count": 24,
   "id": "118b454f",
   "metadata": {
    "execution": {
     "iopub.execute_input": "2022-07-20T05:32:52.330979Z",
     "iopub.status.busy": "2022-07-20T05:32:52.330258Z",
     "iopub.status.idle": "2022-07-20T05:32:52.345738Z",
     "shell.execute_reply": "2022-07-20T05:32:52.344610Z"
    },
    "papermill": {
     "duration": 0.050767,
     "end_time": "2022-07-20T05:32:52.348180",
     "exception": false,
     "start_time": "2022-07-20T05:32:52.297413",
     "status": "completed"
    },
    "tags": []
   },
   "outputs": [
    {
     "data": {
      "text/html": [
       "<div>\n",
       "<style scoped>\n",
       "    .dataframe tbody tr th:only-of-type {\n",
       "        vertical-align: middle;\n",
       "    }\n",
       "\n",
       "    .dataframe tbody tr th {\n",
       "        vertical-align: top;\n",
       "    }\n",
       "\n",
       "    .dataframe thead th {\n",
       "        text-align: right;\n",
       "    }\n",
       "</style>\n",
       "<table border=\"1\" class=\"dataframe\">\n",
       "  <thead>\n",
       "    <tr style=\"text-align: right;\">\n",
       "      <th></th>\n",
       "      <th>StoreID</th>\n",
       "      <th>ProductMix</th>\n",
       "      <th>PromoCont</th>\n",
       "      <th>PromoContStartWeek</th>\n",
       "      <th>PromoContStartYear</th>\n",
       "      <th>CompetitionDistance</th>\n",
       "      <th>CompetitionMonth</th>\n",
       "      <th>CompetitionYear</th>\n",
       "    </tr>\n",
       "    <tr>\n",
       "      <th>LocalityType</th>\n",
       "      <th></th>\n",
       "      <th></th>\n",
       "      <th></th>\n",
       "      <th></th>\n",
       "      <th></th>\n",
       "      <th></th>\n",
       "      <th></th>\n",
       "      <th></th>\n",
       "    </tr>\n",
       "  </thead>\n",
       "  <tbody>\n",
       "    <tr>\n",
       "      <th>type1</th>\n",
       "      <td>176</td>\n",
       "      <td>176</td>\n",
       "      <td>176</td>\n",
       "      <td>176</td>\n",
       "      <td>176</td>\n",
       "      <td>175</td>\n",
       "      <td>0</td>\n",
       "      <td>0</td>\n",
       "    </tr>\n",
       "    <tr>\n",
       "      <th>type2</th>\n",
       "      <td>8</td>\n",
       "      <td>8</td>\n",
       "      <td>8</td>\n",
       "      <td>8</td>\n",
       "      <td>8</td>\n",
       "      <td>8</td>\n",
       "      <td>0</td>\n",
       "      <td>0</td>\n",
       "    </tr>\n",
       "    <tr>\n",
       "      <th>type3</th>\n",
       "      <td>41</td>\n",
       "      <td>41</td>\n",
       "      <td>41</td>\n",
       "      <td>41</td>\n",
       "      <td>41</td>\n",
       "      <td>41</td>\n",
       "      <td>0</td>\n",
       "      <td>0</td>\n",
       "    </tr>\n",
       "    <tr>\n",
       "      <th>type4</th>\n",
       "      <td>129</td>\n",
       "      <td>129</td>\n",
       "      <td>129</td>\n",
       "      <td>129</td>\n",
       "      <td>129</td>\n",
       "      <td>127</td>\n",
       "      <td>0</td>\n",
       "      <td>0</td>\n",
       "    </tr>\n",
       "  </tbody>\n",
       "</table>\n",
       "</div>"
      ],
      "text/plain": [
       "              StoreID  ProductMix  PromoCont  PromoContStartWeek  \\\n",
       "LocalityType                                                       \n",
       "type1             176         176        176                 176   \n",
       "type2               8           8          8                   8   \n",
       "type3              41          41         41                  41   \n",
       "type4             129         129        129                 129   \n",
       "\n",
       "              PromoContStartYear  CompetitionDistance  CompetitionMonth  \\\n",
       "LocalityType                                                              \n",
       "type1                        176                  175                 0   \n",
       "type2                          8                    8                 0   \n",
       "type3                         41                   41                 0   \n",
       "type4                        129                  127                 0   \n",
       "\n",
       "              CompetitionYear  \n",
       "LocalityType                   \n",
       "type1                       0  \n",
       "type2                       0  \n",
       "type3                       0  \n",
       "type4                       0  "
      ]
     },
     "execution_count": 24,
     "metadata": {},
     "output_type": "execute_result"
    }
   ],
   "source": [
    "store[store['CompetitionMonth'].isnull()== True].groupby('LocalityType').count()"
   ]
  },
  {
   "cell_type": "code",
   "execution_count": 25,
   "id": "3e2ee1ed",
   "metadata": {
    "execution": {
     "iopub.execute_input": "2022-07-20T05:32:52.413672Z",
     "iopub.status.busy": "2022-07-20T05:32:52.412855Z",
     "iopub.status.idle": "2022-07-20T05:32:52.420146Z",
     "shell.execute_reply": "2022-07-20T05:32:52.419183Z"
    },
    "papermill": {
     "duration": 0.042601,
     "end_time": "2022-07-20T05:32:52.422375",
     "exception": false,
     "start_time": "2022-07-20T05:32:52.379774",
     "status": "completed"
    },
    "tags": []
   },
   "outputs": [
    {
     "data": {
      "text/plain": [
       "\"def impute_C_Month(col):\\n    CM=col[0]\\n    type=col[1]\\n    if col[0].isnull():\\n        if col[1]=='type1':\\n            return 'a'\\n        elif col[1]=='type2':\\n            return 'b'\\n        else : return 'c'\\n    else: col[0]==col[0]      \""
      ]
     },
     "execution_count": 25,
     "metadata": {},
     "output_type": "execute_result"
    }
   ],
   "source": [
    "'''def impute_C_Month(col):\n",
    "    CM=col[0]\n",
    "    type=col[1]\n",
    "    if col[0].isnull():\n",
    "        if col[1]=='type1':\n",
    "            return 'a'\n",
    "        elif col[1]=='type2':\n",
    "            return 'b'\n",
    "        else : return 'c'\n",
    "    else: col[0]==col[0]      '''"
   ]
  },
  {
   "cell_type": "code",
   "execution_count": 26,
   "id": "1bc9c6d4",
   "metadata": {
    "execution": {
     "iopub.execute_input": "2022-07-20T05:32:52.491557Z",
     "iopub.status.busy": "2022-07-20T05:32:52.490476Z",
     "iopub.status.idle": "2022-07-20T05:32:52.503738Z",
     "shell.execute_reply": "2022-07-20T05:32:52.502472Z"
    },
    "papermill": {
     "duration": 0.051893,
     "end_time": "2022-07-20T05:32:52.506414",
     "exception": false,
     "start_time": "2022-07-20T05:32:52.454521",
     "status": "completed"
    },
    "tags": []
   },
   "outputs": [
    {
     "data": {
      "text/plain": [
       "LocalityType\n",
       "type1    7.5\n",
       "type2    6.0\n",
       "type3    7.0\n",
       "type4    8.0\n",
       "Name: CompetitionMonth, dtype: float64"
      ]
     },
     "metadata": {},
     "output_type": "display_data"
    }
   ],
   "source": [
    "# fix the CompetitionMonth \n",
    "median_CM = store.groupby(['LocalityType'])['CompetitionMonth'].median()\n",
    "display(median_CM)"
   ]
  },
  {
   "cell_type": "code",
   "execution_count": 27,
   "id": "d320c94c",
   "metadata": {
    "execution": {
     "iopub.execute_input": "2022-07-20T05:32:52.573718Z",
     "iopub.status.busy": "2022-07-20T05:32:52.572880Z",
     "iopub.status.idle": "2022-07-20T05:32:52.578815Z",
     "shell.execute_reply": "2022-07-20T05:32:52.577988Z"
    },
    "papermill": {
     "duration": 0.04207,
     "end_time": "2022-07-20T05:32:52.581091",
     "exception": false,
     "start_time": "2022-07-20T05:32:52.539021",
     "status": "completed"
    },
    "tags": []
   },
   "outputs": [],
   "source": [
    "def replace_CM_(row):\n",
    "    if pd.isnull(row['CompetitionMonth']):\n",
    "        return median_CM[row['LocalityType']]\n",
    "    else:\n",
    "        return row['CompetitionMonth']"
   ]
  },
  {
   "cell_type": "code",
   "execution_count": 28,
   "id": "3b328200",
   "metadata": {
    "execution": {
     "iopub.execute_input": "2022-07-20T05:32:52.646929Z",
     "iopub.status.busy": "2022-07-20T05:32:52.646522Z",
     "iopub.status.idle": "2022-07-20T05:32:52.678496Z",
     "shell.execute_reply": "2022-07-20T05:32:52.677609Z"
    },
    "papermill": {
     "duration": 0.06798,
     "end_time": "2022-07-20T05:32:52.680815",
     "exception": false,
     "start_time": "2022-07-20T05:32:52.612835",
     "status": "completed"
    },
    "tags": []
   },
   "outputs": [],
   "source": [
    "store['CompetitionMonth'] = store.apply(replace_CM_,axis = 1)"
   ]
  },
  {
   "cell_type": "code",
   "execution_count": 29,
   "id": "8232b16e",
   "metadata": {
    "execution": {
     "iopub.execute_input": "2022-07-20T05:32:52.749900Z",
     "iopub.status.busy": "2022-07-20T05:32:52.748609Z",
     "iopub.status.idle": "2022-07-20T05:32:52.760835Z",
     "shell.execute_reply": "2022-07-20T05:32:52.759633Z"
    },
    "papermill": {
     "duration": 0.050098,
     "end_time": "2022-07-20T05:32:52.763312",
     "exception": false,
     "start_time": "2022-07-20T05:32:52.713214",
     "status": "completed"
    },
    "scrolled": true,
    "tags": []
   },
   "outputs": [
    {
     "data": {
      "text/plain": [
       "LocalityType\n",
       "type1    2010.0\n",
       "type2    2008.0\n",
       "type3    2009.0\n",
       "type4    2010.0\n",
       "Name: CompetitionYear, dtype: float64"
      ]
     },
     "metadata": {},
     "output_type": "display_data"
    },
    {
     "data": {
      "text/plain": [
       "(4,)"
      ]
     },
     "metadata": {},
     "output_type": "display_data"
    }
   ],
   "source": [
    "# fix the CompetitionYear\n",
    "median_CY = store.groupby(['LocalityType'])['CompetitionYear'].median()\n",
    "display(median_CY)\n",
    "display(median_CY.shape)\n"
   ]
  },
  {
   "cell_type": "code",
   "execution_count": 30,
   "id": "dea53ac2",
   "metadata": {
    "execution": {
     "iopub.execute_input": "2022-07-20T05:32:52.830441Z",
     "iopub.status.busy": "2022-07-20T05:32:52.829341Z",
     "iopub.status.idle": "2022-07-20T05:32:52.834926Z",
     "shell.execute_reply": "2022-07-20T05:32:52.834172Z"
    },
    "papermill": {
     "duration": 0.041629,
     "end_time": "2022-07-20T05:32:52.837137",
     "exception": false,
     "start_time": "2022-07-20T05:32:52.795508",
     "status": "completed"
    },
    "tags": []
   },
   "outputs": [],
   "source": [
    "def replace_CY_(row):\n",
    "    if pd.isnull(row['CompetitionYear']):\n",
    "        return median_CY[row['LocalityType']]\n",
    "    else:\n",
    "        return row['CompetitionYear']"
   ]
  },
  {
   "cell_type": "code",
   "execution_count": 31,
   "id": "006704d6",
   "metadata": {
    "execution": {
     "iopub.execute_input": "2022-07-20T05:32:52.903926Z",
     "iopub.status.busy": "2022-07-20T05:32:52.903224Z",
     "iopub.status.idle": "2022-07-20T05:32:52.933767Z",
     "shell.execute_reply": "2022-07-20T05:32:52.932839Z"
    },
    "papermill": {
     "duration": 0.06683,
     "end_time": "2022-07-20T05:32:52.936217",
     "exception": false,
     "start_time": "2022-07-20T05:32:52.869387",
     "status": "completed"
    },
    "tags": []
   },
   "outputs": [],
   "source": [
    "store['CompetitionYear'] = store.apply(replace_CY_,axis = 1)\n"
   ]
  },
  {
   "cell_type": "code",
   "execution_count": 32,
   "id": "c8fec71d",
   "metadata": {
    "execution": {
     "iopub.execute_input": "2022-07-20T05:32:53.004996Z",
     "iopub.status.busy": "2022-07-20T05:32:53.004166Z",
     "iopub.status.idle": "2022-07-20T05:32:53.017825Z",
     "shell.execute_reply": "2022-07-20T05:32:53.016531Z"
    },
    "papermill": {
     "duration": 0.05144,
     "end_time": "2022-07-20T05:32:53.021168",
     "exception": false,
     "start_time": "2022-07-20T05:32:52.969728",
     "status": "completed"
    },
    "scrolled": true,
    "tags": []
   },
   "outputs": [
    {
     "name": "stdout",
     "output_type": "stream",
     "text": [
      "<class 'pandas.core.frame.DataFrame'>\n",
      "RangeIndex: 1115 entries, 0 to 1114\n",
      "Data columns (total 9 columns):\n",
      " #   Column               Non-Null Count  Dtype  \n",
      "---  ------               --------------  -----  \n",
      " 0   StoreID              1115 non-null   int64  \n",
      " 1   LocalityType         1115 non-null   object \n",
      " 2   ProductMix           1115 non-null   object \n",
      " 3   PromoCont            1115 non-null   int64  \n",
      " 4   PromoContStartWeek   1115 non-null   float64\n",
      " 5   PromoContStartYear   1115 non-null   float64\n",
      " 6   CompetitionDistance  1112 non-null   float64\n",
      " 7   CompetitionMonth     1115 non-null   float64\n",
      " 8   CompetitionYear      1115 non-null   float64\n",
      "dtypes: float64(5), int64(2), object(2)\n",
      "memory usage: 78.5+ KB\n"
     ]
    }
   ],
   "source": [
    "store.info()"
   ]
  },
  {
   "cell_type": "code",
   "execution_count": 33,
   "id": "7d746928",
   "metadata": {
    "execution": {
     "iopub.execute_input": "2022-07-20T05:32:53.089982Z",
     "iopub.status.busy": "2022-07-20T05:32:53.089548Z",
     "iopub.status.idle": "2022-07-20T05:32:53.100977Z",
     "shell.execute_reply": "2022-07-20T05:32:53.099807Z"
    },
    "papermill": {
     "duration": 0.048334,
     "end_time": "2022-07-20T05:32:53.103646",
     "exception": false,
     "start_time": "2022-07-20T05:32:53.055312",
     "status": "completed"
    },
    "tags": []
   },
   "outputs": [
    {
     "data": {
      "text/plain": [
       "StoreID                0\n",
       "LocalityType           0\n",
       "ProductMix             0\n",
       "PromoCont              0\n",
       "PromoContStartWeek     0\n",
       "PromoContStartYear     0\n",
       "CompetitionDistance    3\n",
       "CompetitionMonth       0\n",
       "CompetitionYear        0\n",
       "dtype: int64"
      ]
     },
     "execution_count": 33,
     "metadata": {},
     "output_type": "execute_result"
    }
   ],
   "source": [
    "store.isnull().sum()"
   ]
  },
  {
   "cell_type": "code",
   "execution_count": 34,
   "id": "1689eb5f",
   "metadata": {
    "execution": {
     "iopub.execute_input": "2022-07-20T05:32:53.173049Z",
     "iopub.status.busy": "2022-07-20T05:32:53.172561Z",
     "iopub.status.idle": "2022-07-20T05:32:53.430694Z",
     "shell.execute_reply": "2022-07-20T05:32:53.429849Z"
    },
    "papermill": {
     "duration": 0.295568,
     "end_time": "2022-07-20T05:32:53.433071",
     "exception": false,
     "start_time": "2022-07-20T05:32:53.137503",
     "status": "completed"
    },
    "tags": []
   },
   "outputs": [
    {
     "data": {
      "text/plain": [
       "<AxesSubplot:ylabel='Frequency'>"
      ]
     },
     "execution_count": 34,
     "metadata": {},
     "output_type": "execute_result"
    },
    {
     "data": {
      "image/png": "[encoded data removed]",
      "text/plain": [
       "<Figure size 864x360 with 1 Axes>"
      ]
     },
     "metadata": {},
     "output_type": "display_data"
    }
   ],
   "source": [
    "store['CompetitionMonth'].plot.hist()"
   ]
  },
  {
   "cell_type": "code",
   "execution_count": 35,
   "id": "118a9a32",
   "metadata": {
    "execution": {
     "iopub.execute_input": "2022-07-20T05:32:53.504050Z",
     "iopub.status.busy": "2022-07-20T05:32:53.503607Z",
     "iopub.status.idle": "2022-07-20T05:32:53.765030Z",
     "shell.execute_reply": "2022-07-20T05:32:53.763916Z"
    },
    "papermill": {
     "duration": 0.299261,
     "end_time": "2022-07-20T05:32:53.767593",
     "exception": false,
     "start_time": "2022-07-20T05:32:53.468332",
     "status": "completed"
    },
    "tags": []
   },
   "outputs": [
    {
     "data": {
      "text/plain": [
       "<AxesSubplot:ylabel='Frequency'>"
      ]
     },
     "execution_count": 35,
     "metadata": {},
     "output_type": "execute_result"
    },
    {
     "data": {
      "image/png": "[encoded data removed]",
      "text/plain": [
       "<Figure size 864x360 with 1 Axes>"
      ]
     },
     "metadata": {},
     "output_type": "display_data"
    }
   ],
   "source": [
    "store['CompetitionYear'].plot.hist()"
   ]
  },
  {
   "cell_type": "code",
   "execution_count": 36,
   "id": "496b2f3b",
   "metadata": {
    "execution": {
     "iopub.execute_input": "2022-07-20T05:32:53.838021Z",
     "iopub.status.busy": "2022-07-20T05:32:53.837078Z",
     "iopub.status.idle": "2022-07-20T05:32:53.851086Z",
     "shell.execute_reply": "2022-07-20T05:32:53.849739Z"
    },
    "papermill": {
     "duration": 0.051802,
     "end_time": "2022-07-20T05:32:53.853462",
     "exception": false,
     "start_time": "2022-07-20T05:32:53.801660",
     "status": "completed"
    },
    "scrolled": true,
    "tags": []
   },
   "outputs": [
    {
     "name": "stdout",
     "output_type": "stream",
     "text": [
      "<class 'pandas.core.frame.DataFrame'>\n",
      "RangeIndex: 1115 entries, 0 to 1114\n",
      "Data columns (total 9 columns):\n",
      " #   Column               Non-Null Count  Dtype  \n",
      "---  ------               --------------  -----  \n",
      " 0   StoreID              1115 non-null   int64  \n",
      " 1   LocalityType         1115 non-null   object \n",
      " 2   ProductMix           1115 non-null   object \n",
      " 3   PromoCont            1115 non-null   int64  \n",
      " 4   PromoContStartWeek   1115 non-null   float64\n",
      " 5   PromoContStartYear   1115 non-null   float64\n",
      " 6   CompetitionDistance  1112 non-null   float64\n",
      " 7   CompetitionMonth     1115 non-null   float64\n",
      " 8   CompetitionYear      1115 non-null   float64\n",
      "dtypes: float64(5), int64(2), object(2)\n",
      "memory usage: 78.5+ KB\n"
     ]
    }
   ],
   "source": [
    "store.info()"
   ]
  },
  {
   "cell_type": "code",
   "execution_count": 37,
   "id": "4aec2523",
   "metadata": {
    "execution": {
     "iopub.execute_input": "2022-07-20T05:32:53.924731Z",
     "iopub.status.busy": "2022-07-20T05:32:53.924058Z",
     "iopub.status.idle": "2022-07-20T05:32:53.929800Z",
     "shell.execute_reply": "2022-07-20T05:32:53.928616Z"
    },
    "papermill": {
     "duration": 0.044875,
     "end_time": "2022-07-20T05:32:53.932277",
     "exception": false,
     "start_time": "2022-07-20T05:32:53.887402",
     "status": "completed"
    },
    "tags": []
   },
   "outputs": [],
   "source": [
    "## store.dropna(subset=['CompetitionDistance'],inplace=True)"
   ]
  },
  {
   "cell_type": "code",
   "execution_count": 38,
   "id": "0138d176",
   "metadata": {
    "execution": {
     "iopub.execute_input": "2022-07-20T05:32:54.016389Z",
     "iopub.status.busy": "2022-07-20T05:32:54.015534Z",
     "iopub.status.idle": "2022-07-20T05:32:54.020357Z",
     "shell.execute_reply": "2022-07-20T05:32:54.019291Z"
    },
    "papermill": {
     "duration": 0.052768,
     "end_time": "2022-07-20T05:32:54.022738",
     "exception": false,
     "start_time": "2022-07-20T05:32:53.969970",
     "status": "completed"
    },
    "tags": []
   },
   "outputs": [],
   "source": [
    "# store.isnull().sum()"
   ]
  },
  {
   "cell_type": "code",
   "execution_count": 39,
   "id": "77556fee",
   "metadata": {
    "execution": {
     "iopub.execute_input": "2022-07-20T05:32:54.095808Z",
     "iopub.status.busy": "2022-07-20T05:32:54.094733Z",
     "iopub.status.idle": "2022-07-20T05:32:54.100650Z",
     "shell.execute_reply": "2022-07-20T05:32:54.099849Z"
    },
    "papermill": {
     "duration": 0.054507,
     "end_time": "2022-07-20T05:32:54.112775",
     "exception": false,
     "start_time": "2022-07-20T05:32:54.058268",
     "status": "completed"
    },
    "tags": []
   },
   "outputs": [],
   "source": [
    "cop_store = store.copy()"
   ]
  },
  {
   "cell_type": "code",
   "execution_count": 40,
   "id": "5a534310",
   "metadata": {
    "execution": {
     "iopub.execute_input": "2022-07-20T05:32:54.186649Z",
     "iopub.status.busy": "2022-07-20T05:32:54.185709Z",
     "iopub.status.idle": "2022-07-20T05:32:54.308415Z",
     "shell.execute_reply": "2022-07-20T05:32:54.306837Z"
    },
    "papermill": {
     "duration": 0.161292,
     "end_time": "2022-07-20T05:32:54.310360",
     "exception": true,
     "start_time": "2022-07-20T05:32:54.149068",
     "status": "failed"
    },
    "tags": []
   },
   "outputs": [
    {
     "ename": "ModuleNotFoundError",
     "evalue": "No module named 'train_data'",
     "output_type": "error",
     "traceback": [
      "\u001b[0;31m---------------------------------------------------------------------------\u001b[0m",
      "\u001b[0;31mModuleNotFoundError\u001b[0m                       Traceback (most recent call last)",
      "\u001b[0;32m/tmp/ipykernel_19/95962531.py\u001b[0m in \u001b[0;36m<module>\u001b[0;34m\u001b[0m\n\u001b[0;32m----> 1\u001b[0;31m \u001b[0;32mimport\u001b[0m \u001b[0mtrain_data\u001b[0m\u001b[0;34m\u001b[0m\u001b[0;34m\u001b[0m\u001b[0m\n\u001b[0m",
      "\u001b[0;31mModuleNotFoundError\u001b[0m: No module named 'train_data'"
     ]
    }
   ],
   "source": [
    "import train_data"
   ]
  },
  {
   "cell_type": "code",
   "execution_count": null,
   "id": "a4543e07",
   "metadata": {
    "papermill": {
     "duration": null,
     "end_time": null,
     "exception": null,
     "start_time": null,
     "status": "pending"
    },
    "tags": []
   },
   "outputs": [],
   "source": [
    "train = train_data.train_store"
   ]
  },
  {
   "cell_type": "code",
   "execution_count": null,
   "id": "4022ba63",
   "metadata": {
    "papermill": {
     "duration": null,
     "end_time": null,
     "exception": null,
     "start_time": null,
     "status": "pending"
    },
    "scrolled": true,
    "tags": []
   },
   "outputs": [],
   "source": [
    "train"
   ]
  },
  {
   "cell_type": "code",
   "execution_count": null,
   "id": "eec83751",
   "metadata": {
    "papermill": {
     "duration": null,
     "end_time": null,
     "exception": null,
     "start_time": null,
     "status": "pending"
    },
    "tags": []
   },
   "outputs": [],
   "source": [
    "train.columns"
   ]
  },
  {
   "cell_type": "code",
   "execution_count": null,
   "id": "32627c9e",
   "metadata": {
    "papermill": {
     "duration": null,
     "end_time": null,
     "exception": null,
     "start_time": null,
     "status": "pending"
    },
    "tags": []
   },
   "outputs": [],
   "source": [
    "store.columns"
   ]
  },
  {
   "cell_type": "code",
   "execution_count": null,
   "id": "4eacfbf4",
   "metadata": {
    "papermill": {
     "duration": null,
     "end_time": null,
     "exception": null,
     "start_time": null,
     "status": "pending"
    },
    "tags": []
   },
   "outputs": [],
   "source": [
    "store['StoreID'].nunique()"
   ]
  },
  {
   "cell_type": "code",
   "execution_count": null,
   "id": "484eb029",
   "metadata": {
    "papermill": {
     "duration": null,
     "end_time": null,
     "exception": null,
     "start_time": null,
     "status": "pending"
    },
    "tags": []
   },
   "outputs": [],
   "source": [
    "train['StoreID'].nunique()"
   ]
  },
  {
   "cell_type": "code",
   "execution_count": null,
   "id": "e53d134e",
   "metadata": {
    "papermill": {
     "duration": null,
     "end_time": null,
     "exception": null,
     "start_time": null,
     "status": "pending"
    },
    "tags": []
   },
   "outputs": [],
   "source": [
    "store_merged_train = pd.merge(train, store, on='StoreID', how='left')"
   ]
  },
  {
   "cell_type": "code",
   "execution_count": null,
   "id": "9f69fe2d",
   "metadata": {
    "papermill": {
     "duration": null,
     "end_time": null,
     "exception": null,
     "start_time": null,
     "status": "pending"
    },
    "tags": []
   },
   "outputs": [],
   "source": [
    "store_merged_train.info()"
   ]
  },
  {
   "cell_type": "code",
   "execution_count": null,
   "id": "64bd9575",
   "metadata": {
    "papermill": {
     "duration": null,
     "end_time": null,
     "exception": null,
     "start_time": null,
     "status": "pending"
    },
    "tags": []
   },
   "outputs": [],
   "source": [
    "store_merged_train[store_merged_train['CompetitionDistance'].isnull()]['StoreID'].unique()"
   ]
  },
  {
   "cell_type": "code",
   "execution_count": null,
   "id": "29d689ce",
   "metadata": {
    "papermill": {
     "duration": null,
     "end_time": null,
     "exception": null,
     "start_time": null,
     "status": "pending"
    },
    "scrolled": true,
    "tags": []
   },
   "outputs": [],
   "source": [
    "store_merged_train[store_merged_train['CompetitionDistance'].isnull()].groupby('StoreID')['StoreID'].count()"
   ]
  },
  {
   "cell_type": "code",
   "execution_count": null,
   "id": "169c8fb9",
   "metadata": {
    "papermill": {
     "duration": null,
     "end_time": null,
     "exception": null,
     "start_time": null,
     "status": "pending"
    },
    "tags": []
   },
   "outputs": [],
   "source": [
    "store_merged_train[store_merged_train['CompetitionDistance'].isnull()]['LocalityType']"
   ]
  },
  {
   "cell_type": "code",
   "execution_count": null,
   "id": "9744b8fb",
   "metadata": {
    "papermill": {
     "duration": null,
     "end_time": null,
     "exception": null,
     "start_time": null,
     "status": "pending"
    },
    "tags": []
   },
   "outputs": [],
   "source": [
    "Mean_distance=[]\n",
    "#def impute_distance():\n",
    "for Loc_id in {'type1','type2','type3','type4'}:\n",
    "    distance=round(store_merged_train.CompetitionDistance[store_merged_train['LocalityType']==Loc_id].mean(),2)\n",
    "    print(Loc_id,\"\\n\",distance)\n",
    "  "
   ]
  },
  {
   "cell_type": "code",
   "execution_count": null,
   "id": "9b3d57f2",
   "metadata": {
    "papermill": {
     "duration": null,
     "end_time": null,
     "exception": null,
     "start_time": null,
     "status": "pending"
    },
    "tags": []
   },
   "outputs": [],
   "source": [
    "# fix the CompetitionDistance\n",
    "mean_CD = store.groupby(['LocalityType'])['CompetitionDistance'].mean()\n",
    "display(mean_CD)"
   ]
  },
  {
   "cell_type": "code",
   "execution_count": null,
   "id": "004039f1",
   "metadata": {
    "papermill": {
     "duration": null,
     "end_time": null,
     "exception": null,
     "start_time": null,
     "status": "pending"
    },
    "tags": []
   },
   "outputs": [],
   "source": [
    "def replace_CD_(row):\n",
    "    if pd.isnull(row['CompetitionDistance']):\n",
    "        return mean_CD[row['LocalityType']]\n",
    "    else:\n",
    "        return row['CompetitionDistance']"
   ]
  },
  {
   "cell_type": "code",
   "execution_count": null,
   "id": "a42206ba",
   "metadata": {
    "papermill": {
     "duration": null,
     "end_time": null,
     "exception": null,
     "start_time": null,
     "status": "pending"
    },
    "tags": []
   },
   "outputs": [],
   "source": [
    "store_merged_train['CompetitionDistance']= store_merged_train.apply(replace_CD_,axis = 1)"
   ]
  },
  {
   "cell_type": "code",
   "execution_count": null,
   "id": "0831c735",
   "metadata": {
    "papermill": {
     "duration": null,
     "end_time": null,
     "exception": null,
     "start_time": null,
     "status": "pending"
    },
    "tags": []
   },
   "outputs": [],
   "source": [
    "store_merged_train.info()"
   ]
  },
  {
   "cell_type": "code",
   "execution_count": null,
   "id": "f0625348",
   "metadata": {
    "papermill": {
     "duration": null,
     "end_time": null,
     "exception": null,
     "start_time": null,
     "status": "pending"
    },
    "tags": []
   },
   "outputs": [],
   "source": [
    "store_merged_train['CompetitionYear'].plot.box()"
   ]
  },
  {
   "cell_type": "markdown",
   "id": "c4c66798",
   "metadata": {
    "papermill": {
     "duration": null,
     "end_time": null,
     "exception": null,
     "start_time": null,
     "status": "pending"
    },
    "tags": []
   },
   "source": [
    "# Pre-processing of Train - dataset \n",
    "#### Creating dummy variable "
   ]
  },
  {
   "cell_type": "code",
   "execution_count": null,
   "id": "4f0280ee",
   "metadata": {
    "papermill": {
     "duration": null,
     "end_time": null,
     "exception": null,
     "start_time": null,
     "status": "pending"
    },
    "scrolled": true,
    "tags": []
   },
   "outputs": [],
   "source": [
    "train_data = store_merged_train.copy()"
   ]
  },
  {
   "cell_type": "code",
   "execution_count": null,
   "id": "7278bfe7",
   "metadata": {
    "papermill": {
     "duration": null,
     "end_time": null,
     "exception": null,
     "start_time": null,
     "status": "pending"
    },
    "tags": []
   },
   "outputs": [],
   "source": [
    "train_data.info()"
   ]
  },
  {
   "cell_type": "code",
   "execution_count": null,
   "id": "0705c7fa",
   "metadata": {
    "papermill": {
     "duration": null,
     "end_time": null,
     "exception": null,
     "start_time": null,
     "status": "pending"
    },
    "tags": []
   },
   "outputs": [],
   "source": [
    "## pandas.DataFrame.loc[condition, column_label] = new_value\n",
    "train_data.loc[train_data.HolidayFlag=='0','HolidayFlag']=0"
   ]
  },
  {
   "cell_type": "code",
   "execution_count": null,
   "id": "709b49c5",
   "metadata": {
    "papermill": {
     "duration": null,
     "end_time": null,
     "exception": null,
     "start_time": null,
     "status": "pending"
    },
    "tags": []
   },
   "outputs": [],
   "source": [
    "train_data.loc[train_data[\"HolidayFlag\"]==\"0\",\"HolidayFlag\"]=0\n",
    "train_data.loc[train_data[\"HolidayFlag\"]==\"h1\",\"HolidayFlag\"]=1\n",
    "train_data.loc[train_data[\"HolidayFlag\"]==\"h2\",\"HolidayFlag\"]=2\n",
    "train_data.loc[train_data[\"HolidayFlag\"]==\"h3\",\"HolidayFlag\"]=3\n",
    "train_data[\"HolidayFlag\"]=train_data[\"HolidayFlag\"].astype(int,copy=False)"
   ]
  },
  {
   "cell_type": "code",
   "execution_count": null,
   "id": "bedb4882",
   "metadata": {
    "papermill": {
     "duration": null,
     "end_time": null,
     "exception": null,
     "start_time": null,
     "status": "pending"
    },
    "scrolled": true,
    "tags": []
   },
   "outputs": [],
   "source": [
    "train_data['HolidayFlag'].unique()"
   ]
  },
  {
   "cell_type": "code",
   "execution_count": null,
   "id": "f1eb5b3f",
   "metadata": {
    "papermill": {
     "duration": null,
     "end_time": null,
     "exception": null,
     "start_time": null,
     "status": "pending"
    },
    "tags": []
   },
   "outputs": [],
   "source": [
    "#Automize the factor process\n",
    "def factor_to_integer(df, colname, start_value=0):\n",
    "    while df[colname].dtype == object:\n",
    "        myval = start_value # factor starts at \"start_value\".\n",
    "        for sval in df[colname].unique():\n",
    "            df.loc[df[colname] == sval, colname] = myval\n",
    "            myval += 1\n",
    "        df[colname] = df[colname].astype(int, copy=False)\n",
    "    print('levels :', df[colname].unique(), '; data type :', df[colname].dtype)"
   ]
  },
  {
   "cell_type": "code",
   "execution_count": null,
   "id": "05d78223",
   "metadata": {
    "papermill": {
     "duration": null,
     "end_time": null,
     "exception": null,
     "start_time": null,
     "status": "pending"
    },
    "scrolled": true,
    "tags": []
   },
   "outputs": [],
   "source": [
    "factor_to_integer(train_data,\"LocalityType\")"
   ]
  },
  {
   "cell_type": "code",
   "execution_count": null,
   "id": "c878b01e",
   "metadata": {
    "papermill": {
     "duration": null,
     "end_time": null,
     "exception": null,
     "start_time": null,
     "status": "pending"
    },
    "tags": []
   },
   "outputs": [],
   "source": [
    "factor_to_integer(train_data,\"ProductMix\")"
   ]
  },
  {
   "cell_type": "code",
   "execution_count": null,
   "id": "714efdfe",
   "metadata": {
    "papermill": {
     "duration": null,
     "end_time": null,
     "exception": null,
     "start_time": null,
     "status": "pending"
    },
    "tags": []
   },
   "outputs": [],
   "source": [
    "train_data['ProductMix'].unique()"
   ]
  },
  {
   "cell_type": "code",
   "execution_count": null,
   "id": "d9187680",
   "metadata": {
    "papermill": {
     "duration": null,
     "end_time": null,
     "exception": null,
     "start_time": null,
     "status": "pending"
    },
    "tags": []
   },
   "outputs": [],
   "source": [
    "#train_data['HolidayFlag']=train_data['HolidayFlag'].replace(['0'],[0])"
   ]
  },
  {
   "cell_type": "code",
   "execution_count": null,
   "id": "53a8b2ed",
   "metadata": {
    "papermill": {
     "duration": null,
     "end_time": null,
     "exception": null,
     "start_time": null,
     "status": "pending"
    },
    "tags": []
   },
   "outputs": [],
   "source": [
    "#dummies_LocalityType= pd.get_dummies(data = train_data['LocalityType'],drop_first=True,prefix = 'LocalityType')"
   ]
  },
  {
   "cell_type": "code",
   "execution_count": null,
   "id": "451d4e93",
   "metadata": {
    "papermill": {
     "duration": null,
     "end_time": null,
     "exception": null,
     "start_time": null,
     "status": "pending"
    },
    "tags": []
   },
   "outputs": [],
   "source": [
    "#dummies_ProductMix= pd.get_dummies(data = train_data['ProductMix'],drop_first=True,prefix = 'ProductMix')"
   ]
  },
  {
   "cell_type": "code",
   "execution_count": null,
   "id": "b4efd92c",
   "metadata": {
    "papermill": {
     "duration": null,
     "end_time": null,
     "exception": null,
     "start_time": null,
     "status": "pending"
    },
    "tags": []
   },
   "outputs": [],
   "source": [
    "#train_data= pd.concat([train_data,dummies_holiday,dummies_LocalityType,dummies_ProductMix],axis=1)"
   ]
  },
  {
   "cell_type": "code",
   "execution_count": null,
   "id": "8072f69a",
   "metadata": {
    "papermill": {
     "duration": null,
     "end_time": null,
     "exception": null,
     "start_time": null,
     "status": "pending"
    },
    "tags": []
   },
   "outputs": [],
   "source": [
    "#train_data.drop(['LocalityType','ProductMix','HolidayFlag'],axis=1,inplace=True)"
   ]
  },
  {
   "cell_type": "code",
   "execution_count": null,
   "id": "30748f74",
   "metadata": {
    "papermill": {
     "duration": null,
     "end_time": null,
     "exception": null,
     "start_time": null,
     "status": "pending"
    },
    "scrolled": true,
    "tags": []
   },
   "outputs": [],
   "source": [
    "train_data['Date']"
   ]
  },
  {
   "cell_type": "code",
   "execution_count": null,
   "id": "773502e6",
   "metadata": {
    "papermill": {
     "duration": null,
     "end_time": null,
     "exception": null,
     "start_time": null,
     "status": "pending"
    },
    "tags": []
   },
   "outputs": [],
   "source": [
    "train_data[\"Year\"]=pd.DatetimeIndex(train_data[\"Date\"]).year\n",
    "train_data[\"Month\"]=pd.DatetimeIndex(train_data[\"Date\"]).month"
   ]
  },
  {
   "cell_type": "code",
   "execution_count": null,
   "id": "16e52e00",
   "metadata": {
    "papermill": {
     "duration": null,
     "end_time": null,
     "exception": null,
     "start_time": null,
     "status": "pending"
    },
    "tags": []
   },
   "outputs": [],
   "source": [
    "train_data['Day']= pd.DatetimeIndex(train_data[\"Date\"]).day"
   ]
  },
  {
   "cell_type": "code",
   "execution_count": null,
   "id": "d6e334c9",
   "metadata": {
    "papermill": {
     "duration": null,
     "end_time": null,
     "exception": null,
     "start_time": null,
     "status": "pending"
    },
    "tags": []
   },
   "outputs": [],
   "source": [
    "train_data.info(\n",
    ")"
   ]
  },
  {
   "cell_type": "code",
   "execution_count": null,
   "id": "74320599",
   "metadata": {
    "papermill": {
     "duration": null,
     "end_time": null,
     "exception": null,
     "start_time": null,
     "status": "pending"
    },
    "tags": []
   },
   "outputs": [],
   "source": [
    "train_data = train_data.astype({'HolidayFlag': 'int64', \n",
    "                                'ProductMix':'int64','LocalityType':'int64'})"
   ]
  },
  {
   "cell_type": "code",
   "execution_count": null,
   "id": "2d54902c",
   "metadata": {
    "papermill": {
     "duration": null,
     "end_time": null,
     "exception": null,
     "start_time": null,
     "status": "pending"
    },
    "scrolled": true,
    "tags": []
   },
   "outputs": [],
   "source": [
    "train_data.info()"
   ]
  },
  {
   "cell_type": "code",
   "execution_count": null,
   "id": "aa55a28b",
   "metadata": {
    "papermill": {
     "duration": null,
     "end_time": null,
     "exception": null,
     "start_time": null,
     "status": "pending"
    },
    "tags": []
   },
   "outputs": [],
   "source": [
    "train_data.drop('Date',axis=1,inplace=True)"
   ]
  },
  {
   "cell_type": "code",
   "execution_count": null,
   "id": "b8cae4fa",
   "metadata": {
    "papermill": {
     "duration": null,
     "end_time": null,
     "exception": null,
     "start_time": null,
     "status": "pending"
    },
    "tags": []
   },
   "outputs": [],
   "source": [
    "len(train_data.columns)"
   ]
  },
  {
   "cell_type": "code",
   "execution_count": null,
   "id": "657aefe6",
   "metadata": {
    "papermill": {
     "duration": null,
     "end_time": null,
     "exception": null,
     "start_time": null,
     "status": "pending"
    },
    "tags": []
   },
   "outputs": [],
   "source": [
    "train_data['Year']=train_data[\"Year\"].max()-train_data[\"Year\"]"
   ]
  },
  {
   "cell_type": "code",
   "execution_count": null,
   "id": "06bbd7e1",
   "metadata": {
    "papermill": {
     "duration": null,
     "end_time": null,
     "exception": null,
     "start_time": null,
     "status": "pending"
    },
    "scrolled": true,
    "tags": []
   },
   "outputs": [],
   "source": [
    "len(train_data.columns)"
   ]
  },
  {
   "cell_type": "code",
   "execution_count": null,
   "id": "a3284edc",
   "metadata": {
    "papermill": {
     "duration": null,
     "end_time": null,
     "exception": null,
     "start_time": null,
     "status": "pending"
    },
    "tags": []
   },
   "outputs": [],
   "source": [
    "train_data.head(2)"
   ]
  },
  {
   "cell_type": "markdown",
   "id": "1297bc2e",
   "metadata": {
    "papermill": {
     "duration": null,
     "end_time": null,
     "exception": null,
     "start_time": null,
     "status": "pending"
    },
    "tags": []
   },
   "source": [
    "### Preprocessing of test -dataset "
   ]
  },
  {
   "cell_type": "code",
   "execution_count": null,
   "id": "d0e829d6",
   "metadata": {
    "papermill": {
     "duration": null,
     "end_time": null,
     "exception": null,
     "start_time": null,
     "status": "pending"
    },
    "tags": []
   },
   "outputs": [],
   "source": [
    "test= pd.read_csv('../input/urack-dataset/test.csv')"
   ]
  },
  {
   "cell_type": "code",
   "execution_count": null,
   "id": "84a084ff",
   "metadata": {
    "papermill": {
     "duration": null,
     "end_time": null,
     "exception": null,
     "start_time": null,
     "status": "pending"
    },
    "tags": []
   },
   "outputs": [],
   "source": [
    "test.head(2)"
   ]
  },
  {
   "cell_type": "code",
   "execution_count": null,
   "id": "addbb686",
   "metadata": {
    "papermill": {
     "duration": null,
     "end_time": null,
     "exception": null,
     "start_time": null,
     "status": "pending"
    },
    "tags": []
   },
   "outputs": [],
   "source": [
    "store_merged_test = pd.merge(test, store, on='StoreID', how='left')"
   ]
  },
  {
   "cell_type": "code",
   "execution_count": null,
   "id": "e45519b4",
   "metadata": {
    "papermill": {
     "duration": null,
     "end_time": null,
     "exception": null,
     "start_time": null,
     "status": "pending"
    },
    "tags": []
   },
   "outputs": [],
   "source": [
    "store_merged_test.head(2)"
   ]
  },
  {
   "cell_type": "code",
   "execution_count": null,
   "id": "e45f8200",
   "metadata": {
    "papermill": {
     "duration": null,
     "end_time": null,
     "exception": null,
     "start_time": null,
     "status": "pending"
    },
    "tags": []
   },
   "outputs": [],
   "source": [
    "factor_to_integer(store_merged_test,\"ProductMix\")"
   ]
  },
  {
   "cell_type": "code",
   "execution_count": null,
   "id": "6d749cbd",
   "metadata": {
    "papermill": {
     "duration": null,
     "end_time": null,
     "exception": null,
     "start_time": null,
     "status": "pending"
    },
    "scrolled": true,
    "tags": []
   },
   "outputs": [],
   "source": [
    "factor_to_integer(store_merged_test,\"HolidayFlag\")"
   ]
  },
  {
   "cell_type": "code",
   "execution_count": null,
   "id": "506fdd85",
   "metadata": {
    "papermill": {
     "duration": null,
     "end_time": null,
     "exception": null,
     "start_time": null,
     "status": "pending"
    },
    "tags": []
   },
   "outputs": [],
   "source": [
    "store_merged_test['Date'] = pd.to_datetime(store_merged_test['Date'],format='%d-%m-%Y')"
   ]
  },
  {
   "cell_type": "code",
   "execution_count": null,
   "id": "98b8e6be",
   "metadata": {
    "papermill": {
     "duration": null,
     "end_time": null,
     "exception": null,
     "start_time": null,
     "status": "pending"
    },
    "tags": []
   },
   "outputs": [],
   "source": [
    "store_merged_test[\"Year\"]=pd.DatetimeIndex(store_merged_test[\"Date\"]).year\n",
    "store_merged_test[\"Month\"]=pd.DatetimeIndex(store_merged_test[\"Date\"]).month\n",
    "store_merged_test[\"Day\"]= pd.DatetimeIndex(store_merged_test[\"Date\"]).day"
   ]
  },
  {
   "cell_type": "code",
   "execution_count": null,
   "id": "397ef05c",
   "metadata": {
    "papermill": {
     "duration": null,
     "end_time": null,
     "exception": null,
     "start_time": null,
     "status": "pending"
    },
    "tags": []
   },
   "outputs": [],
   "source": [
    "store_merged_test['Year']=store_merged_test[\"Year\"].max()-store_merged_test[\"Year\"]"
   ]
  },
  {
   "cell_type": "code",
   "execution_count": null,
   "id": "06a69dfb",
   "metadata": {
    "papermill": {
     "duration": null,
     "end_time": null,
     "exception": null,
     "start_time": null,
     "status": "pending"
    },
    "tags": []
   },
   "outputs": [],
   "source": [
    "store_merged_test.drop('Date',axis=1,inplace=True)"
   ]
  },
  {
   "cell_type": "code",
   "execution_count": null,
   "id": "e7f1f728",
   "metadata": {
    "papermill": {
     "duration": null,
     "end_time": null,
     "exception": null,
     "start_time": null,
     "status": "pending"
    },
    "scrolled": true,
    "tags": []
   },
   "outputs": [],
   "source": [
    "# fix the CompetitionDistance\n",
    "mean_CD = store.groupby(['LocalityType'])['CompetitionDistance'].mean()\n",
    "display(mean_CD)"
   ]
  },
  {
   "cell_type": "code",
   "execution_count": null,
   "id": "63e26fdf",
   "metadata": {
    "papermill": {
     "duration": null,
     "end_time": null,
     "exception": null,
     "start_time": null,
     "status": "pending"
    },
    "tags": []
   },
   "outputs": [],
   "source": [
    "def replace_CD_(row):\n",
    "    if pd.isnull(row['CompetitionDistance']):\n",
    "        return mean_CD[row['LocalityType']]\n",
    "    else:\n",
    "        return row['CompetitionDistance']"
   ]
  },
  {
   "cell_type": "code",
   "execution_count": null,
   "id": "2b4f16a9",
   "metadata": {
    "papermill": {
     "duration": null,
     "end_time": null,
     "exception": null,
     "start_time": null,
     "status": "pending"
    },
    "tags": []
   },
   "outputs": [],
   "source": [
    "store_merged_test['CompetitionDistance']= store_merged_test.apply(replace_CD_,axis = 1)"
   ]
  },
  {
   "cell_type": "code",
   "execution_count": null,
   "id": "6879b30d",
   "metadata": {
    "papermill": {
     "duration": null,
     "end_time": null,
     "exception": null,
     "start_time": null,
     "status": "pending"
    },
    "tags": []
   },
   "outputs": [],
   "source": [
    "factor_to_integer(store_merged_test,\"LocalityType\")"
   ]
  },
  {
   "cell_type": "code",
   "execution_count": null,
   "id": "fb4db2ae",
   "metadata": {
    "papermill": {
     "duration": null,
     "end_time": null,
     "exception": null,
     "start_time": null,
     "status": "pending"
    },
    "tags": []
   },
   "outputs": [],
   "source": [
    "store_merged_test.drop('Id',axis=1,inplace=True)"
   ]
  },
  {
   "cell_type": "code",
   "execution_count": null,
   "id": "89da7e18",
   "metadata": {
    "papermill": {
     "duration": null,
     "end_time": null,
     "exception": null,
     "start_time": null,
     "status": "pending"
    },
    "tags": []
   },
   "outputs": [],
   "source": [
    "store_merged_test.isnull().sum()"
   ]
  },
  {
   "cell_type": "code",
   "execution_count": null,
   "id": "585f2407",
   "metadata": {
    "papermill": {
     "duration": null,
     "end_time": null,
     "exception": null,
     "start_time": null,
     "status": "pending"
    },
    "tags": []
   },
   "outputs": [],
   "source": [
    "len(store_merged_test.columns)"
   ]
  },
  {
   "cell_type": "code",
   "execution_count": null,
   "id": "3882309c",
   "metadata": {
    "papermill": {
     "duration": null,
     "end_time": null,
     "exception": null,
     "start_time": null,
     "status": "pending"
    },
    "tags": []
   },
   "outputs": [],
   "source": [
    "train_data.head(2);store_merged_test.head(2)"
   ]
  },
  {
   "cell_type": "markdown",
   "id": "c39befe2",
   "metadata": {
    "papermill": {
     "duration": null,
     "end_time": null,
     "exception": null,
     "start_time": null,
     "status": "pending"
    },
    "tags": []
   },
   "source": [
    "## Separating train and test data from train_data dataset\n"
   ]
  },
  {
   "cell_type": "code",
   "execution_count": null,
   "id": "b6096e49",
   "metadata": {
    "papermill": {
     "duration": null,
     "end_time": null,
     "exception": null,
     "start_time": null,
     "status": "pending"
    },
    "tags": []
   },
   "outputs": [],
   "source": [
    "import sklearn.model_selection as model_selection\n",
    "X=train_data.drop(\"Sales\",axis=1)\n",
    "y=train_data[\"Sales\"]"
   ]
  },
  {
   "cell_type": "code",
   "execution_count": null,
   "id": "0839a51f",
   "metadata": {
    "papermill": {
     "duration": null,
     "end_time": null,
     "exception": null,
     "start_time": null,
     "status": "pending"
    },
    "tags": []
   },
   "outputs": [],
   "source": [
    "X_train,X_test,y_train,y_test=model_selection.train_test_split(X,y,random_state=42)"
   ]
  },
  {
   "cell_type": "code",
   "execution_count": null,
   "id": "9f05bb12",
   "metadata": {
    "papermill": {
     "duration": null,
     "end_time": null,
     "exception": null,
     "start_time": null,
     "status": "pending"
    },
    "tags": []
   },
   "outputs": [],
   "source": [
    "print(\"X_train\\t\",X_train.shape),print(\"X_test\\t\",X_test.shape),print(\"y_train\\t\",y_train.shape),print(\"y_test\\t\",y_test.shape)"
   ]
  },
  {
   "cell_type": "markdown",
   "id": "f5cc4f2d",
   "metadata": {
    "papermill": {
     "duration": null,
     "end_time": null,
     "exception": null,
     "start_time": null,
     "status": "pending"
    },
    "tags": []
   },
   "source": [
    "# Model building using pipeline"
   ]
  },
  {
   "cell_type": "code",
   "execution_count": null,
   "id": "5f64e1cd",
   "metadata": {
    "papermill": {
     "duration": null,
     "end_time": null,
     "exception": null,
     "start_time": null,
     "status": "pending"
    },
    "tags": []
   },
   "outputs": [],
   "source": [
    "from sklearn.linear_model import LinearRegression\n",
    "from sklearn.linear_model import LogisticRegression\n",
    "from sklearn.tree import DecisionTreeRegressor\n",
    "from sklearn.preprocessing import StandardScaler\n",
    "from sklearn.ensemble import RandomForestRegressor\n",
    "from sklearn.decomposition import PCA\n",
    "from sklearn.pipeline import Pipeline"
   ]
  },
  {
   "cell_type": "code",
   "execution_count": null,
   "id": "ca72e5b2",
   "metadata": {
    "papermill": {
     "duration": null,
     "end_time": null,
     "exception": null,
     "start_time": null,
     "status": "pending"
    },
    "tags": []
   },
   "outputs": [],
   "source": [
    "pipeline_lr=Pipeline([\n",
    "    ('scale1',StandardScaler()),\n",
    "    ('pca1',PCA(n_components=2)),\n",
    "    ('lr_regress',LinearRegression())\n",
    "])"
   ]
  },
  {
   "cell_type": "code",
   "execution_count": null,
   "id": "0f6ea01e",
   "metadata": {
    "papermill": {
     "duration": null,
     "end_time": null,
     "exception": null,
     "start_time": null,
     "status": "pending"
    },
    "tags": []
   },
   "outputs": [],
   "source": [
    "pipeline_dt=Pipeline([\n",
    "    ('scale2',StandardScaler()),\n",
    "    ('pca2',PCA(n_components=2)),\n",
    "    ('DT_regress',DecisionTreeRegressor())\n",
    "])"
   ]
  },
  {
   "cell_type": "code",
   "execution_count": null,
   "id": "da77ef0e",
   "metadata": {
    "papermill": {
     "duration": null,
     "end_time": null,
     "exception": null,
     "start_time": null,
     "status": "pending"
    },
    "tags": []
   },
   "outputs": [],
   "source": [
    "pipeline_rf=Pipeline([\n",
    "    ('scale3',StandardScaler()),\n",
    "    ('pca3',PCA(n_components=2)),\n",
    "    ('RF_regress',RandomForestRegressor(random_state=42,n_jobs=-1,max_depth=20,min_samples_leaf=5,verbose=2))\n",
    "])"
   ]
  },
  {
   "cell_type": "code",
   "execution_count": null,
   "id": "2387f0df",
   "metadata": {
    "papermill": {
     "duration": null,
     "end_time": null,
     "exception": null,
     "start_time": null,
     "status": "pending"
    },
    "tags": []
   },
   "outputs": [],
   "source": [
    "pipe_dict={0:'linearRegression',1:'Decision Tree',2:'Random Forest'}"
   ]
  },
  {
   "cell_type": "code",
   "execution_count": null,
   "id": "a2c8d48f",
   "metadata": {
    "papermill": {
     "duration": null,
     "end_time": null,
     "exception": null,
     "start_time": null,
     "status": "pending"
    },
    "tags": []
   },
   "outputs": [],
   "source": [
    "pipeline =[pipeline_lr,pipeline_dt,pipeline_rf]"
   ]
  },
  {
   "cell_type": "code",
   "execution_count": null,
   "id": "5d444eef",
   "metadata": {
    "papermill": {
     "duration": null,
     "end_time": null,
     "exception": null,
     "start_time": null,
     "status": "pending"
    },
    "tags": []
   },
   "outputs": [],
   "source": [
    "for pipe in pipeline:\n",
    "    pipe.fit(X_train,y_train)"
   ]
  },
  {
   "cell_type": "code",
   "execution_count": null,
   "id": "c8d2cd81",
   "metadata": {
    "papermill": {
     "duration": null,
     "end_time": null,
     "exception": null,
     "start_time": null,
     "status": "pending"
    },
    "tags": []
   },
   "outputs": [],
   "source": [
    "for i , model in enumerate(pipeline):\n",
    "    print(\"{} test accuracy:{}\".format(pipe_dict[i],model.score(X_train,y_train)))"
   ]
  },
  {
   "cell_type": "code",
   "execution_count": null,
   "id": "0ab810b7",
   "metadata": {
    "papermill": {
     "duration": null,
     "end_time": null,
     "exception": null,
     "start_time": null,
     "status": "pending"
    },
    "tags": []
   },
   "outputs": [],
   "source": [
    "best_accuracy = 0.0\n",
    "best_classifier = 0\n",
    "best_pipeline=\" \""
   ]
  },
  {
   "cell_type": "code",
   "execution_count": null,
   "id": "e88ab805",
   "metadata": {
    "papermill": {
     "duration": null,
     "end_time": null,
     "exception": null,
     "start_time": null,
     "status": "pending"
    },
    "tags": []
   },
   "outputs": [],
   "source": [
    "for i , model in enumerate(pipeline):\n",
    "    if model.score(X_test,y_test) > best_accuracy:\n",
    "        best_accuracy=model.score(X_test,y_test)\n",
    "        best_pipeline=model\n",
    "        best_classifier=i"
   ]
  },
  {
   "cell_type": "code",
   "execution_count": null,
   "id": "8cb85ab5",
   "metadata": {
    "papermill": {
     "duration": null,
     "end_time": null,
     "exception": null,
     "start_time": null,
     "status": "pending"
    },
    "tags": []
   },
   "outputs": [],
   "source": [
    "print('regressor with best accuracy:{}'.format(pipe_dict[best_classifier]))"
   ]
  },
  {
   "cell_type": "markdown",
   "id": "9f0e4394",
   "metadata": {
    "papermill": {
     "duration": null,
     "end_time": null,
     "exception": null,
     "start_time": null,
     "status": "pending"
    },
    "tags": []
   },
   "source": [
    "## Model Testing on Test Data "
   ]
  },
  {
   "cell_type": "code",
   "execution_count": null,
   "id": "4e0c2cf8",
   "metadata": {
    "papermill": {
     "duration": null,
     "end_time": null,
     "exception": null,
     "start_time": null,
     "status": "pending"
    },
    "tags": []
   },
   "outputs": [],
   "source": [
    "store_merged_test.columns"
   ]
  },
  {
   "cell_type": "code",
   "execution_count": null,
   "id": "ce8fc26d",
   "metadata": {
    "papermill": {
     "duration": null,
     "end_time": null,
     "exception": null,
     "start_time": null,
     "status": "pending"
    },
    "scrolled": true,
    "tags": []
   },
   "outputs": [],
   "source": [
    "store_merged_test.drop('Predict',axis=1,inplace=True)"
   ]
  },
  {
   "cell_type": "code",
   "execution_count": null,
   "id": "c9c5374c",
   "metadata": {
    "papermill": {
     "duration": null,
     "end_time": null,
     "exception": null,
     "start_time": null,
     "status": "pending"
    },
    "tags": []
   },
   "outputs": [],
   "source": [
    "pipeline_rf.fit(X_train,y_train)"
   ]
  },
  {
   "cell_type": "code",
   "execution_count": null,
   "id": "8958a173",
   "metadata": {
    "papermill": {
     "duration": null,
     "end_time": null,
     "exception": null,
     "start_time": null,
     "status": "pending"
    },
    "tags": []
   },
   "outputs": [],
   "source": [
    "pipeline_rf.score(X_test,y_test)"
   ]
  },
  {
   "cell_type": "code",
   "execution_count": null,
   "id": "b4dcea81",
   "metadata": {
    "papermill": {
     "duration": null,
     "end_time": null,
     "exception": null,
     "start_time": null,
     "status": "pending"
    },
    "tags": []
   },
   "outputs": [],
   "source": [
    "store_merged_test[\"Predict\"]=pipeline_rf.predict(store_merged_test)"
   ]
  },
  {
   "cell_type": "code",
   "execution_count": null,
   "id": "4c05f7ee",
   "metadata": {
    "papermill": {
     "duration": null,
     "end_time": null,
     "exception": null,
     "start_time": null,
     "status": "pending"
    },
    "tags": []
   },
   "outputs": [],
   "source": [
    "Id=pd.DataFrame({'Id':test[\"Id\"]})\n",
    "Id.head()"
   ]
  },
  {
   "cell_type": "code",
   "execution_count": null,
   "id": "59259bfe",
   "metadata": {
    "papermill": {
     "duration": null,
     "end_time": null,
     "exception": null,
     "start_time": null,
     "status": "pending"
    },
    "tags": []
   },
   "outputs": [],
   "source": [
    "Sales=pd.DataFrame({'Sales':store_merged_test[\"Predict\"]})\n",
    "Sales.head()"
   ]
  },
  {
   "cell_type": "code",
   "execution_count": null,
   "id": "a23fefe7",
   "metadata": {
    "papermill": {
     "duration": null,
     "end_time": null,
     "exception": null,
     "start_time": null,
     "status": "pending"
    },
    "tags": []
   },
   "outputs": [],
   "source": [
    "df=[Id,Sales]\n",
    "sub=pd.concat(df,axis=1)\n",
    "sub.head()"
   ]
  },
  {
   "cell_type": "code",
   "execution_count": null,
   "id": "eb804d49",
   "metadata": {
    "papermill": {
     "duration": null,
     "end_time": null,
     "exception": null,
     "start_time": null,
     "status": "pending"
    },
    "tags": []
   },
   "outputs": [],
   "source": [
    "sub.to_csv(\"model.csv\",sep=\",\",index=False)"
   ]
  },
  {
   "cell_type": "code",
   "execution_count": null,
   "id": "feb8896b",
   "metadata": {
    "papermill": {
     "duration": null,
     "end_time": null,
     "exception": null,
     "start_time": null,
     "status": "pending"
    },
    "tags": []
   },
   "outputs": [],
   "source": []
  }
 ],
 "metadata": {
  "kernelspec": {
   "display_name": "Python 3",
   "language": "python",
   "name": "python3"
  },
  "language_info": {
   "codemirror_mode": {
    "name": "ipython",
    "version": 3
   },
   "file_extension": ".py",
   "mimetype": "text/x-python",
   "name": "python",
   "nbconvert_exporter": "python",
   "pygments_lexer": "ipython3",
   "version": "3.7.12"
  },
  "papermill": {
   "default_parameters": {},
   "duration": 18.318648,
   "end_time": "2022-07-20T05:32:55.171018",
   "environment_variables": {},
   "exception": true,
   "input_path": "__notebook__.ipynb",
   "output_path": "__notebook__.ipynb",
   "parameters": {},
   "start_time": "2022-07-20T05:32:36.852370",
   "version": "2.3.4"
  }
 },
 "nbformat": 4,
 "nbformat_minor": 5
}
