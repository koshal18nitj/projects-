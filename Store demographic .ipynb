{
 "cells": [
  {
   "cell_type": "code",
   "execution_count": 1,
   "id": "4603474f",
   "metadata": {},
   "outputs": [],
   "source": [
    "import pandas as pd\n",
    "import numpy as np\n",
    "import seaborn as sns\n",
    "import matplotlib.pyplot as plt\n",
    "%matplotlib inline"
   ]
  },
  {
   "cell_type": "code",
   "execution_count": 2,
   "id": "7dad7eb4",
   "metadata": {},
   "outputs": [],
   "source": [
    "sns.set_context('poster')\n",
    "sns.set_style('dark')\n",
    "sns.set(rc={\"figure.figsize\":(12, 5)})"
   ]
  },
  {
   "cell_type": "code",
   "execution_count": 3,
   "id": "f27fb7c7",
   "metadata": {},
   "outputs": [],
   "source": [
    "store = pd.read_csv(\"store.csv\")"
   ]
  },
  {
   "cell_type": "code",
   "execution_count": 4,
   "id": "454e38d2",
   "metadata": {},
   "outputs": [
    {
     "data": {
      "text/html": [
       "<div>\n",
       "<style scoped>\n",
       "    .dataframe tbody tr th:only-of-type {\n",
       "        vertical-align: middle;\n",
       "    }\n",
       "\n",
       "    .dataframe tbody tr th {\n",
       "        vertical-align: top;\n",
       "    }\n",
       "\n",
       "    .dataframe thead th {\n",
       "        text-align: right;\n",
       "    }\n",
       "</style>\n",
       "<table border=\"1\" class=\"dataframe\">\n",
       "  <thead>\n",
       "    <tr style=\"text-align: right;\">\n",
       "      <th></th>\n",
       "      <th>StoreID</th>\n",
       "      <th>LocalityType</th>\n",
       "      <th>ProductMix</th>\n",
       "      <th>PromoCont</th>\n",
       "      <th>PromoContStartWeek</th>\n",
       "      <th>PromoContStartYear</th>\n",
       "      <th>CompetitionDistance</th>\n",
       "      <th>CompetitionMonth</th>\n",
       "      <th>CompetitionYear</th>\n",
       "    </tr>\n",
       "  </thead>\n",
       "  <tbody>\n",
       "    <tr>\n",
       "      <th>0</th>\n",
       "      <td>1</td>\n",
       "      <td>type3</td>\n",
       "      <td>Essentials</td>\n",
       "      <td>0</td>\n",
       "      <td>NaN</td>\n",
       "      <td>NaN</td>\n",
       "      <td>1270.0</td>\n",
       "      <td>9.0</td>\n",
       "      <td>2008.0</td>\n",
       "    </tr>\n",
       "    <tr>\n",
       "      <th>1</th>\n",
       "      <td>2</td>\n",
       "      <td>type1</td>\n",
       "      <td>Essentials</td>\n",
       "      <td>1</td>\n",
       "      <td>13.0</td>\n",
       "      <td>2010.0</td>\n",
       "      <td>570.0</td>\n",
       "      <td>11.0</td>\n",
       "      <td>2007.0</td>\n",
       "    </tr>\n",
       "    <tr>\n",
       "      <th>2</th>\n",
       "      <td>3</td>\n",
       "      <td>type1</td>\n",
       "      <td>Essentials</td>\n",
       "      <td>1</td>\n",
       "      <td>14.0</td>\n",
       "      <td>2011.0</td>\n",
       "      <td>14130.0</td>\n",
       "      <td>12.0</td>\n",
       "      <td>2006.0</td>\n",
       "    </tr>\n",
       "  </tbody>\n",
       "</table>\n",
       "</div>"
      ],
      "text/plain": [
       "   StoreID LocalityType  ProductMix  PromoCont  PromoContStartWeek  \\\n",
       "0        1        type3  Essentials          0                 NaN   \n",
       "1        2        type1  Essentials          1                13.0   \n",
       "2        3        type1  Essentials          1                14.0   \n",
       "\n",
       "   PromoContStartYear  CompetitionDistance  CompetitionMonth  CompetitionYear  \n",
       "0                 NaN               1270.0               9.0           2008.0  \n",
       "1              2010.0                570.0              11.0           2007.0  \n",
       "2              2011.0              14130.0              12.0           2006.0  "
      ]
     },
     "execution_count": 4,
     "metadata": {},
     "output_type": "execute_result"
    }
   ],
   "source": [
    "store.head(3)"
   ]
  },
  {
   "cell_type": "code",
   "execution_count": 5,
   "id": "897ee977",
   "metadata": {},
   "outputs": [
    {
     "name": "stdout",
     "output_type": "stream",
     "text": [
      "<class 'pandas.core.frame.DataFrame'>\n",
      "RangeIndex: 1115 entries, 0 to 1114\n",
      "Data columns (total 9 columns):\n",
      " #   Column               Non-Null Count  Dtype  \n",
      "---  ------               --------------  -----  \n",
      " 0   StoreID              1115 non-null   int64  \n",
      " 1   LocalityType         1115 non-null   object \n",
      " 2   ProductMix           1115 non-null   object \n",
      " 3   PromoCont            1115 non-null   int64  \n",
      " 4   PromoContStartWeek   571 non-null    float64\n",
      " 5   PromoContStartYear   571 non-null    float64\n",
      " 6   CompetitionDistance  1112 non-null   float64\n",
      " 7   CompetitionMonth     761 non-null    float64\n",
      " 8   CompetitionYear      761 non-null    float64\n",
      "dtypes: float64(5), int64(2), object(2)\n",
      "memory usage: 78.5+ KB\n"
     ]
    }
   ],
   "source": [
    "store.info()"
   ]
  },
  {
   "cell_type": "code",
   "execution_count": 6,
   "id": "9f65e90c",
   "metadata": {},
   "outputs": [
    {
     "data": {
      "text/plain": [
       "<AxesSubplot:>"
      ]
     },
     "execution_count": 6,
     "metadata": {},
     "output_type": "execute_result"
    },
    {
     "data": {
      "image/png": "[encoded data removed]",
      "text/plain": [
       "<Figure size 864x360 with 1 Axes>"
      ]
     },
     "metadata": {},
     "output_type": "display_data"
    }
   ],
   "source": [
    "sns.heatmap(store.isnull(),cmap='viridis',yticklabels=False,cbar=False)"
   ]
  },
  {
   "cell_type": "code",
   "execution_count": 7,
   "id": "8ea5d637",
   "metadata": {},
   "outputs": [
    {
     "data": {
      "text/plain": [
       "1115"
      ]
     },
     "execution_count": 7,
     "metadata": {},
     "output_type": "execute_result"
    }
   ],
   "source": [
    "store.shape[0]"
   ]
  },
  {
   "cell_type": "code",
   "execution_count": 8,
   "id": "4a625dfb",
   "metadata": {},
   "outputs": [
    {
     "data": {
      "text/plain": [
       "544"
      ]
     },
     "execution_count": 8,
     "metadata": {},
     "output_type": "execute_result"
    }
   ],
   "source": [
    "store[(store['PromoCont']== 0) & (store['PromoContStartWeek'].isnull())].shape[0]"
   ]
  },
  {
   "cell_type": "code",
   "execution_count": 9,
   "id": "69f1df9f",
   "metadata": {},
   "outputs": [
    {
     "data": {
      "text/plain": [
       "544"
      ]
     },
     "execution_count": 9,
     "metadata": {},
     "output_type": "execute_result"
    }
   ],
   "source": [
    "store[(store['PromoCont']== 0) & (store['PromoContStartYear'].isnull())].shape[0]"
   ]
  },
  {
   "cell_type": "markdown",
   "id": "dbb21757",
   "metadata": {},
   "source": [
    "#### The number of missing values in PromoContStartWeek and PromoContStartWeek is equals to the number of values equals to 0 in PromoCont , i.e. 544 . Hence, replace all NAN with 0. "
   ]
  },
  {
   "cell_type": "code",
   "execution_count": 10,
   "id": "7a908e10",
   "metadata": {},
   "outputs": [],
   "source": [
    "store['PromoContStartWeek'].fillna(value=0,inplace=True)"
   ]
  },
  {
   "cell_type": "code",
   "execution_count": 11,
   "id": "f960d8b5",
   "metadata": {},
   "outputs": [],
   "source": [
    "store['PromoContStartYear'].fillna(value=0,inplace=True)"
   ]
  },
  {
   "cell_type": "code",
   "execution_count": 12,
   "id": "042e8135",
   "metadata": {},
   "outputs": [
    {
     "data": {
      "text/plain": [
       "<AxesSubplot:>"
      ]
     },
     "execution_count": 12,
     "metadata": {},
     "output_type": "execute_result"
    },
    {
     "data": {
      "image/png": "[encoded data removed]",
      "text/plain": [
       "<Figure size 864x360 with 1 Axes>"
      ]
     },
     "metadata": {},
     "output_type": "display_data"
    }
   ],
   "source": [
    "sns.heatmap(store.isnull(),cmap='viridis',yticklabels=False,cbar=False)"
   ]
  },
  {
   "cell_type": "code",
   "execution_count": 13,
   "id": "db6606b6",
   "metadata": {},
   "outputs": [
    {
     "data": {
      "text/plain": [
       "354"
      ]
     },
     "execution_count": 13,
     "metadata": {},
     "output_type": "execute_result"
    }
   ],
   "source": [
    "store[(store['CompetitionMonth'].isna()) & (store['CompetitionYear'].isna())].shape[0]"
   ]
  },
  {
   "cell_type": "code",
   "execution_count": 14,
   "id": "2d1fe0aa",
   "metadata": {},
   "outputs": [
    {
     "data": {
      "text/html": [
       "<div>\n",
       "<style scoped>\n",
       "    .dataframe tbody tr th:only-of-type {\n",
       "        vertical-align: middle;\n",
       "    }\n",
       "\n",
       "    .dataframe tbody tr th {\n",
       "        vertical-align: top;\n",
       "    }\n",
       "\n",
       "    .dataframe thead th {\n",
       "        text-align: right;\n",
       "    }\n",
       "</style>\n",
       "<table border=\"1\" class=\"dataframe\">\n",
       "  <thead>\n",
       "    <tr style=\"text-align: right;\">\n",
       "      <th></th>\n",
       "      <th>StoreID</th>\n",
       "      <th>LocalityType</th>\n",
       "      <th>ProductMix</th>\n",
       "      <th>PromoCont</th>\n",
       "      <th>PromoContStartWeek</th>\n",
       "      <th>PromoContStartYear</th>\n",
       "      <th>CompetitionDistance</th>\n",
       "      <th>CompetitionMonth</th>\n",
       "      <th>CompetitionYear</th>\n",
       "    </tr>\n",
       "  </thead>\n",
       "  <tbody>\n",
       "    <tr>\n",
       "      <th>0</th>\n",
       "      <td>1</td>\n",
       "      <td>type3</td>\n",
       "      <td>Essentials</td>\n",
       "      <td>0</td>\n",
       "      <td>0.0</td>\n",
       "      <td>0.0</td>\n",
       "      <td>1270.0</td>\n",
       "      <td>9.0</td>\n",
       "      <td>2008.0</td>\n",
       "    </tr>\n",
       "    <tr>\n",
       "      <th>1</th>\n",
       "      <td>2</td>\n",
       "      <td>type1</td>\n",
       "      <td>Essentials</td>\n",
       "      <td>1</td>\n",
       "      <td>13.0</td>\n",
       "      <td>2010.0</td>\n",
       "      <td>570.0</td>\n",
       "      <td>11.0</td>\n",
       "      <td>2007.0</td>\n",
       "    </tr>\n",
       "  </tbody>\n",
       "</table>\n",
       "</div>"
      ],
      "text/plain": [
       "   StoreID LocalityType  ProductMix  PromoCont  PromoContStartWeek  \\\n",
       "0        1        type3  Essentials          0                 0.0   \n",
       "1        2        type1  Essentials          1                13.0   \n",
       "\n",
       "   PromoContStartYear  CompetitionDistance  CompetitionMonth  CompetitionYear  \n",
       "0                 0.0               1270.0               9.0           2008.0  \n",
       "1              2010.0                570.0              11.0           2007.0  "
      ]
     },
     "execution_count": 14,
     "metadata": {},
     "output_type": "execute_result"
    }
   ],
   "source": [
    "store.head(2)"
   ]
  },
  {
   "cell_type": "code",
   "execution_count": 15,
   "id": "b51bb398",
   "metadata": {},
   "outputs": [
    {
     "data": {
      "text/html": [
       "<div>\n",
       "<style scoped>\n",
       "    .dataframe tbody tr th:only-of-type {\n",
       "        vertical-align: middle;\n",
       "    }\n",
       "\n",
       "    .dataframe tbody tr th {\n",
       "        vertical-align: top;\n",
       "    }\n",
       "\n",
       "    .dataframe thead th {\n",
       "        text-align: right;\n",
       "    }\n",
       "</style>\n",
       "<table border=\"1\" class=\"dataframe\">\n",
       "  <thead>\n",
       "    <tr style=\"text-align: right;\">\n",
       "      <th></th>\n",
       "      <th>StoreID</th>\n",
       "      <th>PromoCont</th>\n",
       "      <th>PromoContStartWeek</th>\n",
       "      <th>PromoContStartYear</th>\n",
       "      <th>CompetitionDistance</th>\n",
       "      <th>CompetitionMonth</th>\n",
       "      <th>CompetitionYear</th>\n",
       "    </tr>\n",
       "  </thead>\n",
       "  <tbody>\n",
       "    <tr>\n",
       "      <th>count</th>\n",
       "      <td>1115.00000</td>\n",
       "      <td>1115.000000</td>\n",
       "      <td>1115.000000</td>\n",
       "      <td>1115.000000</td>\n",
       "      <td>1112.000000</td>\n",
       "      <td>761.000000</td>\n",
       "      <td>761.000000</td>\n",
       "    </tr>\n",
       "    <tr>\n",
       "      <th>mean</th>\n",
       "      <td>558.00000</td>\n",
       "      <td>0.512108</td>\n",
       "      <td>12.083408</td>\n",
       "      <td>1030.239462</td>\n",
       "      <td>5404.901079</td>\n",
       "      <td>7.224704</td>\n",
       "      <td>2008.668857</td>\n",
       "    </tr>\n",
       "    <tr>\n",
       "      <th>std</th>\n",
       "      <td>322.01708</td>\n",
       "      <td>0.500078</td>\n",
       "      <td>15.542241</td>\n",
       "      <td>1006.038782</td>\n",
       "      <td>7663.174720</td>\n",
       "      <td>3.212348</td>\n",
       "      <td>6.195983</td>\n",
       "    </tr>\n",
       "    <tr>\n",
       "      <th>min</th>\n",
       "      <td>1.00000</td>\n",
       "      <td>0.000000</td>\n",
       "      <td>0.000000</td>\n",
       "      <td>0.000000</td>\n",
       "      <td>20.000000</td>\n",
       "      <td>1.000000</td>\n",
       "      <td>1900.000000</td>\n",
       "    </tr>\n",
       "    <tr>\n",
       "      <th>25%</th>\n",
       "      <td>279.50000</td>\n",
       "      <td>0.000000</td>\n",
       "      <td>0.000000</td>\n",
       "      <td>0.000000</td>\n",
       "      <td>717.500000</td>\n",
       "      <td>4.000000</td>\n",
       "      <td>2006.000000</td>\n",
       "    </tr>\n",
       "    <tr>\n",
       "      <th>50%</th>\n",
       "      <td>558.00000</td>\n",
       "      <td>1.000000</td>\n",
       "      <td>1.000000</td>\n",
       "      <td>2009.000000</td>\n",
       "      <td>2325.000000</td>\n",
       "      <td>8.000000</td>\n",
       "      <td>2010.000000</td>\n",
       "    </tr>\n",
       "    <tr>\n",
       "      <th>75%</th>\n",
       "      <td>836.50000</td>\n",
       "      <td>1.000000</td>\n",
       "      <td>22.000000</td>\n",
       "      <td>2012.000000</td>\n",
       "      <td>6882.500000</td>\n",
       "      <td>10.000000</td>\n",
       "      <td>2013.000000</td>\n",
       "    </tr>\n",
       "    <tr>\n",
       "      <th>max</th>\n",
       "      <td>1115.00000</td>\n",
       "      <td>1.000000</td>\n",
       "      <td>50.000000</td>\n",
       "      <td>2015.000000</td>\n",
       "      <td>75860.000000</td>\n",
       "      <td>12.000000</td>\n",
       "      <td>2015.000000</td>\n",
       "    </tr>\n",
       "  </tbody>\n",
       "</table>\n",
       "</div>"
      ],
      "text/plain": [
       "          StoreID    PromoCont  PromoContStartWeek  PromoContStartYear  \\\n",
       "count  1115.00000  1115.000000         1115.000000         1115.000000   \n",
       "mean    558.00000     0.512108           12.083408         1030.239462   \n",
       "std     322.01708     0.500078           15.542241         1006.038782   \n",
       "min       1.00000     0.000000            0.000000            0.000000   \n",
       "25%     279.50000     0.000000            0.000000            0.000000   \n",
       "50%     558.00000     1.000000            1.000000         2009.000000   \n",
       "75%     836.50000     1.000000           22.000000         2012.000000   \n",
       "max    1115.00000     1.000000           50.000000         2015.000000   \n",
       "\n",
       "       CompetitionDistance  CompetitionMonth  CompetitionYear  \n",
       "count          1112.000000        761.000000       761.000000  \n",
       "mean           5404.901079          7.224704      2008.668857  \n",
       "std            7663.174720          3.212348         6.195983  \n",
       "min              20.000000          1.000000      1900.000000  \n",
       "25%             717.500000          4.000000      2006.000000  \n",
       "50%            2325.000000          8.000000      2010.000000  \n",
       "75%            6882.500000         10.000000      2013.000000  \n",
       "max           75860.000000         12.000000      2015.000000  "
      ]
     },
     "execution_count": 15,
     "metadata": {},
     "output_type": "execute_result"
    }
   ],
   "source": [
    "store.describe()"
   ]
  },
  {
   "cell_type": "code",
   "execution_count": 16,
   "id": "90bfbc96",
   "metadata": {
    "scrolled": true
   },
   "outputs": [
    {
     "name": "stderr",
     "output_type": "stream",
     "text": [
      "C:\\Users\\shubh\\anaconda3\\lib\\site-packages\\seaborn\\_decorators.py:36: FutureWarning: Pass the following variables as keyword args: x, y. From version 0.12, the only valid positional argument will be `data`, and passing other arguments without an explicit keyword will result in an error or misinterpretation.\n",
      "  warnings.warn(\n"
     ]
    },
    {
     "data": {
      "text/plain": [
       "<AxesSubplot:xlabel='CompetitionDistance', ylabel='CompetitionMonth'>"
      ]
     },
     "execution_count": 16,
     "metadata": {},
     "output_type": "execute_result"
    },
    {
     "data": {
      "image/png": "[encoded data removed]",
      "text/plain": [
       "<Figure size 864x360 with 1 Axes>"
      ]
     },
     "metadata": {},
     "output_type": "display_data"
    }
   ],
   "source": [
    "sns.scatterplot('CompetitionDistance','CompetitionMonth',data=store)"
   ]
  },
  {
   "cell_type": "code",
   "execution_count": 17,
   "id": "790bcb32",
   "metadata": {},
   "outputs": [
    {
     "data": {
      "text/plain": [
       "array(['type3', 'type1', 'type4', 'type2'], dtype=object)"
      ]
     },
     "execution_count": 17,
     "metadata": {},
     "output_type": "execute_result"
    }
   ],
   "source": [
    "store['LocalityType'].unique()"
   ]
  },
  {
   "cell_type": "code",
   "execution_count": 18,
   "id": "b5bdb4eb",
   "metadata": {},
   "outputs": [
    {
     "data": {
      "text/html": [
       "<div>\n",
       "<style scoped>\n",
       "    .dataframe tbody tr th:only-of-type {\n",
       "        vertical-align: middle;\n",
       "    }\n",
       "\n",
       "    .dataframe tbody tr th {\n",
       "        vertical-align: top;\n",
       "    }\n",
       "\n",
       "    .dataframe thead th {\n",
       "        text-align: right;\n",
       "    }\n",
       "</style>\n",
       "<table border=\"1\" class=\"dataframe\">\n",
       "  <thead>\n",
       "    <tr style=\"text-align: right;\">\n",
       "      <th></th>\n",
       "      <th>StoreID</th>\n",
       "      <th>LocalityType</th>\n",
       "      <th>ProductMix</th>\n",
       "      <th>PromoCont</th>\n",
       "      <th>PromoContStartWeek</th>\n",
       "      <th>PromoContStartYear</th>\n",
       "      <th>CompetitionDistance</th>\n",
       "      <th>CompetitionMonth</th>\n",
       "      <th>CompetitionYear</th>\n",
       "    </tr>\n",
       "  </thead>\n",
       "  <tbody>\n",
       "    <tr>\n",
       "      <th>11</th>\n",
       "      <td>12</td>\n",
       "      <td>type1</td>\n",
       "      <td>LargeVariety</td>\n",
       "      <td>1</td>\n",
       "      <td>13.0</td>\n",
       "      <td>2010.0</td>\n",
       "      <td>1070.0</td>\n",
       "      <td>NaN</td>\n",
       "      <td>NaN</td>\n",
       "    </tr>\n",
       "    <tr>\n",
       "      <th>12</th>\n",
       "      <td>13</td>\n",
       "      <td>type4</td>\n",
       "      <td>Essentials</td>\n",
       "      <td>1</td>\n",
       "      <td>45.0</td>\n",
       "      <td>2009.0</td>\n",
       "      <td>310.0</td>\n",
       "      <td>NaN</td>\n",
       "      <td>NaN</td>\n",
       "    </tr>\n",
       "    <tr>\n",
       "      <th>15</th>\n",
       "      <td>16</td>\n",
       "      <td>type1</td>\n",
       "      <td>LargeVariety</td>\n",
       "      <td>0</td>\n",
       "      <td>0.0</td>\n",
       "      <td>0.0</td>\n",
       "      <td>3270.0</td>\n",
       "      <td>NaN</td>\n",
       "      <td>NaN</td>\n",
       "    </tr>\n",
       "    <tr>\n",
       "      <th>18</th>\n",
       "      <td>19</td>\n",
       "      <td>type1</td>\n",
       "      <td>LargeVariety</td>\n",
       "      <td>1</td>\n",
       "      <td>22.0</td>\n",
       "      <td>2011.0</td>\n",
       "      <td>3240.0</td>\n",
       "      <td>NaN</td>\n",
       "      <td>NaN</td>\n",
       "    </tr>\n",
       "    <tr>\n",
       "      <th>21</th>\n",
       "      <td>22</td>\n",
       "      <td>type1</td>\n",
       "      <td>Essentials</td>\n",
       "      <td>1</td>\n",
       "      <td>22.0</td>\n",
       "      <td>2012.0</td>\n",
       "      <td>1040.0</td>\n",
       "      <td>NaN</td>\n",
       "      <td>NaN</td>\n",
       "    </tr>\n",
       "    <tr>\n",
       "      <th>...</th>\n",
       "      <td>...</td>\n",
       "      <td>...</td>\n",
       "      <td>...</td>\n",
       "      <td>...</td>\n",
       "      <td>...</td>\n",
       "      <td>...</td>\n",
       "      <td>...</td>\n",
       "      <td>...</td>\n",
       "      <td>...</td>\n",
       "    </tr>\n",
       "    <tr>\n",
       "      <th>1095</th>\n",
       "      <td>1096</td>\n",
       "      <td>type1</td>\n",
       "      <td>LargeVariety</td>\n",
       "      <td>1</td>\n",
       "      <td>10.0</td>\n",
       "      <td>2014.0</td>\n",
       "      <td>1130.0</td>\n",
       "      <td>NaN</td>\n",
       "      <td>NaN</td>\n",
       "    </tr>\n",
       "    <tr>\n",
       "      <th>1099</th>\n",
       "      <td>1100</td>\n",
       "      <td>type1</td>\n",
       "      <td>Essentials</td>\n",
       "      <td>1</td>\n",
       "      <td>14.0</td>\n",
       "      <td>2011.0</td>\n",
       "      <td>540.0</td>\n",
       "      <td>NaN</td>\n",
       "      <td>NaN</td>\n",
       "    </tr>\n",
       "    <tr>\n",
       "      <th>1112</th>\n",
       "      <td>1113</td>\n",
       "      <td>type1</td>\n",
       "      <td>LargeVariety</td>\n",
       "      <td>0</td>\n",
       "      <td>0.0</td>\n",
       "      <td>0.0</td>\n",
       "      <td>9260.0</td>\n",
       "      <td>NaN</td>\n",
       "      <td>NaN</td>\n",
       "    </tr>\n",
       "    <tr>\n",
       "      <th>1113</th>\n",
       "      <td>1114</td>\n",
       "      <td>type1</td>\n",
       "      <td>LargeVariety</td>\n",
       "      <td>0</td>\n",
       "      <td>0.0</td>\n",
       "      <td>0.0</td>\n",
       "      <td>870.0</td>\n",
       "      <td>NaN</td>\n",
       "      <td>NaN</td>\n",
       "    </tr>\n",
       "    <tr>\n",
       "      <th>1114</th>\n",
       "      <td>1115</td>\n",
       "      <td>type4</td>\n",
       "      <td>LargeVariety</td>\n",
       "      <td>1</td>\n",
       "      <td>22.0</td>\n",
       "      <td>2012.0</td>\n",
       "      <td>5350.0</td>\n",
       "      <td>NaN</td>\n",
       "      <td>NaN</td>\n",
       "    </tr>\n",
       "  </tbody>\n",
       "</table>\n",
       "<p>354 rows × 9 columns</p>\n",
       "</div>"
      ],
      "text/plain": [
       "      StoreID LocalityType    ProductMix  PromoCont  PromoContStartWeek  \\\n",
       "11         12        type1  LargeVariety          1                13.0   \n",
       "12         13        type4    Essentials          1                45.0   \n",
       "15         16        type1  LargeVariety          0                 0.0   \n",
       "18         19        type1  LargeVariety          1                22.0   \n",
       "21         22        type1    Essentials          1                22.0   \n",
       "...       ...          ...           ...        ...                 ...   \n",
       "1095     1096        type1  LargeVariety          1                10.0   \n",
       "1099     1100        type1    Essentials          1                14.0   \n",
       "1112     1113        type1  LargeVariety          0                 0.0   \n",
       "1113     1114        type1  LargeVariety          0                 0.0   \n",
       "1114     1115        type4  LargeVariety          1                22.0   \n",
       "\n",
       "      PromoContStartYear  CompetitionDistance  CompetitionMonth  \\\n",
       "11                2010.0               1070.0               NaN   \n",
       "12                2009.0                310.0               NaN   \n",
       "15                   0.0               3270.0               NaN   \n",
       "18                2011.0               3240.0               NaN   \n",
       "21                2012.0               1040.0               NaN   \n",
       "...                  ...                  ...               ...   \n",
       "1095              2014.0               1130.0               NaN   \n",
       "1099              2011.0                540.0               NaN   \n",
       "1112                 0.0               9260.0               NaN   \n",
       "1113                 0.0                870.0               NaN   \n",
       "1114              2012.0               5350.0               NaN   \n",
       "\n",
       "      CompetitionYear  \n",
       "11                NaN  \n",
       "12                NaN  \n",
       "15                NaN  \n",
       "18                NaN  \n",
       "21                NaN  \n",
       "...               ...  \n",
       "1095              NaN  \n",
       "1099              NaN  \n",
       "1112              NaN  \n",
       "1113              NaN  \n",
       "1114              NaN  \n",
       "\n",
       "[354 rows x 9 columns]"
      ]
     },
     "execution_count": 18,
     "metadata": {},
     "output_type": "execute_result"
    }
   ],
   "source": [
    "store[store['CompetitionMonth'].isnull()]"
   ]
  },
  {
   "cell_type": "code",
   "execution_count": 19,
   "id": "d3fe7126",
   "metadata": {
    "scrolled": true
   },
   "outputs": [
    {
     "name": "stderr",
     "output_type": "stream",
     "text": [
      "C:\\Users\\shubh\\anaconda3\\lib\\site-packages\\seaborn\\distributions.py:2619: FutureWarning: `distplot` is a deprecated function and will be removed in a future version. Please adapt your code to use either `displot` (a figure-level function with similar flexibility) or `histplot` (an axes-level function for histograms).\n",
      "  warnings.warn(msg, FutureWarning)\n",
      "C:\\Users\\shubh\\anaconda3\\lib\\site-packages\\seaborn\\distributions.py:2619: FutureWarning: `distplot` is a deprecated function and will be removed in a future version. Please adapt your code to use either `displot` (a figure-level function with similar flexibility) or `histplot` (an axes-level function for histograms).\n",
      "  warnings.warn(msg, FutureWarning)\n"
     ]
    },
    {
     "data": {
      "text/plain": [
       "<AxesSubplot:xlabel='CompetitionMonth', ylabel='Density'>"
      ]
     },
     "execution_count": 19,
     "metadata": {},
     "output_type": "execute_result"
    },
    {
     "data": {
      "image/png": "[encoded data removed]",
      "text/plain": [
       "<Figure size 864x360 with 2 Axes>"
      ]
     },
     "metadata": {},
     "output_type": "display_data"
    }
   ],
   "source": [
    "plt.subplot(1,2,1)\n",
    "sns.distplot(store[(store['CompetitionMonth'].isnull()==False) & (store['LocalityType']=='type1')].groupby(['LocalityType','CompetitionDistance'])['CompetitionMonth'].mean())\n",
    "\n",
    "plt.subplot(1,2,2)\n",
    "sns.distplot(store[(store['CompetitionMonth'].isnull()==False) & (store['LocalityType']=='type2')].groupby(['LocalityType','CompetitionDistance'])['CompetitionMonth'].mean())\n"
   ]
  },
  {
   "cell_type": "code",
   "execution_count": 20,
   "id": "918f5e30",
   "metadata": {},
   "outputs": [
    {
     "name": "stderr",
     "output_type": "stream",
     "text": [
      "C:\\Users\\shubh\\anaconda3\\lib\\site-packages\\seaborn\\distributions.py:2619: FutureWarning: `distplot` is a deprecated function and will be removed in a future version. Please adapt your code to use either `displot` (a figure-level function with similar flexibility) or `histplot` (an axes-level function for histograms).\n",
      "  warnings.warn(msg, FutureWarning)\n",
      "C:\\Users\\shubh\\anaconda3\\lib\\site-packages\\seaborn\\distributions.py:2619: FutureWarning: `distplot` is a deprecated function and will be removed in a future version. Please adapt your code to use either `displot` (a figure-level function with similar flexibility) or `histplot` (an axes-level function for histograms).\n",
      "  warnings.warn(msg, FutureWarning)\n"
     ]
    },
    {
     "data": {
      "text/plain": [
       "<AxesSubplot:xlabel='CompetitionMonth', ylabel='Density'>"
      ]
     },
     "execution_count": 20,
     "metadata": {},
     "output_type": "execute_result"
    },
    {
     "data": {
      "image/png": "[encoded data removed]",
      "text/plain": [
       "<Figure size 864x360 with 2 Axes>"
      ]
     },
     "metadata": {},
     "output_type": "display_data"
    }
   ],
   "source": [
    "plt.subplot(1,2,1)\n",
    "sns.distplot(store[(store['CompetitionMonth'].isnull()==False) & (store['LocalityType']=='type3')].groupby(['LocalityType','CompetitionDistance'])['CompetitionMonth'].mean())\n",
    "plt.subplot(1,2,2)\n",
    "sns.distplot(store[(store['CompetitionMonth'].isnull()==False) & (store['LocalityType']=='type4')].groupby(['LocalityType','CompetitionDistance'])['CompetitionMonth'].mean())\n"
   ]
  },
  {
   "cell_type": "code",
   "execution_count": 21,
   "id": "63897c1a",
   "metadata": {},
   "outputs": [],
   "source": [
    "a = store[store['CompetitionMonth'].isnull()]['ProductMix']"
   ]
  },
  {
   "cell_type": "code",
   "execution_count": 22,
   "id": "15fb0fdd",
   "metadata": {},
   "outputs": [
    {
     "data": {
      "text/plain": [
       "LargeVariety      193\n",
       "Essentials        155\n",
       "EssentialsPlus      6\n",
       "Name: ProductMix, dtype: int64"
      ]
     },
     "execution_count": 22,
     "metadata": {},
     "output_type": "execute_result"
    }
   ],
   "source": [
    "a.value_counts()"
   ]
  },
  {
   "cell_type": "code",
   "execution_count": 23,
   "id": "fb01606e",
   "metadata": {
    "scrolled": true
   },
   "outputs": [
    {
     "data": {
      "text/plain": [
       "<AxesSubplot:ylabel='Frequency'>"
      ]
     },
     "execution_count": 23,
     "metadata": {},
     "output_type": "execute_result"
    },
    {
     "data": {
      "image/png": "[encoded data removed]",
      "text/plain": [
       "<Figure size 864x360 with 1 Axes>"
      ]
     },
     "metadata": {},
     "output_type": "display_data"
    }
   ],
   "source": [
    "store['CompetitionMonth'].plot.hist()"
   ]
  },
  {
   "cell_type": "code",
   "execution_count": 24,
   "id": "987dc513",
   "metadata": {},
   "outputs": [
    {
     "data": {
      "text/html": [
       "<div>\n",
       "<style scoped>\n",
       "    .dataframe tbody tr th:only-of-type {\n",
       "        vertical-align: middle;\n",
       "    }\n",
       "\n",
       "    .dataframe tbody tr th {\n",
       "        vertical-align: top;\n",
       "    }\n",
       "\n",
       "    .dataframe thead th {\n",
       "        text-align: right;\n",
       "    }\n",
       "</style>\n",
       "<table border=\"1\" class=\"dataframe\">\n",
       "  <thead>\n",
       "    <tr style=\"text-align: right;\">\n",
       "      <th></th>\n",
       "      <th>StoreID</th>\n",
       "      <th>ProductMix</th>\n",
       "      <th>PromoCont</th>\n",
       "      <th>PromoContStartWeek</th>\n",
       "      <th>PromoContStartYear</th>\n",
       "      <th>CompetitionDistance</th>\n",
       "      <th>CompetitionMonth</th>\n",
       "      <th>CompetitionYear</th>\n",
       "    </tr>\n",
       "    <tr>\n",
       "      <th>LocalityType</th>\n",
       "      <th></th>\n",
       "      <th></th>\n",
       "      <th></th>\n",
       "      <th></th>\n",
       "      <th></th>\n",
       "      <th></th>\n",
       "      <th></th>\n",
       "      <th></th>\n",
       "    </tr>\n",
       "  </thead>\n",
       "  <tbody>\n",
       "    <tr>\n",
       "      <th>type1</th>\n",
       "      <td>176</td>\n",
       "      <td>176</td>\n",
       "      <td>176</td>\n",
       "      <td>176</td>\n",
       "      <td>176</td>\n",
       "      <td>175</td>\n",
       "      <td>0</td>\n",
       "      <td>0</td>\n",
       "    </tr>\n",
       "    <tr>\n",
       "      <th>type2</th>\n",
       "      <td>8</td>\n",
       "      <td>8</td>\n",
       "      <td>8</td>\n",
       "      <td>8</td>\n",
       "      <td>8</td>\n",
       "      <td>8</td>\n",
       "      <td>0</td>\n",
       "      <td>0</td>\n",
       "    </tr>\n",
       "    <tr>\n",
       "      <th>type3</th>\n",
       "      <td>41</td>\n",
       "      <td>41</td>\n",
       "      <td>41</td>\n",
       "      <td>41</td>\n",
       "      <td>41</td>\n",
       "      <td>41</td>\n",
       "      <td>0</td>\n",
       "      <td>0</td>\n",
       "    </tr>\n",
       "    <tr>\n",
       "      <th>type4</th>\n",
       "      <td>129</td>\n",
       "      <td>129</td>\n",
       "      <td>129</td>\n",
       "      <td>129</td>\n",
       "      <td>129</td>\n",
       "      <td>127</td>\n",
       "      <td>0</td>\n",
       "      <td>0</td>\n",
       "    </tr>\n",
       "  </tbody>\n",
       "</table>\n",
       "</div>"
      ],
      "text/plain": [
       "              StoreID  ProductMix  PromoCont  PromoContStartWeek  \\\n",
       "LocalityType                                                       \n",
       "type1             176         176        176                 176   \n",
       "type2               8           8          8                   8   \n",
       "type3              41          41         41                  41   \n",
       "type4             129         129        129                 129   \n",
       "\n",
       "              PromoContStartYear  CompetitionDistance  CompetitionMonth  \\\n",
       "LocalityType                                                              \n",
       "type1                        176                  175                 0   \n",
       "type2                          8                    8                 0   \n",
       "type3                         41                   41                 0   \n",
       "type4                        129                  127                 0   \n",
       "\n",
       "              CompetitionYear  \n",
       "LocalityType                   \n",
       "type1                       0  \n",
       "type2                       0  \n",
       "type3                       0  \n",
       "type4                       0  "
      ]
     },
     "execution_count": 24,
     "metadata": {},
     "output_type": "execute_result"
    }
   ],
   "source": [
    "store[store['CompetitionMonth'].isnull()== True].groupby('LocalityType').count()"
   ]
  },
  {
   "cell_type": "code",
   "execution_count": 25,
   "id": "e1ff6d19",
   "metadata": {},
   "outputs": [
    {
     "data": {
      "text/plain": [
       "\"def impute_C_Month(col):\\n    CM=col[0]\\n    type=col[1]\\n    if col[0].isnull():\\n        if col[1]=='type1':\\n            return 'a'\\n        elif col[1]=='type2':\\n            return 'b'\\n        else : return 'c'\\n    else: col[0]==col[0]      \""
      ]
     },
     "execution_count": 25,
     "metadata": {},
     "output_type": "execute_result"
    }
   ],
   "source": [
    "'''def impute_C_Month(col):\n",
    "    CM=col[0]\n",
    "    type=col[1]\n",
    "    if col[0].isnull():\n",
    "        if col[1]=='type1':\n",
    "            return 'a'\n",
    "        elif col[1]=='type2':\n",
    "            return 'b'\n",
    "        else : return 'c'\n",
    "    else: col[0]==col[0]      '''"
   ]
  },
  {
   "cell_type": "code",
   "execution_count": 26,
   "id": "d22ef2ef",
   "metadata": {},
   "outputs": [
    {
     "data": {
      "text/plain": [
       "LocalityType\n",
       "type1    7.5\n",
       "type2    6.0\n",
       "type3    7.0\n",
       "type4    8.0\n",
       "Name: CompetitionMonth, dtype: float64"
      ]
     },
     "metadata": {},
     "output_type": "display_data"
    }
   ],
   "source": [
    "# fix the CompetitionMonth \n",
    "median_CM = store.groupby(['LocalityType'])['CompetitionMonth'].median()\n",
    "display(median_CM)"
   ]
  },
  {
   "cell_type": "code",
   "execution_count": 27,
   "id": "a452d53b",
   "metadata": {},
   "outputs": [],
   "source": [
    "def replace_CM_(row):\n",
    "    if pd.isnull(row['CompetitionMonth']):\n",
    "        return median_CM[row['LocalityType']]\n",
    "    else:\n",
    "        return row['CompetitionMonth']"
   ]
  },
  {
   "cell_type": "code",
   "execution_count": 28,
   "id": "4619af17",
   "metadata": {},
   "outputs": [],
   "source": [
    "store['CompetitionMonth'] = store.apply(replace_CM_,axis = 1)"
   ]
  },
  {
   "cell_type": "code",
   "execution_count": 29,
   "id": "ec046256",
   "metadata": {
    "scrolled": true
   },
   "outputs": [
    {
     "data": {
      "text/plain": [
       "LocalityType\n",
       "type1    2010.0\n",
       "type2    2008.0\n",
       "type3    2009.0\n",
       "type4    2010.0\n",
       "Name: CompetitionYear, dtype: float64"
      ]
     },
     "metadata": {},
     "output_type": "display_data"
    },
    {
     "data": {
      "text/plain": [
       "(4,)"
      ]
     },
     "metadata": {},
     "output_type": "display_data"
    }
   ],
   "source": [
    "# fix the CompetitionYear\n",
    "median_CY = store.groupby(['LocalityType'])['CompetitionYear'].median()\n",
    "display(median_CY)\n",
    "display(median_CY.shape)\n"
   ]
  },
  {
   "cell_type": "code",
   "execution_count": 30,
   "id": "c29e87dd",
   "metadata": {},
   "outputs": [],
   "source": [
    "def replace_CY_(row):\n",
    "    if pd.isnull(row['CompetitionYear']):\n",
    "        return median_CY[row['LocalityType']]\n",
    "    else:\n",
    "        return row['CompetitionYear']"
   ]
  },
  {
   "cell_type": "code",
   "execution_count": 31,
   "id": "80c1934a",
   "metadata": {},
   "outputs": [],
   "source": [
    "store['CompetitionYear'] = store.apply(replace_CY_,axis = 1)\n"
   ]
  },
  {
   "cell_type": "code",
   "execution_count": 32,
   "id": "e6fe7584",
   "metadata": {
    "scrolled": true
   },
   "outputs": [
    {
     "name": "stdout",
     "output_type": "stream",
     "text": [
      "<class 'pandas.core.frame.DataFrame'>\n",
      "RangeIndex: 1115 entries, 0 to 1114\n",
      "Data columns (total 9 columns):\n",
      " #   Column               Non-Null Count  Dtype  \n",
      "---  ------               --------------  -----  \n",
      " 0   StoreID              1115 non-null   int64  \n",
      " 1   LocalityType         1115 non-null   object \n",
      " 2   ProductMix           1115 non-null   object \n",
      " 3   PromoCont            1115 non-null   int64  \n",
      " 4   PromoContStartWeek   1115 non-null   float64\n",
      " 5   PromoContStartYear   1115 non-null   float64\n",
      " 6   CompetitionDistance  1112 non-null   float64\n",
      " 7   CompetitionMonth     1115 non-null   float64\n",
      " 8   CompetitionYear      1115 non-null   float64\n",
      "dtypes: float64(5), int64(2), object(2)\n",
      "memory usage: 78.5+ KB\n"
     ]
    }
   ],
   "source": [
    "store.info()"
   ]
  },
  {
   "cell_type": "code",
   "execution_count": 33,
   "id": "c8e4dd65",
   "metadata": {},
   "outputs": [
    {
     "data": {
      "text/plain": [
       "StoreID                0\n",
       "LocalityType           0\n",
       "ProductMix             0\n",
       "PromoCont              0\n",
       "PromoContStartWeek     0\n",
       "PromoContStartYear     0\n",
       "CompetitionDistance    3\n",
       "CompetitionMonth       0\n",
       "CompetitionYear        0\n",
       "dtype: int64"
      ]
     },
     "execution_count": 33,
     "metadata": {},
     "output_type": "execute_result"
    }
   ],
   "source": [
    "store.isnull().sum()"
   ]
  },
  {
   "cell_type": "code",
   "execution_count": 34,
   "id": "ddde5792",
   "metadata": {},
   "outputs": [
    {
     "data": {
      "text/plain": [
       "<AxesSubplot:ylabel='Frequency'>"
      ]
     },
     "execution_count": 34,
     "metadata": {},
     "output_type": "execute_result"
    },
    {
     "data": {
      "image/png": "[encoded data removed]",
      "text/plain": [
       "<Figure size 864x360 with 1 Axes>"
      ]
     },
     "metadata": {},
     "output_type": "display_data"
    }
   ],
   "source": [
    "store['CompetitionMonth'].plot.hist()"
   ]
  },
  {
   "cell_type": "code",
   "execution_count": 35,
   "id": "821b2794",
   "metadata": {},
   "outputs": [
    {
     "data": {
      "text/plain": [
       "<AxesSubplot:ylabel='Frequency'>"
      ]
     },
     "execution_count": 35,
     "metadata": {},
     "output_type": "execute_result"
    },
    {
     "data": {
      "image/png": "[encoded data removed]",
      "text/plain": [
       "<Figure size 864x360 with 1 Axes>"
      ]
     },
     "metadata": {},
     "output_type": "display_data"
    }
   ],
   "source": [
    "store['CompetitionYear'].plot.hist()"
   ]
  },
  {
   "cell_type": "code",
   "execution_count": 36,
   "id": "7fa045b6",
   "metadata": {
    "scrolled": true
   },
   "outputs": [
    {
     "name": "stdout",
     "output_type": "stream",
     "text": [
      "<class 'pandas.core.frame.DataFrame'>\n",
      "RangeIndex: 1115 entries, 0 to 1114\n",
      "Data columns (total 9 columns):\n",
      " #   Column               Non-Null Count  Dtype  \n",
      "---  ------               --------------  -----  \n",
      " 0   StoreID              1115 non-null   int64  \n",
      " 1   LocalityType         1115 non-null   object \n",
      " 2   ProductMix           1115 non-null   object \n",
      " 3   PromoCont            1115 non-null   int64  \n",
      " 4   PromoContStartWeek   1115 non-null   float64\n",
      " 5   PromoContStartYear   1115 non-null   float64\n",
      " 6   CompetitionDistance  1112 non-null   float64\n",
      " 7   CompetitionMonth     1115 non-null   float64\n",
      " 8   CompetitionYear      1115 non-null   float64\n",
      "dtypes: float64(5), int64(2), object(2)\n",
      "memory usage: 78.5+ KB\n"
     ]
    }
   ],
   "source": [
    "store.info()"
   ]
  },
  {
   "cell_type": "code",
   "execution_count": 37,
   "id": "3bcbdb4c",
   "metadata": {},
   "outputs": [],
   "source": [
    "## store.dropna(subset=['CompetitionDistance'],inplace=True)"
   ]
  },
  {
   "cell_type": "code",
   "execution_count": 38,
   "id": "db0021e3",
   "metadata": {},
   "outputs": [],
   "source": [
    "# store.isnull().sum()"
   ]
  },
  {
   "cell_type": "code",
   "execution_count": 39,
   "id": "bd6d978d",
   "metadata": {},
   "outputs": [],
   "source": [
    "cop_store = store.copy()"
   ]
  },
  {
   "cell_type": "code",
   "execution_count": 40,
   "id": "4a436ae6",
   "metadata": {},
   "outputs": [
    {
     "name": "stderr",
     "output_type": "stream",
     "text": [
      "C:\\Users\\shubh\\store-sales prediction\\train_data.py:25: DtypeWarning: Columns (6) have mixed types. Specify dtype option on import or set low_memory=False.\n",
      "  train_store = pd.read_csv(\"train.csv\")\n"
     ]
    },
    {
     "name": "stdout",
     "output_type": "stream",
     "text": [
      "<class 'pandas.core.frame.DataFrame'>\n",
      "RangeIndex: 949194 entries, 0 to 949193\n",
      "Data columns (total 8 columns):\n",
      " #   Column        Non-Null Count   Dtype \n",
      "---  ------        --------------   ----- \n",
      " 0   StoreID       949194 non-null  int64 \n",
      " 1   DOW           949194 non-null  int64 \n",
      " 2   Date          949194 non-null  object\n",
      " 3   Sales         949194 non-null  int64 \n",
      " 4   StoreOpen     949194 non-null  int64 \n",
      " 5   PromoFlag     949194 non-null  int64 \n",
      " 6   HolidayFlag   949194 non-null  object\n",
      " 7   SchUnivClose  949194 non-null  int64 \n",
      "dtypes: int64(6), object(2)\n",
      "memory usage: 57.9+ MB\n"
     ]
    },
    {
     "name": "stderr",
     "output_type": "stream",
     "text": [
      "No artists with labels found to put in legend.  Note that artists whose label start with an underscore are ignored when legend() is called with no argument.\n"
     ]
    },
    {
     "name": "stdout",
     "output_type": "stream",
     "text": [
      "<class 'pandas.core.frame.DataFrame'>\n",
      "RangeIndex: 949194 entries, 0 to 949193\n",
      "Data columns (total 8 columns):\n",
      " #   Column        Non-Null Count   Dtype         \n",
      "---  ------        --------------   -----         \n",
      " 0   StoreID       949194 non-null  int64         \n",
      " 1   DOW           949194 non-null  int64         \n",
      " 2   Date          949194 non-null  datetime64[ns]\n",
      " 3   Sales         949194 non-null  int64         \n",
      " 4   StoreOpen     949194 non-null  int64         \n",
      " 5   PromoFlag     949194 non-null  int64         \n",
      " 6   HolidayFlag   949194 non-null  object        \n",
      " 7   SchUnivClose  949194 non-null  int64         \n",
      "dtypes: datetime64[ns](1), int64(6), object(1)\n",
      "memory usage: 57.9+ MB\n"
     ]
    },
    {
     "name": "stderr",
     "output_type": "stream",
     "text": [
      "C:\\Users\\shubh\\anaconda3\\lib\\site-packages\\seaborn\\_decorators.py:36: FutureWarning: Pass the following variable as a keyword arg: x. From version 0.12, the only valid positional argument will be `data`, and passing other arguments without an explicit keyword will result in an error or misinterpretation.\n",
      "  warnings.warn(\n",
      "C:\\Users\\shubh\\anaconda3\\lib\\site-packages\\seaborn\\_decorators.py:36: FutureWarning: Pass the following variable as a keyword arg: x. From version 0.12, the only valid positional argument will be `data`, and passing other arguments without an explicit keyword will result in an error or misinterpretation.\n",
      "  warnings.warn(\n",
      "C:\\Users\\shubh\\anaconda3\\lib\\site-packages\\seaborn\\_decorators.py:36: FutureWarning: Pass the following variable as a keyword arg: x. From version 0.12, the only valid positional argument will be `data`, and passing other arguments without an explicit keyword will result in an error or misinterpretation.\n",
      "  warnings.warn(\n"
     ]
    },
    {
     "data": {
      "image/png": "[encoded data removed]",
      "text/plain": [
       "<Figure size 864x288 with 1 Axes>"
      ]
     },
     "metadata": {},
     "output_type": "display_data"
    },
    {
     "data": {
      "image/png": "[encoded data removed]",
      "text/plain": [
       "<Figure size 864x360 with 1 Axes>"
      ]
     },
     "metadata": {},
     "output_type": "display_data"
    },
    {
     "data": {
      "image/png": "[encoded data removed]",
      "text/plain": [
       "<Figure size 864x360 with 1 Axes>"
      ]
     },
     "metadata": {},
     "output_type": "display_data"
    }
   ],
   "source": [
    "import train_data"
   ]
  },
  {
   "cell_type": "code",
   "execution_count": 41,
   "id": "eaf9eac7",
   "metadata": {},
   "outputs": [],
   "source": [
    "train = train_data.train_store"
   ]
  },
  {
   "cell_type": "code",
   "execution_count": 42,
   "id": "45db9275",
   "metadata": {
    "scrolled": true
   },
   "outputs": [
    {
     "data": {
      "text/html": [
       "<div>\n",
       "<style scoped>\n",
       "    .dataframe tbody tr th:only-of-type {\n",
       "        vertical-align: middle;\n",
       "    }\n",
       "\n",
       "    .dataframe tbody tr th {\n",
       "        vertical-align: top;\n",
       "    }\n",
       "\n",
       "    .dataframe thead th {\n",
       "        text-align: right;\n",
       "    }\n",
       "</style>\n",
       "<table border=\"1\" class=\"dataframe\">\n",
       "  <thead>\n",
       "    <tr style=\"text-align: right;\">\n",
       "      <th></th>\n",
       "      <th>StoreID</th>\n",
       "      <th>DOW</th>\n",
       "      <th>Date</th>\n",
       "      <th>Sales</th>\n",
       "      <th>StoreOpen</th>\n",
       "      <th>PromoFlag</th>\n",
       "      <th>HolidayFlag</th>\n",
       "      <th>SchUnivClose</th>\n",
       "    </tr>\n",
       "  </thead>\n",
       "  <tbody>\n",
       "    <tr>\n",
       "      <th>0</th>\n",
       "      <td>1</td>\n",
       "      <td>7</td>\n",
       "      <td>2015-05-31</td>\n",
       "      <td>0</td>\n",
       "      <td>0</td>\n",
       "      <td>0</td>\n",
       "      <td>0</td>\n",
       "      <td>0</td>\n",
       "    </tr>\n",
       "    <tr>\n",
       "      <th>1</th>\n",
       "      <td>2</td>\n",
       "      <td>7</td>\n",
       "      <td>2015-05-31</td>\n",
       "      <td>0</td>\n",
       "      <td>0</td>\n",
       "      <td>0</td>\n",
       "      <td>0</td>\n",
       "      <td>0</td>\n",
       "    </tr>\n",
       "    <tr>\n",
       "      <th>2</th>\n",
       "      <td>3</td>\n",
       "      <td>7</td>\n",
       "      <td>2015-05-31</td>\n",
       "      <td>0</td>\n",
       "      <td>0</td>\n",
       "      <td>0</td>\n",
       "      <td>0</td>\n",
       "      <td>0</td>\n",
       "    </tr>\n",
       "    <tr>\n",
       "      <th>3</th>\n",
       "      <td>4</td>\n",
       "      <td>7</td>\n",
       "      <td>2015-05-31</td>\n",
       "      <td>0</td>\n",
       "      <td>0</td>\n",
       "      <td>0</td>\n",
       "      <td>0</td>\n",
       "      <td>0</td>\n",
       "    </tr>\n",
       "    <tr>\n",
       "      <th>4</th>\n",
       "      <td>5</td>\n",
       "      <td>7</td>\n",
       "      <td>2015-05-31</td>\n",
       "      <td>0</td>\n",
       "      <td>0</td>\n",
       "      <td>0</td>\n",
       "      <td>0</td>\n",
       "      <td>0</td>\n",
       "    </tr>\n",
       "    <tr>\n",
       "      <th>...</th>\n",
       "      <td>...</td>\n",
       "      <td>...</td>\n",
       "      <td>...</td>\n",
       "      <td>...</td>\n",
       "      <td>...</td>\n",
       "      <td>...</td>\n",
       "      <td>...</td>\n",
       "      <td>...</td>\n",
       "    </tr>\n",
       "    <tr>\n",
       "      <th>949189</th>\n",
       "      <td>1111</td>\n",
       "      <td>2</td>\n",
       "      <td>2013-01-01</td>\n",
       "      <td>0</td>\n",
       "      <td>0</td>\n",
       "      <td>0</td>\n",
       "      <td>h1</td>\n",
       "      <td>1</td>\n",
       "    </tr>\n",
       "    <tr>\n",
       "      <th>949190</th>\n",
       "      <td>1112</td>\n",
       "      <td>2</td>\n",
       "      <td>2013-01-01</td>\n",
       "      <td>0</td>\n",
       "      <td>0</td>\n",
       "      <td>0</td>\n",
       "      <td>h1</td>\n",
       "      <td>1</td>\n",
       "    </tr>\n",
       "    <tr>\n",
       "      <th>949191</th>\n",
       "      <td>1113</td>\n",
       "      <td>2</td>\n",
       "      <td>2013-01-01</td>\n",
       "      <td>0</td>\n",
       "      <td>0</td>\n",
       "      <td>0</td>\n",
       "      <td>h1</td>\n",
       "      <td>1</td>\n",
       "    </tr>\n",
       "    <tr>\n",
       "      <th>949192</th>\n",
       "      <td>1114</td>\n",
       "      <td>2</td>\n",
       "      <td>2013-01-01</td>\n",
       "      <td>0</td>\n",
       "      <td>0</td>\n",
       "      <td>0</td>\n",
       "      <td>h1</td>\n",
       "      <td>1</td>\n",
       "    </tr>\n",
       "    <tr>\n",
       "      <th>949193</th>\n",
       "      <td>1115</td>\n",
       "      <td>2</td>\n",
       "      <td>2013-01-01</td>\n",
       "      <td>0</td>\n",
       "      <td>0</td>\n",
       "      <td>0</td>\n",
       "      <td>h1</td>\n",
       "      <td>1</td>\n",
       "    </tr>\n",
       "  </tbody>\n",
       "</table>\n",
       "<p>949194 rows × 8 columns</p>\n",
       "</div>"
      ],
      "text/plain": [
       "        StoreID  DOW       Date  Sales  StoreOpen  PromoFlag HolidayFlag  \\\n",
       "0             1    7 2015-05-31      0          0          0           0   \n",
       "1             2    7 2015-05-31      0          0          0           0   \n",
       "2             3    7 2015-05-31      0          0          0           0   \n",
       "3             4    7 2015-05-31      0          0          0           0   \n",
       "4             5    7 2015-05-31      0          0          0           0   \n",
       "...         ...  ...        ...    ...        ...        ...         ...   \n",
       "949189     1111    2 2013-01-01      0          0          0          h1   \n",
       "949190     1112    2 2013-01-01      0          0          0          h1   \n",
       "949191     1113    2 2013-01-01      0          0          0          h1   \n",
       "949192     1114    2 2013-01-01      0          0          0          h1   \n",
       "949193     1115    2 2013-01-01      0          0          0          h1   \n",
       "\n",
       "        SchUnivClose  \n",
       "0                  0  \n",
       "1                  0  \n",
       "2                  0  \n",
       "3                  0  \n",
       "4                  0  \n",
       "...              ...  \n",
       "949189             1  \n",
       "949190             1  \n",
       "949191             1  \n",
       "949192             1  \n",
       "949193             1  \n",
       "\n",
       "[949194 rows x 8 columns]"
      ]
     },
     "execution_count": 42,
     "metadata": {},
     "output_type": "execute_result"
    }
   ],
   "source": [
    "train"
   ]
  },
  {
   "cell_type": "code",
   "execution_count": 43,
   "id": "f8928128",
   "metadata": {},
   "outputs": [
    {
     "data": {
      "text/plain": [
       "Index(['StoreID', 'DOW', 'Date', 'Sales', 'StoreOpen', 'PromoFlag',\n",
       "       'HolidayFlag', 'SchUnivClose'],\n",
       "      dtype='object')"
      ]
     },
     "execution_count": 43,
     "metadata": {},
     "output_type": "execute_result"
    }
   ],
   "source": [
    "train.columns"
   ]
  },
  {
   "cell_type": "code",
   "execution_count": 44,
   "id": "82129ee8",
   "metadata": {},
   "outputs": [
    {
     "data": {
      "text/plain": [
       "Index(['StoreID', 'LocalityType', 'ProductMix', 'PromoCont',\n",
       "       'PromoContStartWeek', 'PromoContStartYear', 'CompetitionDistance',\n",
       "       'CompetitionMonth', 'CompetitionYear'],\n",
       "      dtype='object')"
      ]
     },
     "execution_count": 44,
     "metadata": {},
     "output_type": "execute_result"
    }
   ],
   "source": [
    "store.columns"
   ]
  },
  {
   "cell_type": "code",
   "execution_count": 45,
   "id": "5b6693c1",
   "metadata": {},
   "outputs": [
    {
     "data": {
      "text/plain": [
       "1115"
      ]
     },
     "execution_count": 45,
     "metadata": {},
     "output_type": "execute_result"
    }
   ],
   "source": [
    "store['StoreID'].nunique()"
   ]
  },
  {
   "cell_type": "code",
   "execution_count": 46,
   "id": "acdbda2c",
   "metadata": {},
   "outputs": [
    {
     "data": {
      "text/plain": [
       "1115"
      ]
     },
     "execution_count": 46,
     "metadata": {},
     "output_type": "execute_result"
    }
   ],
   "source": [
    "train['StoreID'].nunique()"
   ]
  },
  {
   "cell_type": "code",
   "execution_count": 47,
   "id": "44e63a49",
   "metadata": {},
   "outputs": [],
   "source": [
    "store_merged_train = pd.merge(train, store, on='StoreID', how='left')"
   ]
  },
  {
   "cell_type": "code",
   "execution_count": 48,
   "id": "5a2a1a66",
   "metadata": {},
   "outputs": [
    {
     "name": "stdout",
     "output_type": "stream",
     "text": [
      "<class 'pandas.core.frame.DataFrame'>\n",
      "Int64Index: 949194 entries, 0 to 949193\n",
      "Data columns (total 16 columns):\n",
      " #   Column               Non-Null Count   Dtype         \n",
      "---  ------               --------------   -----         \n",
      " 0   StoreID              949194 non-null  int64         \n",
      " 1   DOW                  949194 non-null  int64         \n",
      " 2   Date                 949194 non-null  datetime64[ns]\n",
      " 3   Sales                949194 non-null  int64         \n",
      " 4   StoreOpen            949194 non-null  int64         \n",
      " 5   PromoFlag            949194 non-null  int64         \n",
      " 6   HolidayFlag          949194 non-null  object        \n",
      " 7   SchUnivClose         949194 non-null  int64         \n",
      " 8   LocalityType         949194 non-null  object        \n",
      " 9   ProductMix           949194 non-null  object        \n",
      " 10  PromoCont            949194 non-null  int64         \n",
      " 11  PromoContStartWeek   949194 non-null  float64       \n",
      " 12  PromoContStartYear   949194 non-null  float64       \n",
      " 13  CompetitionDistance  946735 non-null  float64       \n",
      " 14  CompetitionMonth     949194 non-null  float64       \n",
      " 15  CompetitionYear      949194 non-null  float64       \n",
      "dtypes: datetime64[ns](1), float64(5), int64(7), object(3)\n",
      "memory usage: 123.1+ MB\n"
     ]
    }
   ],
   "source": [
    "store_merged_train.info()"
   ]
  },
  {
   "cell_type": "code",
   "execution_count": 49,
   "id": "1be488e8",
   "metadata": {},
   "outputs": [
    {
     "data": {
      "text/plain": [
       "array([291, 622, 879], dtype=int64)"
      ]
     },
     "execution_count": 49,
     "metadata": {},
     "output_type": "execute_result"
    }
   ],
   "source": [
    "store_merged_train[store_merged_train['CompetitionDistance'].isnull()]['StoreID'].unique()"
   ]
  },
  {
   "cell_type": "code",
   "execution_count": 50,
   "id": "114ba26c",
   "metadata": {
    "scrolled": true
   },
   "outputs": [
    {
     "data": {
      "text/plain": [
       "StoreID\n",
       "291    881\n",
       "622    881\n",
       "879    697\n",
       "Name: StoreID, dtype: int64"
      ]
     },
     "execution_count": 50,
     "metadata": {},
     "output_type": "execute_result"
    }
   ],
   "source": [
    "store_merged_train[store_merged_train['CompetitionDistance'].isnull()].groupby('StoreID')['StoreID'].count()"
   ]
  },
  {
   "cell_type": "code",
   "execution_count": 51,
   "id": "252176c1",
   "metadata": {},
   "outputs": [
    {
     "data": {
      "text/plain": [
       "290       type4\n",
       "621       type1\n",
       "878       type4\n",
       "1405      type4\n",
       "1736      type1\n",
       "          ...  \n",
       "947586    type1\n",
       "947843    type4\n",
       "948370    type4\n",
       "948701    type1\n",
       "948958    type4\n",
       "Name: LocalityType, Length: 2459, dtype: object"
      ]
     },
     "execution_count": 51,
     "metadata": {},
     "output_type": "execute_result"
    }
   ],
   "source": [
    "store_merged_train[store_merged_train['CompetitionDistance'].isnull()]['LocalityType']"
   ]
  },
  {
   "cell_type": "code",
   "execution_count": 52,
   "id": "f29ab3c7",
   "metadata": {},
   "outputs": [
    {
     "name": "stdout",
     "output_type": "stream",
     "text": [
      "type3 \n",
      " 3516.29\n",
      "type4 \n",
      " 6963.28\n",
      "type1 \n",
      " 5169.55\n",
      "type2 \n",
      " 1066.44\n"
     ]
    }
   ],
   "source": [
    "Mean_distance=[]\n",
    "#def impute_distance():\n",
    "for Loc_id in {'type1','type2','type3','type4'}:\n",
    "    distance=round(store_merged_train.CompetitionDistance[store_merged_train['LocalityType']==Loc_id].mean(),2)\n",
    "    print(Loc_id,\"\\n\",distance)\n",
    "  "
   ]
  },
  {
   "cell_type": "code",
   "execution_count": 53,
   "id": "025d20b4",
   "metadata": {
    "scrolled": false
   },
   "outputs": [
    {
     "data": {
      "text/plain": [
       "LocalityType\n",
       "type1    5123.061564\n",
       "type2    1060.588235\n",
       "type3    3522.567568\n",
       "type4    6913.063584\n",
       "Name: CompetitionDistance, dtype: float64"
      ]
     },
     "metadata": {},
     "output_type": "display_data"
    }
   ],
   "source": [
    "# fix the CompetitionDistance\n",
    "mean_CD = store.groupby(['LocalityType'])['CompetitionDistance'].mean()\n",
    "display(mean_CD)"
   ]
  },
  {
   "cell_type": "code",
   "execution_count": 54,
   "id": "eaf27609",
   "metadata": {},
   "outputs": [],
   "source": [
    "def replace_CD_(row):\n",
    "    if pd.isnull(row['CompetitionDistance']):\n",
    "        return mean_CD[row['LocalityType']]\n",
    "    else:\n",
    "        return row['CompetitionDistance']"
   ]
  },
  {
   "cell_type": "code",
   "execution_count": 55,
   "id": "bccea687",
   "metadata": {},
   "outputs": [],
   "source": [
    "store_merged_train['CompetitionDistance']= store_merged_train.apply(replace_CD_,axis = 1)"
   ]
  },
  {
   "cell_type": "code",
   "execution_count": 56,
   "id": "c4b09d90",
   "metadata": {},
   "outputs": [
    {
     "name": "stdout",
     "output_type": "stream",
     "text": [
      "<class 'pandas.core.frame.DataFrame'>\n",
      "Int64Index: 949194 entries, 0 to 949193\n",
      "Data columns (total 16 columns):\n",
      " #   Column               Non-Null Count   Dtype         \n",
      "---  ------               --------------   -----         \n",
      " 0   StoreID              949194 non-null  int64         \n",
      " 1   DOW                  949194 non-null  int64         \n",
      " 2   Date                 949194 non-null  datetime64[ns]\n",
      " 3   Sales                949194 non-null  int64         \n",
      " 4   StoreOpen            949194 non-null  int64         \n",
      " 5   PromoFlag            949194 non-null  int64         \n",
      " 6   HolidayFlag          949194 non-null  object        \n",
      " 7   SchUnivClose         949194 non-null  int64         \n",
      " 8   LocalityType         949194 non-null  object        \n",
      " 9   ProductMix           949194 non-null  object        \n",
      " 10  PromoCont            949194 non-null  int64         \n",
      " 11  PromoContStartWeek   949194 non-null  float64       \n",
      " 12  PromoContStartYear   949194 non-null  float64       \n",
      " 13  CompetitionDistance  949194 non-null  float64       \n",
      " 14  CompetitionMonth     949194 non-null  float64       \n",
      " 15  CompetitionYear      949194 non-null  float64       \n",
      "dtypes: datetime64[ns](1), float64(5), int64(7), object(3)\n",
      "memory usage: 123.1+ MB\n"
     ]
    }
   ],
   "source": [
    "store_merged_train.info()"
   ]
  },
  {
   "cell_type": "code",
   "execution_count": 57,
   "id": "7c7347e5",
   "metadata": {},
   "outputs": [
    {
     "data": {
      "text/plain": [
       "<AxesSubplot:>"
      ]
     },
     "execution_count": 57,
     "metadata": {},
     "output_type": "execute_result"
    },
    {
     "data": {
      "image/png": "[encoded data removed]",
      "text/plain": [
       "<Figure size 864x360 with 1 Axes>"
      ]
     },
     "metadata": {},
     "output_type": "display_data"
    }
   ],
   "source": [
    "store_merged_train['CompetitionYear'].plot.box()"
   ]
  },
  {
   "cell_type": "markdown",
   "id": "529f3cfd",
   "metadata": {},
   "source": [
    "# Pre-processing of Train - dataset \n",
    "#### Creating dummy variable "
   ]
  },
  {
   "cell_type": "code",
   "execution_count": 58,
   "id": "8da7c64b",
   "metadata": {
    "scrolled": true
   },
   "outputs": [],
   "source": [
    "train_data = store_merged_train.copy()"
   ]
  },
  {
   "cell_type": "code",
   "execution_count": 59,
   "id": "e6d2cbca",
   "metadata": {
    "scrolled": false
   },
   "outputs": [
    {
     "name": "stdout",
     "output_type": "stream",
     "text": [
      "<class 'pandas.core.frame.DataFrame'>\n",
      "Int64Index: 949194 entries, 0 to 949193\n",
      "Data columns (total 16 columns):\n",
      " #   Column               Non-Null Count   Dtype         \n",
      "---  ------               --------------   -----         \n",
      " 0   StoreID              949194 non-null  int64         \n",
      " 1   DOW                  949194 non-null  int64         \n",
      " 2   Date                 949194 non-null  datetime64[ns]\n",
      " 3   Sales                949194 non-null  int64         \n",
      " 4   StoreOpen            949194 non-null  int64         \n",
      " 5   PromoFlag            949194 non-null  int64         \n",
      " 6   HolidayFlag          949194 non-null  object        \n",
      " 7   SchUnivClose         949194 non-null  int64         \n",
      " 8   LocalityType         949194 non-null  object        \n",
      " 9   ProductMix           949194 non-null  object        \n",
      " 10  PromoCont            949194 non-null  int64         \n",
      " 11  PromoContStartWeek   949194 non-null  float64       \n",
      " 12  PromoContStartYear   949194 non-null  float64       \n",
      " 13  CompetitionDistance  949194 non-null  float64       \n",
      " 14  CompetitionMonth     949194 non-null  float64       \n",
      " 15  CompetitionYear      949194 non-null  float64       \n",
      "dtypes: datetime64[ns](1), float64(5), int64(7), object(3)\n",
      "memory usage: 123.1+ MB\n"
     ]
    }
   ],
   "source": [
    "train_data.info()"
   ]
  },
  {
   "cell_type": "code",
   "execution_count": 60,
   "id": "26f99f6e",
   "metadata": {},
   "outputs": [],
   "source": [
    "## pandas.DataFrame.loc[condition, column_label] = new_value\n",
    "train_data.loc[train_data.HolidayFlag=='0','HolidayFlag']=0"
   ]
  },
  {
   "cell_type": "code",
   "execution_count": 61,
   "id": "c04bfba5",
   "metadata": {},
   "outputs": [],
   "source": [
    "train_data.loc[train_data[\"HolidayFlag\"]==\"0\",\"HolidayFlag\"]=0\n",
    "train_data.loc[train_data[\"HolidayFlag\"]==\"h1\",\"HolidayFlag\"]=1\n",
    "train_data.loc[train_data[\"HolidayFlag\"]==\"h2\",\"HolidayFlag\"]=2\n",
    "train_data.loc[train_data[\"HolidayFlag\"]==\"h3\",\"HolidayFlag\"]=3\n",
    "train_data[\"HolidayFlag\"]=train_data[\"HolidayFlag\"].astype(int,copy=False)"
   ]
  },
  {
   "cell_type": "code",
   "execution_count": 62,
   "id": "4a86e80d",
   "metadata": {
    "scrolled": true
   },
   "outputs": [
    {
     "data": {
      "text/plain": [
       "array([0, 1, 2, 3])"
      ]
     },
     "execution_count": 62,
     "metadata": {},
     "output_type": "execute_result"
    }
   ],
   "source": [
    "train_data['HolidayFlag'].unique()"
   ]
  },
  {
   "cell_type": "code",
   "execution_count": 63,
   "id": "44b84868",
   "metadata": {},
   "outputs": [],
   "source": [
    "#Automize the factor process\n",
    "def factor_to_integer(df, colname, start_value=0):\n",
    "    while df[colname].dtype == object:\n",
    "        myval = start_value # factor starts at \"start_value\".\n",
    "        for sval in df[colname].unique():\n",
    "            df.loc[df[colname] == sval, colname] = myval\n",
    "            myval += 1\n",
    "        df[colname] = df[colname].astype(int, copy=False)\n",
    "    print('levels :', df[colname].unique(), '; data type :', df[colname].dtype)"
   ]
  },
  {
   "cell_type": "code",
   "execution_count": 64,
   "id": "d572d5fa",
   "metadata": {
    "scrolled": true
   },
   "outputs": [
    {
     "name": "stdout",
     "output_type": "stream",
     "text": [
      "levels : [0 1 2 3] ; data type : int32\n"
     ]
    }
   ],
   "source": [
    "factor_to_integer(train_data,\"LocalityType\")"
   ]
  },
  {
   "cell_type": "code",
   "execution_count": 65,
   "id": "5204a23f",
   "metadata": {},
   "outputs": [
    {
     "name": "stdout",
     "output_type": "stream",
     "text": [
      "levels : [0 1 2] ; data type : int32\n"
     ]
    }
   ],
   "source": [
    "factor_to_integer(train_data,\"ProductMix\")"
   ]
  },
  {
   "cell_type": "code",
   "execution_count": 66,
   "id": "da1b8ad7",
   "metadata": {},
   "outputs": [
    {
     "data": {
      "text/plain": [
       "array([0, 1, 2])"
      ]
     },
     "execution_count": 66,
     "metadata": {},
     "output_type": "execute_result"
    }
   ],
   "source": [
    "train_data['ProductMix'].unique()"
   ]
  },
  {
   "cell_type": "code",
   "execution_count": 67,
   "id": "2eaad7da",
   "metadata": {},
   "outputs": [],
   "source": [
    "#train_data['HolidayFlag']=train_data['HolidayFlag'].replace(['0'],[0])"
   ]
  },
  {
   "cell_type": "code",
   "execution_count": 68,
   "id": "2921990d",
   "metadata": {},
   "outputs": [],
   "source": [
    "#dummies_LocalityType= pd.get_dummies(data = train_data['LocalityType'],drop_first=True,prefix = 'LocalityType')"
   ]
  },
  {
   "cell_type": "code",
   "execution_count": 69,
   "id": "075af297",
   "metadata": {},
   "outputs": [],
   "source": [
    "#dummies_ProductMix= pd.get_dummies(data = train_data['ProductMix'],drop_first=True,prefix = 'ProductMix')"
   ]
  },
  {
   "cell_type": "code",
   "execution_count": 70,
   "id": "9ffbcce2",
   "metadata": {},
   "outputs": [],
   "source": [
    "#train_data= pd.concat([train_data,dummies_holiday,dummies_LocalityType,dummies_ProductMix],axis=1)"
   ]
  },
  {
   "cell_type": "code",
   "execution_count": 71,
   "id": "df9b84b3",
   "metadata": {},
   "outputs": [],
   "source": [
    "#train_data.drop(['LocalityType','ProductMix','HolidayFlag'],axis=1,inplace=True)"
   ]
  },
  {
   "cell_type": "code",
   "execution_count": 72,
   "id": "cfe3b677",
   "metadata": {
    "scrolled": true
   },
   "outputs": [
    {
     "data": {
      "text/plain": [
       "0        2015-05-31\n",
       "1        2015-05-31\n",
       "2        2015-05-31\n",
       "3        2015-05-31\n",
       "4        2015-05-31\n",
       "            ...    \n",
       "949189   2013-01-01\n",
       "949190   2013-01-01\n",
       "949191   2013-01-01\n",
       "949192   2013-01-01\n",
       "949193   2013-01-01\n",
       "Name: Date, Length: 949194, dtype: datetime64[ns]"
      ]
     },
     "execution_count": 72,
     "metadata": {},
     "output_type": "execute_result"
    }
   ],
   "source": [
    "train_data['Date']"
   ]
  },
  {
   "cell_type": "code",
   "execution_count": 73,
   "id": "70e8e112",
   "metadata": {},
   "outputs": [],
   "source": [
    "train_data[\"Year\"]=pd.DatetimeIndex(train_data[\"Date\"]).year\n",
    "train_data[\"Month\"]=pd.DatetimeIndex(train_data[\"Date\"]).month"
   ]
  },
  {
   "cell_type": "code",
   "execution_count": 74,
   "id": "677fa99e",
   "metadata": {},
   "outputs": [],
   "source": [
    "train_data['Day']= pd.DatetimeIndex(train_data[\"Date\"]).day"
   ]
  },
  {
   "cell_type": "code",
   "execution_count": 75,
   "id": "984da11a",
   "metadata": {},
   "outputs": [
    {
     "name": "stdout",
     "output_type": "stream",
     "text": [
      "<class 'pandas.core.frame.DataFrame'>\n",
      "Int64Index: 949194 entries, 0 to 949193\n",
      "Data columns (total 19 columns):\n",
      " #   Column               Non-Null Count   Dtype         \n",
      "---  ------               --------------   -----         \n",
      " 0   StoreID              949194 non-null  int64         \n",
      " 1   DOW                  949194 non-null  int64         \n",
      " 2   Date                 949194 non-null  datetime64[ns]\n",
      " 3   Sales                949194 non-null  int64         \n",
      " 4   StoreOpen            949194 non-null  int64         \n",
      " 5   PromoFlag            949194 non-null  int64         \n",
      " 6   HolidayFlag          949194 non-null  int32         \n",
      " 7   SchUnivClose         949194 non-null  int64         \n",
      " 8   LocalityType         949194 non-null  int32         \n",
      " 9   ProductMix           949194 non-null  int32         \n",
      " 10  PromoCont            949194 non-null  int64         \n",
      " 11  PromoContStartWeek   949194 non-null  float64       \n",
      " 12  PromoContStartYear   949194 non-null  float64       \n",
      " 13  CompetitionDistance  949194 non-null  float64       \n",
      " 14  CompetitionMonth     949194 non-null  float64       \n",
      " 15  CompetitionYear      949194 non-null  float64       \n",
      " 16  Year                 949194 non-null  int64         \n",
      " 17  Month                949194 non-null  int64         \n",
      " 18  Day                  949194 non-null  int64         \n",
      "dtypes: datetime64[ns](1), float64(5), int32(3), int64(10)\n",
      "memory usage: 134.0 MB\n"
     ]
    }
   ],
   "source": [
    "train_data.info(\n",
    ")"
   ]
  },
  {
   "cell_type": "code",
   "execution_count": 76,
   "id": "e53d3789",
   "metadata": {},
   "outputs": [],
   "source": [
    "train_data = train_data.astype({'HolidayFlag': 'int64', \n",
    "                                'ProductMix':'int64','LocalityType':'int64'})"
   ]
  },
  {
   "cell_type": "code",
   "execution_count": 77,
   "id": "0e6d2913",
   "metadata": {
    "scrolled": true
   },
   "outputs": [
    {
     "name": "stdout",
     "output_type": "stream",
     "text": [
      "<class 'pandas.core.frame.DataFrame'>\n",
      "Int64Index: 949194 entries, 0 to 949193\n",
      "Data columns (total 19 columns):\n",
      " #   Column               Non-Null Count   Dtype         \n",
      "---  ------               --------------   -----         \n",
      " 0   StoreID              949194 non-null  int64         \n",
      " 1   DOW                  949194 non-null  int64         \n",
      " 2   Date                 949194 non-null  datetime64[ns]\n",
      " 3   Sales                949194 non-null  int64         \n",
      " 4   StoreOpen            949194 non-null  int64         \n",
      " 5   PromoFlag            949194 non-null  int64         \n",
      " 6   HolidayFlag          949194 non-null  int64         \n",
      " 7   SchUnivClose         949194 non-null  int64         \n",
      " 8   LocalityType         949194 non-null  int64         \n",
      " 9   ProductMix           949194 non-null  int64         \n",
      " 10  PromoCont            949194 non-null  int64         \n",
      " 11  PromoContStartWeek   949194 non-null  float64       \n",
      " 12  PromoContStartYear   949194 non-null  float64       \n",
      " 13  CompetitionDistance  949194 non-null  float64       \n",
      " 14  CompetitionMonth     949194 non-null  float64       \n",
      " 15  CompetitionYear      949194 non-null  float64       \n",
      " 16  Year                 949194 non-null  int64         \n",
      " 17  Month                949194 non-null  int64         \n",
      " 18  Day                  949194 non-null  int64         \n",
      "dtypes: datetime64[ns](1), float64(5), int64(13)\n",
      "memory usage: 144.8 MB\n"
     ]
    }
   ],
   "source": [
    "train_data.info()"
   ]
  },
  {
   "cell_type": "code",
   "execution_count": 78,
   "id": "f5ac0766",
   "metadata": {},
   "outputs": [],
   "source": [
    "train_data.drop('Date',axis=1,inplace=True)"
   ]
  },
  {
   "cell_type": "code",
   "execution_count": 79,
   "id": "3fd6ecb4",
   "metadata": {},
   "outputs": [
    {
     "data": {
      "text/plain": [
       "18"
      ]
     },
     "execution_count": 79,
     "metadata": {},
     "output_type": "execute_result"
    }
   ],
   "source": [
    "len(train_data.columns)"
   ]
  },
  {
   "cell_type": "code",
   "execution_count": 80,
   "id": "077f5b75",
   "metadata": {},
   "outputs": [],
   "source": [
    "train_data['Year']=train_data[\"Year\"].max()-train_data[\"Year\"]"
   ]
  },
  {
   "cell_type": "code",
   "execution_count": 81,
   "id": "3419cc4e",
   "metadata": {
    "scrolled": true
   },
   "outputs": [
    {
     "data": {
      "text/plain": [
       "18"
      ]
     },
     "execution_count": 81,
     "metadata": {},
     "output_type": "execute_result"
    }
   ],
   "source": [
    "len(train_data.columns)"
   ]
  },
  {
   "cell_type": "code",
   "execution_count": 82,
   "id": "bb049bb0",
   "metadata": {},
   "outputs": [
    {
     "data": {
      "text/html": [
       "<div>\n",
       "<style scoped>\n",
       "    .dataframe tbody tr th:only-of-type {\n",
       "        vertical-align: middle;\n",
       "    }\n",
       "\n",
       "    .dataframe tbody tr th {\n",
       "        vertical-align: top;\n",
       "    }\n",
       "\n",
       "    .dataframe thead th {\n",
       "        text-align: right;\n",
       "    }\n",
       "</style>\n",
       "<table border=\"1\" class=\"dataframe\">\n",
       "  <thead>\n",
       "    <tr style=\"text-align: right;\">\n",
       "      <th></th>\n",
       "      <th>StoreID</th>\n",
       "      <th>DOW</th>\n",
       "      <th>Sales</th>\n",
       "      <th>StoreOpen</th>\n",
       "      <th>PromoFlag</th>\n",
       "      <th>HolidayFlag</th>\n",
       "      <th>SchUnivClose</th>\n",
       "      <th>LocalityType</th>\n",
       "      <th>ProductMix</th>\n",
       "      <th>PromoCont</th>\n",
       "      <th>PromoContStartWeek</th>\n",
       "      <th>PromoContStartYear</th>\n",
       "      <th>CompetitionDistance</th>\n",
       "      <th>CompetitionMonth</th>\n",
       "      <th>CompetitionYear</th>\n",
       "      <th>Year</th>\n",
       "      <th>Month</th>\n",
       "      <th>Day</th>\n",
       "    </tr>\n",
       "  </thead>\n",
       "  <tbody>\n",
       "    <tr>\n",
       "      <th>0</th>\n",
       "      <td>1</td>\n",
       "      <td>7</td>\n",
       "      <td>0</td>\n",
       "      <td>0</td>\n",
       "      <td>0</td>\n",
       "      <td>0</td>\n",
       "      <td>0</td>\n",
       "      <td>0</td>\n",
       "      <td>0</td>\n",
       "      <td>0</td>\n",
       "      <td>0.0</td>\n",
       "      <td>0.0</td>\n",
       "      <td>1270.0</td>\n",
       "      <td>9.0</td>\n",
       "      <td>2008.0</td>\n",
       "      <td>0</td>\n",
       "      <td>5</td>\n",
       "      <td>31</td>\n",
       "    </tr>\n",
       "    <tr>\n",
       "      <th>1</th>\n",
       "      <td>2</td>\n",
       "      <td>7</td>\n",
       "      <td>0</td>\n",
       "      <td>0</td>\n",
       "      <td>0</td>\n",
       "      <td>0</td>\n",
       "      <td>0</td>\n",
       "      <td>1</td>\n",
       "      <td>0</td>\n",
       "      <td>1</td>\n",
       "      <td>13.0</td>\n",
       "      <td>2010.0</td>\n",
       "      <td>570.0</td>\n",
       "      <td>11.0</td>\n",
       "      <td>2007.0</td>\n",
       "      <td>0</td>\n",
       "      <td>5</td>\n",
       "      <td>31</td>\n",
       "    </tr>\n",
       "  </tbody>\n",
       "</table>\n",
       "</div>"
      ],
      "text/plain": [
       "   StoreID  DOW  Sales  StoreOpen  PromoFlag  HolidayFlag  SchUnivClose  \\\n",
       "0        1    7      0          0          0            0             0   \n",
       "1        2    7      0          0          0            0             0   \n",
       "\n",
       "   LocalityType  ProductMix  PromoCont  PromoContStartWeek  \\\n",
       "0             0           0          0                 0.0   \n",
       "1             1           0          1                13.0   \n",
       "\n",
       "   PromoContStartYear  CompetitionDistance  CompetitionMonth  CompetitionYear  \\\n",
       "0                 0.0               1270.0               9.0           2008.0   \n",
       "1              2010.0                570.0              11.0           2007.0   \n",
       "\n",
       "   Year  Month  Day  \n",
       "0     0      5   31  \n",
       "1     0      5   31  "
      ]
     },
     "execution_count": 82,
     "metadata": {},
     "output_type": "execute_result"
    }
   ],
   "source": [
    "train_data.head(2)"
   ]
  },
  {
   "cell_type": "markdown",
   "id": "89c436ce",
   "metadata": {},
   "source": [
    "### Preprocessing of test -dataset "
   ]
  },
  {
   "cell_type": "code",
   "execution_count": 83,
   "id": "d8b6b0fb",
   "metadata": {},
   "outputs": [],
   "source": [
    "test= pd.read_csv('test.csv')"
   ]
  },
  {
   "cell_type": "code",
   "execution_count": 84,
   "id": "be5348e8",
   "metadata": {
    "scrolled": false
   },
   "outputs": [
    {
     "data": {
      "text/html": [
       "<div>\n",
       "<style scoped>\n",
       "    .dataframe tbody tr th:only-of-type {\n",
       "        vertical-align: middle;\n",
       "    }\n",
       "\n",
       "    .dataframe tbody tr th {\n",
       "        vertical-align: top;\n",
       "    }\n",
       "\n",
       "    .dataframe thead th {\n",
       "        text-align: right;\n",
       "    }\n",
       "</style>\n",
       "<table border=\"1\" class=\"dataframe\">\n",
       "  <thead>\n",
       "    <tr style=\"text-align: right;\">\n",
       "      <th></th>\n",
       "      <th>Id</th>\n",
       "      <th>StoreID</th>\n",
       "      <th>DOW</th>\n",
       "      <th>Date</th>\n",
       "      <th>StoreOpen</th>\n",
       "      <th>PromoFlag</th>\n",
       "      <th>HolidayFlag</th>\n",
       "      <th>SchUnivClose</th>\n",
       "    </tr>\n",
       "  </thead>\n",
       "  <tbody>\n",
       "    <tr>\n",
       "      <th>0</th>\n",
       "      <td>1</td>\n",
       "      <td>1</td>\n",
       "      <td>5</td>\n",
       "      <td>31-07-2015</td>\n",
       "      <td>1</td>\n",
       "      <td>1</td>\n",
       "      <td>0</td>\n",
       "      <td>1</td>\n",
       "    </tr>\n",
       "    <tr>\n",
       "      <th>1</th>\n",
       "      <td>2</td>\n",
       "      <td>2</td>\n",
       "      <td>5</td>\n",
       "      <td>31-07-2015</td>\n",
       "      <td>1</td>\n",
       "      <td>1</td>\n",
       "      <td>0</td>\n",
       "      <td>1</td>\n",
       "    </tr>\n",
       "  </tbody>\n",
       "</table>\n",
       "</div>"
      ],
      "text/plain": [
       "   Id  StoreID  DOW        Date  StoreOpen  PromoFlag HolidayFlag  \\\n",
       "0   1        1    5  31-07-2015          1          1           0   \n",
       "1   2        2    5  31-07-2015          1          1           0   \n",
       "\n",
       "   SchUnivClose  \n",
       "0             1  \n",
       "1             1  "
      ]
     },
     "execution_count": 84,
     "metadata": {},
     "output_type": "execute_result"
    }
   ],
   "source": [
    "test.head(2)"
   ]
  },
  {
   "cell_type": "code",
   "execution_count": 85,
   "id": "4517816d",
   "metadata": {},
   "outputs": [],
   "source": [
    "store_merged_test = pd.merge(test, store, on='StoreID', how='left')"
   ]
  },
  {
   "cell_type": "code",
   "execution_count": 86,
   "id": "cccf5665",
   "metadata": {
    "scrolled": false
   },
   "outputs": [
    {
     "data": {
      "text/html": [
       "<div>\n",
       "<style scoped>\n",
       "    .dataframe tbody tr th:only-of-type {\n",
       "        vertical-align: middle;\n",
       "    }\n",
       "\n",
       "    .dataframe tbody tr th {\n",
       "        vertical-align: top;\n",
       "    }\n",
       "\n",
       "    .dataframe thead th {\n",
       "        text-align: right;\n",
       "    }\n",
       "</style>\n",
       "<table border=\"1\" class=\"dataframe\">\n",
       "  <thead>\n",
       "    <tr style=\"text-align: right;\">\n",
       "      <th></th>\n",
       "      <th>Id</th>\n",
       "      <th>StoreID</th>\n",
       "      <th>DOW</th>\n",
       "      <th>Date</th>\n",
       "      <th>StoreOpen</th>\n",
       "      <th>PromoFlag</th>\n",
       "      <th>HolidayFlag</th>\n",
       "      <th>SchUnivClose</th>\n",
       "      <th>LocalityType</th>\n",
       "      <th>ProductMix</th>\n",
       "      <th>PromoCont</th>\n",
       "      <th>PromoContStartWeek</th>\n",
       "      <th>PromoContStartYear</th>\n",
       "      <th>CompetitionDistance</th>\n",
       "      <th>CompetitionMonth</th>\n",
       "      <th>CompetitionYear</th>\n",
       "    </tr>\n",
       "  </thead>\n",
       "  <tbody>\n",
       "    <tr>\n",
       "      <th>0</th>\n",
       "      <td>1</td>\n",
       "      <td>1</td>\n",
       "      <td>5</td>\n",
       "      <td>31-07-2015</td>\n",
       "      <td>1</td>\n",
       "      <td>1</td>\n",
       "      <td>0</td>\n",
       "      <td>1</td>\n",
       "      <td>type3</td>\n",
       "      <td>Essentials</td>\n",
       "      <td>0</td>\n",
       "      <td>0.0</td>\n",
       "      <td>0.0</td>\n",
       "      <td>1270.0</td>\n",
       "      <td>9.0</td>\n",
       "      <td>2008.0</td>\n",
       "    </tr>\n",
       "    <tr>\n",
       "      <th>1</th>\n",
       "      <td>2</td>\n",
       "      <td>2</td>\n",
       "      <td>5</td>\n",
       "      <td>31-07-2015</td>\n",
       "      <td>1</td>\n",
       "      <td>1</td>\n",
       "      <td>0</td>\n",
       "      <td>1</td>\n",
       "      <td>type1</td>\n",
       "      <td>Essentials</td>\n",
       "      <td>1</td>\n",
       "      <td>13.0</td>\n",
       "      <td>2010.0</td>\n",
       "      <td>570.0</td>\n",
       "      <td>11.0</td>\n",
       "      <td>2007.0</td>\n",
       "    </tr>\n",
       "  </tbody>\n",
       "</table>\n",
       "</div>"
      ],
      "text/plain": [
       "   Id  StoreID  DOW        Date  StoreOpen  PromoFlag HolidayFlag  \\\n",
       "0   1        1    5  31-07-2015          1          1           0   \n",
       "1   2        2    5  31-07-2015          1          1           0   \n",
       "\n",
       "   SchUnivClose LocalityType  ProductMix  PromoCont  PromoContStartWeek  \\\n",
       "0             1        type3  Essentials          0                 0.0   \n",
       "1             1        type1  Essentials          1                13.0   \n",
       "\n",
       "   PromoContStartYear  CompetitionDistance  CompetitionMonth  CompetitionYear  \n",
       "0                 0.0               1270.0               9.0           2008.0  \n",
       "1              2010.0                570.0              11.0           2007.0  "
      ]
     },
     "execution_count": 86,
     "metadata": {},
     "output_type": "execute_result"
    }
   ],
   "source": [
    "store_merged_test.head(2)"
   ]
  },
  {
   "cell_type": "code",
   "execution_count": 87,
   "id": "31edc5b8",
   "metadata": {},
   "outputs": [
    {
     "name": "stdout",
     "output_type": "stream",
     "text": [
      "levels : [0 1 2] ; data type : int32\n"
     ]
    }
   ],
   "source": [
    "factor_to_integer(store_merged_test,\"ProductMix\")"
   ]
  },
  {
   "cell_type": "code",
   "execution_count": 88,
   "id": "94b68f57",
   "metadata": {
    "scrolled": true
   },
   "outputs": [
    {
     "name": "stdout",
     "output_type": "stream",
     "text": [
      "levels : [0 1] ; data type : int32\n"
     ]
    }
   ],
   "source": [
    "factor_to_integer(store_merged_test,\"HolidayFlag\")"
   ]
  },
  {
   "cell_type": "code",
   "execution_count": 89,
   "id": "46a9e089",
   "metadata": {},
   "outputs": [],
   "source": [
    "store_merged_test['Date'] = pd.to_datetime(store_merged_test['Date'],format='%d-%m-%Y')"
   ]
  },
  {
   "cell_type": "code",
   "execution_count": 90,
   "id": "27fc411e",
   "metadata": {},
   "outputs": [],
   "source": [
    "store_merged_test[\"Year\"]=pd.DatetimeIndex(store_merged_test[\"Date\"]).year\n",
    "store_merged_test[\"Month\"]=pd.DatetimeIndex(store_merged_test[\"Date\"]).month\n",
    "store_merged_test[\"Day\"]= pd.DatetimeIndex(store_merged_test[\"Date\"]).day"
   ]
  },
  {
   "cell_type": "code",
   "execution_count": 91,
   "id": "92291e20",
   "metadata": {},
   "outputs": [],
   "source": [
    "store_merged_test['Year']=store_merged_test[\"Year\"].max()-store_merged_test[\"Year\"]"
   ]
  },
  {
   "cell_type": "code",
   "execution_count": 92,
   "id": "ec515241",
   "metadata": {},
   "outputs": [],
   "source": [
    "store_merged_test.drop('Date',axis=1,inplace=True)"
   ]
  },
  {
   "cell_type": "code",
   "execution_count": 93,
   "id": "f0cdc94a",
   "metadata": {
    "scrolled": true
   },
   "outputs": [
    {
     "data": {
      "text/plain": [
       "LocalityType\n",
       "type1    5123.061564\n",
       "type2    1060.588235\n",
       "type3    3522.567568\n",
       "type4    6913.063584\n",
       "Name: CompetitionDistance, dtype: float64"
      ]
     },
     "metadata": {},
     "output_type": "display_data"
    }
   ],
   "source": [
    "# fix the CompetitionDistance\n",
    "mean_CD = store.groupby(['LocalityType'])['CompetitionDistance'].mean()\n",
    "display(mean_CD)"
   ]
  },
  {
   "cell_type": "code",
   "execution_count": 94,
   "id": "aedcda59",
   "metadata": {},
   "outputs": [],
   "source": [
    "def replace_CD_(row):\n",
    "    if pd.isnull(row['CompetitionDistance']):\n",
    "        return mean_CD[row['LocalityType']]\n",
    "    else:\n",
    "        return row['CompetitionDistance']"
   ]
  },
  {
   "cell_type": "code",
   "execution_count": 95,
   "id": "1ece9012",
   "metadata": {},
   "outputs": [],
   "source": [
    "store_merged_test['CompetitionDistance']= store_merged_test.apply(replace_CD_,axis = 1)"
   ]
  },
  {
   "cell_type": "code",
   "execution_count": 96,
   "id": "a44bc71c",
   "metadata": {},
   "outputs": [
    {
     "name": "stdout",
     "output_type": "stream",
     "text": [
      "levels : [0 1 2 3] ; data type : int32\n"
     ]
    }
   ],
   "source": [
    "factor_to_integer(store_merged_test,\"LocalityType\")"
   ]
  },
  {
   "cell_type": "code",
   "execution_count": 123,
   "id": "b39a45a2",
   "metadata": {
    "scrolled": false
   },
   "outputs": [],
   "source": [
    "store_merged_test.drop('Id',axis=1,inplace=True)"
   ]
  },
  {
   "cell_type": "code",
   "execution_count": 98,
   "id": "0af59932",
   "metadata": {},
   "outputs": [
    {
     "data": {
      "text/plain": [
       "Id                     0\n",
       "StoreID                0\n",
       "DOW                    0\n",
       "StoreOpen              0\n",
       "PromoFlag              0\n",
       "HolidayFlag            0\n",
       "SchUnivClose           0\n",
       "LocalityType           0\n",
       "ProductMix             0\n",
       "PromoCont              0\n",
       "PromoContStartWeek     0\n",
       "PromoContStartYear     0\n",
       "CompetitionDistance    0\n",
       "CompetitionMonth       0\n",
       "CompetitionYear        0\n",
       "Year                   0\n",
       "Month                  0\n",
       "Day                    0\n",
       "dtype: int64"
      ]
     },
     "execution_count": 98,
     "metadata": {},
     "output_type": "execute_result"
    }
   ],
   "source": [
    "store_merged_test.isnull().sum()"
   ]
  },
  {
   "cell_type": "code",
   "execution_count": 99,
   "id": "1d95cf43",
   "metadata": {},
   "outputs": [
    {
     "data": {
      "text/plain": [
       "18"
      ]
     },
     "execution_count": 99,
     "metadata": {},
     "output_type": "execute_result"
    }
   ],
   "source": [
    "len(store_merged_test.columns)"
   ]
  },
  {
   "cell_type": "code",
   "execution_count": 100,
   "id": "2bd278ef",
   "metadata": {},
   "outputs": [
    {
     "data": {
      "text/html": [
       "<div>\n",
       "<style scoped>\n",
       "    .dataframe tbody tr th:only-of-type {\n",
       "        vertical-align: middle;\n",
       "    }\n",
       "\n",
       "    .dataframe tbody tr th {\n",
       "        vertical-align: top;\n",
       "    }\n",
       "\n",
       "    .dataframe thead th {\n",
       "        text-align: right;\n",
       "    }\n",
       "</style>\n",
       "<table border=\"1\" class=\"dataframe\">\n",
       "  <thead>\n",
       "    <tr style=\"text-align: right;\">\n",
       "      <th></th>\n",
       "      <th>Id</th>\n",
       "      <th>StoreID</th>\n",
       "      <th>DOW</th>\n",
       "      <th>StoreOpen</th>\n",
       "      <th>PromoFlag</th>\n",
       "      <th>HolidayFlag</th>\n",
       "      <th>SchUnivClose</th>\n",
       "      <th>LocalityType</th>\n",
       "      <th>ProductMix</th>\n",
       "      <th>PromoCont</th>\n",
       "      <th>PromoContStartWeek</th>\n",
       "      <th>PromoContStartYear</th>\n",
       "      <th>CompetitionDistance</th>\n",
       "      <th>CompetitionMonth</th>\n",
       "      <th>CompetitionYear</th>\n",
       "      <th>Year</th>\n",
       "      <th>Month</th>\n",
       "      <th>Day</th>\n",
       "    </tr>\n",
       "  </thead>\n",
       "  <tbody>\n",
       "    <tr>\n",
       "      <th>0</th>\n",
       "      <td>1</td>\n",
       "      <td>1</td>\n",
       "      <td>5</td>\n",
       "      <td>1</td>\n",
       "      <td>1</td>\n",
       "      <td>0</td>\n",
       "      <td>1</td>\n",
       "      <td>0</td>\n",
       "      <td>0</td>\n",
       "      <td>0</td>\n",
       "      <td>0.0</td>\n",
       "      <td>0.0</td>\n",
       "      <td>1270.0</td>\n",
       "      <td>9.0</td>\n",
       "      <td>2008.0</td>\n",
       "      <td>0</td>\n",
       "      <td>7</td>\n",
       "      <td>31</td>\n",
       "    </tr>\n",
       "    <tr>\n",
       "      <th>1</th>\n",
       "      <td>2</td>\n",
       "      <td>2</td>\n",
       "      <td>5</td>\n",
       "      <td>1</td>\n",
       "      <td>1</td>\n",
       "      <td>0</td>\n",
       "      <td>1</td>\n",
       "      <td>1</td>\n",
       "      <td>0</td>\n",
       "      <td>1</td>\n",
       "      <td>13.0</td>\n",
       "      <td>2010.0</td>\n",
       "      <td>570.0</td>\n",
       "      <td>11.0</td>\n",
       "      <td>2007.0</td>\n",
       "      <td>0</td>\n",
       "      <td>7</td>\n",
       "      <td>31</td>\n",
       "    </tr>\n",
       "  </tbody>\n",
       "</table>\n",
       "</div>"
      ],
      "text/plain": [
       "   Id  StoreID  DOW  StoreOpen  PromoFlag  HolidayFlag  SchUnivClose  \\\n",
       "0   1        1    5          1          1            0             1   \n",
       "1   2        2    5          1          1            0             1   \n",
       "\n",
       "   LocalityType  ProductMix  PromoCont  PromoContStartWeek  \\\n",
       "0             0           0          0                 0.0   \n",
       "1             1           0          1                13.0   \n",
       "\n",
       "   PromoContStartYear  CompetitionDistance  CompetitionMonth  CompetitionYear  \\\n",
       "0                 0.0               1270.0               9.0           2008.0   \n",
       "1              2010.0                570.0              11.0           2007.0   \n",
       "\n",
       "   Year  Month  Day  \n",
       "0     0      7   31  \n",
       "1     0      7   31  "
      ]
     },
     "execution_count": 100,
     "metadata": {},
     "output_type": "execute_result"
    }
   ],
   "source": [
    "train_data.head(2);store_merged_test.head(2)"
   ]
  },
  {
   "cell_type": "markdown",
   "id": "ad3e8966",
   "metadata": {},
   "source": [
    "## Separating train and test data from train_data dataset\n"
   ]
  },
  {
   "cell_type": "code",
   "execution_count": 104,
   "id": "f3ba7598",
   "metadata": {},
   "outputs": [],
   "source": [
    "import sklearn.model_selection as model_selection\n",
    "X=train_data.drop(\"Sales\",axis=1)\n",
    "y=train_data[\"Sales\"]"
   ]
  },
  {
   "cell_type": "code",
   "execution_count": 105,
   "id": "31026b5e",
   "metadata": {},
   "outputs": [],
   "source": [
    "X_train,X_test,y_train,y_test=model_selection.train_test_split(X,y,random_state=42)"
   ]
  },
  {
   "cell_type": "code",
   "execution_count": 106,
   "id": "d292f51b",
   "metadata": {},
   "outputs": [
    {
     "name": "stdout",
     "output_type": "stream",
     "text": [
      "X_train\t (711895, 17)\n",
      "X_test\t (237299, 17)\n",
      "y_train\t (711895,)\n",
      "y_test\t (237299,)\n"
     ]
    },
    {
     "data": {
      "text/plain": [
       "(None, None, None, None)"
      ]
     },
     "execution_count": 106,
     "metadata": {},
     "output_type": "execute_result"
    }
   ],
   "source": [
    "print(\"X_train\\t\",X_train.shape),print(\"X_test\\t\",X_test.shape),print(\"y_train\\t\",y_train.shape),print(\"y_test\\t\",y_test.shape)"
   ]
  },
  {
   "cell_type": "markdown",
   "id": "b07a6c77",
   "metadata": {},
   "source": [
    "# Model building using pipeline"
   ]
  },
  {
   "cell_type": "code",
   "execution_count": 107,
   "id": "620c9f52",
   "metadata": {},
   "outputs": [],
   "source": [
    "from sklearn.linear_model import LinearRegression\n",
    "from sklearn.linear_model import LogisticRegression\n",
    "from sklearn.tree import DecisionTreeRegressor\n",
    "from sklearn.preprocessing import StandardScaler\n",
    "from sklearn.ensemble import RandomForestRegressor\n",
    "from sklearn.decomposition import PCA\n",
    "from sklearn.pipeline import Pipeline"
   ]
  },
  {
   "cell_type": "code",
   "execution_count": 108,
   "id": "f37d22db",
   "metadata": {},
   "outputs": [],
   "source": [
    "pipeline_lr=Pipeline([\n",
    "    ('scale1',StandardScaler()),\n",
    "    ('pca1',PCA(n_components=2)),\n",
    "    ('lr_regress',LinearRegression())\n",
    "])"
   ]
  },
  {
   "cell_type": "code",
   "execution_count": 109,
   "id": "40c49125",
   "metadata": {},
   "outputs": [],
   "source": [
    "pipeline_dt=Pipeline([\n",
    "    ('scale2',StandardScaler()),\n",
    "    ('pca2',PCA(n_components=2)),\n",
    "    ('DT_regress',DecisionTreeRegressor())\n",
    "])"
   ]
  },
  {
   "cell_type": "code",
   "execution_count": 148,
   "id": "34a4f495",
   "metadata": {},
   "outputs": [],
   "source": [
    "pipeline_rf=Pipeline([\n",
    "    ('scale3',StandardScaler()),\n",
    "    ('pca3',PCA(n_components=2)),\n",
    "    ('RF_regress',RandomForestRegressor(random_state=42,n_jobs=-1,max_depth=20,min_samples_leaf=5,verbose=2))\n",
    "])"
   ]
  },
  {
   "cell_type": "code",
   "execution_count": 111,
   "id": "2982ba46",
   "metadata": {},
   "outputs": [],
   "source": [
    "pipe_dict={0:'linearRegression',1:'Decision Tree',2:'Random Forest'}"
   ]
  },
  {
   "cell_type": "code",
   "execution_count": 112,
   "id": "813a5df8",
   "metadata": {},
   "outputs": [],
   "source": [
    "pipeline =[pipeline_lr,pipeline_dt,pipeline_rf]"
   ]
  },
  {
   "cell_type": "code",
   "execution_count": 113,
   "id": "cad39918",
   "metadata": {},
   "outputs": [],
   "source": [
    "for pipe in pipeline:\n",
    "    pipe.fit(X_train,y_train)"
   ]
  },
  {
   "cell_type": "code",
   "execution_count": 114,
   "id": "6ca45f5d",
   "metadata": {},
   "outputs": [
    {
     "name": "stdout",
     "output_type": "stream",
     "text": [
      "linearRegression test accuracy:0.4817817921017947\n",
      "Decision Tree test accuracy:0.16310205597953897\n",
      "Random Forest test accuracy:0.5394098036067885\n"
     ]
    }
   ],
   "source": [
    "for i , model in enumerate(pipeline):\n",
    "    print(\"{} test accuracy:{}\".format(pipe_dict[i],model.score(X_train,y_train)))"
   ]
  },
  {
   "cell_type": "code",
   "execution_count": 116,
   "id": "c297fde8",
   "metadata": {},
   "outputs": [],
   "source": [
    "best_accuracy = 0.0\n",
    "best_classifier = 0\n",
    "best_pipeline=\" \""
   ]
  },
  {
   "cell_type": "code",
   "execution_count": 117,
   "id": "b13ed337",
   "metadata": {},
   "outputs": [],
   "source": [
    "for i , model in enumerate(pipeline):\n",
    "    if model.score(X_test,y_test) > best_accuracy:\n",
    "        best_accuracy=model.score(X_test,y_test)\n",
    "        best_pipeline=model\n",
    "        best_classifier=i"
   ]
  },
  {
   "cell_type": "code",
   "execution_count": 118,
   "id": "811c52a1",
   "metadata": {},
   "outputs": [
    {
     "name": "stdout",
     "output_type": "stream",
     "text": [
      "regressor with best accuracy:Random Forest\n"
     ]
    }
   ],
   "source": [
    "print('regressor with best accuracy:{}'.format(pipe_dict[best_classifier]))"
   ]
  },
  {
   "cell_type": "markdown",
   "id": "e80672ee",
   "metadata": {},
   "source": [
    "## Model Testing on Test Data "
   ]
  },
  {
   "cell_type": "code",
   "execution_count": 140,
   "id": "5655b871",
   "metadata": {},
   "outputs": [
    {
     "data": {
      "text/plain": [
       "Index(['StoreID', 'DOW', 'StoreOpen', 'PromoFlag', 'HolidayFlag',\n",
       "       'SchUnivClose', 'LocalityType', 'ProductMix', 'PromoCont',\n",
       "       'PromoContStartWeek', 'PromoContStartYear', 'CompetitionDistance',\n",
       "       'CompetitionMonth', 'CompetitionYear', 'Year', 'Month', 'Day',\n",
       "       'Predict'],\n",
       "      dtype='object')"
      ]
     },
     "execution_count": 140,
     "metadata": {},
     "output_type": "execute_result"
    }
   ],
   "source": [
    "store_merged_test.columns"
   ]
  },
  {
   "cell_type": "code",
   "execution_count": 149,
   "id": "9cb4fad1",
   "metadata": {
    "scrolled": true
   },
   "outputs": [],
   "source": [
    "store_merged_test.drop('Predict',axis=1,inplace=True)"
   ]
  },
  {
   "cell_type": "code",
   "execution_count": 150,
   "id": "3c226a5e",
   "metadata": {},
   "outputs": [
    {
     "name": "stderr",
     "output_type": "stream",
     "text": [
      "[Parallel(n_jobs=-1)]: Using backend ThreadingBackend with 16 concurrent workers.\n"
     ]
    },
    {
     "name": "stdout",
     "output_type": "stream",
     "text": [
      "building tree 1 of 100building tree 2 of 100\n",
      "\n",
      "building tree 3 of 100\n",
      "building tree 4 of 100\n",
      "building tree 5 of 100\n",
      "building tree 6 of 100\n",
      "building tree 7 of 100\n",
      "building tree 8 of 100building tree 9 of 100\n",
      "\n",
      "building tree 10 of 100\n",
      "building tree 11 of 100building tree 12 of 100\n",
      "\n",
      "building tree 13 of 100\n",
      "building tree 14 of 100\n",
      "building tree 15 of 100\n",
      "building tree 16 of 100\n",
      "building tree 17 of 100\n",
      "building tree 18 of 100\n",
      "building tree 19 of 100\n",
      "building tree 20 of 100\n",
      "building tree 21 of 100\n",
      "building tree 22 of 100\n",
      "building tree 23 of 100\n",
      "building tree 24 of 100building tree 25 of 100\n",
      "\n",
      "building tree 26 of 100\n",
      "building tree 27 of 100\n",
      "building tree 28 of 100\n",
      "building tree 29 of 100\n"
     ]
    },
    {
     "name": "stderr",
     "output_type": "stream",
     "text": [
      "[Parallel(n_jobs=-1)]: Done   9 tasks      | elapsed:    7.6s\n"
     ]
    },
    {
     "name": "stdout",
     "output_type": "stream",
     "text": [
      "building tree 30 of 100\n",
      "building tree 31 of 100\n",
      "building tree 32 of 100\n",
      "building tree 33 of 100\n",
      "building tree 34 of 100\n",
      "building tree 35 of 100\n",
      "building tree 36 of 100\n",
      "building tree 37 of 100\n",
      "building tree 38 of 100\n",
      "building tree 39 of 100\n",
      "building tree 40 of 100\n",
      "building tree 41 of 100\n",
      "building tree 42 of 100\n",
      "building tree 43 of 100\n",
      "building tree 44 of 100\n",
      "building tree 45 of 100\n",
      "building tree 46 of 100\n",
      "building tree 47 of 100\n",
      "building tree 48 of 100\n",
      "building tree 49 of 100\n",
      "building tree 50 of 100\n",
      "building tree 51 of 100\n",
      "building tree 52 of 100\n",
      "building tree 53 of 100\n",
      "building tree 54 of 100\n",
      "building tree 55 of 100\n",
      "building tree 56 of 100\n",
      "building tree 57 of 100\n",
      "building tree 58 of 100\n",
      "building tree 59 of 100\n",
      "building tree 60 of 100\n",
      "building tree 61 of 100\n",
      "building tree 62 of 100\n",
      "building tree 63 of 100\n",
      "building tree 64 of 100\n",
      "building tree 65 of 100\n",
      "building tree 66 of 100\n",
      "building tree 67 of 100\n",
      "building tree 68 of 100\n",
      "building tree 69 of 100\n",
      "building tree 70 of 100\n",
      "building tree 71 of 100\n",
      "building tree 72 of 100\n",
      "building tree 73 of 100building tree 74 of 100\n",
      "\n",
      "building tree 75 of 100\n",
      "building tree 76 of 100\n",
      "building tree 77 of 100\n",
      "building tree 78 of 100\n",
      "building tree 79 of 100\n",
      "building tree 80 of 100\n",
      "building tree 81 of 100\n",
      "building tree 82 of 100\n",
      "building tree 83 of 100building tree 84 of 100\n",
      "\n",
      "building tree 85 of 100\n",
      "building tree 86 of 100\n",
      "building tree 87 of 100\n",
      "building tree 88 of 100\n",
      "building tree 89 of 100building tree 90 of 100\n",
      "\n",
      "building tree 91 of 100\n",
      "building tree 92 of 100\n",
      "building tree 93 of 100\n",
      "building tree 94 of 100\n",
      "building tree 95 of 100\n",
      "building tree 96 of 100\n",
      "building tree 97 of 100\n",
      "building tree 98 of 100\n",
      "building tree 99 of 100\n",
      "building tree 100 of 100\n"
     ]
    },
    {
     "name": "stderr",
     "output_type": "stream",
     "text": [
      "[Parallel(n_jobs=-1)]: Done 100 out of 100 | elapsed:   48.1s finished\n"
     ]
    },
    {
     "data": {
      "text/plain": [
       "Pipeline(steps=[('scale3', StandardScaler()), ('pca3', PCA(n_components=2)),\n",
       "                ('RF_regress',\n",
       "                 RandomForestRegressor(max_depth=20, min_samples_leaf=5,\n",
       "                                       n_jobs=-1, random_state=42,\n",
       "                                       verbose=2))])"
      ]
     },
     "execution_count": 150,
     "metadata": {},
     "output_type": "execute_result"
    }
   ],
   "source": [
    "pipeline_rf.fit(X_train,y_train)"
   ]
  },
  {
   "cell_type": "code",
   "execution_count": 151,
   "id": "1d01aa96",
   "metadata": {},
   "outputs": [
    {
     "name": "stderr",
     "output_type": "stream",
     "text": [
      "[Parallel(n_jobs=16)]: Using backend ThreadingBackend with 16 concurrent workers.\n",
      "[Parallel(n_jobs=16)]: Done   9 tasks      | elapsed:    0.1s\n",
      "[Parallel(n_jobs=16)]: Done 100 out of 100 | elapsed:    1.0s finished\n"
     ]
    },
    {
     "data": {
      "text/plain": [
       "0.549513621004954"
      ]
     },
     "execution_count": 151,
     "metadata": {},
     "output_type": "execute_result"
    }
   ],
   "source": [
    "pipeline_rf.score(X_test,y_test)"
   ]
  },
  {
   "cell_type": "code",
   "execution_count": 152,
   "id": "7764671d",
   "metadata": {},
   "outputs": [
    {
     "name": "stderr",
     "output_type": "stream",
     "text": [
      "[Parallel(n_jobs=16)]: Using backend ThreadingBackend with 16 concurrent workers.\n",
      "[Parallel(n_jobs=16)]: Done   9 tasks      | elapsed:    0.0s\n",
      "[Parallel(n_jobs=16)]: Done 100 out of 100 | elapsed:    0.1s finished\n"
     ]
    }
   ],
   "source": [
    "store_merged_test[\"Predict\"]=pipeline_rf.predict(store_merged_test)"
   ]
  },
  {
   "cell_type": "code",
   "execution_count": 153,
   "id": "49b69b7c",
   "metadata": {},
   "outputs": [
    {
     "data": {
      "text/html": [
       "<div>\n",
       "<style scoped>\n",
       "    .dataframe tbody tr th:only-of-type {\n",
       "        vertical-align: middle;\n",
       "    }\n",
       "\n",
       "    .dataframe tbody tr th {\n",
       "        vertical-align: top;\n",
       "    }\n",
       "\n",
       "    .dataframe thead th {\n",
       "        text-align: right;\n",
       "    }\n",
       "</style>\n",
       "<table border=\"1\" class=\"dataframe\">\n",
       "  <thead>\n",
       "    <tr style=\"text-align: right;\">\n",
       "      <th></th>\n",
       "      <th>Id</th>\n",
       "    </tr>\n",
       "  </thead>\n",
       "  <tbody>\n",
       "    <tr>\n",
       "      <th>0</th>\n",
       "      <td>1</td>\n",
       "    </tr>\n",
       "    <tr>\n",
       "      <th>1</th>\n",
       "      <td>2</td>\n",
       "    </tr>\n",
       "    <tr>\n",
       "      <th>2</th>\n",
       "      <td>3</td>\n",
       "    </tr>\n",
       "    <tr>\n",
       "      <th>3</th>\n",
       "      <td>4</td>\n",
       "    </tr>\n",
       "    <tr>\n",
       "      <th>4</th>\n",
       "      <td>5</td>\n",
       "    </tr>\n",
       "  </tbody>\n",
       "</table>\n",
       "</div>"
      ],
      "text/plain": [
       "   Id\n",
       "0   1\n",
       "1   2\n",
       "2   3\n",
       "3   4\n",
       "4   5"
      ]
     },
     "execution_count": 153,
     "metadata": {},
     "output_type": "execute_result"
    }
   ],
   "source": [
    "Id=pd.DataFrame({'Id':test[\"Id\"]})\n",
    "Id.head()"
   ]
  },
  {
   "cell_type": "code",
   "execution_count": 154,
   "id": "0e9626fa",
   "metadata": {},
   "outputs": [
    {
     "data": {
      "text/html": [
       "<div>\n",
       "<style scoped>\n",
       "    .dataframe tbody tr th:only-of-type {\n",
       "        vertical-align: middle;\n",
       "    }\n",
       "\n",
       "    .dataframe tbody tr th {\n",
       "        vertical-align: top;\n",
       "    }\n",
       "\n",
       "    .dataframe thead th {\n",
       "        text-align: right;\n",
       "    }\n",
       "</style>\n",
       "<table border=\"1\" class=\"dataframe\">\n",
       "  <thead>\n",
       "    <tr style=\"text-align: right;\">\n",
       "      <th></th>\n",
       "      <th>Sales</th>\n",
       "    </tr>\n",
       "  </thead>\n",
       "  <tbody>\n",
       "    <tr>\n",
       "      <th>0</th>\n",
       "      <td>7931.091666</td>\n",
       "    </tr>\n",
       "    <tr>\n",
       "      <th>1</th>\n",
       "      <td>7092.526489</td>\n",
       "    </tr>\n",
       "    <tr>\n",
       "      <th>2</th>\n",
       "      <td>6171.891203</td>\n",
       "    </tr>\n",
       "    <tr>\n",
       "      <th>3</th>\n",
       "      <td>7595.450371</td>\n",
       "    </tr>\n",
       "    <tr>\n",
       "      <th>4</th>\n",
       "      <td>7055.887394</td>\n",
       "    </tr>\n",
       "  </tbody>\n",
       "</table>\n",
       "</div>"
      ],
      "text/plain": [
       "         Sales\n",
       "0  7931.091666\n",
       "1  7092.526489\n",
       "2  6171.891203\n",
       "3  7595.450371\n",
       "4  7055.887394"
      ]
     },
     "execution_count": 154,
     "metadata": {},
     "output_type": "execute_result"
    }
   ],
   "source": [
    "Sales=pd.DataFrame({'Sales':store_merged_test[\"Predict\"]})\n",
    "Sales.head()"
   ]
  },
  {
   "cell_type": "code",
   "execution_count": 155,
   "id": "ada0ac93",
   "metadata": {},
   "outputs": [
    {
     "data": {
      "text/html": [
       "<div>\n",
       "<style scoped>\n",
       "    .dataframe tbody tr th:only-of-type {\n",
       "        vertical-align: middle;\n",
       "    }\n",
       "\n",
       "    .dataframe tbody tr th {\n",
       "        vertical-align: top;\n",
       "    }\n",
       "\n",
       "    .dataframe thead th {\n",
       "        text-align: right;\n",
       "    }\n",
       "</style>\n",
       "<table border=\"1\" class=\"dataframe\">\n",
       "  <thead>\n",
       "    <tr style=\"text-align: right;\">\n",
       "      <th></th>\n",
       "      <th>Id</th>\n",
       "      <th>Sales</th>\n",
       "    </tr>\n",
       "  </thead>\n",
       "  <tbody>\n",
       "    <tr>\n",
       "      <th>0</th>\n",
       "      <td>1</td>\n",
       "      <td>7931.091666</td>\n",
       "    </tr>\n",
       "    <tr>\n",
       "      <th>1</th>\n",
       "      <td>2</td>\n",
       "      <td>7092.526489</td>\n",
       "    </tr>\n",
       "    <tr>\n",
       "      <th>2</th>\n",
       "      <td>3</td>\n",
       "      <td>6171.891203</td>\n",
       "    </tr>\n",
       "    <tr>\n",
       "      <th>3</th>\n",
       "      <td>4</td>\n",
       "      <td>7595.450371</td>\n",
       "    </tr>\n",
       "    <tr>\n",
       "      <th>4</th>\n",
       "      <td>5</td>\n",
       "      <td>7055.887394</td>\n",
       "    </tr>\n",
       "  </tbody>\n",
       "</table>\n",
       "</div>"
      ],
      "text/plain": [
       "   Id        Sales\n",
       "0   1  7931.091666\n",
       "1   2  7092.526489\n",
       "2   3  6171.891203\n",
       "3   4  7595.450371\n",
       "4   5  7055.887394"
      ]
     },
     "execution_count": 155,
     "metadata": {},
     "output_type": "execute_result"
    }
   ],
   "source": [
    "df=[Id,Sales]\n",
    "sub=pd.concat(df,axis=1)\n",
    "sub.head()"
   ]
  },
  {
   "cell_type": "code",
   "execution_count": 157,
   "id": "4342dbad",
   "metadata": {},
   "outputs": [],
   "source": [
    "sub.to_csv(\"model5.csv\",sep=\",\",index=False)"
   ]
  },
  {
   "cell_type": "code",
   "execution_count": null,
   "id": "83ccfbf1",
   "metadata": {},
   "outputs": [],
   "source": []
  }
 ],
 "metadata": {
  "kernelspec": {
   "display_name": "Python 3 (ipykernel)",
   "language": "python",
   "name": "python3"
  },
  "language_info": {
   "codemirror_mode": {
    "name": "ipython",
    "version": 3
   },
   "file_extension": ".py",
   "mimetype": "text/x-python",
   "name": "python",
   "nbconvert_exporter": "python",
   "pygments_lexer": "ipython3",
   "version": "3.9.12"
  }
 },
 "nbformat": 4,
 "nbformat_minor": 5
}
